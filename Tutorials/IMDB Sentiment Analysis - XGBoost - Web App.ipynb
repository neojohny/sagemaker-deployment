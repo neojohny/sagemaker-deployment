{
 "cells": [
  {
   "cell_type": "markdown",
   "metadata": {},
   "source": []
  },
  {
   "cell_type": "markdown",
   "metadata": {},
   "source": [
    "# Sentiment Analysis Web App\n",
    "\n",
    "_Deep Learning Nanodegree Program | Deployment_\n",
    "\n",
    "---\n",
    "\n",
    "In this notebook we will use Amazon's SageMaker service to construct a random tree model to predict the sentiment of a movie review. In addition, we will deploy this model to an endpoint and construct a very simple web app which will interact with our model's deployed endpoint.\n",
    "\n",
    "## General Outline\n",
    "\n",
    "Typically, when using a notebook instance with SageMaker, you will proceed through the following steps. Of course, not every step will need to be done with each project. Also, there is quite a lot of room for variation in many of the steps, as you will see throughout these lessons.\n",
    "\n",
    "1. Download or otherwise retrieve the data.\n",
    "2. Process / Prepare the data.\n",
    "3. Upload the processed data to S3.\n",
    "4. Train a chosen model.\n",
    "5. Test the trained model (typically using a batch transform job).\n",
    "6. Deploy the trained model.\n",
    "7. Use the deployed model.\n",
    "\n",
    "In this notebook we will progress through each of the steps above. We will also see that the final step, using the deployed model, can be quite challenging."
   ]
  },
  {
   "cell_type": "markdown",
   "metadata": {},
   "source": [
    "## Step 1: Downloading the data\n",
    "\n",
    "The dataset we are going to use is very popular among researchers in Natural Language Processing, usually referred to as the [IMDb dataset](http://ai.stanford.edu/~amaas/data/sentiment/). It consists of movie reviews from the website [imdb.com](http://www.imdb.com/), each labeled as either '**pos**itive', if the reviewer enjoyed the film, or '**neg**ative' otherwise.\n",
    "\n",
    "> Maas, Andrew L., et al. [Learning Word Vectors for Sentiment Analysis](http://ai.stanford.edu/~amaas/data/sentiment/). In _Proceedings of the 49th Annual Meeting of the Association for Computational Linguistics: Human Language Technologies_. Association for Computational Linguistics, 2011.\n",
    "\n",
    "We begin by using some Jupyter Notebook magic to download and extract the dataset."
   ]
  },
  {
   "cell_type": "code",
   "execution_count": 2,
   "metadata": {},
   "outputs": [
    {
     "name": "stdout",
     "output_type": "stream",
     "text": [
      "mkdir: cannot create directory ‘../data’: File exists\n",
      "--2020-07-18 00:42:30--  http://ai.stanford.edu/~amaas/data/sentiment/aclImdb_v1.tar.gz\n",
      "Resolving ai.stanford.edu (ai.stanford.edu)... 171.64.68.10\n",
      "Connecting to ai.stanford.edu (ai.stanford.edu)|171.64.68.10|:80... connected.\n",
      "HTTP request sent, awaiting response... 200 OK\n",
      "Length: 84125825 (80M) [application/x-gzip]\n",
      "Saving to: ‘../data/aclImdb_v1.tar.gz’\n",
      "\n",
      "../data/aclImdb_v1. 100%[===================>]  80.23M  23.3MB/s    in 4.1s    \n",
      "\n",
      "2020-07-18 00:42:34 (19.7 MB/s) - ‘../data/aclImdb_v1.tar.gz’ saved [84125825/84125825]\n",
      "\n"
     ]
    }
   ],
   "source": [
    "%mkdir ../data\n",
    "!wget -O ../data/aclImdb_v1.tar.gz http://ai.stanford.edu/~amaas/data/sentiment/aclImdb_v1.tar.gz\n",
    "!tar -zxf ../data/aclImdb_v1.tar.gz -C ../data"
   ]
  },
  {
   "cell_type": "markdown",
   "metadata": {},
   "source": [
    "## Step 2: Preparing and Processing the data\n",
    "\n",
    "The data we have downloaded is split into various files, each of which contains a single review. It will be much easier going forward if we combine these individual files into two large files, one for training and one for testing."
   ]
  },
  {
   "cell_type": "code",
   "execution_count": 3,
   "metadata": {},
   "outputs": [],
   "source": [
    "import os\n",
    "import glob\n",
    "\n",
    "def read_imdb_data(data_dir='../data/aclImdb'):\n",
    "    data = {}\n",
    "    labels = {}\n",
    "    \n",
    "    for data_type in ['train', 'test']:\n",
    "        data[data_type] = {}\n",
    "        labels[data_type] = {}\n",
    "        \n",
    "        for sentiment in ['pos', 'neg']:\n",
    "            data[data_type][sentiment] = []\n",
    "            labels[data_type][sentiment] = []\n",
    "            \n",
    "            path = os.path.join(data_dir, data_type, sentiment, '*.txt')\n",
    "            files = glob.glob(path)\n",
    "            \n",
    "            for f in files:\n",
    "                with open(f) as review:\n",
    "                    data[data_type][sentiment].append(review.read())\n",
    "                    # Here we represent a positive review by '1' and a negative review by '0'\n",
    "                    labels[data_type][sentiment].append(1 if sentiment == 'pos' else 0)\n",
    "                    \n",
    "            assert len(data[data_type][sentiment]) == len(labels[data_type][sentiment]), \\\n",
    "                    \"{}/{} data size does not match labels size\".format(data_type, sentiment)\n",
    "                \n",
    "    return data, labels"
   ]
  },
  {
   "cell_type": "code",
   "execution_count": 4,
   "metadata": {},
   "outputs": [
    {
     "name": "stdout",
     "output_type": "stream",
     "text": [
      "IMDB reviews: train = 12500 pos / 12500 neg, test = 12500 pos / 12500 neg\n"
     ]
    }
   ],
   "source": [
    "data, labels = read_imdb_data()\n",
    "print(\"IMDB reviews: train = {} pos / {} neg, test = {} pos / {} neg\".format(\n",
    "            len(data['train']['pos']), len(data['train']['neg']),\n",
    "            len(data['test']['pos']), len(data['test']['neg'])))"
   ]
  },
  {
   "cell_type": "code",
   "execution_count": 5,
   "metadata": {},
   "outputs": [],
   "source": [
    "from sklearn.utils import shuffle\n",
    "\n",
    "def prepare_imdb_data(data, labels):\n",
    "    \"\"\"Prepare training and test sets from IMDb movie reviews.\"\"\"\n",
    "    \n",
    "    #Combine positive and negative reviews and labels\n",
    "    data_train = data['train']['pos'] + data['train']['neg']\n",
    "    data_test = data['test']['pos'] + data['test']['neg']\n",
    "    labels_train = labels['train']['pos'] + labels['train']['neg']\n",
    "    labels_test = labels['test']['pos'] + labels['test']['neg']\n",
    "    \n",
    "    #Shuffle reviews and corresponding labels within training and test sets\n",
    "    data_train, labels_train = shuffle(data_train, labels_train)\n",
    "    data_test, labels_test = shuffle(data_test, labels_test)\n",
    "    \n",
    "    # Return a unified training data, test data, training labels, test labets\n",
    "    return data_train, data_test, labels_train, labels_test"
   ]
  },
  {
   "cell_type": "code",
   "execution_count": 6,
   "metadata": {},
   "outputs": [
    {
     "name": "stdout",
     "output_type": "stream",
     "text": [
      "IMDb reviews (combined): train = 25000, test = 25000\n"
     ]
    }
   ],
   "source": [
    "train_X, test_X, train_y, test_y = prepare_imdb_data(data, labels)\n",
    "print(\"IMDb reviews (combined): train = {}, test = {}\".format(len(train_X), len(test_X)))"
   ]
  },
  {
   "cell_type": "code",
   "execution_count": 7,
   "metadata": {},
   "outputs": [
    {
     "data": {
      "text/plain": [
       "\"Another classic study of the effects of wealth on a southern family is masterfully depicted in Written on the Wind.<br /><br />Kyle Hadley has it all. Wealth, a plane, you name it. Kyle's best friend, Mitch, has always gotten him out of difficulty. Mitch finished college, Kyle got thrown out. Mitch is not from a wealthy home. Kyle's family, with Hadley Oil, controls most of everything in the town.<br /><br />While in N.Y., Kyle meets the girl of his dreams, nicely played by Lauren Bacall. After a whirlwind romance, he marries her and brings her home. There she meets her father-in-law who warns her how difficult Kyle can be. Kyle sleeps with a gun under his pillow. The Bacall character meets Kyle's sister, Mary Lee, a tramp if ever there were, played to the fullest by Dorothy Malone, who was voted best supporting actress.<br /><br />Rock Hudson plays Mitch, the faithful friend.<br /><br />A year of wedded bliss for Kyle and his bride ends when Kyle is told by the doctor that he can't have children. It is when his wife reveals to him that she is indeed pregnant, Kyle, thinking that the child is Mitch's, goes on a drunken frenzy and is accidentally shot dead in a memorable scene.<br /><br />Mary Lee, who has always loved Mitch, tries but is unsuccessful in blaming Mitch for Kyle's death. In a memorable courtroom scene, Malone pulled out all the stops in finally admitting that Kyle's death was an unfortunate accident. Her Oscar was well deserved.<br /><br />Surprisingly, Robert Stack, brilliant as Kyle Hadley, was nominated for best supporting actor and lost in an upset victory by Anthony Quinn, as Paul Gauguin, in Lust for Life.<br /><br />Douglas Sirk was the master of soap opera films of the 1950s. Written on the Wind is no exception. ***1/2.\""
      ]
     },
     "execution_count": 7,
     "metadata": {},
     "output_type": "execute_result"
    }
   ],
   "source": [
    "train_X[100]"
   ]
  },
  {
   "cell_type": "markdown",
   "metadata": {},
   "source": [
    "## Processing the data\n",
    "\n",
    "Now that we have our training and testing datasets merged and ready to use, we need to start processing the raw data into something that will be useable by our machine learning algorithm. To begin with, we remove any html formatting and any non-alpha numeric characters that may appear in the reviews. We will do this in a very simplistic way using Python's regular expression module. We will discuss the reason for this rather simplistic pre-processing later on."
   ]
  },
  {
   "cell_type": "code",
   "execution_count": 8,
   "metadata": {},
   "outputs": [],
   "source": [
    "import re\n",
    "\n",
    "REPLACE_NO_SPACE = re.compile(\"(\\.)|(\\;)|(\\:)|(\\!)|(\\')|(\\?)|(\\,)|(\\\")|(\\()|(\\))|(\\[)|(\\])\")\n",
    "REPLACE_WITH_SPACE = re.compile(\"(<br\\s*/><br\\s*/>)|(\\-)|(\\/)\")\n",
    "\n",
    "def review_to_words(review):\n",
    "    words = REPLACE_NO_SPACE.sub(\"\", review.lower())\n",
    "    words = REPLACE_WITH_SPACE.sub(\" \", words)\n",
    "    return words"
   ]
  },
  {
   "cell_type": "code",
   "execution_count": 9,
   "metadata": {},
   "outputs": [
    {
     "data": {
      "text/plain": [
       "'another classic study of the effects of wealth on a southern family is masterfully depicted in written on the wind kyle hadley has it all wealth a plane you name it kyles best friend mitch has always gotten him out of difficulty mitch finished college kyle got thrown out mitch is not from a wealthy home kyles family with hadley oil controls most of everything in the town while in ny kyle meets the girl of his dreams nicely played by lauren bacall after a whirlwind romance he marries her and brings her home there she meets her father in law who warns her how difficult kyle can be kyle sleeps with a gun under his pillow the bacall character meets kyles sister mary lee a tramp if ever there were played to the fullest by dorothy malone who was voted best supporting actress rock hudson plays mitch the faithful friend a year of wedded bliss for kyle and his bride ends when kyle is told by the doctor that he cant have children it is when his wife reveals to him that she is indeed pregnant kyle thinking that the child is mitchs goes on a drunken frenzy and is accidentally shot dead in a memorable scene mary lee who has always loved mitch tries but is unsuccessful in blaming mitch for kyles death in a memorable courtroom scene malone pulled out all the stops in finally admitting that kyles death was an unfortunate accident her oscar was well deserved surprisingly robert stack brilliant as kyle hadley was nominated for best supporting actor and lost in an upset victory by anthony quinn as paul gauguin in lust for life douglas sirk was the master of soap opera films of the 1950s written on the wind is no exception ***1 2'"
      ]
     },
     "execution_count": 9,
     "metadata": {},
     "output_type": "execute_result"
    }
   ],
   "source": [
    "review_to_words(train_X[100])"
   ]
  },
  {
   "cell_type": "code",
   "execution_count": 10,
   "metadata": {},
   "outputs": [],
   "source": [
    "import pickle\n",
    "\n",
    "cache_dir = os.path.join(\"../cache\", \"sentiment_web_app\")  # where to store cache files\n",
    "os.makedirs(cache_dir, exist_ok=True)  # ensure cache directory exists\n",
    "\n",
    "def preprocess_data(data_train, data_test, labels_train, labels_test,\n",
    "                    cache_dir=cache_dir, cache_file=\"preprocessed_data.pkl\"):\n",
    "    \"\"\"Convert each review to words; read from cache if available.\"\"\"\n",
    "\n",
    "    # If cache_file is not None, try to read from it first\n",
    "    cache_data = None\n",
    "    if cache_file is not None:\n",
    "        try:\n",
    "            with open(os.path.join(cache_dir, cache_file), \"rb\") as f:\n",
    "                cache_data = pickle.load(f)\n",
    "            print(\"Read preprocessed data from cache file:\", cache_file)\n",
    "        except:\n",
    "            pass  # unable to read from cache, but that's okay\n",
    "    \n",
    "    # If cache is missing, then do the heavy lifting\n",
    "    if cache_data is None:\n",
    "        # Preprocess training and test data to obtain words for each review\n",
    "        #words_train = list(map(review_to_words, data_train))\n",
    "        #words_test = list(map(review_to_words, data_test))\n",
    "        words_train = [review_to_words(review) for review in data_train]\n",
    "        words_test = [review_to_words(review) for review in data_test]\n",
    "        \n",
    "        # Write to cache file for future runs\n",
    "        if cache_file is not None:\n",
    "            cache_data = dict(words_train=words_train, words_test=words_test,\n",
    "                              labels_train=labels_train, labels_test=labels_test)\n",
    "            with open(os.path.join(cache_dir, cache_file), \"wb\") as f:\n",
    "                pickle.dump(cache_data, f)\n",
    "            print(\"Wrote preprocessed data to cache file:\", cache_file)\n",
    "    else:\n",
    "        # Unpack data loaded from cache file\n",
    "        words_train, words_test, labels_train, labels_test = (cache_data['words_train'],\n",
    "                cache_data['words_test'], cache_data['labels_train'], cache_data['labels_test'])\n",
    "    \n",
    "    return words_train, words_test, labels_train, labels_test"
   ]
  },
  {
   "cell_type": "code",
   "execution_count": 11,
   "metadata": {},
   "outputs": [
    {
     "name": "stdout",
     "output_type": "stream",
     "text": [
      "Read preprocessed data from cache file: preprocessed_data.pkl\n"
     ]
    }
   ],
   "source": [
    "# Preprocess data\n",
    "train_X, test_X, train_y, test_y = preprocess_data(train_X, test_X, train_y, test_y)"
   ]
  },
  {
   "cell_type": "markdown",
   "metadata": {},
   "source": [
    "### Extract Bag-of-Words features\n",
    "\n",
    "For the model we will be implementing, rather than using the reviews directly, we are going to transform each review into a Bag-of-Words feature representation. Keep in mind that 'in the wild' we will only have access to the training set so our transformer can only use the training set to construct a representation."
   ]
  },
  {
   "cell_type": "code",
   "execution_count": 12,
   "metadata": {},
   "outputs": [
    {
     "name": "stderr",
     "output_type": "stream",
     "text": [
      "/home/ec2-user/anaconda3/envs/python3/lib/python3.6/site-packages/sklearn/externals/joblib/__init__.py:15: FutureWarning: sklearn.externals.joblib is deprecated in 0.21 and will be removed in 0.23. Please import this functionality directly from joblib, which can be installed with: pip install joblib. If this warning is raised when loading pickled models, you may need to re-serialize those models with scikit-learn 0.21+.\n",
      "  warnings.warn(msg, category=FutureWarning)\n"
     ]
    }
   ],
   "source": [
    "import numpy as np\n",
    "from sklearn.feature_extraction.text import CountVectorizer\n",
    "from sklearn.externals import joblib\n",
    "# joblib is an enhanced version of pickle that is more efficient for storing NumPy arrays\n",
    "\n",
    "def extract_BoW_features(words_train, words_test, vocabulary_size=5000,\n",
    "                         cache_dir=cache_dir, cache_file=\"bow_features.pkl\"):\n",
    "    \"\"\"Extract Bag-of-Words for a given set of documents, already preprocessed into words.\"\"\"\n",
    "    \n",
    "    # If cache_file is not None, try to read from it first\n",
    "    cache_data = None\n",
    "    if cache_file is not None:\n",
    "        try:\n",
    "            with open(os.path.join(cache_dir, cache_file), \"rb\") as f:\n",
    "                cache_data = joblib.load(f)\n",
    "            print(\"Read features from cache file:\", cache_file)\n",
    "        except:\n",
    "            pass  # unable to read from cache, but that's okay\n",
    "    \n",
    "    # If cache is missing, then do the heavy lifting\n",
    "    if cache_data is None:\n",
    "        # Fit a vectorizer to training documents and use it to transform them\n",
    "        # NOTE: Training documents have already been preprocessed and tokenized into words;\n",
    "        #       pass in dummy functions to skip those steps, e.g. preprocessor=lambda x: x\n",
    "        vectorizer = CountVectorizer(max_features=vocabulary_size)\n",
    "        features_train = vectorizer.fit_transform(words_train).toarray()\n",
    "\n",
    "        # Apply the same vectorizer to transform the test documents (ignore unknown words)\n",
    "        features_test = vectorizer.transform(words_test).toarray()\n",
    "        \n",
    "        # NOTE: Remember to convert the features using .toarray() for a compact representation\n",
    "        \n",
    "        # Write to cache file for future runs (store vocabulary as well)\n",
    "        if cache_file is not None:\n",
    "            vocabulary = vectorizer.vocabulary_\n",
    "            cache_data = dict(features_train=features_train, features_test=features_test,\n",
    "                             vocabulary=vocabulary)\n",
    "            with open(os.path.join(cache_dir, cache_file), \"wb\") as f:\n",
    "                joblib.dump(cache_data, f)\n",
    "            print(\"Wrote features to cache file:\", cache_file)\n",
    "    else:\n",
    "        # Unpack data loaded from cache file\n",
    "        features_train, features_test, vocabulary = (cache_data['features_train'],\n",
    "                cache_data['features_test'], cache_data['vocabulary'])\n",
    "    \n",
    "    # Return both the extracted features as well as the vocabulary\n",
    "    return features_train, features_test, vocabulary"
   ]
  },
  {
   "cell_type": "code",
   "execution_count": 14,
   "metadata": {},
   "outputs": [],
   "source": [
    "import numpy as np\n",
    "from sklearn.feature_extraction.text import CountVectorizer\n",
    "from sklearn.externals import joblib\n",
    "# joblib is an enhanced version of pickle that is more efficient for storing NumPy arrays\n",
    "\n",
    "def extract_BoW_features(words_train, words_test, vocabulary_size=5000,\n",
    "                         cache_dir=cache_dir, cache_file=\"bow_features.pkl\"):\n",
    "    \"\"\"Extract Bag-of-Words for a given set of documents, already preprocessed into words.\"\"\"\n",
    "    \n",
    "    # If cache_file is not None, try to read from it first\n",
    "    cache_data = None\n",
    "    if cache_file is not None:\n",
    "        try:\n",
    "            with open(os.path.join(cache_dir, cache_file), \"rb\") as f:\n",
    "                cache_data = joblib.load(f)\n",
    "            print(\"Read features from cache file:\", cache_file)\n",
    "        except:\n",
    "            pass  # unable to read from cache, but that's okay\n",
    "    \n",
    "    # If cache is missing, then do the heavy lifting\n",
    "    if cache_data is None:\n",
    "        # Fit a vectorizer to training documents and use it to transform them\n",
    "        # NOTE: Training documents have already been preprocessed and tokenized into words;\n",
    "        #       pass in dummy functions to skip those steps, e.g. preprocessor=lambda x: x\n",
    "        vectorizer = CountVectorizer(max_features=vocabulary_size,\n",
    "                preprocessor=lambda x: x, tokenizer=lambda x: x)  # already preprocessed\n",
    "        features_train = vectorizer.fit_transform(words_train).toarray()\n",
    "\n",
    "        # Apply the same vectorizer to transform the test documents (ignore unknown words)\n",
    "        features_test = vectorizer.transform(words_test).toarray()\n",
    "        \n",
    "        # NOTE: Remember to convert the features using .toarray() for a compact representation\n",
    "        \n",
    "        # Write to cache file for future runs (store vocabulary as well)\n",
    "        if cache_file is not None:\n",
    "            vocabulary = vectorizer.vocabulary_\n",
    "            cache_data = dict(features_train=features_train, features_test=features_test,\n",
    "                             vocabulary=vocabulary)\n",
    "            with open(os.path.join(cache_dir, cache_file), \"wb\") as f:\n",
    "                joblib.dump(cache_data, f)\n",
    "            print(\"Wrote features to cache file:\", cache_file)\n",
    "    else:\n",
    "        # Unpack data loaded from cache file\n",
    "        features_train, features_test, vocabulary = (cache_data['features_train'],\n",
    "                cache_data['features_test'], cache_data['vocabulary'])\n",
    "    \n",
    "    # Return both the extracted features as well as the vocabulary\n",
    "    return features_train, features_test, vocabulary"
   ]
  },
  {
   "cell_type": "code",
   "execution_count": 15,
   "metadata": {},
   "outputs": [
    {
     "name": "stdout",
     "output_type": "stream",
     "text": [
      "Wrote features to cache file: bow_features.pkl\n"
     ]
    }
   ],
   "source": [
    "# Extract Bag of Words features for both training and test datasets\n",
    "train_X, test_X, vocabulary = extract_BoW_features(train_X, test_X)"
   ]
  },
  {
   "cell_type": "code",
   "execution_count": null,
   "metadata": {},
   "outputs": [],
   "source": [
    "len(train_X[100])"
   ]
  },
  {
   "cell_type": "markdown",
   "metadata": {},
   "source": [
    "## Step 3: Upload data to S3\n",
    "\n",
    "Now that we have created the feature representation of our training (and testing) data, it is time to start setting up and using the XGBoost classifier provided by SageMaker.\n",
    "\n",
    "### Writing the datasets\n",
    "\n",
    "The XGBoost classifier that we will be using requires the dataset to be written to a file and stored using Amazon S3. To do this, we will start by splitting the training dataset into two parts, the data we will train the model with and a validation set. Then, we will write those datasets to a file locally and then upload the files to S3. In addition, we will write the test set to a file and upload that file to S3. This is so that we can use SageMakers Batch Transform functionality to test our model once we've fit it."
   ]
  },
  {
   "cell_type": "code",
   "execution_count": 18,
   "metadata": {},
   "outputs": [],
   "source": [
    "import pandas as pd\n",
    "\n",
    "# Earlier we shuffled the training dataset so to make things simple we can just assign\n",
    "# the first 10 000 reviews to the validation set and use the remaining reviews for training.\n",
    "val_X = pd.DataFrame(train_X[:10000])\n",
    "train_X = pd.DataFrame(train_X[10000:])\n",
    "\n",
    "val_y = pd.DataFrame(train_y[:10000])\n",
    "train_y = pd.DataFrame(train_y[10000:])"
   ]
  },
  {
   "cell_type": "markdown",
   "metadata": {},
   "source": [
    "The documentation for the XGBoost algorithm in SageMaker requires that the training and validation datasets should contain no headers or index and that the label should occur first for each sample.\n",
    "\n",
    "For more information about this and other algorithms, the SageMaker developer documentation can be found on __[Amazon's website.](https://docs.aws.amazon.com/sagemaker/latest/dg/)__"
   ]
  },
  {
   "cell_type": "code",
   "execution_count": 19,
   "metadata": {},
   "outputs": [],
   "source": [
    "# First we make sure that the local directory in which we'd like to store the training and validation csv files exists.\n",
    "data_dir = '../data/sentiment_web_app'\n",
    "if not os.path.exists(data_dir):\n",
    "    os.makedirs(data_dir)"
   ]
  },
  {
   "cell_type": "code",
   "execution_count": 20,
   "metadata": {},
   "outputs": [],
   "source": [
    "pd.DataFrame(test_X).to_csv(os.path.join(data_dir, 'test.csv'), header=False, index=False)\n",
    "\n",
    "pd.concat([val_y, val_X], axis=1).to_csv(os.path.join(data_dir, 'validation.csv'), header=False, index=False)\n",
    "pd.concat([train_y, train_X], axis=1).to_csv(os.path.join(data_dir, 'train.csv'), header=False, index=False)"
   ]
  },
  {
   "cell_type": "code",
   "execution_count": 21,
   "metadata": {},
   "outputs": [],
   "source": [
    "# To save a bit of memory we can set text_X, train_X, val_X, train_y and val_y to None.\n",
    "\n",
    "test_X = train_X = val_X = train_y = val_y = None"
   ]
  },
  {
   "cell_type": "markdown",
   "metadata": {},
   "source": [
    "### Uploading Training / Validation files to S3\n",
    "\n",
    "Amazon's S3 service allows us to store files that can be accessed by both the built-in training models such as the XGBoost model we will be using as well as custom models such as the one we will see a little later.\n",
    "\n",
    "For this and most other tasks we will be doing using SageMaker, there are two methods we could use. The first is to use the low level functionality of SageMaker which requires knowing each of the objects involved in the SageMaker environment. The second is to use the high level functionality in which certain choices have been made on the user's behalf. The low level approach benefits from allowing the user a great deal of flexibility while the high level approach makes development much quicker. For our purposes we will opt to use the high level approach although using the low-level approach is certainly an option.\n",
    "\n",
    "Recall the method `upload_data()` which is a member of the object representing our current SageMaker session. What this method does is upload the data to the default bucket (which is created if it does not exist) into the path described by the key_prefix variable. To see this for yourself, once you have uploaded the data files, go to the S3 console and look to see where the files have been uploaded.\n",
    "\n",
    "For additional resources, see the __[SageMaker API documentation](http://sagemaker.readthedocs.io/en/latest/)__ and in addition the __[SageMaker Developer Guide.](https://docs.aws.amazon.com/sagemaker/latest/dg/)__"
   ]
  },
  {
   "cell_type": "code",
   "execution_count": 22,
   "metadata": {},
   "outputs": [],
   "source": [
    "import sagemaker\n",
    "\n",
    "session = sagemaker.Session() # Store the current SageMaker session\n",
    "\n",
    "# S3 prefix (which folder will we use)\n",
    "prefix = 'sentiment-web-app'\n",
    "\n",
    "test_location = session.upload_data(os.path.join(data_dir, 'test.csv'), key_prefix=prefix)\n",
    "val_location = session.upload_data(os.path.join(data_dir, 'validation.csv'), key_prefix=prefix)\n",
    "train_location = session.upload_data(os.path.join(data_dir, 'train.csv'), key_prefix=prefix)"
   ]
  },
  {
   "cell_type": "markdown",
   "metadata": {},
   "source": [
    "## Step 4: Creating the XGBoost model\n",
    "\n",
    "Now that the data has been uploaded it is time to create the XGBoost model. To begin with, we need to do some setup. At this point it is worth discussing what a model is in SageMaker. It is easiest to think of a model of comprising three different objects in the SageMaker ecosystem, which interact with one another.\n",
    "\n",
    "- Model Artifacts\n",
    "- Training Code (Container)\n",
    "- Inference Code (Container)\n",
    "\n",
    "The Model Artifacts are what you might think of as the actual model itself. For example, if you were building a neural network, the model artifacts would be the weights of the various layers. In our case, for an XGBoost model, the artifacts are the actual trees that are created during training.\n",
    "\n",
    "The other two objects, the training code and the inference code are then used to manipulate the training artifacts. More precisely, the training code uses the training data that is provided and creates the model artifacts, while the inference code uses the model artifacts to make predictions on new data.\n",
    "\n",
    "The way that SageMaker runs the training and inference code is by making use of Docker containers. For now, think of a container as being a way of packaging code up so that dependencies aren't an issue."
   ]
  },
  {
   "cell_type": "code",
   "execution_count": 23,
   "metadata": {},
   "outputs": [],
   "source": [
    "from sagemaker import get_execution_role\n",
    "\n",
    "# Our current execution role is required when creating the model as the training\n",
    "# and inference code will need to access the model artifacts.\n",
    "role = get_execution_role()"
   ]
  },
  {
   "cell_type": "code",
   "execution_count": 24,
   "metadata": {},
   "outputs": [
    {
     "name": "stderr",
     "output_type": "stream",
     "text": [
      "'get_image_uri' method will be deprecated in favor of 'ImageURIProvider' class in SageMaker Python SDK v2.\n",
      "WARNING:root:There is a more up to date SageMaker XGBoost image. To use the newer image, please set 'repo_version'='1.0-1'. For example:\n",
      "\tget_image_uri(region, 'xgboost', '1.0-1').\n"
     ]
    }
   ],
   "source": [
    "# We need to retrieve the location of the container which is provided by Amazon for using XGBoost.\n",
    "# As a matter of convenience, the training and inference code both use the same container.\n",
    "from sagemaker.amazon.amazon_estimator import get_image_uri\n",
    "\n",
    "container = get_image_uri(session.boto_region_name, 'xgboost')"
   ]
  },
  {
   "cell_type": "code",
   "execution_count": 25,
   "metadata": {},
   "outputs": [
    {
     "name": "stderr",
     "output_type": "stream",
     "text": [
      "WARNING:root:Parameter image_name will be renamed to image_uri in SageMaker Python SDK v2.\n"
     ]
    }
   ],
   "source": [
    "# First we create a SageMaker estimator object for our model.\n",
    "xgb = sagemaker.estimator.Estimator(container, # The location of the container we wish to use\n",
    "                                    role,                                    # What is our current IAM Role\n",
    "                                    train_instance_count=1,                  # How many compute instances\n",
    "                                    train_instance_type='ml.m4.xlarge',      # What kind of compute instances\n",
    "                                    output_path='s3://{}/{}/output'.format(session.default_bucket(), prefix),\n",
    "                                    sagemaker_session=session)\n",
    "\n",
    "# And then set the algorithm specific parameters.\n",
    "xgb.set_hyperparameters(max_depth=5,\n",
    "                        eta=0.2,\n",
    "                        gamma=4,\n",
    "                        min_child_weight=6,\n",
    "                        subsample=0.8,\n",
    "                        silent=0,\n",
    "                        objective='binary:logistic',\n",
    "                        early_stopping_rounds=10,\n",
    "                        num_round=500)"
   ]
  },
  {
   "cell_type": "markdown",
   "metadata": {},
   "source": [
    "### Fit the XGBoost model\n",
    "\n",
    "Now that our model has been set up we simply need to attach the training and validation datasets and then ask SageMaker to set up the computation."
   ]
  },
  {
   "cell_type": "code",
   "execution_count": 26,
   "metadata": {},
   "outputs": [
    {
     "name": "stderr",
     "output_type": "stream",
     "text": [
      "WARNING:sagemaker:'s3_input' class will be renamed to 'TrainingInput' in SageMaker Python SDK v2.\n",
      "WARNING:sagemaker:'s3_input' class will be renamed to 'TrainingInput' in SageMaker Python SDK v2.\n"
     ]
    }
   ],
   "source": [
    "s3_input_train = sagemaker.s3_input(s3_data=train_location, content_type='csv')\n",
    "s3_input_validation = sagemaker.s3_input(s3_data=val_location, content_type='csv')"
   ]
  },
  {
   "cell_type": "code",
   "execution_count": null,
   "metadata": {},
   "outputs": [],
   "source": []
  },
  {
   "cell_type": "code",
   "execution_count": 51,
   "metadata": {},
   "outputs": [
    {
     "name": "stderr",
     "output_type": "stream",
     "text": [
      "WARNING:root:Parameter image_name will be renamed to image_uri in SageMaker Python SDK v2.\n"
     ]
    },
    {
     "name": "stdout",
     "output_type": "stream",
     "text": [
      "2020-07-16 01:09:15 Starting - Preparing the instances for training\n",
      "2020-07-16 01:09:15 Downloading - Downloading input data\n",
      "2020-07-16 01:09:15 Training - Training image download completed. Training in progress.\n",
      "2020-07-16 01:09:15 Uploading - Uploading generated training model\n",
      "2020-07-16 01:09:15 Completed - Training job completed\u001b[34mArguments: train\u001b[0m\n",
      "\u001b[34m[2020-07-16:01:06:51:INFO] Running standalone xgboost training.\u001b[0m\n",
      "\u001b[34m[2020-07-16:01:06:51:INFO] File size need to be processed in the node: 238.5mb. Available memory size in the node: 8481.33mb\u001b[0m\n",
      "\u001b[34m[2020-07-16:01:06:51:INFO] Determined delimiter of CSV input is ','\u001b[0m\n",
      "\u001b[34m[01:06:51] S3DistributionType set as FullyReplicated\u001b[0m\n",
      "\u001b[34m[01:06:53] 15000x5000 matrix with 75000000 entries loaded from /opt/ml/input/data/train?format=csv&label_column=0&delimiter=,\u001b[0m\n",
      "\u001b[34m[2020-07-16:01:06:53:INFO] Determined delimiter of CSV input is ','\u001b[0m\n",
      "\u001b[34m[01:06:53] S3DistributionType set as FullyReplicated\u001b[0m\n",
      "\u001b[34m[01:06:54] 10000x5000 matrix with 50000000 entries loaded from /opt/ml/input/data/validation?format=csv&label_column=0&delimiter=,\u001b[0m\n",
      "\u001b[34m[01:06:58] src/tree/updater_prune.cc:74: tree pruning end, 1 roots, 42 extra nodes, 8 pruned nodes, max_depth=5\u001b[0m\n",
      "\u001b[34m[0]#011train-error:0.299533#011validation-error:0.3175\u001b[0m\n",
      "\u001b[34mMultiple eval metrics have been passed: 'validation-error' will be used for early stopping.\n",
      "\u001b[0m\n",
      "\u001b[34mWill train until validation-error hasn't improved in 10 rounds.\u001b[0m\n",
      "\u001b[34m[01:06:59] src/tree/updater_prune.cc:74: tree pruning end, 1 roots, 36 extra nodes, 12 pruned nodes, max_depth=5\u001b[0m\n",
      "\u001b[34m[1]#011train-error:0.286667#011validation-error:0.3003\u001b[0m\n",
      "\u001b[34m[01:07:00] src/tree/updater_prune.cc:74: tree pruning end, 1 roots, 40 extra nodes, 6 pruned nodes, max_depth=5\u001b[0m\n",
      "\u001b[34m[2]#011train-error:0.274667#011validation-error:0.2911\u001b[0m\n",
      "\u001b[34m[01:07:02] src/tree/updater_prune.cc:74: tree pruning end, 1 roots, 34 extra nodes, 4 pruned nodes, max_depth=5\u001b[0m\n",
      "\u001b[34m[3]#011train-error:0.264533#011validation-error:0.2838\u001b[0m\n",
      "\u001b[34m[01:07:03] src/tree/updater_prune.cc:74: tree pruning end, 1 roots, 44 extra nodes, 8 pruned nodes, max_depth=5\u001b[0m\n",
      "\u001b[34m[4]#011train-error:0.268267#011validation-error:0.286\u001b[0m\n",
      "\u001b[34m[01:07:04] src/tree/updater_prune.cc:74: tree pruning end, 1 roots, 30 extra nodes, 10 pruned nodes, max_depth=5\u001b[0m\n",
      "\u001b[34m[5]#011train-error:0.2642#011validation-error:0.2807\u001b[0m\n",
      "\u001b[34m[01:07:06] src/tree/updater_prune.cc:74: tree pruning end, 1 roots, 38 extra nodes, 8 pruned nodes, max_depth=5\u001b[0m\n",
      "\u001b[34m[6]#011train-error:0.251867#011validation-error:0.2701\u001b[0m\n",
      "\u001b[34m[01:07:07] src/tree/updater_prune.cc:74: tree pruning end, 1 roots, 36 extra nodes, 8 pruned nodes, max_depth=5\u001b[0m\n",
      "\u001b[34m[7]#011train-error:0.244667#011validation-error:0.2613\u001b[0m\n",
      "\u001b[34m[01:07:08] src/tree/updater_prune.cc:74: tree pruning end, 1 roots, 30 extra nodes, 6 pruned nodes, max_depth=5\u001b[0m\n",
      "\u001b[34m[8]#011train-error:0.241867#011validation-error:0.2595\u001b[0m\n",
      "\u001b[34m[01:07:09] src/tree/updater_prune.cc:74: tree pruning end, 1 roots, 24 extra nodes, 10 pruned nodes, max_depth=5\u001b[0m\n",
      "\u001b[34m[9]#011train-error:0.237133#011validation-error:0.2527\u001b[0m\n",
      "\u001b[34m[01:07:11] src/tree/updater_prune.cc:74: tree pruning end, 1 roots, 36 extra nodes, 8 pruned nodes, max_depth=5\u001b[0m\n",
      "\u001b[34m[10]#011train-error:0.230867#011validation-error:0.2492\u001b[0m\n",
      "\u001b[34m[01:07:12] src/tree/updater_prune.cc:74: tree pruning end, 1 roots, 36 extra nodes, 6 pruned nodes, max_depth=5\u001b[0m\n",
      "\u001b[34m[11]#011train-error:0.227067#011validation-error:0.2423\u001b[0m\n",
      "\u001b[34m[01:07:13] src/tree/updater_prune.cc:74: tree pruning end, 1 roots, 30 extra nodes, 4 pruned nodes, max_depth=5\u001b[0m\n",
      "\u001b[34m[12]#011train-error:0.222267#011validation-error:0.2406\u001b[0m\n",
      "\u001b[34m[01:07:14] src/tree/updater_prune.cc:74: tree pruning end, 1 roots, 18 extra nodes, 14 pruned nodes, max_depth=5\u001b[0m\n",
      "\u001b[34m[13]#011train-error:0.218067#011validation-error:0.2369\u001b[0m\n",
      "\u001b[34m[01:07:16] src/tree/updater_prune.cc:74: tree pruning end, 1 roots, 26 extra nodes, 4 pruned nodes, max_depth=5\u001b[0m\n",
      "\u001b[34m[14]#011train-error:0.215667#011validation-error:0.2325\u001b[0m\n",
      "\u001b[34m[01:07:17] src/tree/updater_prune.cc:74: tree pruning end, 1 roots, 34 extra nodes, 10 pruned nodes, max_depth=5\u001b[0m\n",
      "\u001b[34m[15]#011train-error:0.2092#011validation-error:0.2286\u001b[0m\n",
      "\u001b[34m[01:07:18] src/tree/updater_prune.cc:74: tree pruning end, 1 roots, 36 extra nodes, 6 pruned nodes, max_depth=5\u001b[0m\n",
      "\u001b[34m[16]#011train-error:0.2068#011validation-error:0.2252\u001b[0m\n",
      "\u001b[34m[01:07:20] src/tree/updater_prune.cc:74: tree pruning end, 1 roots, 36 extra nodes, 4 pruned nodes, max_depth=5\u001b[0m\n",
      "\u001b[34m[17]#011train-error:0.202867#011validation-error:0.222\u001b[0m\n",
      "\u001b[34m[01:07:21] src/tree/updater_prune.cc:74: tree pruning end, 1 roots, 34 extra nodes, 16 pruned nodes, max_depth=5\u001b[0m\n",
      "\u001b[34m[18]#011train-error:0.1978#011validation-error:0.2192\u001b[0m\n",
      "\u001b[34m[01:07:22] src/tree/updater_prune.cc:74: tree pruning end, 1 roots, 28 extra nodes, 4 pruned nodes, max_depth=5\u001b[0m\n",
      "\u001b[34m[19]#011train-error:0.197333#011validation-error:0.2187\u001b[0m\n",
      "\u001b[34m[01:07:23] src/tree/updater_prune.cc:74: tree pruning end, 1 roots, 26 extra nodes, 6 pruned nodes, max_depth=5\u001b[0m\n",
      "\u001b[34m[20]#011train-error:0.1962#011validation-error:0.2162\u001b[0m\n",
      "\u001b[34m[01:07:25] src/tree/updater_prune.cc:74: tree pruning end, 1 roots, 32 extra nodes, 6 pruned nodes, max_depth=5\u001b[0m\n",
      "\u001b[34m[21]#011train-error:0.192067#011validation-error:0.2125\u001b[0m\n",
      "\u001b[34m[01:07:26] src/tree/updater_prune.cc:74: tree pruning end, 1 roots, 28 extra nodes, 14 pruned nodes, max_depth=5\u001b[0m\n",
      "\u001b[34m[22]#011train-error:0.189067#011validation-error:0.2097\u001b[0m\n",
      "\u001b[34m[01:07:27] src/tree/updater_prune.cc:74: tree pruning end, 1 roots, 42 extra nodes, 6 pruned nodes, max_depth=5\u001b[0m\n",
      "\u001b[34m[23]#011train-error:0.185533#011validation-error:0.2077\u001b[0m\n",
      "\u001b[34m[01:07:28] src/tree/updater_prune.cc:74: tree pruning end, 1 roots, 22 extra nodes, 10 pruned nodes, max_depth=5\u001b[0m\n",
      "\u001b[34m[24]#011train-error:0.182733#011validation-error:0.2058\u001b[0m\n",
      "\u001b[34m[01:07:30] src/tree/updater_prune.cc:74: tree pruning end, 1 roots, 24 extra nodes, 6 pruned nodes, max_depth=5\u001b[0m\n",
      "\u001b[34m[25]#011train-error:0.181467#011validation-error:0.2028\u001b[0m\n",
      "\u001b[34m[01:07:31] src/tree/updater_prune.cc:74: tree pruning end, 1 roots, 20 extra nodes, 12 pruned nodes, max_depth=5\u001b[0m\n",
      "\u001b[34m[26]#011train-error:0.178867#011validation-error:0.2021\u001b[0m\n",
      "\u001b[34m[01:07:32] src/tree/updater_prune.cc:74: tree pruning end, 1 roots, 22 extra nodes, 10 pruned nodes, max_depth=5\u001b[0m\n",
      "\u001b[34m[27]#011train-error:0.1748#011validation-error:0.1995\u001b[0m\n",
      "\u001b[34m[01:07:33] src/tree/updater_prune.cc:74: tree pruning end, 1 roots, 22 extra nodes, 10 pruned nodes, max_depth=5\u001b[0m\n",
      "\u001b[34m[28]#011train-error:0.173067#011validation-error:0.1978\u001b[0m\n",
      "\u001b[34m[01:07:35] src/tree/updater_prune.cc:74: tree pruning end, 1 roots, 18 extra nodes, 4 pruned nodes, max_depth=5\u001b[0m\n",
      "\u001b[34m[29]#011train-error:0.171267#011validation-error:0.1954\u001b[0m\n",
      "\u001b[34m[01:07:36] src/tree/updater_prune.cc:74: tree pruning end, 1 roots, 28 extra nodes, 10 pruned nodes, max_depth=5\u001b[0m\n",
      "\u001b[34m[30]#011train-error:0.169467#011validation-error:0.1926\u001b[0m\n",
      "\u001b[34m[01:07:37] src/tree/updater_prune.cc:74: tree pruning end, 1 roots, 34 extra nodes, 10 pruned nodes, max_depth=5\u001b[0m\n",
      "\u001b[34m[31]#011train-error:0.167333#011validation-error:0.1919\u001b[0m\n",
      "\u001b[34m[01:07:39] src/tree/updater_prune.cc:74: tree pruning end, 1 roots, 26 extra nodes, 14 pruned nodes, max_depth=5\u001b[0m\n",
      "\u001b[34m[32]#011train-error:0.1658#011validation-error:0.1896\u001b[0m\n",
      "\u001b[34m[01:07:40] src/tree/updater_prune.cc:74: tree pruning end, 1 roots, 16 extra nodes, 6 pruned nodes, max_depth=5\u001b[0m\n",
      "\u001b[34m[33]#011train-error:0.164#011validation-error:0.1883\u001b[0m\n",
      "\u001b[34m[01:07:41] src/tree/updater_prune.cc:74: tree pruning end, 1 roots, 36 extra nodes, 10 pruned nodes, max_depth=5\u001b[0m\n",
      "\u001b[34m[34]#011train-error:0.160867#011validation-error:0.1863\u001b[0m\n",
      "\u001b[34m[01:07:42] src/tree/updater_prune.cc:74: tree pruning end, 1 roots, 18 extra nodes, 6 pruned nodes, max_depth=5\u001b[0m\n",
      "\u001b[34m[35]#011train-error:0.1594#011validation-error:0.1869\u001b[0m\n",
      "\u001b[34m[01:07:44] src/tree/updater_prune.cc:74: tree pruning end, 1 roots, 22 extra nodes, 10 pruned nodes, max_depth=5\u001b[0m\n",
      "\u001b[34m[36]#011train-error:0.158933#011validation-error:0.1849\u001b[0m\n",
      "\u001b[34m[01:07:45] src/tree/updater_prune.cc:74: tree pruning end, 1 roots, 18 extra nodes, 6 pruned nodes, max_depth=5\u001b[0m\n",
      "\u001b[34m[37]#011train-error:0.157467#011validation-error:0.1832\u001b[0m\n",
      "\u001b[34m[01:07:46] src/tree/updater_prune.cc:74: tree pruning end, 1 roots, 28 extra nodes, 10 pruned nodes, max_depth=5\u001b[0m\n",
      "\u001b[34m[38]#011train-error:0.1556#011validation-error:0.1829\u001b[0m\n",
      "\u001b[34m[01:07:47] src/tree/updater_prune.cc:74: tree pruning end, 1 roots, 26 extra nodes, 10 pruned nodes, max_depth=5\u001b[0m\n",
      "\u001b[34m[39]#011train-error:0.154467#011validation-error:0.1817\u001b[0m\n",
      "\u001b[34m[01:07:49] src/tree/updater_prune.cc:74: tree pruning end, 1 roots, 34 extra nodes, 0 pruned nodes, max_depth=5\u001b[0m\n",
      "\u001b[34m[40]#011train-error:0.150667#011validation-error:0.1806\u001b[0m\n",
      "\u001b[34m[01:07:50] src/tree/updater_prune.cc:74: tree pruning end, 1 roots, 42 extra nodes, 4 pruned nodes, max_depth=5\u001b[0m\n",
      "\u001b[34m[41]#011train-error:0.150667#011validation-error:0.1787\u001b[0m\n",
      "\u001b[34m[01:07:51] src/tree/updater_prune.cc:74: tree pruning end, 1 roots, 16 extra nodes, 10 pruned nodes, max_depth=5\u001b[0m\n",
      "\u001b[34m[42]#011train-error:0.150067#011validation-error:0.1788\u001b[0m\n",
      "\u001b[34m[01:07:52] src/tree/updater_prune.cc:74: tree pruning end, 1 roots, 30 extra nodes, 2 pruned nodes, max_depth=5\u001b[0m\n",
      "\u001b[34m[43]#011train-error:0.1496#011validation-error:0.1786\u001b[0m\n",
      "\u001b[34m[01:07:54] src/tree/updater_prune.cc:74: tree pruning end, 1 roots, 18 extra nodes, 8 pruned nodes, max_depth=5\u001b[0m\n",
      "\u001b[34m[44]#011train-error:0.147333#011validation-error:0.1766\u001b[0m\n",
      "\u001b[34m[01:07:55] src/tree/updater_prune.cc:74: tree pruning end, 1 roots, 34 extra nodes, 4 pruned nodes, max_depth=5\u001b[0m\n",
      "\u001b[34m[45]#011train-error:0.145333#011validation-error:0.1749\u001b[0m\n",
      "\u001b[34m[01:07:56] src/tree/updater_prune.cc:74: tree pruning end, 1 roots, 32 extra nodes, 6 pruned nodes, max_depth=5\u001b[0m\n",
      "\u001b[34m[46]#011train-error:0.144267#011validation-error:0.1734\u001b[0m\n",
      "\u001b[34m[01:07:57] src/tree/updater_prune.cc:74: tree pruning end, 1 roots, 22 extra nodes, 6 pruned nodes, max_depth=5\u001b[0m\n",
      "\u001b[34m[47]#011train-error:0.141933#011validation-error:0.1733\u001b[0m\n",
      "\u001b[34m[01:07:59] src/tree/updater_prune.cc:74: tree pruning end, 1 roots, 24 extra nodes, 10 pruned nodes, max_depth=5\u001b[0m\n",
      "\u001b[34m[48]#011train-error:0.141067#011validation-error:0.1729\u001b[0m\n",
      "\u001b[34m[01:08:00] src/tree/updater_prune.cc:74: tree pruning end, 1 roots, 26 extra nodes, 6 pruned nodes, max_depth=5\u001b[0m\n",
      "\u001b[34m[49]#011train-error:0.139333#011validation-error:0.1725\u001b[0m\n",
      "\u001b[34m[01:08:01] src/tree/updater_prune.cc:74: tree pruning end, 1 roots, 22 extra nodes, 6 pruned nodes, max_depth=5\u001b[0m\n",
      "\u001b[34m[50]#011train-error:0.138267#011validation-error:0.173\u001b[0m\n",
      "\u001b[34m[01:08:02] src/tree/updater_prune.cc:74: tree pruning end, 1 roots, 14 extra nodes, 8 pruned nodes, max_depth=5\u001b[0m\n",
      "\u001b[34m[51]#011train-error:0.137933#011validation-error:0.1729\u001b[0m\n",
      "\u001b[34m[01:08:04] src/tree/updater_prune.cc:74: tree pruning end, 1 roots, 16 extra nodes, 6 pruned nodes, max_depth=5\u001b[0m\n",
      "\u001b[34m[52]#011train-error:0.137533#011validation-error:0.1731\u001b[0m\n",
      "\u001b[34m[01:08:05] src/tree/updater_prune.cc:74: tree pruning end, 1 roots, 20 extra nodes, 16 pruned nodes, max_depth=5\u001b[0m\n",
      "\u001b[34m[53]#011train-error:0.1364#011validation-error:0.1725\u001b[0m\n",
      "\u001b[34m[01:08:06] src/tree/updater_prune.cc:74: tree pruning end, 1 roots, 36 extra nodes, 14 pruned nodes, max_depth=5\u001b[0m\n",
      "\u001b[34m[54]#011train-error:0.135267#011validation-error:0.1701\u001b[0m\n",
      "\u001b[34m[01:08:08] src/tree/updater_prune.cc:74: tree pruning end, 1 roots, 26 extra nodes, 8 pruned nodes, max_depth=5\u001b[0m\n",
      "\u001b[34m[55]#011train-error:0.134333#011validation-error:0.1701\u001b[0m\n",
      "\u001b[34m[01:08:09] src/tree/updater_prune.cc:74: tree pruning end, 1 roots, 30 extra nodes, 6 pruned nodes, max_depth=5\u001b[0m\n",
      "\u001b[34m[56]#011train-error:0.1332#011validation-error:0.1703\u001b[0m\n",
      "\u001b[34m[01:08:10] src/tree/updater_prune.cc:74: tree pruning end, 1 roots, 20 extra nodes, 4 pruned nodes, max_depth=5\u001b[0m\n",
      "\u001b[34m[57]#011train-error:0.1326#011validation-error:0.1696\u001b[0m\n",
      "\u001b[34m[01:08:11] src/tree/updater_prune.cc:74: tree pruning end, 1 roots, 20 extra nodes, 10 pruned nodes, max_depth=5\u001b[0m\n",
      "\u001b[34m[58]#011train-error:0.132267#011validation-error:0.1681\u001b[0m\n",
      "\u001b[34m[01:08:13] src/tree/updater_prune.cc:74: tree pruning end, 1 roots, 16 extra nodes, 18 pruned nodes, max_depth=5\u001b[0m\n",
      "\u001b[34m[59]#011train-error:0.132067#011validation-error:0.1675\u001b[0m\n",
      "\u001b[34m[01:08:14] src/tree/updater_prune.cc:74: tree pruning end, 1 roots, 22 extra nodes, 8 pruned nodes, max_depth=5\u001b[0m\n",
      "\u001b[34m[60]#011train-error:0.1314#011validation-error:0.1668\u001b[0m\n",
      "\u001b[34m[01:08:15] src/tree/updater_prune.cc:74: tree pruning end, 1 roots, 14 extra nodes, 6 pruned nodes, max_depth=5\u001b[0m\n",
      "\u001b[34m[61]#011train-error:0.1308#011validation-error:0.1669\u001b[0m\n",
      "\u001b[34m[01:08:16] src/tree/updater_prune.cc:74: tree pruning end, 1 roots, 30 extra nodes, 4 pruned nodes, max_depth=5\u001b[0m\n",
      "\u001b[34m[62]#011train-error:0.1296#011validation-error:0.1669\u001b[0m\n",
      "\u001b[34m[01:08:18] src/tree/updater_prune.cc:74: tree pruning end, 1 roots, 24 extra nodes, 16 pruned nodes, max_depth=5\u001b[0m\n",
      "\u001b[34m[63]#011train-error:0.128667#011validation-error:0.1669\u001b[0m\n",
      "\u001b[34m[01:08:19] src/tree/updater_prune.cc:74: tree pruning end, 1 roots, 30 extra nodes, 2 pruned nodes, max_depth=5\u001b[0m\n",
      "\u001b[34m[64]#011train-error:0.127933#011validation-error:0.1658\u001b[0m\n",
      "\u001b[34m[01:08:20] src/tree/updater_prune.cc:74: tree pruning end, 1 roots, 20 extra nodes, 8 pruned nodes, max_depth=5\u001b[0m\n",
      "\u001b[34m[65]#011train-error:0.127067#011validation-error:0.1657\u001b[0m\n",
      "\u001b[34m[01:08:21] src/tree/updater_prune.cc:74: tree pruning end, 1 roots, 28 extra nodes, 12 pruned nodes, max_depth=5\u001b[0m\n",
      "\u001b[34m[66]#011train-error:0.125333#011validation-error:0.1655\u001b[0m\n",
      "\u001b[34m[01:08:23] src/tree/updater_prune.cc:74: tree pruning end, 1 roots, 22 extra nodes, 14 pruned nodes, max_depth=5\u001b[0m\n",
      "\u001b[34m[67]#011train-error:0.126#011validation-error:0.1653\u001b[0m\n",
      "\u001b[34m[01:08:24] src/tree/updater_prune.cc:74: tree pruning end, 1 roots, 12 extra nodes, 2 pruned nodes, max_depth=5\u001b[0m\n",
      "\u001b[34m[68]#011train-error:0.125133#011validation-error:0.1645\u001b[0m\n",
      "\u001b[34m[01:08:25] src/tree/updater_prune.cc:74: tree pruning end, 1 roots, 26 extra nodes, 12 pruned nodes, max_depth=5\u001b[0m\n",
      "\u001b[34m[69]#011train-error:0.124733#011validation-error:0.1634\u001b[0m\n",
      "\u001b[34m[01:08:26] src/tree/updater_prune.cc:74: tree pruning end, 1 roots, 16 extra nodes, 4 pruned nodes, max_depth=5\u001b[0m\n",
      "\u001b[34m[70]#011train-error:0.124333#011validation-error:0.1635\u001b[0m\n",
      "\u001b[34m[01:08:28] src/tree/updater_prune.cc:74: tree pruning end, 1 roots, 20 extra nodes, 8 pruned nodes, max_depth=5\u001b[0m\n",
      "\u001b[34m[71]#011train-error:0.123067#011validation-error:0.1628\u001b[0m\n",
      "\u001b[34m[01:08:29] src/tree/updater_prune.cc:74: tree pruning end, 1 roots, 22 extra nodes, 8 pruned nodes, max_depth=5\u001b[0m\n",
      "\u001b[34m[72]#011train-error:0.1218#011validation-error:0.1624\u001b[0m\n",
      "\u001b[34m[01:08:30] src/tree/updater_prune.cc:74: tree pruning end, 1 roots, 20 extra nodes, 16 pruned nodes, max_depth=5\u001b[0m\n",
      "\u001b[34m[73]#011train-error:0.121467#011validation-error:0.1616\u001b[0m\n",
      "\u001b[34m[01:08:31] src/tree/updater_prune.cc:74: tree pruning end, 1 roots, 22 extra nodes, 6 pruned nodes, max_depth=5\u001b[0m\n",
      "\u001b[34m[74]#011train-error:0.1214#011validation-error:0.1612\u001b[0m\n",
      "\u001b[34m[01:08:33] src/tree/updater_prune.cc:74: tree pruning end, 1 roots, 20 extra nodes, 8 pruned nodes, max_depth=5\u001b[0m\n",
      "\u001b[34m[75]#011train-error:0.120267#011validation-error:0.1614\u001b[0m\n",
      "\u001b[34m[01:08:34] src/tree/updater_prune.cc:74: tree pruning end, 1 roots, 12 extra nodes, 4 pruned nodes, max_depth=5\u001b[0m\n",
      "\u001b[34m[76]#011train-error:0.120067#011validation-error:0.1615\u001b[0m\n",
      "\u001b[34m[01:08:35] src/tree/updater_prune.cc:74: tree pruning end, 1 roots, 20 extra nodes, 14 pruned nodes, max_depth=5\u001b[0m\n",
      "\u001b[34m[77]#011train-error:0.1194#011validation-error:0.1608\u001b[0m\n",
      "\u001b[34m[01:08:36] src/tree/updater_prune.cc:74: tree pruning end, 1 roots, 18 extra nodes, 8 pruned nodes, max_depth=5\u001b[0m\n",
      "\u001b[34m[78]#011train-error:0.118533#011validation-error:0.1616\u001b[0m\n",
      "\u001b[34m[01:08:38] src/tree/updater_prune.cc:74: tree pruning end, 1 roots, 26 extra nodes, 2 pruned nodes, max_depth=5\u001b[0m\n",
      "\u001b[34m[79]#011train-error:0.117133#011validation-error:0.161\u001b[0m\n",
      "\u001b[34m[01:08:39] src/tree/updater_prune.cc:74: tree pruning end, 1 roots, 20 extra nodes, 6 pruned nodes, max_depth=5\u001b[0m\n",
      "\u001b[34m[80]#011train-error:0.117067#011validation-error:0.161\u001b[0m\n",
      "\u001b[34m[01:08:40] src/tree/updater_prune.cc:74: tree pruning end, 1 roots, 16 extra nodes, 2 pruned nodes, max_depth=5\u001b[0m\n",
      "\u001b[34m[81]#011train-error:0.116867#011validation-error:0.1602\u001b[0m\n",
      "\u001b[34m[01:08:42] src/tree/updater_prune.cc:74: tree pruning end, 1 roots, 12 extra nodes, 10 pruned nodes, max_depth=5\u001b[0m\n",
      "\u001b[34m[82]#011train-error:0.116333#011validation-error:0.1597\u001b[0m\n",
      "\u001b[34m[01:08:43] src/tree/updater_prune.cc:74: tree pruning end, 1 roots, 20 extra nodes, 10 pruned nodes, max_depth=5\u001b[0m\n",
      "\u001b[34m[83]#011train-error:0.115733#011validation-error:0.16\u001b[0m\n",
      "\u001b[34m[01:08:44] src/tree/updater_prune.cc:74: tree pruning end, 1 roots, 22 extra nodes, 8 pruned nodes, max_depth=5\u001b[0m\n",
      "\u001b[34m[84]#011train-error:0.115#011validation-error:0.16\u001b[0m\n",
      "\u001b[34m[01:08:45] src/tree/updater_prune.cc:74: tree pruning end, 1 roots, 18 extra nodes, 8 pruned nodes, max_depth=5\u001b[0m\n",
      "\u001b[34m[85]#011train-error:0.1142#011validation-error:0.1604\u001b[0m\n",
      "\u001b[34m[01:08:47] src/tree/updater_prune.cc:74: tree pruning end, 1 roots, 16 extra nodes, 6 pruned nodes, max_depth=5\u001b[0m\n",
      "\u001b[34m[86]#011train-error:0.113867#011validation-error:0.1605\u001b[0m\n",
      "\u001b[34m[01:08:48] src/tree/updater_prune.cc:74: tree pruning end, 1 roots, 14 extra nodes, 8 pruned nodes, max_depth=5\u001b[0m\n",
      "\u001b[34m[87]#011train-error:0.113733#011validation-error:0.1603\u001b[0m\n",
      "\u001b[34m[01:08:49] src/tree/updater_prune.cc:74: tree pruning end, 1 roots, 34 extra nodes, 4 pruned nodes, max_depth=5\u001b[0m\n",
      "\u001b[34m[88]#011train-error:0.111867#011validation-error:0.1593\u001b[0m\n",
      "\u001b[34m[01:08:50] src/tree/updater_prune.cc:74: tree pruning end, 1 roots, 38 extra nodes, 4 pruned nodes, max_depth=5\u001b[0m\n",
      "\u001b[34m[89]#011train-error:0.1096#011validation-error:0.1575\u001b[0m\n",
      "\u001b[34m[01:08:52] src/tree/updater_prune.cc:74: tree pruning end, 1 roots, 14 extra nodes, 4 pruned nodes, max_depth=5\u001b[0m\n",
      "\u001b[34m[90]#011train-error:0.109667#011validation-error:0.1571\u001b[0m\n",
      "\u001b[34m[01:08:53] src/tree/updater_prune.cc:74: tree pruning end, 1 roots, 34 extra nodes, 8 pruned nodes, max_depth=5\u001b[0m\n",
      "\u001b[34m[91]#011train-error:0.1092#011validation-error:0.1559\u001b[0m\n",
      "\u001b[34m[01:08:54] src/tree/updater_prune.cc:74: tree pruning end, 1 roots, 14 extra nodes, 12 pruned nodes, max_depth=5\u001b[0m\n",
      "\u001b[34m[92]#011train-error:0.108533#011validation-error:0.1562\u001b[0m\n",
      "\u001b[34m[01:08:55] src/tree/updater_prune.cc:74: tree pruning end, 1 roots, 24 extra nodes, 10 pruned nodes, max_depth=5\u001b[0m\n",
      "\u001b[34m[93]#011train-error:0.107467#011validation-error:0.1559\u001b[0m\n",
      "\u001b[34m[01:08:57] src/tree/updater_prune.cc:74: tree pruning end, 1 roots, 28 extra nodes, 10 pruned nodes, max_depth=5\u001b[0m\n",
      "\u001b[34m[94]#011train-error:0.1074#011validation-error:0.1561\u001b[0m\n",
      "\u001b[34m[01:08:58] src/tree/updater_prune.cc:74: tree pruning end, 1 roots, 24 extra nodes, 10 pruned nodes, max_depth=5\u001b[0m\n",
      "\u001b[34m[95]#011train-error:0.106267#011validation-error:0.1572\u001b[0m\n",
      "\u001b[34m[01:08:59] src/tree/updater_prune.cc:74: tree pruning end, 1 roots, 24 extra nodes, 8 pruned nodes, max_depth=5\u001b[0m\n",
      "\u001b[34m[96]#011train-error:0.105533#011validation-error:0.157\u001b[0m\n",
      "\u001b[34m[01:09:00] src/tree/updater_prune.cc:74: tree pruning end, 1 roots, 24 extra nodes, 0 pruned nodes, max_depth=5\u001b[0m\n",
      "\u001b[34m[97]#011train-error:0.104467#011validation-error:0.1567\u001b[0m\n",
      "\u001b[34m[01:09:02] src/tree/updater_prune.cc:74: tree pruning end, 1 roots, 12 extra nodes, 6 pruned nodes, max_depth=5\u001b[0m\n",
      "\u001b[34m[98]#011train-error:0.103933#011validation-error:0.1572\u001b[0m\n",
      "\u001b[34m[01:09:03] src/tree/updater_prune.cc:74: tree pruning end, 1 roots, 16 extra nodes, 16 pruned nodes, max_depth=5\u001b[0m\n",
      "\u001b[34m[99]#011train-error:0.103933#011validation-error:0.1576\u001b[0m\n",
      "\u001b[34m[01:09:04] src/tree/updater_prune.cc:74: tree pruning end, 1 roots, 22 extra nodes, 8 pruned nodes, max_depth=5\u001b[0m\n",
      "\u001b[34m[100]#011train-error:0.102667#011validation-error:0.1568\u001b[0m\n",
      "\u001b[34m[01:09:05] src/tree/updater_prune.cc:74: tree pruning end, 1 roots, 12 extra nodes, 6 pruned nodes, max_depth=5\u001b[0m\n",
      "\u001b[34m[101]#011train-error:0.103067#011validation-error:0.1566\u001b[0m\n",
      "\u001b[34mStopping. Best iteration:\u001b[0m\n",
      "\u001b[34m[91]#011train-error:0.1092#011validation-error:0.1559\n",
      "\u001b[0m\n",
      "Training seconds: 180\n",
      "Billable seconds: 180\n"
     ]
    }
   ],
   "source": [
    "xgb = sagemaker.estimator.Estimator.attach('xgboost-2020-07-16-01-04-03-769')"
   ]
  },
  {
   "cell_type": "code",
   "execution_count": 28,
   "metadata": {},
   "outputs": [
    {
     "name": "stdout",
     "output_type": "stream",
     "text": [
      "2020-07-16 01:04:03 Starting - Starting the training job...\n",
      "2020-07-16 01:04:05 Starting - Launching requested ML instances......\n",
      "2020-07-16 01:05:09 Starting - Preparing the instances for training......\n",
      "2020-07-16 01:06:31 Downloading - Downloading input data\n",
      "2020-07-16 01:06:31 Training - Downloading the training image...\n",
      "2020-07-16 01:06:50 Training - Training image download completed. Training in progress.\u001b[34mArguments: train\u001b[0m\n",
      "\u001b[34m[2020-07-16:01:06:51:INFO] Running standalone xgboost training.\u001b[0m\n",
      "\u001b[34m[2020-07-16:01:06:51:INFO] File size need to be processed in the node: 238.5mb. Available memory size in the node: 8481.33mb\u001b[0m\n",
      "\u001b[34m[2020-07-16:01:06:51:INFO] Determined delimiter of CSV input is ','\u001b[0m\n",
      "\u001b[34m[01:06:51] S3DistributionType set as FullyReplicated\u001b[0m\n",
      "\u001b[34m[01:06:53] 15000x5000 matrix with 75000000 entries loaded from /opt/ml/input/data/train?format=csv&label_column=0&delimiter=,\u001b[0m\n",
      "\u001b[34m[2020-07-16:01:06:53:INFO] Determined delimiter of CSV input is ','\u001b[0m\n",
      "\u001b[34m[01:06:53] S3DistributionType set as FullyReplicated\u001b[0m\n",
      "\u001b[34m[01:06:54] 10000x5000 matrix with 50000000 entries loaded from /opt/ml/input/data/validation?format=csv&label_column=0&delimiter=,\u001b[0m\n",
      "\u001b[34m[01:06:58] src/tree/updater_prune.cc:74: tree pruning end, 1 roots, 42 extra nodes, 8 pruned nodes, max_depth=5\u001b[0m\n",
      "\u001b[34m[0]#011train-error:0.299533#011validation-error:0.3175\u001b[0m\n",
      "\u001b[34mMultiple eval metrics have been passed: 'validation-error' will be used for early stopping.\n",
      "\u001b[0m\n",
      "\u001b[34mWill train until validation-error hasn't improved in 10 rounds.\u001b[0m\n",
      "\u001b[34m[01:06:59] src/tree/updater_prune.cc:74: tree pruning end, 1 roots, 36 extra nodes, 12 pruned nodes, max_depth=5\u001b[0m\n",
      "\u001b[34m[1]#011train-error:0.286667#011validation-error:0.3003\u001b[0m\n",
      "\u001b[34m[01:07:00] src/tree/updater_prune.cc:74: tree pruning end, 1 roots, 40 extra nodes, 6 pruned nodes, max_depth=5\u001b[0m\n",
      "\u001b[34m[2]#011train-error:0.274667#011validation-error:0.2911\u001b[0m\n",
      "\u001b[34m[01:07:02] src/tree/updater_prune.cc:74: tree pruning end, 1 roots, 34 extra nodes, 4 pruned nodes, max_depth=5\u001b[0m\n",
      "\u001b[34m[3]#011train-error:0.264533#011validation-error:0.2838\u001b[0m\n",
      "\u001b[34m[01:07:03] src/tree/updater_prune.cc:74: tree pruning end, 1 roots, 44 extra nodes, 8 pruned nodes, max_depth=5\u001b[0m\n",
      "\u001b[34m[4]#011train-error:0.268267#011validation-error:0.286\u001b[0m\n",
      "\u001b[34m[01:07:04] src/tree/updater_prune.cc:74: tree pruning end, 1 roots, 30 extra nodes, 10 pruned nodes, max_depth=5\u001b[0m\n",
      "\u001b[34m[5]#011train-error:0.2642#011validation-error:0.2807\u001b[0m\n",
      "\u001b[34m[01:07:06] src/tree/updater_prune.cc:74: tree pruning end, 1 roots, 38 extra nodes, 8 pruned nodes, max_depth=5\u001b[0m\n",
      "\u001b[34m[6]#011train-error:0.251867#011validation-error:0.2701\u001b[0m\n",
      "\u001b[34m[01:07:07] src/tree/updater_prune.cc:74: tree pruning end, 1 roots, 36 extra nodes, 8 pruned nodes, max_depth=5\u001b[0m\n",
      "\u001b[34m[7]#011train-error:0.244667#011validation-error:0.2613\u001b[0m\n",
      "\u001b[34m[01:07:08] src/tree/updater_prune.cc:74: tree pruning end, 1 roots, 30 extra nodes, 6 pruned nodes, max_depth=5\u001b[0m\n",
      "\u001b[34m[8]#011train-error:0.241867#011validation-error:0.2595\u001b[0m\n",
      "\u001b[34m[01:07:09] src/tree/updater_prune.cc:74: tree pruning end, 1 roots, 24 extra nodes, 10 pruned nodes, max_depth=5\u001b[0m\n",
      "\u001b[34m[9]#011train-error:0.237133#011validation-error:0.2527\u001b[0m\n",
      "\u001b[34m[01:07:11] src/tree/updater_prune.cc:74: tree pruning end, 1 roots, 36 extra nodes, 8 pruned nodes, max_depth=5\u001b[0m\n",
      "\u001b[34m[10]#011train-error:0.230867#011validation-error:0.2492\u001b[0m\n",
      "\u001b[34m[01:07:12] src/tree/updater_prune.cc:74: tree pruning end, 1 roots, 36 extra nodes, 6 pruned nodes, max_depth=5\u001b[0m\n",
      "\u001b[34m[11]#011train-error:0.227067#011validation-error:0.2423\u001b[0m\n",
      "\u001b[34m[01:07:13] src/tree/updater_prune.cc:74: tree pruning end, 1 roots, 30 extra nodes, 4 pruned nodes, max_depth=5\u001b[0m\n",
      "\u001b[34m[12]#011train-error:0.222267#011validation-error:0.2406\u001b[0m\n",
      "\u001b[34m[01:07:14] src/tree/updater_prune.cc:74: tree pruning end, 1 roots, 18 extra nodes, 14 pruned nodes, max_depth=5\u001b[0m\n",
      "\u001b[34m[13]#011train-error:0.218067#011validation-error:0.2369\u001b[0m\n",
      "\u001b[34m[01:07:16] src/tree/updater_prune.cc:74: tree pruning end, 1 roots, 26 extra nodes, 4 pruned nodes, max_depth=5\u001b[0m\n",
      "\u001b[34m[14]#011train-error:0.215667#011validation-error:0.2325\u001b[0m\n",
      "\u001b[34m[01:07:17] src/tree/updater_prune.cc:74: tree pruning end, 1 roots, 34 extra nodes, 10 pruned nodes, max_depth=5\u001b[0m\n",
      "\u001b[34m[15]#011train-error:0.2092#011validation-error:0.2286\u001b[0m\n",
      "\u001b[34m[01:07:18] src/tree/updater_prune.cc:74: tree pruning end, 1 roots, 36 extra nodes, 6 pruned nodes, max_depth=5\u001b[0m\n",
      "\u001b[34m[16]#011train-error:0.2068#011validation-error:0.2252\u001b[0m\n",
      "\u001b[34m[01:07:20] src/tree/updater_prune.cc:74: tree pruning end, 1 roots, 36 extra nodes, 4 pruned nodes, max_depth=5\u001b[0m\n",
      "\u001b[34m[17]#011train-error:0.202867#011validation-error:0.222\u001b[0m\n",
      "\u001b[34m[01:07:21] src/tree/updater_prune.cc:74: tree pruning end, 1 roots, 34 extra nodes, 16 pruned nodes, max_depth=5\u001b[0m\n",
      "\u001b[34m[18]#011train-error:0.1978#011validation-error:0.2192\u001b[0m\n",
      "\u001b[34m[01:07:22] src/tree/updater_prune.cc:74: tree pruning end, 1 roots, 28 extra nodes, 4 pruned nodes, max_depth=5\u001b[0m\n",
      "\u001b[34m[19]#011train-error:0.197333#011validation-error:0.2187\u001b[0m\n",
      "\u001b[34m[01:07:23] src/tree/updater_prune.cc:74: tree pruning end, 1 roots, 26 extra nodes, 6 pruned nodes, max_depth=5\u001b[0m\n",
      "\u001b[34m[20]#011train-error:0.1962#011validation-error:0.2162\u001b[0m\n",
      "\u001b[34m[01:07:25] src/tree/updater_prune.cc:74: tree pruning end, 1 roots, 32 extra nodes, 6 pruned nodes, max_depth=5\u001b[0m\n",
      "\u001b[34m[21]#011train-error:0.192067#011validation-error:0.2125\u001b[0m\n",
      "\u001b[34m[01:07:26] src/tree/updater_prune.cc:74: tree pruning end, 1 roots, 28 extra nodes, 14 pruned nodes, max_depth=5\u001b[0m\n",
      "\u001b[34m[22]#011train-error:0.189067#011validation-error:0.2097\u001b[0m\n",
      "\u001b[34m[01:07:27] src/tree/updater_prune.cc:74: tree pruning end, 1 roots, 42 extra nodes, 6 pruned nodes, max_depth=5\u001b[0m\n",
      "\u001b[34m[23]#011train-error:0.185533#011validation-error:0.2077\u001b[0m\n",
      "\u001b[34m[01:07:28] src/tree/updater_prune.cc:74: tree pruning end, 1 roots, 22 extra nodes, 10 pruned nodes, max_depth=5\u001b[0m\n",
      "\u001b[34m[24]#011train-error:0.182733#011validation-error:0.2058\u001b[0m\n",
      "\u001b[34m[01:07:30] src/tree/updater_prune.cc:74: tree pruning end, 1 roots, 24 extra nodes, 6 pruned nodes, max_depth=5\u001b[0m\n",
      "\u001b[34m[25]#011train-error:0.181467#011validation-error:0.2028\u001b[0m\n",
      "\u001b[34m[01:07:31] src/tree/updater_prune.cc:74: tree pruning end, 1 roots, 20 extra nodes, 12 pruned nodes, max_depth=5\u001b[0m\n",
      "\u001b[34m[26]#011train-error:0.178867#011validation-error:0.2021\u001b[0m\n",
      "\u001b[34m[01:07:32] src/tree/updater_prune.cc:74: tree pruning end, 1 roots, 22 extra nodes, 10 pruned nodes, max_depth=5\u001b[0m\n",
      "\u001b[34m[27]#011train-error:0.1748#011validation-error:0.1995\u001b[0m\n",
      "\u001b[34m[01:07:33] src/tree/updater_prune.cc:74: tree pruning end, 1 roots, 22 extra nodes, 10 pruned nodes, max_depth=5\u001b[0m\n",
      "\u001b[34m[28]#011train-error:0.173067#011validation-error:0.1978\u001b[0m\n",
      "\u001b[34m[01:07:35] src/tree/updater_prune.cc:74: tree pruning end, 1 roots, 18 extra nodes, 4 pruned nodes, max_depth=5\u001b[0m\n",
      "\u001b[34m[29]#011train-error:0.171267#011validation-error:0.1954\u001b[0m\n",
      "\u001b[34m[01:07:36] src/tree/updater_prune.cc:74: tree pruning end, 1 roots, 28 extra nodes, 10 pruned nodes, max_depth=5\u001b[0m\n",
      "\u001b[34m[30]#011train-error:0.169467#011validation-error:0.1926\u001b[0m\n",
      "\u001b[34m[01:07:37] src/tree/updater_prune.cc:74: tree pruning end, 1 roots, 34 extra nodes, 10 pruned nodes, max_depth=5\u001b[0m\n",
      "\u001b[34m[31]#011train-error:0.167333#011validation-error:0.1919\u001b[0m\n",
      "\u001b[34m[01:07:39] src/tree/updater_prune.cc:74: tree pruning end, 1 roots, 26 extra nodes, 14 pruned nodes, max_depth=5\u001b[0m\n",
      "\u001b[34m[32]#011train-error:0.1658#011validation-error:0.1896\u001b[0m\n",
      "\u001b[34m[01:07:40] src/tree/updater_prune.cc:74: tree pruning end, 1 roots, 16 extra nodes, 6 pruned nodes, max_depth=5\u001b[0m\n",
      "\u001b[34m[33]#011train-error:0.164#011validation-error:0.1883\u001b[0m\n",
      "\u001b[34m[01:07:41] src/tree/updater_prune.cc:74: tree pruning end, 1 roots, 36 extra nodes, 10 pruned nodes, max_depth=5\u001b[0m\n",
      "\u001b[34m[34]#011train-error:0.160867#011validation-error:0.1863\u001b[0m\n",
      "\u001b[34m[01:07:42] src/tree/updater_prune.cc:74: tree pruning end, 1 roots, 18 extra nodes, 6 pruned nodes, max_depth=5\u001b[0m\n",
      "\u001b[34m[35]#011train-error:0.1594#011validation-error:0.1869\u001b[0m\n",
      "\u001b[34m[01:07:44] src/tree/updater_prune.cc:74: tree pruning end, 1 roots, 22 extra nodes, 10 pruned nodes, max_depth=5\u001b[0m\n",
      "\u001b[34m[36]#011train-error:0.158933#011validation-error:0.1849\u001b[0m\n",
      "\u001b[34m[01:07:45] src/tree/updater_prune.cc:74: tree pruning end, 1 roots, 18 extra nodes, 6 pruned nodes, max_depth=5\u001b[0m\n",
      "\u001b[34m[37]#011train-error:0.157467#011validation-error:0.1832\u001b[0m\n",
      "\u001b[34m[01:07:46] src/tree/updater_prune.cc:74: tree pruning end, 1 roots, 28 extra nodes, 10 pruned nodes, max_depth=5\u001b[0m\n",
      "\u001b[34m[38]#011train-error:0.1556#011validation-error:0.1829\u001b[0m\n",
      "\u001b[34m[01:07:47] src/tree/updater_prune.cc:74: tree pruning end, 1 roots, 26 extra nodes, 10 pruned nodes, max_depth=5\u001b[0m\n",
      "\u001b[34m[39]#011train-error:0.154467#011validation-error:0.1817\u001b[0m\n"
     ]
    },
    {
     "name": "stdout",
     "output_type": "stream",
     "text": [
      "\u001b[34m[01:07:49] src/tree/updater_prune.cc:74: tree pruning end, 1 roots, 34 extra nodes, 0 pruned nodes, max_depth=5\u001b[0m\n",
      "\u001b[34m[40]#011train-error:0.150667#011validation-error:0.1806\u001b[0m\n",
      "\u001b[34m[01:07:50] src/tree/updater_prune.cc:74: tree pruning end, 1 roots, 42 extra nodes, 4 pruned nodes, max_depth=5\u001b[0m\n",
      "\u001b[34m[41]#011train-error:0.150667#011validation-error:0.1787\u001b[0m\n",
      "\u001b[34m[01:07:51] src/tree/updater_prune.cc:74: tree pruning end, 1 roots, 16 extra nodes, 10 pruned nodes, max_depth=5\u001b[0m\n",
      "\u001b[34m[42]#011train-error:0.150067#011validation-error:0.1788\u001b[0m\n",
      "\u001b[34m[01:07:52] src/tree/updater_prune.cc:74: tree pruning end, 1 roots, 30 extra nodes, 2 pruned nodes, max_depth=5\u001b[0m\n",
      "\u001b[34m[43]#011train-error:0.1496#011validation-error:0.1786\u001b[0m\n",
      "\u001b[34m[01:07:54] src/tree/updater_prune.cc:74: tree pruning end, 1 roots, 18 extra nodes, 8 pruned nodes, max_depth=5\u001b[0m\n",
      "\u001b[34m[44]#011train-error:0.147333#011validation-error:0.1766\u001b[0m\n",
      "\u001b[34m[01:07:55] src/tree/updater_prune.cc:74: tree pruning end, 1 roots, 34 extra nodes, 4 pruned nodes, max_depth=5\u001b[0m\n",
      "\u001b[34m[45]#011train-error:0.145333#011validation-error:0.1749\u001b[0m\n",
      "\u001b[34m[01:07:56] src/tree/updater_prune.cc:74: tree pruning end, 1 roots, 32 extra nodes, 6 pruned nodes, max_depth=5\u001b[0m\n",
      "\u001b[34m[46]#011train-error:0.144267#011validation-error:0.1734\u001b[0m\n",
      "\u001b[34m[01:07:57] src/tree/updater_prune.cc:74: tree pruning end, 1 roots, 22 extra nodes, 6 pruned nodes, max_depth=5\u001b[0m\n",
      "\u001b[34m[47]#011train-error:0.141933#011validation-error:0.1733\u001b[0m\n",
      "\u001b[34m[01:07:59] src/tree/updater_prune.cc:74: tree pruning end, 1 roots, 24 extra nodes, 10 pruned nodes, max_depth=5\u001b[0m\n",
      "\u001b[34m[48]#011train-error:0.141067#011validation-error:0.1729\u001b[0m\n",
      "\u001b[34m[01:08:00] src/tree/updater_prune.cc:74: tree pruning end, 1 roots, 26 extra nodes, 6 pruned nodes, max_depth=5\u001b[0m\n",
      "\u001b[34m[49]#011train-error:0.139333#011validation-error:0.1725\u001b[0m\n",
      "\u001b[34m[01:08:01] src/tree/updater_prune.cc:74: tree pruning end, 1 roots, 22 extra nodes, 6 pruned nodes, max_depth=5\u001b[0m\n",
      "\u001b[34m[50]#011train-error:0.138267#011validation-error:0.173\u001b[0m\n",
      "\u001b[34m[01:08:02] src/tree/updater_prune.cc:74: tree pruning end, 1 roots, 14 extra nodes, 8 pruned nodes, max_depth=5\u001b[0m\n",
      "\u001b[34m[51]#011train-error:0.137933#011validation-error:0.1729\u001b[0m\n",
      "\u001b[34m[01:08:04] src/tree/updater_prune.cc:74: tree pruning end, 1 roots, 16 extra nodes, 6 pruned nodes, max_depth=5\u001b[0m\n",
      "\u001b[34m[52]#011train-error:0.137533#011validation-error:0.1731\u001b[0m\n",
      "\u001b[34m[01:08:05] src/tree/updater_prune.cc:74: tree pruning end, 1 roots, 20 extra nodes, 16 pruned nodes, max_depth=5\u001b[0m\n",
      "\u001b[34m[53]#011train-error:0.1364#011validation-error:0.1725\u001b[0m\n",
      "\u001b[34m[01:08:06] src/tree/updater_prune.cc:74: tree pruning end, 1 roots, 36 extra nodes, 14 pruned nodes, max_depth=5\u001b[0m\n",
      "\u001b[34m[54]#011train-error:0.135267#011validation-error:0.1701\u001b[0m\n",
      "\u001b[34m[01:08:08] src/tree/updater_prune.cc:74: tree pruning end, 1 roots, 26 extra nodes, 8 pruned nodes, max_depth=5\u001b[0m\n",
      "\u001b[34m[55]#011train-error:0.134333#011validation-error:0.1701\u001b[0m\n",
      "\u001b[34m[01:08:09] src/tree/updater_prune.cc:74: tree pruning end, 1 roots, 30 extra nodes, 6 pruned nodes, max_depth=5\u001b[0m\n",
      "\u001b[34m[56]#011train-error:0.1332#011validation-error:0.1703\u001b[0m\n",
      "\u001b[34m[01:08:10] src/tree/updater_prune.cc:74: tree pruning end, 1 roots, 20 extra nodes, 4 pruned nodes, max_depth=5\u001b[0m\n",
      "\u001b[34m[57]#011train-error:0.1326#011validation-error:0.1696\u001b[0m\n",
      "\u001b[34m[01:08:11] src/tree/updater_prune.cc:74: tree pruning end, 1 roots, 20 extra nodes, 10 pruned nodes, max_depth=5\u001b[0m\n",
      "\u001b[34m[58]#011train-error:0.132267#011validation-error:0.1681\u001b[0m\n",
      "\u001b[34m[01:08:13] src/tree/updater_prune.cc:74: tree pruning end, 1 roots, 16 extra nodes, 18 pruned nodes, max_depth=5\u001b[0m\n",
      "\u001b[34m[59]#011train-error:0.132067#011validation-error:0.1675\u001b[0m\n",
      "\u001b[34m[01:08:14] src/tree/updater_prune.cc:74: tree pruning end, 1 roots, 22 extra nodes, 8 pruned nodes, max_depth=5\u001b[0m\n",
      "\u001b[34m[60]#011train-error:0.1314#011validation-error:0.1668\u001b[0m\n",
      "\u001b[34m[01:08:15] src/tree/updater_prune.cc:74: tree pruning end, 1 roots, 14 extra nodes, 6 pruned nodes, max_depth=5\u001b[0m\n",
      "\u001b[34m[61]#011train-error:0.1308#011validation-error:0.1669\u001b[0m\n",
      "\u001b[34m[01:08:16] src/tree/updater_prune.cc:74: tree pruning end, 1 roots, 30 extra nodes, 4 pruned nodes, max_depth=5\u001b[0m\n",
      "\u001b[34m[62]#011train-error:0.1296#011validation-error:0.1669\u001b[0m\n",
      "\u001b[34m[01:08:18] src/tree/updater_prune.cc:74: tree pruning end, 1 roots, 24 extra nodes, 16 pruned nodes, max_depth=5\u001b[0m\n",
      "\u001b[34m[63]#011train-error:0.128667#011validation-error:0.1669\u001b[0m\n",
      "\u001b[34m[01:08:19] src/tree/updater_prune.cc:74: tree pruning end, 1 roots, 30 extra nodes, 2 pruned nodes, max_depth=5\u001b[0m\n",
      "\u001b[34m[64]#011train-error:0.127933#011validation-error:0.1658\u001b[0m\n",
      "\u001b[34m[01:08:20] src/tree/updater_prune.cc:74: tree pruning end, 1 roots, 20 extra nodes, 8 pruned nodes, max_depth=5\u001b[0m\n",
      "\u001b[34m[65]#011train-error:0.127067#011validation-error:0.1657\u001b[0m\n",
      "\u001b[34m[01:08:21] src/tree/updater_prune.cc:74: tree pruning end, 1 roots, 28 extra nodes, 12 pruned nodes, max_depth=5\u001b[0m\n",
      "\u001b[34m[66]#011train-error:0.125333#011validation-error:0.1655\u001b[0m\n",
      "\u001b[34m[01:08:23] src/tree/updater_prune.cc:74: tree pruning end, 1 roots, 22 extra nodes, 14 pruned nodes, max_depth=5\u001b[0m\n",
      "\u001b[34m[67]#011train-error:0.126#011validation-error:0.1653\u001b[0m\n",
      "\u001b[34m[01:08:24] src/tree/updater_prune.cc:74: tree pruning end, 1 roots, 12 extra nodes, 2 pruned nodes, max_depth=5\u001b[0m\n",
      "\u001b[34m[68]#011train-error:0.125133#011validation-error:0.1645\u001b[0m\n",
      "\u001b[34m[01:08:25] src/tree/updater_prune.cc:74: tree pruning end, 1 roots, 26 extra nodes, 12 pruned nodes, max_depth=5\u001b[0m\n",
      "\u001b[34m[69]#011train-error:0.124733#011validation-error:0.1634\u001b[0m\n",
      "\u001b[34m[01:08:26] src/tree/updater_prune.cc:74: tree pruning end, 1 roots, 16 extra nodes, 4 pruned nodes, max_depth=5\u001b[0m\n",
      "\u001b[34m[70]#011train-error:0.124333#011validation-error:0.1635\u001b[0m\n",
      "\u001b[34m[01:08:28] src/tree/updater_prune.cc:74: tree pruning end, 1 roots, 20 extra nodes, 8 pruned nodes, max_depth=5\u001b[0m\n",
      "\u001b[34m[71]#011train-error:0.123067#011validation-error:0.1628\u001b[0m\n",
      "\u001b[34m[01:08:29] src/tree/updater_prune.cc:74: tree pruning end, 1 roots, 22 extra nodes, 8 pruned nodes, max_depth=5\u001b[0m\n",
      "\u001b[34m[72]#011train-error:0.1218#011validation-error:0.1624\u001b[0m\n",
      "\u001b[34m[01:08:30] src/tree/updater_prune.cc:74: tree pruning end, 1 roots, 20 extra nodes, 16 pruned nodes, max_depth=5\u001b[0m\n",
      "\u001b[34m[73]#011train-error:0.121467#011validation-error:0.1616\u001b[0m\n",
      "\u001b[34m[01:08:31] src/tree/updater_prune.cc:74: tree pruning end, 1 roots, 22 extra nodes, 6 pruned nodes, max_depth=5\u001b[0m\n",
      "\u001b[34m[74]#011train-error:0.1214#011validation-error:0.1612\u001b[0m\n",
      "\u001b[34m[01:08:33] src/tree/updater_prune.cc:74: tree pruning end, 1 roots, 20 extra nodes, 8 pruned nodes, max_depth=5\u001b[0m\n",
      "\u001b[34m[75]#011train-error:0.120267#011validation-error:0.1614\u001b[0m\n",
      "\u001b[34m[01:08:34] src/tree/updater_prune.cc:74: tree pruning end, 1 roots, 12 extra nodes, 4 pruned nodes, max_depth=5\u001b[0m\n",
      "\u001b[34m[76]#011train-error:0.120067#011validation-error:0.1615\u001b[0m\n",
      "\u001b[34m[01:08:35] src/tree/updater_prune.cc:74: tree pruning end, 1 roots, 20 extra nodes, 14 pruned nodes, max_depth=5\u001b[0m\n",
      "\u001b[34m[77]#011train-error:0.1194#011validation-error:0.1608\u001b[0m\n",
      "\u001b[34m[01:08:36] src/tree/updater_prune.cc:74: tree pruning end, 1 roots, 18 extra nodes, 8 pruned nodes, max_depth=5\u001b[0m\n",
      "\u001b[34m[78]#011train-error:0.118533#011validation-error:0.1616\u001b[0m\n",
      "\u001b[34m[01:08:38] src/tree/updater_prune.cc:74: tree pruning end, 1 roots, 26 extra nodes, 2 pruned nodes, max_depth=5\u001b[0m\n",
      "\u001b[34m[79]#011train-error:0.117133#011validation-error:0.161\u001b[0m\n",
      "\u001b[34m[01:08:39] src/tree/updater_prune.cc:74: tree pruning end, 1 roots, 20 extra nodes, 6 pruned nodes, max_depth=5\u001b[0m\n",
      "\u001b[34m[80]#011train-error:0.117067#011validation-error:0.161\u001b[0m\n",
      "\u001b[34m[01:08:40] src/tree/updater_prune.cc:74: tree pruning end, 1 roots, 16 extra nodes, 2 pruned nodes, max_depth=5\u001b[0m\n",
      "\u001b[34m[81]#011train-error:0.116867#011validation-error:0.1602\u001b[0m\n",
      "\u001b[34m[01:08:42] src/tree/updater_prune.cc:74: tree pruning end, 1 roots, 12 extra nodes, 10 pruned nodes, max_depth=5\u001b[0m\n",
      "\u001b[34m[82]#011train-error:0.116333#011validation-error:0.1597\u001b[0m\n",
      "\u001b[34m[01:08:43] src/tree/updater_prune.cc:74: tree pruning end, 1 roots, 20 extra nodes, 10 pruned nodes, max_depth=5\u001b[0m\n",
      "\u001b[34m[83]#011train-error:0.115733#011validation-error:0.16\u001b[0m\n",
      "\u001b[34m[01:08:44] src/tree/updater_prune.cc:74: tree pruning end, 1 roots, 22 extra nodes, 8 pruned nodes, max_depth=5\u001b[0m\n",
      "\u001b[34m[84]#011train-error:0.115#011validation-error:0.16\u001b[0m\n",
      "\u001b[34m[01:08:45] src/tree/updater_prune.cc:74: tree pruning end, 1 roots, 18 extra nodes, 8 pruned nodes, max_depth=5\u001b[0m\n",
      "\u001b[34m[85]#011train-error:0.1142#011validation-error:0.1604\u001b[0m\n",
      "\u001b[34m[01:08:47] src/tree/updater_prune.cc:74: tree pruning end, 1 roots, 16 extra nodes, 6 pruned nodes, max_depth=5\u001b[0m\n",
      "\u001b[34m[86]#011train-error:0.113867#011validation-error:0.1605\u001b[0m\n",
      "\u001b[34m[01:08:48] src/tree/updater_prune.cc:74: tree pruning end, 1 roots, 14 extra nodes, 8 pruned nodes, max_depth=5\u001b[0m\n",
      "\u001b[34m[87]#011train-error:0.113733#011validation-error:0.1603\u001b[0m\n",
      "\u001b[34m[01:08:49] src/tree/updater_prune.cc:74: tree pruning end, 1 roots, 34 extra nodes, 4 pruned nodes, max_depth=5\u001b[0m\n",
      "\u001b[34m[88]#011train-error:0.111867#011validation-error:0.1593\u001b[0m\n",
      "\u001b[34m[01:08:50] src/tree/updater_prune.cc:74: tree pruning end, 1 roots, 38 extra nodes, 4 pruned nodes, max_depth=5\u001b[0m\n",
      "\u001b[34m[89]#011train-error:0.1096#011validation-error:0.1575\u001b[0m\n",
      "\u001b[34m[01:08:52] src/tree/updater_prune.cc:74: tree pruning end, 1 roots, 14 extra nodes, 4 pruned nodes, max_depth=5\u001b[0m\n",
      "\u001b[34m[90]#011train-error:0.109667#011validation-error:0.1571\u001b[0m\n",
      "\u001b[34m[01:08:53] src/tree/updater_prune.cc:74: tree pruning end, 1 roots, 34 extra nodes, 8 pruned nodes, max_depth=5\u001b[0m\n",
      "\u001b[34m[91]#011train-error:0.1092#011validation-error:0.1559\u001b[0m\n"
     ]
    },
    {
     "name": "stdout",
     "output_type": "stream",
     "text": [
      "\u001b[34m[01:08:54] src/tree/updater_prune.cc:74: tree pruning end, 1 roots, 14 extra nodes, 12 pruned nodes, max_depth=5\u001b[0m\n",
      "\u001b[34m[92]#011train-error:0.108533#011validation-error:0.1562\u001b[0m\n",
      "\u001b[34m[01:08:55] src/tree/updater_prune.cc:74: tree pruning end, 1 roots, 24 extra nodes, 10 pruned nodes, max_depth=5\u001b[0m\n",
      "\u001b[34m[93]#011train-error:0.107467#011validation-error:0.1559\u001b[0m\n",
      "\u001b[34m[01:08:57] src/tree/updater_prune.cc:74: tree pruning end, 1 roots, 28 extra nodes, 10 pruned nodes, max_depth=5\u001b[0m\n",
      "\u001b[34m[94]#011train-error:0.1074#011validation-error:0.1561\u001b[0m\n",
      "\u001b[34m[01:08:58] src/tree/updater_prune.cc:74: tree pruning end, 1 roots, 24 extra nodes, 10 pruned nodes, max_depth=5\u001b[0m\n",
      "\u001b[34m[95]#011train-error:0.106267#011validation-error:0.1572\u001b[0m\n",
      "\u001b[34m[01:08:59] src/tree/updater_prune.cc:74: tree pruning end, 1 roots, 24 extra nodes, 8 pruned nodes, max_depth=5\u001b[0m\n",
      "\u001b[34m[96]#011train-error:0.105533#011validation-error:0.157\u001b[0m\n",
      "\u001b[34m[01:09:00] src/tree/updater_prune.cc:74: tree pruning end, 1 roots, 24 extra nodes, 0 pruned nodes, max_depth=5\u001b[0m\n",
      "\u001b[34m[97]#011train-error:0.104467#011validation-error:0.1567\u001b[0m\n",
      "\u001b[34m[01:09:02] src/tree/updater_prune.cc:74: tree pruning end, 1 roots, 12 extra nodes, 6 pruned nodes, max_depth=5\u001b[0m\n",
      "\u001b[34m[98]#011train-error:0.103933#011validation-error:0.1572\u001b[0m\n",
      "\u001b[34m[01:09:03] src/tree/updater_prune.cc:74: tree pruning end, 1 roots, 16 extra nodes, 16 pruned nodes, max_depth=5\u001b[0m\n",
      "\u001b[34m[99]#011train-error:0.103933#011validation-error:0.1576\u001b[0m\n",
      "\u001b[34m[01:09:04] src/tree/updater_prune.cc:74: tree pruning end, 1 roots, 22 extra nodes, 8 pruned nodes, max_depth=5\u001b[0m\n",
      "\u001b[34m[100]#011train-error:0.102667#011validation-error:0.1568\u001b[0m\n",
      "\u001b[34m[01:09:05] src/tree/updater_prune.cc:74: tree pruning end, 1 roots, 12 extra nodes, 6 pruned nodes, max_depth=5\u001b[0m\n",
      "\u001b[34m[101]#011train-error:0.103067#011validation-error:0.1566\u001b[0m\n",
      "\u001b[34mStopping. Best iteration:\u001b[0m\n",
      "\u001b[34m[91]#011train-error:0.1092#011validation-error:0.1559\n",
      "\u001b[0m\n",
      "\n",
      "2020-07-16 01:09:15 Uploading - Uploading generated training model\n",
      "2020-07-16 01:09:15 Completed - Training job completed\n",
      "Training seconds: 180\n",
      "Billable seconds: 180\n"
     ]
    }
   ],
   "source": [
    "xgb.fit({'train': s3_input_train, 'validation': s3_input_validation})"
   ]
  },
  {
   "cell_type": "markdown",
   "metadata": {},
   "source": [
    "## Step 5: Testing the model\n",
    "\n",
    "Now that we've fit our XGBoost model, it's time to see how well it performs. To do this we will use SageMakers Batch Transform functionality. Batch Transform is a convenient way to perform inference on a large dataset in a way that is not realtime. That is, we don't necessarily need to use our model's results immediately and instead we can perform inference on a large number of samples. An example of this in industry might be performing an end of month report. This method of inference can also be useful to us as it means that we can perform inference on our entire test set. \n",
    "\n",
    "To perform a Batch Transformation we need to first create a transformer objects from our trained estimator object."
   ]
  },
  {
   "cell_type": "code",
   "execution_count": 29,
   "metadata": {},
   "outputs": [
    {
     "name": "stderr",
     "output_type": "stream",
     "text": [
      "WARNING:sagemaker:Parameter image will be renamed to image_uri in SageMaker Python SDK v2.\n"
     ]
    }
   ],
   "source": [
    "xgb_transformer = xgb.transformer(instance_count = 1, instance_type = 'ml.m4.xlarge')"
   ]
  },
  {
   "cell_type": "markdown",
   "metadata": {},
   "source": [
    "Next we actually perform the transform job. When doing so we need to make sure to specify the type of data we are sending so that it is serialized correctly in the background. In our case we are providing our model with csv data so we specify `text/csv`. Also, if the test data that we have provided is too large to process all at once then we need to specify how the data file should be split up. Since each line is a single entry in our data set we tell SageMaker that it can split the input on each line."
   ]
  },
  {
   "cell_type": "code",
   "execution_count": 30,
   "metadata": {},
   "outputs": [],
   "source": [
    "xgb_transformer.transform(test_location, content_type='text/csv', split_type='Line')"
   ]
  },
  {
   "cell_type": "markdown",
   "metadata": {},
   "source": [
    "Currently the transform job is running but it is doing so in the background. Since we wish to wait until the transform job is done and we would like a bit of feedback we can run the `wait()` method."
   ]
  },
  {
   "cell_type": "code",
   "execution_count": 31,
   "metadata": {},
   "outputs": [
    {
     "name": "stdout",
     "output_type": "stream",
     "text": [
      ".....................\u001b[34mArguments: serve\u001b[0m\n",
      "\u001b[34m[2020-07-16 03:37:50 +0000] [1] [INFO] Starting gunicorn 19.7.1\u001b[0m\n",
      "\u001b[34m[2020-07-16 03:37:50 +0000] [1] [INFO] Listening at: http://0.0.0.0:8080 (1)\u001b[0m\n",
      "\u001b[34m[2020-07-16 03:37:50 +0000] [1] [INFO] Using worker: gevent\u001b[0m\n",
      "\u001b[34m[2020-07-16 03:37:50 +0000] [36] [INFO] Booting worker with pid: 36\u001b[0m\n",
      "\u001b[34m[2020-07-16 03:37:50 +0000] [37] [INFO] Booting worker with pid: 37\u001b[0m\n",
      "\u001b[34m[2020-07-16 03:37:50 +0000] [38] [INFO] Booting worker with pid: 38\u001b[0m\n",
      "\u001b[34m[2020-07-16 03:37:50 +0000] [39] [INFO] Booting worker with pid: 39\u001b[0m\n",
      "\u001b[34m[2020-07-16:03:37:50:INFO] Model loaded successfully for worker : 36\u001b[0m\n",
      "\u001b[34m[2020-07-16:03:37:50:INFO] Model loaded successfully for worker : 37\u001b[0m\n",
      "\u001b[34m[2020-07-16:03:37:50:INFO] Model loaded successfully for worker : 38\u001b[0m\n",
      "\u001b[34m[2020-07-16:03:37:50:INFO] Model loaded successfully for worker : 39\u001b[0m\n",
      "\u001b[32m2020-07-16T03:38:12.538:[sagemaker logs]: MaxConcurrentTransforms=4, MaxPayloadInMB=6, BatchStrategy=MULTI_RECORD\u001b[0m\n",
      "\u001b[34m[2020-07-16:03:38:15:INFO] Sniff delimiter as ','\u001b[0m\n",
      "\u001b[34m[2020-07-16:03:38:15:INFO] Determined delimiter of CSV input is ','\u001b[0m\n",
      "\u001b[34m[2020-07-16:03:38:15:INFO] Sniff delimiter as ','\u001b[0m\n",
      "\u001b[34m[2020-07-16:03:38:15:INFO] Determined delimiter of CSV input is ','\u001b[0m\n",
      "\u001b[35m[2020-07-16:03:38:15:INFO] Sniff delimiter as ','\u001b[0m\n",
      "\u001b[35m[2020-07-16:03:38:15:INFO] Determined delimiter of CSV input is ','\u001b[0m\n",
      "\u001b[35m[2020-07-16:03:38:15:INFO] Sniff delimiter as ','\u001b[0m\n",
      "\u001b[35m[2020-07-16:03:38:15:INFO] Determined delimiter of CSV input is ','\u001b[0m\n",
      "\u001b[34m[2020-07-16:03:38:15:INFO] Sniff delimiter as ','\u001b[0m\n",
      "\u001b[34m[2020-07-16:03:38:15:INFO] Determined delimiter of CSV input is ','\u001b[0m\n",
      "\u001b[35m[2020-07-16:03:38:15:INFO] Sniff delimiter as ','\u001b[0m\n",
      "\u001b[35m[2020-07-16:03:38:15:INFO] Determined delimiter of CSV input is ','\u001b[0m\n",
      "\u001b[34m[2020-07-16:03:38:17:INFO] Sniff delimiter as ','\u001b[0m\n",
      "\u001b[34m[2020-07-16:03:38:17:INFO] Determined delimiter of CSV input is ','\u001b[0m\n",
      "\u001b[35m[2020-07-16:03:38:17:INFO] Sniff delimiter as ','\u001b[0m\n",
      "\u001b[35m[2020-07-16:03:38:17:INFO] Determined delimiter of CSV input is ','\u001b[0m\n",
      "\u001b[34m[2020-07-16:03:38:18:INFO] Sniff delimiter as ','\u001b[0m\n",
      "\u001b[34m[2020-07-16:03:38:18:INFO] Determined delimiter of CSV input is ','\u001b[0m\n",
      "\u001b[34m[2020-07-16:03:38:18:INFO] Sniff delimiter as ','\u001b[0m\n",
      "\u001b[34m[2020-07-16:03:38:18:INFO] Determined delimiter of CSV input is ','\u001b[0m\n",
      "\u001b[35m[2020-07-16:03:38:18:INFO] Sniff delimiter as ','\u001b[0m\n",
      "\u001b[35m[2020-07-16:03:38:18:INFO] Determined delimiter of CSV input is ','\u001b[0m\n",
      "\u001b[35m[2020-07-16:03:38:18:INFO] Sniff delimiter as ','\u001b[0m\n",
      "\u001b[35m[2020-07-16:03:38:18:INFO] Determined delimiter of CSV input is ','\u001b[0m\n",
      "\u001b[34m[2020-07-16:03:38:19:INFO] Sniff delimiter as ','\u001b[0m\n",
      "\u001b[34m[2020-07-16:03:38:19:INFO] Determined delimiter of CSV input is ','\u001b[0m\n",
      "\u001b[34m[2020-07-16:03:38:19:INFO] Sniff delimiter as ','\u001b[0m\n",
      "\u001b[34m[2020-07-16:03:38:19:INFO] Determined delimiter of CSV input is ','\u001b[0m\n",
      "\u001b[34m[2020-07-16:03:38:19:INFO] Sniff delimiter as ','\u001b[0m\n",
      "\u001b[34m[2020-07-16:03:38:19:INFO] Determined delimiter of CSV input is ','\u001b[0m\n",
      "\u001b[35m[2020-07-16:03:38:19:INFO] Sniff delimiter as ','\u001b[0m\n",
      "\u001b[35m[2020-07-16:03:38:19:INFO] Determined delimiter of CSV input is ','\u001b[0m\n",
      "\u001b[35m[2020-07-16:03:38:19:INFO] Sniff delimiter as ','\u001b[0m\n",
      "\u001b[35m[2020-07-16:03:38:19:INFO] Determined delimiter of CSV input is ','\u001b[0m\n",
      "\u001b[35m[2020-07-16:03:38:19:INFO] Sniff delimiter as ','\u001b[0m\n",
      "\u001b[35m[2020-07-16:03:38:19:INFO] Determined delimiter of CSV input is ','\u001b[0m\n",
      "\u001b[34m[2020-07-16:03:38:20:INFO] Sniff delimiter as ','\u001b[0m\n",
      "\u001b[34m[2020-07-16:03:38:20:INFO] Determined delimiter of CSV input is ','\u001b[0m\n",
      "\u001b[35m[2020-07-16:03:38:20:INFO] Sniff delimiter as ','\u001b[0m\n",
      "\u001b[35m[2020-07-16:03:38:20:INFO] Determined delimiter of CSV input is ','\u001b[0m\n",
      "\u001b[34m[2020-07-16:03:38:22:INFO] Sniff delimiter as ','\u001b[0m\n",
      "\u001b[34m[2020-07-16:03:38:22:INFO] Determined delimiter of CSV input is ','\u001b[0m\n",
      "\u001b[34m[2020-07-16:03:38:22:INFO] Sniff delimiter as ','\u001b[0m\n",
      "\u001b[34m[2020-07-16:03:38:22:INFO] Determined delimiter of CSV input is ','\u001b[0m\n",
      "\u001b[35m[2020-07-16:03:38:22:INFO] Sniff delimiter as ','\u001b[0m\n",
      "\u001b[35m[2020-07-16:03:38:22:INFO] Determined delimiter of CSV input is ','\u001b[0m\n",
      "\u001b[35m[2020-07-16:03:38:22:INFO] Sniff delimiter as ','\u001b[0m\n",
      "\u001b[35m[2020-07-16:03:38:22:INFO] Determined delimiter of CSV input is ','\u001b[0m\n",
      "\u001b[34m[2020-07-16:03:38:23:INFO] Sniff delimiter as ','\u001b[0m\n",
      "\u001b[34m[2020-07-16:03:38:23:INFO] Determined delimiter of CSV input is ','\u001b[0m\n",
      "\u001b[34m[2020-07-16:03:38:23:INFO] Sniff delimiter as ','\u001b[0m\n",
      "\u001b[34m[2020-07-16:03:38:23:INFO] Determined delimiter of CSV input is ','\u001b[0m\n",
      "\u001b[34m[2020-07-16:03:38:23:INFO] Sniff delimiter as ','\u001b[0m\n",
      "\u001b[34m[2020-07-16:03:38:23:INFO] Determined delimiter of CSV input is ','\u001b[0m\n",
      "\u001b[35m[2020-07-16:03:38:23:INFO] Sniff delimiter as ','\u001b[0m\n",
      "\u001b[35m[2020-07-16:03:38:23:INFO] Determined delimiter of CSV input is ','\u001b[0m\n",
      "\u001b[35m[2020-07-16:03:38:23:INFO] Sniff delimiter as ','\u001b[0m\n",
      "\u001b[35m[2020-07-16:03:38:23:INFO] Determined delimiter of CSV input is ','\u001b[0m\n",
      "\u001b[35m[2020-07-16:03:38:23:INFO] Sniff delimiter as ','\u001b[0m\n",
      "\u001b[35m[2020-07-16:03:38:23:INFO] Determined delimiter of CSV input is ','\u001b[0m\n",
      "\u001b[34m[2020-07-16:03:38:23:INFO] Sniff delimiter as ','\u001b[0m\n",
      "\u001b[34m[2020-07-16:03:38:23:INFO] Determined delimiter of CSV input is ','\u001b[0m\n",
      "\u001b[35m[2020-07-16:03:38:23:INFO] Sniff delimiter as ','\u001b[0m\n",
      "\u001b[35m[2020-07-16:03:38:23:INFO] Determined delimiter of CSV input is ','\u001b[0m\n",
      "\u001b[34m[2020-07-16:03:38:25:INFO] Sniff delimiter as ','\u001b[0m\n",
      "\u001b[34m[2020-07-16:03:38:25:INFO] Determined delimiter of CSV input is ','\u001b[0m\n",
      "\u001b[34m[2020-07-16:03:38:25:INFO] Sniff delimiter as ','\u001b[0m\n",
      "\u001b[34m[2020-07-16:03:38:25:INFO] Determined delimiter of CSV input is ','\u001b[0m\n",
      "\u001b[34m[2020-07-16:03:38:26:INFO] Sniff delimiter as ','\u001b[0m\n",
      "\u001b[35m[2020-07-16:03:38:25:INFO] Sniff delimiter as ','\u001b[0m\n",
      "\u001b[35m[2020-07-16:03:38:25:INFO] Determined delimiter of CSV input is ','\u001b[0m\n",
      "\u001b[35m[2020-07-16:03:38:25:INFO] Sniff delimiter as ','\u001b[0m\n",
      "\u001b[35m[2020-07-16:03:38:25:INFO] Determined delimiter of CSV input is ','\u001b[0m\n",
      "\u001b[35m[2020-07-16:03:38:26:INFO] Sniff delimiter as ','\u001b[0m\n",
      "\u001b[34m[2020-07-16:03:38:26:INFO] Determined delimiter of CSV input is ','\u001b[0m\n",
      "\u001b[35m[2020-07-16:03:38:26:INFO] Determined delimiter of CSV input is ','\u001b[0m\n",
      "\u001b[34m[2020-07-16:03:38:28:INFO] Sniff delimiter as ','\u001b[0m\n",
      "\u001b[34m[2020-07-16:03:38:28:INFO] Determined delimiter of CSV input is ','\u001b[0m\n",
      "\u001b[34m[2020-07-16:03:38:28:INFO] Sniff delimiter as ','\u001b[0m\n",
      "\u001b[34m[2020-07-16:03:38:28:INFO] Determined delimiter of CSV input is ','\u001b[0m\n",
      "\u001b[34m[2020-07-16:03:38:28:INFO] Sniff delimiter as ','\u001b[0m\n",
      "\u001b[35m[2020-07-16:03:38:28:INFO] Sniff delimiter as ','\u001b[0m\n",
      "\u001b[35m[2020-07-16:03:38:28:INFO] Determined delimiter of CSV input is ','\u001b[0m\n",
      "\u001b[35m[2020-07-16:03:38:28:INFO] Sniff delimiter as ','\u001b[0m\n",
      "\u001b[35m[2020-07-16:03:38:28:INFO] Determined delimiter of CSV input is ','\u001b[0m\n",
      "\u001b[35m[2020-07-16:03:38:28:INFO] Sniff delimiter as ','\u001b[0m\n",
      "\u001b[34m[2020-07-16:03:38:28:INFO] Determined delimiter of CSV input is ','\u001b[0m\n",
      "\u001b[35m[2020-07-16:03:38:28:INFO] Determined delimiter of CSV input is ','\u001b[0m\n",
      "\u001b[34m[2020-07-16:03:38:28:INFO] Sniff delimiter as ','\u001b[0m\n",
      "\u001b[34m[2020-07-16:03:38:28:INFO] Determined delimiter of CSV input is ','\u001b[0m\n",
      "\u001b[35m[2020-07-16:03:38:28:INFO] Sniff delimiter as ','\u001b[0m\n",
      "\u001b[35m[2020-07-16:03:38:28:INFO] Determined delimiter of CSV input is ','\u001b[0m\n",
      "\u001b[34m[2020-07-16:03:38:30:INFO] Sniff delimiter as ','\u001b[0m\n",
      "\u001b[34m[2020-07-16:03:38:30:INFO] Determined delimiter of CSV input is ','\u001b[0m\n",
      "\u001b[35m[2020-07-16:03:38:30:INFO] Sniff delimiter as ','\u001b[0m\n",
      "\u001b[35m[2020-07-16:03:38:30:INFO] Determined delimiter of CSV input is ','\u001b[0m\n",
      "\u001b[34m[2020-07-16:03:38:30:INFO] Sniff delimiter as ','\u001b[0m\n",
      "\u001b[34m[2020-07-16:03:38:30:INFO] Determined delimiter of CSV input is ','\u001b[0m\n",
      "\u001b[34m[2020-07-16:03:38:30:INFO] Sniff delimiter as ','\u001b[0m\n",
      "\u001b[34m[2020-07-16:03:38:30:INFO] Determined delimiter of CSV input is ','\u001b[0m\n",
      "\u001b[34m[2020-07-16:03:38:30:INFO] Sniff delimiter as ','\u001b[0m\n",
      "\u001b[34m[2020-07-16:03:38:30:INFO] Determined delimiter of CSV input is ','\u001b[0m\n",
      "\u001b[35m[2020-07-16:03:38:30:INFO] Sniff delimiter as ','\u001b[0m\n",
      "\u001b[35m[2020-07-16:03:38:30:INFO] Determined delimiter of CSV input is ','\u001b[0m\n",
      "\u001b[35m[2020-07-16:03:38:30:INFO] Sniff delimiter as ','\u001b[0m\n",
      "\u001b[35m[2020-07-16:03:38:30:INFO] Determined delimiter of CSV input is ','\u001b[0m\n",
      "\u001b[35m[2020-07-16:03:38:30:INFO] Sniff delimiter as ','\u001b[0m\n",
      "\u001b[35m[2020-07-16:03:38:30:INFO] Determined delimiter of CSV input is ','\u001b[0m\n",
      "\u001b[34m[2020-07-16:03:38:32:INFO] Sniff delimiter as ','\u001b[0m\n",
      "\u001b[34m[2020-07-16:03:38:32:INFO] Determined delimiter of CSV input is ','\u001b[0m\n",
      "\u001b[34m[2020-07-16:03:38:33:INFO] Sniff delimiter as ','\u001b[0m\n",
      "\u001b[34m[2020-07-16:03:38:33:INFO] Determined delimiter of CSV input is ','\u001b[0m\n",
      "\u001b[34m[2020-07-16:03:38:33:INFO] Sniff delimiter as ','\u001b[0m\n",
      "\u001b[34m[2020-07-16:03:38:33:INFO] Determined delimiter of CSV input is ','\u001b[0m\n",
      "\u001b[34m[2020-07-16:03:38:33:INFO] Sniff delimiter as ','\u001b[0m\n",
      "\u001b[34m[2020-07-16:03:38:33:INFO] Determined delimiter of CSV input is ','\u001b[0m\n",
      "\u001b[35m[2020-07-16:03:38:32:INFO] Sniff delimiter as ','\u001b[0m\n",
      "\u001b[35m[2020-07-16:03:38:32:INFO] Determined delimiter of CSV input is ','\u001b[0m\n",
      "\u001b[35m[2020-07-16:03:38:33:INFO] Sniff delimiter as ','\u001b[0m\n",
      "\u001b[35m[2020-07-16:03:38:33:INFO] Determined delimiter of CSV input is ','\u001b[0m\n",
      "\u001b[35m[2020-07-16:03:38:33:INFO] Sniff delimiter as ','\u001b[0m\n",
      "\u001b[35m[2020-07-16:03:38:33:INFO] Determined delimiter of CSV input is ','\u001b[0m\n",
      "\u001b[35m[2020-07-16:03:38:33:INFO] Sniff delimiter as ','\u001b[0m\n",
      "\u001b[35m[2020-07-16:03:38:33:INFO] Determined delimiter of CSV input is ','\u001b[0m\n",
      "\u001b[34m[2020-07-16:03:38:35:INFO] Sniff delimiter as ','\u001b[0m\n",
      "\u001b[34m[2020-07-16:03:38:35:INFO] Determined delimiter of CSV input is ','\u001b[0m\n",
      "\u001b[35m[2020-07-16:03:38:35:INFO] Sniff delimiter as ','\u001b[0m\n",
      "\u001b[35m[2020-07-16:03:38:35:INFO] Determined delimiter of CSV input is ','\u001b[0m\n"
     ]
    },
    {
     "name": "stdout",
     "output_type": "stream",
     "text": [
      "\u001b[34m[2020-07-16:03:38:35:INFO] Sniff delimiter as ','\u001b[0m\n",
      "\u001b[34m[2020-07-16:03:38:35:INFO] Determined delimiter of CSV input is ','\u001b[0m\n",
      "\u001b[34m[2020-07-16:03:38:35:INFO] Sniff delimiter as ','\u001b[0m\n",
      "\u001b[34m[2020-07-16:03:38:35:INFO] Determined delimiter of CSV input is ','\u001b[0m\n",
      "\u001b[35m[2020-07-16:03:38:35:INFO] Sniff delimiter as ','\u001b[0m\n",
      "\u001b[35m[2020-07-16:03:38:35:INFO] Determined delimiter of CSV input is ','\u001b[0m\n",
      "\u001b[35m[2020-07-16:03:38:35:INFO] Sniff delimiter as ','\u001b[0m\n",
      "\u001b[35m[2020-07-16:03:38:35:INFO] Determined delimiter of CSV input is ','\u001b[0m\n",
      "\u001b[34m[2020-07-16:03:38:37:INFO] Sniff delimiter as ','\u001b[0m\n",
      "\u001b[35m[2020-07-16:03:38:37:INFO] Sniff delimiter as ','\u001b[0m\n",
      "\u001b[34m[2020-07-16:03:38:37:INFO] Determined delimiter of CSV input is ','\u001b[0m\n",
      "\u001b[34m[2020-07-16:03:38:37:INFO] Sniff delimiter as ','\u001b[0m\n",
      "\u001b[34m[2020-07-16:03:38:37:INFO] Determined delimiter of CSV input is ','\u001b[0m\n",
      "\u001b[34m[2020-07-16:03:38:38:INFO] Sniff delimiter as ','\u001b[0m\n",
      "\u001b[34m[2020-07-16:03:38:38:INFO] Determined delimiter of CSV input is ','\u001b[0m\n",
      "\u001b[34m[2020-07-16:03:38:38:INFO] Sniff delimiter as ','\u001b[0m\n",
      "\u001b[34m[2020-07-16:03:38:38:INFO] Determined delimiter of CSV input is ','\u001b[0m\n",
      "\u001b[35m[2020-07-16:03:38:37:INFO] Determined delimiter of CSV input is ','\u001b[0m\n",
      "\u001b[35m[2020-07-16:03:38:37:INFO] Sniff delimiter as ','\u001b[0m\n",
      "\u001b[35m[2020-07-16:03:38:37:INFO] Determined delimiter of CSV input is ','\u001b[0m\n",
      "\u001b[35m[2020-07-16:03:38:38:INFO] Sniff delimiter as ','\u001b[0m\n",
      "\u001b[35m[2020-07-16:03:38:38:INFO] Determined delimiter of CSV input is ','\u001b[0m\n",
      "\u001b[35m[2020-07-16:03:38:38:INFO] Sniff delimiter as ','\u001b[0m\n",
      "\u001b[35m[2020-07-16:03:38:38:INFO] Determined delimiter of CSV input is ','\u001b[0m\n",
      "\n"
     ]
    }
   ],
   "source": [
    "xgb_transformer.wait()"
   ]
  },
  {
   "cell_type": "markdown",
   "metadata": {},
   "source": [
    "Now the transform job has executed and the result, the estimated sentiment of each review, has been saved on S3. Since we would rather work on this file locally we can perform a bit of notebook magic to copy the file to the `data_dir`."
   ]
  },
  {
   "cell_type": "code",
   "execution_count": 32,
   "metadata": {},
   "outputs": [
    {
     "name": "stdout",
     "output_type": "stream",
     "text": [
      "Completed 256.0 KiB/368.3 KiB (748.2 KiB/s) with 1 file(s) remaining\r",
      "Completed 368.3 KiB/368.3 KiB (1.0 MiB/s) with 1 file(s) remaining  \r",
      "download: s3://sagemaker-us-east-2-537234121179/xgboost-2020-07-16-03-34-24-824/test.csv.out to ../data/sentiment_web_app/test.csv.out\r\n"
     ]
    }
   ],
   "source": [
    "!aws s3 cp --recursive $xgb_transformer.output_path $data_dir"
   ]
  },
  {
   "cell_type": "markdown",
   "metadata": {},
   "source": [
    "The last step is now to read in the output from our model, convert the output to something a little more usable, in this case we want the sentiment to be either `1` (positive) or `0` (negative), and then compare to the ground truth labels."
   ]
  },
  {
   "cell_type": "code",
   "execution_count": 33,
   "metadata": {},
   "outputs": [],
   "source": [
    "predictions = pd.read_csv(os.path.join(data_dir, 'test.csv.out'), header=None)\n",
    "predictions = [round(num) for num in predictions.squeeze().values]"
   ]
  },
  {
   "cell_type": "code",
   "execution_count": 34,
   "metadata": {},
   "outputs": [
    {
     "data": {
      "text/plain": [
       "0.84544"
      ]
     },
     "execution_count": 34,
     "metadata": {},
     "output_type": "execute_result"
    }
   ],
   "source": [
    "from sklearn.metrics import accuracy_score\n",
    "accuracy_score(test_y, predictions)"
   ]
  },
  {
   "cell_type": "markdown",
   "metadata": {},
   "source": [
    "## Step 6: Deploying the model\n",
    "\n",
    "Once we construct and fit our model, SageMaker stores the resulting model artifacts and we can use those to deploy an endpoint (inference code). To see this, look in the SageMaker console and you should see that a model has been created along with a link to the S3 location where the model artifacts have been stored.\n",
    "\n",
    "Deploying an endpoint is a lot like training the model with a few important differences. The first is that a deployed model doesn't change the model artifacts, so as you send it various testing instances the model won't change. Another difference is that since we aren't performing a fixed computation, as we were in the training step or while performing a batch transform, the compute instance that gets started stays running until we tell it to stop. This is important to note as if we forget and leave it running we will be charged the entire time.\n",
    "\n",
    "In other words **If you are no longer using a deployed endpoint, shut it down!**"
   ]
  },
  {
   "cell_type": "code",
   "execution_count": 35,
   "metadata": {},
   "outputs": [
    {
     "name": "stderr",
     "output_type": "stream",
     "text": [
      "WARNING:sagemaker:Parameter image will be renamed to image_uri in SageMaker Python SDK v2.\n",
      "WARNING:sagemaker:Using already existing model: xgboost-2020-07-16-01-04-03-769\n"
     ]
    },
    {
     "name": "stdout",
     "output_type": "stream",
     "text": [
      "-------------!"
     ]
    }
   ],
   "source": [
    "xgb_predictor = xgb.deploy(initial_instance_count = 1, instance_type = 'ml.m4.xlarge')"
   ]
  },
  {
   "cell_type": "markdown",
   "metadata": {},
   "source": [
    "### Testing the model (again)\n",
    "\n",
    "Now that we have deployed our endpoint, we can send the testing data to it and get back the inference results. We already did this earlier using the batch transform functionality of SageMaker, however, we will test our model again using the newly deployed endpoint so that we can make sure that it works properly and to get a bit of a feel for how the endpoint works.\n",
    "\n",
    "When using the created endpoint it is important to know that we are limited in the amount of information we can send in each call so we need to break the testing data up into chunks and then send each chunk. Also, we need to serialize our data before we send it to the endpoint to ensure that our data is transmitted properly. Fortunately, SageMaker can do the serialization part for us provided we tell it the format of our data."
   ]
  },
  {
   "cell_type": "code",
   "execution_count": 36,
   "metadata": {},
   "outputs": [],
   "source": [
    "from sagemaker.predictor import csv_serializer\n",
    "\n",
    "# We need to tell the endpoint what format the data we are sending is in so that SageMaker can perform the serialization.\n",
    "xgb_predictor.content_type = 'text/csv'\n",
    "xgb_predictor.serializer = csv_serializer"
   ]
  },
  {
   "cell_type": "code",
   "execution_count": 37,
   "metadata": {},
   "outputs": [],
   "source": [
    "# We split the data into chunks and send each chunk seperately, accumulating the results.\n",
    "\n",
    "def predict(data, rows=512):\n",
    "    split_array = np.array_split(data, int(data.shape[0] / float(rows) + 1))\n",
    "    predictions = ''\n",
    "    for array in split_array:\n",
    "        predictions = ','.join([predictions, xgb_predictor.predict(array).decode('utf-8')])\n",
    "    \n",
    "    return np.fromstring(predictions[1:], sep=',')"
   ]
  },
  {
   "cell_type": "code",
   "execution_count": 69,
   "metadata": {
    "collapsed": true
   },
   "outputs": [
    {
     "ename": "MemoryError",
     "evalue": "Unable to allocate 954. MiB for an array with shape (5000, 25000) and data type int64",
     "output_type": "error",
     "traceback": [
      "\u001b[0;31m---------------------------------------------------------------------------\u001b[0m",
      "\u001b[0;31mMemoryError\u001b[0m                               Traceback (most recent call last)",
      "\u001b[0;32m<ipython-input-69-1561d0ba347e>\u001b[0m in \u001b[0;36m<module>\u001b[0;34m\u001b[0m\n\u001b[0;32m----> 1\u001b[0;31m \u001b[0mtest_X\u001b[0m \u001b[0;34m=\u001b[0m \u001b[0mpd\u001b[0m\u001b[0;34m.\u001b[0m\u001b[0mread_csv\u001b[0m\u001b[0;34m(\u001b[0m\u001b[0mos\u001b[0m\u001b[0;34m.\u001b[0m\u001b[0mpath\u001b[0m\u001b[0;34m.\u001b[0m\u001b[0mjoin\u001b[0m\u001b[0;34m(\u001b[0m\u001b[0mdata_dir\u001b[0m\u001b[0;34m,\u001b[0m \u001b[0;34m'test.csv'\u001b[0m\u001b[0;34m)\u001b[0m\u001b[0;34m,\u001b[0m \u001b[0mheader\u001b[0m\u001b[0;34m=\u001b[0m\u001b[0;32mNone\u001b[0m\u001b[0;34m)\u001b[0m\u001b[0;34m.\u001b[0m\u001b[0mvalues\u001b[0m\u001b[0;34m\u001b[0m\u001b[0;34m\u001b[0m\u001b[0m\n\u001b[0m\u001b[1;32m      2\u001b[0m \u001b[0;34m\u001b[0m\u001b[0m\n\u001b[1;32m      3\u001b[0m \u001b[0mpredictions\u001b[0m \u001b[0;34m=\u001b[0m \u001b[0mpredict\u001b[0m\u001b[0;34m(\u001b[0m\u001b[0mtest_X\u001b[0m\u001b[0;34m)\u001b[0m\u001b[0;34m\u001b[0m\u001b[0;34m\u001b[0m\u001b[0m\n\u001b[1;32m      4\u001b[0m \u001b[0mpredictions\u001b[0m \u001b[0;34m=\u001b[0m \u001b[0;34m[\u001b[0m\u001b[0mround\u001b[0m\u001b[0;34m(\u001b[0m\u001b[0mnum\u001b[0m\u001b[0;34m)\u001b[0m \u001b[0;32mfor\u001b[0m \u001b[0mnum\u001b[0m \u001b[0;32min\u001b[0m \u001b[0mpredictions\u001b[0m\u001b[0;34m]\u001b[0m\u001b[0;34m\u001b[0m\u001b[0;34m\u001b[0m\u001b[0m\n",
      "\u001b[0;32m~/anaconda3/envs/python3/lib/python3.6/site-packages/pandas/io/parsers.py\u001b[0m in \u001b[0;36mparser_f\u001b[0;34m(filepath_or_buffer, sep, delimiter, header, names, index_col, usecols, squeeze, prefix, mangle_dupe_cols, dtype, engine, converters, true_values, false_values, skipinitialspace, skiprows, skipfooter, nrows, na_values, keep_default_na, na_filter, verbose, skip_blank_lines, parse_dates, infer_datetime_format, keep_date_col, date_parser, dayfirst, cache_dates, iterator, chunksize, compression, thousands, decimal, lineterminator, quotechar, quoting, doublequote, escapechar, comment, encoding, dialect, error_bad_lines, warn_bad_lines, delim_whitespace, low_memory, memory_map, float_precision)\u001b[0m\n\u001b[1;32m    674\u001b[0m         )\n\u001b[1;32m    675\u001b[0m \u001b[0;34m\u001b[0m\u001b[0m\n\u001b[0;32m--> 676\u001b[0;31m         \u001b[0;32mreturn\u001b[0m \u001b[0m_read\u001b[0m\u001b[0;34m(\u001b[0m\u001b[0mfilepath_or_buffer\u001b[0m\u001b[0;34m,\u001b[0m \u001b[0mkwds\u001b[0m\u001b[0;34m)\u001b[0m\u001b[0;34m\u001b[0m\u001b[0;34m\u001b[0m\u001b[0m\n\u001b[0m\u001b[1;32m    677\u001b[0m \u001b[0;34m\u001b[0m\u001b[0m\n\u001b[1;32m    678\u001b[0m     \u001b[0mparser_f\u001b[0m\u001b[0;34m.\u001b[0m\u001b[0m__name__\u001b[0m \u001b[0;34m=\u001b[0m \u001b[0mname\u001b[0m\u001b[0;34m\u001b[0m\u001b[0;34m\u001b[0m\u001b[0m\n",
      "\u001b[0;32m~/anaconda3/envs/python3/lib/python3.6/site-packages/pandas/io/parsers.py\u001b[0m in \u001b[0;36m_read\u001b[0;34m(filepath_or_buffer, kwds)\u001b[0m\n\u001b[1;32m    452\u001b[0m \u001b[0;34m\u001b[0m\u001b[0m\n\u001b[1;32m    453\u001b[0m     \u001b[0;32mtry\u001b[0m\u001b[0;34m:\u001b[0m\u001b[0;34m\u001b[0m\u001b[0;34m\u001b[0m\u001b[0m\n\u001b[0;32m--> 454\u001b[0;31m         \u001b[0mdata\u001b[0m \u001b[0;34m=\u001b[0m \u001b[0mparser\u001b[0m\u001b[0;34m.\u001b[0m\u001b[0mread\u001b[0m\u001b[0;34m(\u001b[0m\u001b[0mnrows\u001b[0m\u001b[0;34m)\u001b[0m\u001b[0;34m\u001b[0m\u001b[0;34m\u001b[0m\u001b[0m\n\u001b[0m\u001b[1;32m    455\u001b[0m     \u001b[0;32mfinally\u001b[0m\u001b[0;34m:\u001b[0m\u001b[0;34m\u001b[0m\u001b[0;34m\u001b[0m\u001b[0m\n\u001b[1;32m    456\u001b[0m         \u001b[0mparser\u001b[0m\u001b[0;34m.\u001b[0m\u001b[0mclose\u001b[0m\u001b[0;34m(\u001b[0m\u001b[0;34m)\u001b[0m\u001b[0;34m\u001b[0m\u001b[0;34m\u001b[0m\u001b[0m\n",
      "\u001b[0;32m~/anaconda3/envs/python3/lib/python3.6/site-packages/pandas/io/parsers.py\u001b[0m in \u001b[0;36mread\u001b[0;34m(self, nrows)\u001b[0m\n\u001b[1;32m   1146\u001b[0m             \u001b[0mnew_rows\u001b[0m \u001b[0;34m=\u001b[0m \u001b[0mlen\u001b[0m\u001b[0;34m(\u001b[0m\u001b[0mindex\u001b[0m\u001b[0;34m)\u001b[0m\u001b[0;34m\u001b[0m\u001b[0;34m\u001b[0m\u001b[0m\n\u001b[1;32m   1147\u001b[0m \u001b[0;34m\u001b[0m\u001b[0m\n\u001b[0;32m-> 1148\u001b[0;31m         \u001b[0mdf\u001b[0m \u001b[0;34m=\u001b[0m \u001b[0mDataFrame\u001b[0m\u001b[0;34m(\u001b[0m\u001b[0mcol_dict\u001b[0m\u001b[0;34m,\u001b[0m \u001b[0mcolumns\u001b[0m\u001b[0;34m=\u001b[0m\u001b[0mcolumns\u001b[0m\u001b[0;34m,\u001b[0m \u001b[0mindex\u001b[0m\u001b[0;34m=\u001b[0m\u001b[0mindex\u001b[0m\u001b[0;34m)\u001b[0m\u001b[0;34m\u001b[0m\u001b[0;34m\u001b[0m\u001b[0m\n\u001b[0m\u001b[1;32m   1149\u001b[0m \u001b[0;34m\u001b[0m\u001b[0m\n\u001b[1;32m   1150\u001b[0m         \u001b[0mself\u001b[0m\u001b[0;34m.\u001b[0m\u001b[0m_currow\u001b[0m \u001b[0;34m+=\u001b[0m \u001b[0mnew_rows\u001b[0m\u001b[0;34m\u001b[0m\u001b[0;34m\u001b[0m\u001b[0m\n",
      "\u001b[0;32m~/anaconda3/envs/python3/lib/python3.6/site-packages/pandas/core/frame.py\u001b[0m in \u001b[0;36m__init__\u001b[0;34m(self, data, index, columns, dtype, copy)\u001b[0m\n\u001b[1;32m    433\u001b[0m             )\n\u001b[1;32m    434\u001b[0m         \u001b[0;32melif\u001b[0m \u001b[0misinstance\u001b[0m\u001b[0;34m(\u001b[0m\u001b[0mdata\u001b[0m\u001b[0;34m,\u001b[0m \u001b[0mdict\u001b[0m\u001b[0;34m)\u001b[0m\u001b[0;34m:\u001b[0m\u001b[0;34m\u001b[0m\u001b[0;34m\u001b[0m\u001b[0m\n\u001b[0;32m--> 435\u001b[0;31m             \u001b[0mmgr\u001b[0m \u001b[0;34m=\u001b[0m \u001b[0minit_dict\u001b[0m\u001b[0;34m(\u001b[0m\u001b[0mdata\u001b[0m\u001b[0;34m,\u001b[0m \u001b[0mindex\u001b[0m\u001b[0;34m,\u001b[0m \u001b[0mcolumns\u001b[0m\u001b[0;34m,\u001b[0m \u001b[0mdtype\u001b[0m\u001b[0;34m=\u001b[0m\u001b[0mdtype\u001b[0m\u001b[0;34m)\u001b[0m\u001b[0;34m\u001b[0m\u001b[0;34m\u001b[0m\u001b[0m\n\u001b[0m\u001b[1;32m    436\u001b[0m         \u001b[0;32melif\u001b[0m \u001b[0misinstance\u001b[0m\u001b[0;34m(\u001b[0m\u001b[0mdata\u001b[0m\u001b[0;34m,\u001b[0m \u001b[0mma\u001b[0m\u001b[0;34m.\u001b[0m\u001b[0mMaskedArray\u001b[0m\u001b[0;34m)\u001b[0m\u001b[0;34m:\u001b[0m\u001b[0;34m\u001b[0m\u001b[0;34m\u001b[0m\u001b[0m\n\u001b[1;32m    437\u001b[0m             \u001b[0;32mimport\u001b[0m \u001b[0mnumpy\u001b[0m\u001b[0;34m.\u001b[0m\u001b[0mma\u001b[0m\u001b[0;34m.\u001b[0m\u001b[0mmrecords\u001b[0m \u001b[0;32mas\u001b[0m \u001b[0mmrecords\u001b[0m\u001b[0;34m\u001b[0m\u001b[0;34m\u001b[0m\u001b[0m\n",
      "\u001b[0;32m~/anaconda3/envs/python3/lib/python3.6/site-packages/pandas/core/internals/construction.py\u001b[0m in \u001b[0;36minit_dict\u001b[0;34m(data, index, columns, dtype)\u001b[0m\n\u001b[1;32m    252\u001b[0m             \u001b[0marr\u001b[0m \u001b[0;32mif\u001b[0m \u001b[0;32mnot\u001b[0m \u001b[0mis_datetime64tz_dtype\u001b[0m\u001b[0;34m(\u001b[0m\u001b[0marr\u001b[0m\u001b[0;34m)\u001b[0m \u001b[0;32melse\u001b[0m \u001b[0marr\u001b[0m\u001b[0;34m.\u001b[0m\u001b[0mcopy\u001b[0m\u001b[0;34m(\u001b[0m\u001b[0;34m)\u001b[0m \u001b[0;32mfor\u001b[0m \u001b[0marr\u001b[0m \u001b[0;32min\u001b[0m \u001b[0marrays\u001b[0m\u001b[0;34m\u001b[0m\u001b[0;34m\u001b[0m\u001b[0m\n\u001b[1;32m    253\u001b[0m         ]\n\u001b[0;32m--> 254\u001b[0;31m     \u001b[0;32mreturn\u001b[0m \u001b[0marrays_to_mgr\u001b[0m\u001b[0;34m(\u001b[0m\u001b[0marrays\u001b[0m\u001b[0;34m,\u001b[0m \u001b[0mdata_names\u001b[0m\u001b[0;34m,\u001b[0m \u001b[0mindex\u001b[0m\u001b[0;34m,\u001b[0m \u001b[0mcolumns\u001b[0m\u001b[0;34m,\u001b[0m \u001b[0mdtype\u001b[0m\u001b[0;34m=\u001b[0m\u001b[0mdtype\u001b[0m\u001b[0;34m)\u001b[0m\u001b[0;34m\u001b[0m\u001b[0;34m\u001b[0m\u001b[0m\n\u001b[0m\u001b[1;32m    255\u001b[0m \u001b[0;34m\u001b[0m\u001b[0m\n\u001b[1;32m    256\u001b[0m \u001b[0;34m\u001b[0m\u001b[0m\n",
      "\u001b[0;32m~/anaconda3/envs/python3/lib/python3.6/site-packages/pandas/core/internals/construction.py\u001b[0m in \u001b[0;36marrays_to_mgr\u001b[0;34m(arrays, arr_names, index, columns, dtype)\u001b[0m\n\u001b[1;32m     72\u001b[0m     \u001b[0maxes\u001b[0m \u001b[0;34m=\u001b[0m \u001b[0;34m[\u001b[0m\u001b[0mensure_index\u001b[0m\u001b[0;34m(\u001b[0m\u001b[0mcolumns\u001b[0m\u001b[0;34m)\u001b[0m\u001b[0;34m,\u001b[0m \u001b[0mindex\u001b[0m\u001b[0;34m]\u001b[0m\u001b[0;34m\u001b[0m\u001b[0;34m\u001b[0m\u001b[0m\n\u001b[1;32m     73\u001b[0m \u001b[0;34m\u001b[0m\u001b[0m\n\u001b[0;32m---> 74\u001b[0;31m     \u001b[0;32mreturn\u001b[0m \u001b[0mcreate_block_manager_from_arrays\u001b[0m\u001b[0;34m(\u001b[0m\u001b[0marrays\u001b[0m\u001b[0;34m,\u001b[0m \u001b[0marr_names\u001b[0m\u001b[0;34m,\u001b[0m \u001b[0maxes\u001b[0m\u001b[0;34m)\u001b[0m\u001b[0;34m\u001b[0m\u001b[0;34m\u001b[0m\u001b[0m\n\u001b[0m\u001b[1;32m     75\u001b[0m \u001b[0;34m\u001b[0m\u001b[0m\n\u001b[1;32m     76\u001b[0m \u001b[0;34m\u001b[0m\u001b[0m\n",
      "\u001b[0;32m~/anaconda3/envs/python3/lib/python3.6/site-packages/pandas/core/internals/managers.py\u001b[0m in \u001b[0;36mcreate_block_manager_from_arrays\u001b[0;34m(arrays, names, axes)\u001b[0m\n\u001b[1;32m   1668\u001b[0m \u001b[0;34m\u001b[0m\u001b[0m\n\u001b[1;32m   1669\u001b[0m     \u001b[0;32mtry\u001b[0m\u001b[0;34m:\u001b[0m\u001b[0;34m\u001b[0m\u001b[0;34m\u001b[0m\u001b[0m\n\u001b[0;32m-> 1670\u001b[0;31m         \u001b[0mblocks\u001b[0m \u001b[0;34m=\u001b[0m \u001b[0mform_blocks\u001b[0m\u001b[0;34m(\u001b[0m\u001b[0marrays\u001b[0m\u001b[0;34m,\u001b[0m \u001b[0mnames\u001b[0m\u001b[0;34m,\u001b[0m \u001b[0maxes\u001b[0m\u001b[0;34m)\u001b[0m\u001b[0;34m\u001b[0m\u001b[0;34m\u001b[0m\u001b[0m\n\u001b[0m\u001b[1;32m   1671\u001b[0m         \u001b[0mmgr\u001b[0m \u001b[0;34m=\u001b[0m \u001b[0mBlockManager\u001b[0m\u001b[0;34m(\u001b[0m\u001b[0mblocks\u001b[0m\u001b[0;34m,\u001b[0m \u001b[0maxes\u001b[0m\u001b[0;34m)\u001b[0m\u001b[0;34m\u001b[0m\u001b[0;34m\u001b[0m\u001b[0m\n\u001b[1;32m   1672\u001b[0m         \u001b[0mmgr\u001b[0m\u001b[0;34m.\u001b[0m\u001b[0m_consolidate_inplace\u001b[0m\u001b[0;34m(\u001b[0m\u001b[0;34m)\u001b[0m\u001b[0;34m\u001b[0m\u001b[0;34m\u001b[0m\u001b[0m\n",
      "\u001b[0;32m~/anaconda3/envs/python3/lib/python3.6/site-packages/pandas/core/internals/managers.py\u001b[0m in \u001b[0;36mform_blocks\u001b[0;34m(arrays, names, axes)\u001b[0m\n\u001b[1;32m   1736\u001b[0m \u001b[0;34m\u001b[0m\u001b[0m\n\u001b[1;32m   1737\u001b[0m     \u001b[0;32mif\u001b[0m \u001b[0mlen\u001b[0m\u001b[0;34m(\u001b[0m\u001b[0mitems_dict\u001b[0m\u001b[0;34m[\u001b[0m\u001b[0;34m\"IntBlock\"\u001b[0m\u001b[0;34m]\u001b[0m\u001b[0;34m)\u001b[0m\u001b[0;34m:\u001b[0m\u001b[0;34m\u001b[0m\u001b[0;34m\u001b[0m\u001b[0m\n\u001b[0;32m-> 1738\u001b[0;31m         \u001b[0mint_blocks\u001b[0m \u001b[0;34m=\u001b[0m \u001b[0m_multi_blockify\u001b[0m\u001b[0;34m(\u001b[0m\u001b[0mitems_dict\u001b[0m\u001b[0;34m[\u001b[0m\u001b[0;34m\"IntBlock\"\u001b[0m\u001b[0;34m]\u001b[0m\u001b[0;34m)\u001b[0m\u001b[0;34m\u001b[0m\u001b[0;34m\u001b[0m\u001b[0m\n\u001b[0m\u001b[1;32m   1739\u001b[0m         \u001b[0mblocks\u001b[0m\u001b[0;34m.\u001b[0m\u001b[0mextend\u001b[0m\u001b[0;34m(\u001b[0m\u001b[0mint_blocks\u001b[0m\u001b[0;34m)\u001b[0m\u001b[0;34m\u001b[0m\u001b[0;34m\u001b[0m\u001b[0m\n\u001b[1;32m   1740\u001b[0m \u001b[0;34m\u001b[0m\u001b[0m\n",
      "\u001b[0;32m~/anaconda3/envs/python3/lib/python3.6/site-packages/pandas/core/internals/managers.py\u001b[0m in \u001b[0;36m_multi_blockify\u001b[0;34m(tuples, dtype)\u001b[0m\n\u001b[1;32m   1818\u001b[0m     \u001b[0;32mfor\u001b[0m \u001b[0mdtype\u001b[0m\u001b[0;34m,\u001b[0m \u001b[0mtup_block\u001b[0m \u001b[0;32min\u001b[0m \u001b[0mgrouper\u001b[0m\u001b[0;34m:\u001b[0m\u001b[0;34m\u001b[0m\u001b[0;34m\u001b[0m\u001b[0m\n\u001b[1;32m   1819\u001b[0m \u001b[0;34m\u001b[0m\u001b[0m\n\u001b[0;32m-> 1820\u001b[0;31m         \u001b[0mvalues\u001b[0m\u001b[0;34m,\u001b[0m \u001b[0mplacement\u001b[0m \u001b[0;34m=\u001b[0m \u001b[0m_stack_arrays\u001b[0m\u001b[0;34m(\u001b[0m\u001b[0mlist\u001b[0m\u001b[0;34m(\u001b[0m\u001b[0mtup_block\u001b[0m\u001b[0;34m)\u001b[0m\u001b[0;34m,\u001b[0m \u001b[0mdtype\u001b[0m\u001b[0;34m)\u001b[0m\u001b[0;34m\u001b[0m\u001b[0;34m\u001b[0m\u001b[0m\n\u001b[0m\u001b[1;32m   1821\u001b[0m \u001b[0;34m\u001b[0m\u001b[0m\n\u001b[1;32m   1822\u001b[0m         \u001b[0mblock\u001b[0m \u001b[0;34m=\u001b[0m \u001b[0mmake_block\u001b[0m\u001b[0;34m(\u001b[0m\u001b[0mvalues\u001b[0m\u001b[0;34m,\u001b[0m \u001b[0mplacement\u001b[0m\u001b[0;34m=\u001b[0m\u001b[0mplacement\u001b[0m\u001b[0;34m)\u001b[0m\u001b[0;34m\u001b[0m\u001b[0;34m\u001b[0m\u001b[0m\n",
      "\u001b[0;32m~/anaconda3/envs/python3/lib/python3.6/site-packages/pandas/core/internals/managers.py\u001b[0m in \u001b[0;36m_stack_arrays\u001b[0;34m(tuples, dtype)\u001b[0m\n\u001b[1;32m   1846\u001b[0m     \u001b[0mshape\u001b[0m \u001b[0;34m=\u001b[0m \u001b[0;34m(\u001b[0m\u001b[0mlen\u001b[0m\u001b[0;34m(\u001b[0m\u001b[0marrays\u001b[0m\u001b[0;34m)\u001b[0m\u001b[0;34m,\u001b[0m\u001b[0;34m)\u001b[0m \u001b[0;34m+\u001b[0m \u001b[0m_shape_compat\u001b[0m\u001b[0;34m(\u001b[0m\u001b[0mfirst\u001b[0m\u001b[0;34m)\u001b[0m\u001b[0;34m\u001b[0m\u001b[0;34m\u001b[0m\u001b[0m\n\u001b[1;32m   1847\u001b[0m \u001b[0;34m\u001b[0m\u001b[0m\n\u001b[0;32m-> 1848\u001b[0;31m     \u001b[0mstacked\u001b[0m \u001b[0;34m=\u001b[0m \u001b[0mnp\u001b[0m\u001b[0;34m.\u001b[0m\u001b[0mempty\u001b[0m\u001b[0;34m(\u001b[0m\u001b[0mshape\u001b[0m\u001b[0;34m,\u001b[0m \u001b[0mdtype\u001b[0m\u001b[0;34m=\u001b[0m\u001b[0mdtype\u001b[0m\u001b[0;34m)\u001b[0m\u001b[0;34m\u001b[0m\u001b[0;34m\u001b[0m\u001b[0m\n\u001b[0m\u001b[1;32m   1849\u001b[0m     \u001b[0;32mfor\u001b[0m \u001b[0mi\u001b[0m\u001b[0;34m,\u001b[0m \u001b[0marr\u001b[0m \u001b[0;32min\u001b[0m \u001b[0menumerate\u001b[0m\u001b[0;34m(\u001b[0m\u001b[0marrays\u001b[0m\u001b[0;34m)\u001b[0m\u001b[0;34m:\u001b[0m\u001b[0;34m\u001b[0m\u001b[0;34m\u001b[0m\u001b[0m\n\u001b[1;32m   1850\u001b[0m         \u001b[0mstacked\u001b[0m\u001b[0;34m[\u001b[0m\u001b[0mi\u001b[0m\u001b[0;34m]\u001b[0m \u001b[0;34m=\u001b[0m \u001b[0m_asarray_compat\u001b[0m\u001b[0;34m(\u001b[0m\u001b[0marr\u001b[0m\u001b[0;34m)\u001b[0m\u001b[0;34m\u001b[0m\u001b[0;34m\u001b[0m\u001b[0m\n",
      "\u001b[0;31mMemoryError\u001b[0m: Unable to allocate 954. MiB for an array with shape (5000, 25000) and data type int64"
     ]
    }
   ],
   "source": [
    "test_X = pd.read_csv(os.path.join(data_dir, 'test.csv'), header=None).values\n",
    "\n",
    "predictions = predict(test_X)\n",
    "predictions = [round(num) for num in predictions]"
   ]
  },
  {
   "cell_type": "markdown",
   "metadata": {},
   "source": [
    "Lastly, we check to see what the accuracy of our model is."
   ]
  },
  {
   "cell_type": "code",
   "execution_count": 44,
   "metadata": {},
   "outputs": [
    {
     "data": {
      "text/plain": [
       "0.84544"
      ]
     },
     "execution_count": 44,
     "metadata": {},
     "output_type": "execute_result"
    }
   ],
   "source": [
    "from sklearn.metrics import accuracy_score\n",
    "accuracy_score(test_y, predictions)"
   ]
  },
  {
   "cell_type": "markdown",
   "metadata": {},
   "source": [
    "And the results here should agree with the model testing that we did earlier using the batch transform job.\n",
    "\n",
    "### Cleaning up\n",
    "\n",
    "Now that we've determined that deploying our model works as expected, we are going to shut it down. Remember that the longer the endpoint is left running, the greater the cost and since we have a bit more work to do before we are able to use our endpoint with our simple web app, we should shut everything down."
   ]
  },
  {
   "cell_type": "code",
   "execution_count": 45,
   "metadata": {},
   "outputs": [],
   "source": [
    "xgb_predictor.delete_endpoint()"
   ]
  },
  {
   "cell_type": "markdown",
   "metadata": {},
   "source": [
    "## Step 7: Putting our model to work\n",
    "\n",
    "As we've mentioned a few times now, our goal is to have our model deployed and then access it using a very simple web app. The intent is for this web app to take some user submitted data (a review), send it off to our endpoint (the model) and then display the result.\n",
    "\n",
    "However, there is a small catch. Currently the only way we can access the endpoint to send it data is using the SageMaker API. We can, if we wish, expose the actual URL that our model's endpoint is receiving data from, however, if we just send it data ourselves we will not get anything in return. This is because the endpoint created by SageMaker requires the entity accessing it have the correct permissions. So, we would need to somehow authenticate our web app with AWS.\n",
    "\n",
    "Having a website that authenticates to AWS seems a bit beyond the scope of this lesson so we will opt for an alternative approach. Namely, we will create a new endpoint which does not require authentication and which acts as a proxy for the SageMaker endpoint.\n",
    "\n",
    "As an additional constraint, we will try to avoid doing any data processing in the web app itself. Remember that when we constructed and tested our model we started with a movie review, then we simplified it by removing any html formatting and punctuation, then we constructed a bag of words embedding and the resulting vector is what we sent to our model. All of this needs to be done to our user input as well.\n",
    "\n",
    "Fortunately we can do all of this data processing in the backend, using Amazon's Lambda service.\n",
    "\n",
    "<img src=\"Web App Diagram.svg\">\n",
    "\n",
    "The diagram above gives an overview of how the various services will work together. On the far right is the model which we trained above and which will be deployed using SageMaker. On the far left is our web app that collects a user's movie review, sends it off and expects a positive or negative sentiment in return.\n",
    "\n",
    "In the middle is where some of the magic happens. We will construct a Lambda function, which you can think of as a straightforward Python function that can be executed whenever a specified event occurs. This Python function will do the data processing we need to perform on a user submitted review. In addition, we will give this function permission to send and recieve data from a SageMaker endpoint.\n",
    "\n",
    "Lastly, the method we will use to execute the Lambda function is a new endpoint that we will create using API Gateway. This endpoint will be a url that listens for data to be sent to it. Once it gets some data it will pass that data on to the Lambda function and then return whatever the Lambda function returns. Essentially it will act as an interface that lets our web app communicate with the Lambda function.\n",
    "\n",
    "### Processing a single review\n",
    "\n",
    "For now, suppose we are given a movie review by our user in the form of a string, like so:"
   ]
  },
  {
   "cell_type": "code",
   "execution_count": 52,
   "metadata": {},
   "outputs": [],
   "source": [
    "test_review = \"Nothing but a disgusting materialistic pageant of glistening abed remote control greed zombies, totally devoid of any heart or heat. A romantic comedy that has zero romantic chemestry and zero laughs!\""
   ]
  },
  {
   "cell_type": "markdown",
   "metadata": {},
   "source": [
    "How do we go from this string to the bag of words feature vector that is expected by our model?\n",
    "\n",
    "If we recall at the beginning of this notebook, the first step is to remove any unnecessary characters using the `review_to_words` method. Remember that we intentionally did this in a very simplistic way. This is because we are going to have to copy this method to our (eventual) Lambda function (we will go into more detail later) and this means it needs to be rather simplistic."
   ]
  },
  {
   "cell_type": "code",
   "execution_count": 54,
   "metadata": {},
   "outputs": [
    {
     "name": "stdout",
     "output_type": "stream",
     "text": [
      "nothing but a disgusting materialistic pageant of glistening abed remote control greed zombies totally devoid of any heart or heat a romantic comedy that has zero romantic chemestry and zero laughs\n"
     ]
    }
   ],
   "source": [
    "test_words = review_to_words(test_review)\n",
    "print(test_words)"
   ]
  },
  {
   "cell_type": "markdown",
   "metadata": {},
   "source": [
    "Next, we need to construct a bag of words embedding of the `test_words` string. To do this, remember that a bag of words embedding uses a `vocabulary` consisting of the most frequently appearing words in a set of documents. Then, for each word in the vocabulary we record the number of times that word appears in `test_words`. We constructed the `vocabulary` earlier using the training set for our problem so encoding `test_words` is relatively straightforward."
   ]
  },
  {
   "cell_type": "code",
   "execution_count": 55,
   "metadata": {},
   "outputs": [],
   "source": [
    "def bow_encoding(words, vocabulary):\n",
    "    bow = [0] * len(vocabulary) # Start by setting the count for each word in the vocabulary to zero.\n",
    "    for word in words.split():  # For each word in the string\n",
    "        if word in vocabulary:  # If the word is one that occurs in the vocabulary, increase its count.\n",
    "            bow[vocabulary[word]] += 1\n",
    "    return bow"
   ]
  },
  {
   "cell_type": "code",
   "execution_count": 56,
   "metadata": {},
   "outputs": [
    {
     "name": "stdout",
     "output_type": "stream",
     "text": [
      "[0, 0, 0, 0, 0, 0, 0, 0, 0, 0, 0, 0, 0, 0, 0, 0, 0, 0, 0, 0, 0, 0, 0, 0, 0, 0, 0, 0, 0, 0, 0, 0, 0, 0, 0, 0, 0, 0, 0, 0, 0, 0, 0, 0, 0, 0, 0, 0, 0, 0, 0, 0, 0, 0, 0, 0, 0, 0, 0, 0, 0, 0, 0, 0, 0, 0, 0, 0, 0, 0, 0, 0, 0, 0, 0, 0, 0, 0, 0, 0, 0, 0, 0, 0, 0, 0, 0, 0, 0, 0, 0, 0, 0, 0, 0, 0, 0, 0, 0, 0, 0, 0, 0, 0, 0, 0, 0, 0, 0, 0, 0, 0, 0, 0, 0, 0, 0, 0, 0, 0, 0, 0, 0, 0, 0, 0, 0, 0, 0, 0, 0, 0, 0, 0, 0, 0, 0, 0, 0, 0, 0, 0, 0, 0, 0, 0, 0, 0, 0, 0, 0, 0, 0, 0, 0, 0, 0, 0, 0, 0, 0, 0, 0, 0, 0, 0, 0, 0, 0, 0, 0, 0, 0, 0, 0, 0, 0, 0, 0, 0, 0, 0, 0, 0, 0, 0, 0, 0, 0, 0, 0, 0, 0, 0, 0, 0, 0, 0, 0, 0, 0, 0, 0, 0, 0, 0, 0, 0, 0, 0, 0, 0, 0, 0, 0, 0, 0, 0, 0, 0, 0, 0, 0, 0, 0, 0, 1, 0, 0, 0, 0, 0, 0, 0, 0, 0, 0, 0, 0, 0, 0, 0, 0, 0, 0, 0, 0, 0, 0, 0, 0, 0, 0, 0, 0, 0, 1, 0, 0, 0, 0, 0, 0, 0, 0, 0, 0, 0, 0, 0, 0, 0, 0, 0, 0, 0, 0, 0, 0, 0, 0, 0, 0, 0, 0, 0, 0, 0, 0, 0, 0, 0, 0, 0, 0, 0, 0, 0, 0, 0, 0, 0, 0, 0, 0, 0, 0, 0, 0, 0, 0, 0, 0, 0, 0, 0, 0, 0, 0, 0, 0, 0, 0, 0, 0, 0, 0, 0, 0, 0, 0, 0, 0, 0, 0, 0, 0, 0, 0, 0, 0, 0, 0, 0, 0, 0, 0, 0, 0, 0, 0, 0, 0, 0, 0, 0, 0, 0, 0, 0, 0, 0, 0, 0, 0, 0, 0, 0, 0, 0, 0, 0, 0, 0, 0, 0, 0, 0, 0, 0, 0, 0, 0, 0, 0, 0, 0, 0, 0, 0, 0, 0, 0, 0, 0, 0, 0, 0, 0, 0, 0, 0, 0, 0, 0, 0, 0, 0, 0, 0, 0, 0, 0, 0, 0, 0, 0, 0, 0, 0, 0, 0, 0, 0, 0, 0, 0, 0, 0, 0, 0, 0, 0, 0, 0, 0, 0, 0, 0, 0, 0, 0, 0, 0, 0, 0, 0, 0, 0, 0, 0, 0, 0, 0, 0, 0, 0, 0, 0, 0, 0, 0, 0, 0, 0, 0, 0, 0, 0, 0, 0, 0, 0, 0, 0, 0, 0, 0, 0, 0, 0, 0, 0, 0, 0, 0, 0, 0, 0, 0, 0, 0, 0, 0, 0, 0, 0, 0, 0, 0, 0, 0, 0, 0, 0, 0, 0, 0, 0, 0, 0, 0, 0, 0, 0, 0, 0, 0, 0, 0, 0, 0, 0, 0, 0, 0, 0, 0, 0, 0, 0, 0, 0, 0, 0, 0, 0, 0, 0, 0, 0, 0, 0, 0, 0, 0, 0, 0, 0, 0, 0, 0, 0, 0, 0, 0, 0, 0, 0, 0, 0, 0, 0, 0, 0, 0, 0, 0, 0, 0, 0, 0, 0, 0, 0, 0, 0, 0, 0, 0, 0, 0, 0, 0, 0, 0, 0, 0, 0, 0, 0, 0, 0, 0, 0, 0, 0, 0, 0, 0, 0, 0, 0, 0, 0, 0, 0, 0, 0, 0, 0, 0, 0, 0, 0, 0, 0, 0, 0, 0, 0, 0, 0, 0, 0, 0, 0, 0, 0, 0, 0, 0, 0, 0, 0, 0, 1, 0, 0, 0, 0, 0, 0, 0, 0, 0, 0, 0, 0, 0, 0, 0, 0, 0, 0, 0, 0, 0, 0, 0, 0, 0, 0, 0, 0, 0, 0, 0, 0, 0, 0, 0, 0, 0, 0, 0, 0, 0, 0, 0, 0, 0, 0, 0, 0, 0, 0, 0, 0, 0, 0, 0, 0, 0, 0, 0, 0, 0, 0, 0, 0, 0, 0, 0, 0, 0, 0, 0, 0, 0, 0, 0, 0, 0, 0, 0, 0, 0, 0, 0, 0, 0, 0, 0, 0, 0, 0, 0, 0, 0, 0, 0, 0, 0, 0, 0, 0, 0, 0, 0, 0, 0, 0, 0, 0, 0, 0, 0, 0, 0, 0, 0, 0, 0, 0, 0, 0, 0, 0, 0, 0, 0, 0, 0, 0, 0, 0, 0, 0, 0, 0, 0, 0, 0, 0, 0, 0, 0, 0, 0, 0, 0, 0, 0, 0, 0, 0, 0, 0, 0, 0, 0, 0, 0, 0, 0, 0, 0, 0, 0, 0, 0, 0, 0, 0, 0, 0, 0, 0, 0, 0, 0, 0, 0, 0, 0, 0, 0, 0, 0, 0, 0, 0, 0, 0, 0, 0, 0, 0, 0, 0, 0, 0, 0, 0, 0, 0, 0, 0, 0, 0, 0, 0, 0, 0, 0, 0, 0, 0, 0, 0, 0, 0, 0, 0, 0, 0, 0, 0, 0, 0, 0, 0, 0, 0, 0, 0, 0, 0, 0, 0, 0, 0, 0, 0, 0, 0, 0, 0, 0, 0, 0, 0, 0, 0, 0, 0, 0, 0, 0, 1, 0, 0, 0, 0, 0, 0, 0, 0, 0, 0, 0, 0, 0, 0, 0, 0, 0, 0, 0, 0, 0, 0, 0, 0, 0, 0, 0, 0, 0, 0, 0, 0, 0, 0, 0, 0, 0, 0, 0, 0, 0, 0, 0, 0, 0, 0, 0, 0, 0, 0, 0, 0, 0, 0, 0, 0, 0, 0, 0, 0, 0, 0, 0, 0, 0, 0, 0, 0, 0, 0, 0, 0, 0, 0, 0, 0, 0, 0, 0, 0, 0, 0, 0, 0, 0, 0, 1, 0, 0, 0, 0, 0, 0, 0, 0, 0, 0, 0, 0, 0, 0, 0, 0, 0, 0, 0, 0, 0, 0, 0, 0, 0, 0, 0, 0, 0, 0, 0, 0, 0, 0, 0, 0, 0, 0, 0, 0, 0, 0, 0, 0, 0, 0, 0, 0, 0, 0, 0, 0, 0, 0, 0, 0, 0, 0, 0, 0, 0, 0, 0, 0, 0, 0, 0, 0, 0, 0, 0, 0, 0, 0, 0, 0, 0, 0, 0, 0, 0, 0, 0, 0, 0, 0, 0, 0, 0, 0, 0, 0, 0, 0, 0, 0, 0, 0, 0, 0, 0, 0, 0, 0, 0, 0, 0, 0, 0, 0, 0, 0, 0, 0, 0, 0, 0, 0, 0, 0, 0, 0, 0, 0, 0, 0, 0, 0, 0, 0, 0, 0, 0, 0, 0, 0, 0, 0, 0, 0, 0, 0, 0, 0, 0, 0, 0, 0, 0, 0, 0, 0, 0, 0, 0, 0, 0, 0, 0, 0, 0, 0, 0, 0, 0, 0, 0, 0, 0, 0, 0, 0, 0, 0, 0, 0, 0, 0, 0, 0, 0, 0, 0, 0, 0, 0, 0, 0, 0, 0, 0, 0, 0, 0, 0, 0, 0, 0, 0, 0, 0, 0, 0, 0, 0, 0, 0, 0, 0, 0, 0, 0, 0, 0, 0, 0, 0, 0, 0, 0, 0, 0, 0, 0, 0, 0, 0, 0, 0, 0, 0, 0, 0, 0, 0, 0, 0, 0, 0, 0, 0, 0, 0, 0, 0, 0, 0, 0, 0, 0, 0, 0, 1, 0, 0, 0, 0, 0, 0, 0, 0, 0, 0, 0, 0, 0, 0, 0, 0, 0, 0, 0, 0, 0, 0, 0, 0, 0, 0, 0, 0, 0, 0, 0, 0, 0, 0, 0, 0, 0, 0, 0, 0, 0, 0, 0, 0, 0, 0, 0, 0, 0, 0, 0, 0, 0, 0, 0, 1, 0, 0, 0, 0, 0, 0, 0, 0, 0, 0, 0, 0, 0, 0, 0, 0, 0, 0, 0, 0, 0, 0, 0, 0, 0, 0, 0, 0, 0, 0, 0, 0, 0, 0, 0, 0, 0, 0, 0, 0, 0, 0, 0, 0, 0, 0, 0, 0, 0, 0, 0, 0, 0, 0, 0, 0, 0, 0, 0, 0, 0, 0, 0, 0, 0, 0, 0, 0, 0, 0, 0, 0, 0, 0, 0, 0, 0, 0, 0, 0, 0, 0, 0, 0, 0, 0, 0, 0, 0, 0, 0, 0, 0, 0, 0, 0, 0, 0, 0, 0, 0, 0, 0, 0, 0, 0, 0, 0, 0, 0, 0, 0, 0, 0, 0, 0, 0, 0, 0, 0, 0, 0, 0, 0, 0, 0, 0, 0, 0, 0, 0, 0, 0, 0, 0, 0, 0, 0, 0, 0, 0, 0, 0, 0, 0, 0, 0, 0, 0, 0, 0, 0, 0, 0, 0, 0, 0, 0, 0, 0, 0, 0, 0, 0, 0, 0, 0, 0, 0, 0, 0, 0, 0, 0, 0, 0, 0, 0, 0, 0, 0, 0, 0, 0, 0, 0, 0, 0, 0, 0, 0, 0, 0, 0, 0, 0, 0, 0, 0, 0, 0, 0, 0, 0, 0, 0, 0, 0, 0, 0, 0, 0, 0, 0, 0, 0, 0, 0, 0, 0, 0, 0, 0, 0, 0, 0, 0, 0, 0, 0, 0, 0, 0, 0, 0, 0, 0, 0, 0, 0, 0, 0, 0, 0, 0, 0, 0, 0, 0, 0, 0, 0, 0, 0, 0, 0, 0, 0, 0, 0, 0, 0, 0, 0, 0, 0, 0, 0, 0, 0, 0, 0, 0, 0, 0, 0, 0, 0, 0, 0, 0, 0, 0, 0, 0, 0, 0, 0, 0, 0, 0, 0, 0, 0, 0, 0, 0, 0, 0, 0, 0, 0, 0, 0, 0, 0, 0, 0, 0, 0, 0, 0, 0, 0, 0, 0, 0, 0, 0, 0, 0, 0, 0, 0, 0, 0, 0, 0, 0, 0, 0, 0, 0, 0, 0, 0, 0, 0, 0, 0, 0, 0, 0, 0, 0, 0, 0, 0, 0, 0, 0, 0, 0, 0, 0, 0, 0, 0, 0, 0, 0, 0, 0, 0, 0, 0, 0, 0, 0, 0, 0, 0, 0, 0, 0, 0, 0, 0, 0, 0, 0, 0, 0, 0, 0, 0, 0, 0, 0, 0, 0, 0, 0, 0, 0, 0, 0, 0, 0, 0, 0, 0, 0, 0, 0, 0, 0, 0, 0, 0, 0, 0, 0, 0, 0, 0, 0, 0, 0, 0, 0, 0, 0, 0, 0, 0, 0, 0, 0, 0, 0, 0, 0, 0, 0, 0, 0, 0, 0, 0, 0, 0, 0, 0, 0, 0, 0, 0, 0, 0, 0, 0, 0, 0, 0, 0, 0, 0, 0, 0, 0, 0, 0, 0, 0, 0, 0, 0, 0, 0, 0, 0, 0, 0, 0, 0, 0, 0, 0, 0, 0, 0, 0, 0, 0, 0, 0, 0, 0, 0, 0, 0, 0, 0, 0, 0, 0, 0, 0, 0, 0, 0, 0, 0, 0, 0, 0, 0, 0, 0, 0, 0, 0, 0, 0, 0, 0, 0, 0, 0, 0, 0, 0, 0, 0, 0, 0, 0, 0, 0, 0, 0, 0, 0, 0, 0, 0, 0, 0, 0, 0, 0, 0, 0, 0, 0, 0, 0, 0, 0, 0, 0, 0, 0, 0, 0, 0, 0, 0, 0, 0, 0, 0, 0, 0, 0, 0, 0, 0, 0, 0, 0, 0, 0, 0, 0, 0, 0, 0, 0, 0, 0, 0, 0, 0, 0, 0, 0, 0, 0, 0, 0, 0, 0, 0, 0, 0, 0, 0, 0, 0, 0, 0, 0, 0, 0, 0, 0, 0, 0, 0, 0, 0, 0, 0, 0, 0, 0, 0, 0, 0, 0, 0, 0, 0, 0, 0, 0, 0, 0, 0, 0, 0, 0, 0, 0, 0, 0, 0, 0, 0, 0, 0, 0, 0, 0, 0, 0, 0, 0, 0, 0, 0, 0, 0, 0, 0, 0, 0, 0, 0, 0, 0, 0, 0, 0, 0, 0, 0, 0, 0, 0, 0, 0, 0, 0, 0, 0, 0, 0, 0, 1, 0, 0, 0, 0, 0, 0, 0, 0, 0, 0, 0, 0, 0, 0, 0, 0, 0, 0, 0, 0, 0, 0, 0, 0, 0, 0, 0, 0, 0, 0, 0, 0, 0, 0, 0, 0, 0, 0, 0, 0, 0, 0, 0, 0, 0, 0, 0, 0, 0, 0, 0, 0, 0, 0, 0, 0, 0, 0, 0, 0, 0, 0, 0, 0, 0, 0, 0, 0, 0, 0, 0, 0, 0, 0, 1, 0, 0, 0, 0, 0, 0, 0, 0, 0, 0, 0, 0, 0, 0, 0, 0, 0, 0, 0, 0, 1, 0, 0, 1, 0, 0, 0, 0, 0, 0, 0, 0, 0, 0, 0, 0, 0, 0, 0, 0, 0, 0, 0, 0, 0, 0, 0, 0, 0, 0, 0, 0, 0, 0, 0, 0, 0, 0, 0, 0, 0, 0, 0, 0, 0, 0, 0, 0, 0, 0, 0, 0, 0, 0, 0, 0, 0, 0, 0, 0, 0, 0, 0, 0, 0, 0, 0, 0, 0, 0, 0, 0, 0, 0, 0, 0, 0, 0, 0, 0, 0, 0, 0, 0, 0, 0, 0, 0, 0, 0, 0, 0, 0, 0, 0, 0, 0, 0, 0, 0, 0, 0, 0, 0, 0, 0, 0, 0, 0, 0, 0, 0, 0, 0, 0, 0, 0, 0, 0, 0, 0, 0, 0, 0, 0, 0, 0, 0, 0, 0, 0, 0, 0, 0, 0, 0, 0, 0, 0, 0, 0, 0, 0, 0, 0, 0, 0, 0, 0, 0, 0, 0, 0, 0, 0, 0, 0, 0, 0, 0, 0, 0, 0, 0, 0, 0, 0, 0, 0, 0, 0, 0, 0, 0, 0, 0, 0, 0, 0, 0, 0, 0, 0, 0, 0, 0, 0, 0, 0, 0, 0, 0, 0, 0, 0, 0, 0, 0, 0, 0, 0, 0, 0, 0, 0, 0, 0, 0, 0, 0, 0, 0, 0, 0, 0, 0, 0, 0, 0, 0, 0, 0, 0, 0, 0, 0, 0, 0, 0, 0, 0, 0, 0, 0, 0, 0, 0, 0, 0, 0, 0, 0, 0, 0, 0, 0, 0, 0, 0, 0, 0, 0, 0, 0, 0, 0, 0, 0, 0, 0, 0, 0, 0, 0, 0, 0, 0, 0, 0, 0, 0, 0, 0, 0, 0, 0, 0, 0, 0, 0, 0, 0, 0, 0, 0, 0, 0, 0, 0, 0, 0, 0, 0, 0, 0, 0, 0, 0, 0, 0, 0, 0, 0, 0, 0, 0, 0, 0, 0, 0, 0, 0, 0, 0, 0, 0, 0, 0, 0, 0, 0, 0, 0, 0, 0, 0, 0, 0, 0, 0, 0, 0, 0, 0, 0, 0, 0, 0, 0, 0, 0, 0, 0, 0, 0, 0, 0, 0, 0, 0, 0, 0, 0, 0, 0, 0, 0, 0, 0, 0, 0, 0, 0, 0, 0, 0, 0, 0, 0, 0, 0, 0, 0, 0, 0, 0, 0, 0, 0, 0, 0, 0, 0, 0, 0, 0, 0, 0, 0, 0, 0, 0, 0, 0, 0, 0, 0, 0, 0, 0, 0, 0, 0, 0, 0, 0, 0, 0, 0, 0, 0, 0, 0, 0, 0, 0, 0, 0, 0, 0, 0, 0, 0, 0, 0, 0, 0, 0, 0, 0, 0, 0, 0, 0, 0, 0, 0, 0, 0, 0, 0, 0, 0, 0, 0, 0, 0, 0, 0, 0, 0, 0, 0, 0, 0, 0, 0, 0, 0, 0, 0, 0, 0, 0, 0, 0, 0, 0, 0, 0, 1, 0, 0, 0, 0, 0, 0, 0, 0, 0, 0, 0, 0, 0, 0, 0, 0, 0, 0, 0, 0, 0, 0, 0, 0, 0, 0, 0, 0, 0, 0, 0, 0, 0, 0, 0, 0, 0, 0, 0, 0, 0, 0, 0, 0, 0, 0, 0, 0, 0, 0, 0, 0, 0, 0, 0, 0, 0, 0, 0, 0, 0, 0, 0, 0, 0, 0, 0, 0, 0, 0, 0, 0, 0, 0, 0, 0, 0, 0, 0, 0, 0, 0, 0, 0, 0, 0, 0, 0, 0, 0, 0, 0, 0, 0, 0, 0, 0, 0, 0, 0, 0, 0, 0, 0, 0, 0, 0, 0, 0, 0, 0, 0, 0, 0, 0, 0, 0, 0, 0, 0, 0, 0, 0, 0, 0, 0, 0, 0, 0, 0, 0, 0, 0, 0, 0, 0, 0, 0, 0, 0, 0, 0, 0, 0, 0, 0, 0, 0, 0, 0, 0, 0, 0, 0, 0, 0, 0, 0, 0, 0, 0, 0, 0, 0, 0, 0, 0, 0, 0, 0, 0, 0, 0, 0, 0, 0, 0, 0, 0, 0, 0, 0, 0, 0, 0, 0, 0, 0, 0, 0, 0, 0, 0, 0, 0, 0, 0, 0, 0, 0, 0, 0, 0, 0, 0, 0, 0, 0, 0, 0, 0, 0, 0, 0, 0, 0, 0, 0, 0, 0, 0, 0, 0, 0, 0, 0, 0, 0, 0, 0, 0, 0, 0, 0, 0, 0, 0, 0, 0, 0, 0, 0, 0, 0, 0, 0, 0, 0, 0, 0, 0, 0, 0, 0, 0, 0, 0, 0, 0, 0, 0, 0, 0, 0, 0, 0, 0, 0, 0, 0, 0, 0, 0, 0, 0, 0, 0, 0, 0, 0, 0, 0, 0, 0, 0, 0, 0, 0, 0, 0, 0, 0, 0, 0, 0, 0, 0, 0, 0, 0, 0, 0, 0, 0, 0, 0, 0, 0, 0, 0, 0, 0, 0, 0, 0, 0, 0, 0, 0, 0, 0, 0, 0, 0, 0, 0, 0, 0, 0, 0, 0, 0, 0, 0, 0, 0, 0, 0, 0, 0, 0, 0, 0, 0, 0, 0, 0, 0, 0, 0, 0, 0, 0, 0, 0, 0, 0, 0, 0, 0, 0, 0, 0, 0, 0, 0, 0, 0, 0, 0, 0, 0, 0, 0, 0, 0, 0, 0, 0, 0, 0, 0, 0, 0, 0, 0, 0, 0, 0, 0, 0, 0, 0, 0, 0, 0, 0, 0, 0, 0, 0, 0, 0, 0, 0, 0, 0, 0, 0, 0, 0, 0, 0, 0, 0, 0, 0, 0, 0, 0, 0, 0, 0, 0, 0, 0, 0, 0, 0, 0, 0, 0, 0, 0, 0, 0, 0, 0, 0, 0, 0, 0, 0, 0, 0, 0, 0, 0, 0, 0, 0, 0, 0, 0, 0, 0, 0, 0, 0, 0, 0, 0, 0, 0, 0, 0, 0, 0, 0, 0, 0, 0, 0, 0, 0, 0, 0, 0, 0, 0, 0, 0, 0, 0, 0, 0, 0, 0, 0, 0, 0, 0, 0, 0, 0, 0, 0, 0, 0, 0, 0, 0, 0, 0, 0, 0, 0, 0, 0, 0, 0, 0, 1, 0, 0, 0, 0, 0, 0, 0, 0, 0, 0, 0, 0, 0, 0, 0, 0, 0, 0, 0, 0, 0, 0, 0, 0, 0, 0, 0, 0, 0, 0, 0, 0, 0, 0, 0, 2, 0, 0, 0, 0, 0, 0, 0, 0, 0, 0, 0, 0, 0, 0, 0, 0, 0, 0, 0, 0, 0, 0, 0, 0, 0, 0, 0, 0, 0, 0, 0, 0, 0, 0, 0, 0, 0, 0, 0, 0, 1, 0, 0, 0, 0, 0, 0, 0, 0, 0, 0, 0, 0, 0, 0, 0, 0, 0, 0, 0, 0, 0, 0, 0, 0, 0, 0, 0, 0, 0, 0, 0, 0, 0, 0, 0, 0, 0, 0, 0, 0, 0, 0, 0, 0, 0, 0, 0, 0, 0, 0, 0, 0, 0, 0, 0, 0, 0, 0, 0, 0, 0, 0, 0, 0, 0, 0, 0, 0, 0, 0, 0, 0, 0, 0, 0, 0, 0, 0, 0, 0, 0, 0, 0, 0, 0, 0, 0, 0, 0, 0, 0, 0, 0, 0, 0, 0, 0, 0, 0, 0, 0, 0, 0, 0, 0, 0, 0, 0, 0, 0, 0, 0, 0, 0, 0, 0, 0, 0, 0, 0, 0, 0, 0, 0, 0, 0, 0, 0, 0, 0, 0, 0, 0, 0, 0, 0, 0, 0, 0, 0, 0, 0, 0, 0, 0, 0, 0, 0, 0, 0, 0, 0, 0, 0, 0, 0, 0, 0, 0, 0, 0, 0, 0, 0, 0, 0, 0, 0, 0, 0, 0, 0, 0, 0, 0, 0, 0, 0, 0, 0, 0, 0, 0, 0, 0, 0, 0, 0, 0, 0, 0, 0, 0, 0, 0, 0, 0, 0, 0, 0, 0, 0, 0, 0, 0, 0, 0, 0, 0, 0, 0, 0, 0, 0, 0, 0, 0, 0, 0, 0, 0, 0, 0, 0, 0, 0, 0, 0, 0, 0, 0, 0, 0, 0, 0, 0, 0, 0, 0, 0, 0, 0, 0, 0, 0, 0, 0, 0, 0, 0, 0, 0, 0, 0, 0, 0, 0, 0, 0, 0, 0, 0, 0, 0, 0, 0, 0, 0, 0, 0, 0, 0, 0, 0, 0, 0, 0, 0, 0, 0, 0, 0, 0, 0, 0, 0, 0, 0, 0, 0, 0, 0, 0, 0, 0, 0, 0, 0, 0, 0, 0, 0, 0, 0, 0, 0, 0, 0, 0, 0, 0, 0, 0, 0, 0, 0, 0, 0, 0, 0, 0, 0, 0, 0, 0, 0, 0, 0, 0, 0, 0, 0, 0, 0, 0, 0, 0, 0, 0, 0, 0, 0, 0, 0, 0, 0, 0, 0, 0, 0, 0, 0, 0, 0, 0, 0, 0, 0, 0, 0, 0, 0, 0, 0, 0, 0, 0, 0, 0, 0, 0, 0, 0, 0, 0, 0, 0, 0, 0, 0, 0, 0, 0, 0, 0, 0, 0, 0, 0, 0, 0, 0, 0, 0, 0, 0, 0, 0, 0, 0, 0, 0, 0, 0, 0, 0, 0, 0, 0, 0, 0, 0, 0, 0, 0, 0, 0, 0, 0, 0, 0, 0, 0, 0, 0, 0, 0, 0, 0, 0, 0, 0, 0, 0, 0, 0, 0, 0, 0, 0, 0, 0, 0, 0, 0, 0, 0, 0, 0, 0, 0, 0, 0, 0, 0, 0, 0, 0, 0, 0, 0, 0, 0, 0, 0, 0, 0, 0, 0, 0, 0, 0, 0, 0, 0, 0, 0, 0, 0, 0, 0, 0, 0, 0, 0, 0, 0, 0, 0, 0, 0, 0, 0, 0, 0, 0, 0, 1, 0, 0, 0, 0, 0, 0, 0, 0, 0, 0, 0, 0, 0, 0, 0, 0, 0, 0, 0, 0, 0, 0, 0, 0, 0, 0, 0, 0, 0, 0, 0, 0, 0, 0, 0, 0, 0, 0, 0, 0, 0, 0, 0, 0, 0, 0, 0, 0, 0, 0, 0, 0, 0, 0, 0, 0, 0, 0, 0, 0, 0, 0, 0, 0, 0, 0, 0, 0, 0, 0, 0, 0, 0, 0, 0, 0, 0, 0, 0, 0, 0, 0, 0, 0, 0, 0, 0, 0, 0, 0, 0, 0, 0, 0, 0, 0, 0, 0, 0, 0, 0, 0, 0, 0, 0, 0, 0, 0, 0, 0, 2, 0, 0, 0, 0, 0, 0, 0, 0, 0, 0, 0, 0, 0, 0, 0, 0, 0, 0, 0, 0, 0, 0, 0, 0, 0, 0, 0, 0, 0, 0, 0, 0, 0, 0, 0, 0, 0, 0, 0, 0, 0, 0, 0, 0, 0, 0, 0, 0, 0, 0, 0, 0, 0, 0, 0, 0, 0, 0, 0, 0, 0, 0, 0, 0, 0, 0, 0, 0, 0, 0, 0, 0, 0, 0, 0, 0, 0, 0, 0, 0, 0, 0, 0, 0, 0, 0, 0, 0, 0, 0, 0, 0, 0, 0, 0, 0, 0, 0, 0, 0, 0, 0, 0, 0, 0, 0, 0, 0, 0, 0, 0, 0, 0, 0, 0, 0, 0, 0, 0, 0, 0, 0, 0, 0, 0, 0, 0, 0, 0, 0, 0, 0, 0, 0, 0, 0, 0, 0, 0, 0, 0, 0, 0, 0, 0, 0, 0, 0, 0, 0, 0, 0, 0, 0, 0, 0, 0, 0, 0, 0, 0, 0, 0, 0, 0, 0, 0, 0, 0, 0, 0, 0, 0, 0, 0, 0, 0, 0, 0, 0, 0, 0, 0, 0, 0, 0, 0, 0, 0, 0, 0, 0, 0, 0, 0, 0, 0, 0, 0, 0, 0, 0, 0, 0, 0, 0, 0, 0, 0, 0, 0, 0, 0, 0, 0, 0, 0, 0, 0, 0, 0, 0, 0, 0, 0, 0, 0, 0, 0, 0, 0, 0, 0, 0, 0, 0, 0, 0, 0, 0, 0, 0, 0, 0, 0, 0, 0, 0, 0, 0, 0, 0, 0, 0, 0, 0, 0, 0, 0, 0, 0, 0, 0, 0, 0, 0, 0, 0, 0, 0, 0, 0, 0, 0, 0, 0, 0, 0, 0, 0, 0, 0, 0, 0, 0, 0, 0, 0, 0, 0, 0, 0, 0, 0, 0, 0, 0, 0, 0, 0, 0, 0, 0, 0, 0, 0, 0, 0, 0, 0, 0, 0, 0, 0, 0, 0, 0, 0, 0, 0, 0, 0, 0, 0, 0, 0, 0, 0, 0, 0, 0, 0, 0, 0, 0, 0, 0, 0, 0, 0, 0, 0, 0, 0, 0, 0, 0, 0, 0, 0, 0, 0, 0, 0, 0, 0, 0, 0, 0, 0, 0, 0, 0, 0, 0, 0, 0, 0, 0, 0, 0, 0, 0, 0, 0, 0, 0, 0, 0, 0, 0, 0, 0, 0, 0, 0, 0, 0, 0, 0, 0, 0, 0, 0, 0, 0, 0, 0, 0, 0, 0, 0, 0, 0, 0, 0, 0, 0, 0, 0, 0, 0, 0, 0, 0, 0, 0, 0, 0, 0, 0, 0, 0, 0, 0, 0, 0, 0, 0, 0, 0, 0, 0, 0, 0, 0, 0, 0, 0, 0, 0, 0, 0, 0, 0, 0, 0, 0, 0, 0, 0, 0, 0, 0, 0, 0, 0, 0, 0, 0, 0, 0, 0, 0, 0, 0, 0, 0, 0, 0, 0, 0, 0, 0, 0, 0, 0, 0, 0, 0, 0, 0, 0, 0, 0, 0, 0, 0, 0, 0, 0, 0, 0, 0, 0, 0, 0, 0, 0, 0, 0, 0, 0, 0, 0, 0, 0, 0, 0, 0, 0, 0, 0, 0, 0, 0, 0, 0, 0, 0, 0, 0, 0, 0, 0, 0, 0, 0, 0, 0, 0, 0, 0, 0, 0, 0, 0, 0, 0, 0, 0, 0, 0, 0, 0, 0, 0, 0, 0, 0, 0, 0, 0, 0, 0, 0, 0, 0, 0, 0, 0, 0, 0, 0, 0, 0, 0, 0, 0, 0, 0, 0, 0, 0, 0, 0, 0, 0, 0, 0, 0, 0, 0, 0, 0, 0, 0, 0, 0, 0, 0, 0, 0, 0, 0, 0, 0, 0, 0, 0, 0, 0, 0, 0, 0, 0, 0, 0, 0, 0, 0, 0, 0, 0, 0, 0, 0, 0, 0, 0, 0, 0, 0, 0, 0, 0, 0, 0, 0, 0, 0, 0, 0, 0, 0, 0, 0, 0, 0, 0, 0, 0, 0, 0, 0, 0, 0, 0, 0, 0, 0, 0, 0, 0, 0, 0, 0, 0, 0, 0, 0, 0, 0, 0, 0, 0, 0, 0, 0, 0, 0, 0, 0, 0, 0, 0, 0, 0, 0, 0, 0, 0, 0, 0, 0, 0, 0, 0, 0, 0, 1, 0, 0, 0, 0, 0, 0, 0, 0, 0, 0, 0, 0, 0, 0, 0, 0, 0, 0, 0, 0, 0, 0, 0, 0, 0, 0, 0, 0, 0, 0, 0, 0, 0, 0, 0, 0, 0, 0, 0, 0, 0, 0, 0, 0, 0, 0, 0, 0, 0, 0, 0, 0, 0, 0, 0, 0, 0, 0, 0, 0, 0, 0, 0, 0, 0, 0, 0, 0, 0, 0, 0, 0, 0, 0, 0, 0, 0, 0, 0, 0, 0, 0, 0, 0, 0, 0, 0, 0, 0, 0, 0, 0, 0, 0, 0, 0, 0, 0, 0, 0, 0, 0, 0, 0, 0, 0, 0, 1, 0, 0, 0, 0, 0, 0, 0, 0, 0, 0, 0, 0, 0, 0, 0, 0, 0, 0, 0, 0, 0, 0, 0, 0, 0, 0, 0, 0, 0, 0, 0, 0, 0, 0, 0, 0, 0, 0, 0, 0, 0, 0, 0, 0, 0, 0, 0, 0, 0, 0, 0, 0, 0, 0, 0, 0, 0, 0, 0, 0, 0, 0, 0, 0, 0, 0, 0, 0, 0, 0, 0, 0, 0, 0, 0, 0, 0, 0, 0, 0, 0, 0, 0, 0, 0, 0, 0, 0, 0, 0, 0, 0, 0, 0, 0, 0, 0, 0, 0, 0, 0, 0, 0, 0, 0, 0, 0, 0, 0, 0, 0, 0, 0, 0, 0, 0, 0, 0, 0, 0, 0, 0, 0, 0, 0, 0, 0, 0, 0, 0, 0, 0, 0, 0, 0, 0, 0, 0, 0, 0, 0, 0, 0, 0, 0, 0, 0, 0, 0, 0, 0, 0, 0, 0, 0, 0, 0, 0, 0, 0, 0, 0, 0, 0, 0, 0, 0, 0, 0, 0, 0, 0, 0, 0, 0, 0, 0, 0, 0, 0, 0, 0, 0, 0, 0, 0, 0, 0, 0, 0, 0, 0, 0, 0, 0, 0, 0, 0, 0, 0, 0, 0, 0, 0, 0, 0, 0, 0, 0, 0, 0, 0, 0, 0, 0, 0, 0, 0, 0, 0, 0, 0, 0, 0, 0, 0, 0, 0, 0, 0, 0, 0, 0, 0, 0, 0, 0, 0, 0, 0, 0, 0, 0, 0, 0, 0, 0, 0, 0, 0, 0, 0, 0, 0, 0, 0, 0, 0, 0, 0, 0, 0, 0, 0, 0, 0, 0, 0, 0, 0, 0, 0, 0, 0, 0, 0, 0, 0, 0, 0, 0, 0, 0, 0, 0, 0, 0, 0, 0, 0, 0, 0, 0, 0, 0, 0, 0, 0, 0, 0, 0, 0, 0, 0, 0, 0, 0, 0, 0, 0, 0, 0, 0, 0, 0, 0, 0, 0, 0, 0, 0, 0, 0, 0, 0, 0, 0, 0, 0, 0, 0, 0, 0, 0, 0, 0, 0, 0, 0, 0, 0, 0, 0, 0, 0, 0, 0, 0, 0, 0, 0, 0, 0, 0, 0, 0, 0, 0, 0, 0, 0, 0, 0, 0, 0, 0, 0, 0, 0, 0, 0, 0, 0, 0, 0, 0, 0, 0, 0, 0, 0, 0, 0, 0, 0, 0, 0, 0, 0, 0, 0, 0, 0, 0, 0, 0, 0, 0, 0, 0, 0, 0, 0, 0, 0, 0, 0, 0, 0, 0, 0, 0, 0, 0, 0, 0, 0, 0, 0, 0, 0, 0, 0, 0, 0, 0, 0, 0, 0, 0, 0, 0, 0, 0, 0, 0, 0, 0, 0, 0, 0, 0, 0, 0, 0, 0, 0, 0, 0, 0, 0, 0, 0, 0, 0, 0, 0, 0, 0, 0, 0, 0, 0, 2, 0, 1, 0]\n"
     ]
    }
   ],
   "source": [
    "test_bow = bow_encoding(test_words, vocabulary)\n",
    "print(test_bow)"
   ]
  },
  {
   "cell_type": "code",
   "execution_count": 57,
   "metadata": {},
   "outputs": [
    {
     "data": {
      "text/plain": [
       "5000"
      ]
     },
     "execution_count": 57,
     "metadata": {},
     "output_type": "execute_result"
    }
   ],
   "source": [
    "len(test_bow)"
   ]
  },
  {
   "cell_type": "markdown",
   "metadata": {},
   "source": [
    "So now we know how to construct a bag of words encoding of a user provided review, how to we send it to our endpoint? First, we need to start the endpoint back up."
   ]
  },
  {
   "cell_type": "code",
   "execution_count": null,
   "metadata": {},
   "outputs": [
    {
     "name": "stderr",
     "output_type": "stream",
     "text": [
      "WARNING:sagemaker:Parameter image will be renamed to image_uri in SageMaker Python SDK v2.\n",
      "WARNING:sagemaker:Using already existing model: xgboost-2020-07-16-01-04-03-769\n"
     ]
    },
    {
     "name": "stdout",
     "output_type": "stream",
     "text": [
      "-------"
     ]
    }
   ],
   "source": [
    "xgb_predictor = xgb.deploy(initial_instance_count = 1, instance_type = 'ml.m4.xlarge')"
   ]
  },
  {
   "cell_type": "markdown",
   "metadata": {},
   "source": [
    "At this point we could just do the same thing that we did earlier when we tested our deployed model and send `test_bow` to our endpoint using the `xgb_predictor` object. However, when we eventually construct our Lambda function we won't have access to this object, so how do we call a SageMaker endpoint?\n",
    "\n",
    "It turns out that Python functions that are used in Lambda have access to another Amazon library called `boto3`. This library provides an API for working with Amazon services, including SageMaker. To start with, we need to get a handle to the SageMaker runtime."
   ]
  },
  {
   "cell_type": "code",
   "execution_count": 58,
   "metadata": {},
   "outputs": [],
   "source": [
    "import boto3\n",
    "\n",
    "runtime = boto3.Session().client('sagemaker-runtime')"
   ]
  },
  {
   "cell_type": "markdown",
   "metadata": {},
   "source": [
    "And now that we have access to the SageMaker runtime, we can ask it to make use of (invoke) an endpoint that has already been created. However, we need to provide SageMaker with the name of the deployed endpoint. To find this out we can print it out using the `xgb_predictor` object."
   ]
  },
  {
   "cell_type": "code",
   "execution_count": 59,
   "metadata": {},
   "outputs": [
    {
     "data": {
      "text/plain": [
       "'xgboost-2020-07-16-01-04-03-769'"
      ]
     },
     "execution_count": 59,
     "metadata": {},
     "output_type": "execute_result"
    }
   ],
   "source": [
    "xgb_predictor.endpoint"
   ]
  },
  {
   "cell_type": "markdown",
   "metadata": {},
   "source": [
    "Using the SageMaker runtime and the name of our endpoint, we can invoke the endpoint and send it the `test_bow` data."
   ]
  },
  {
   "cell_type": "code",
   "execution_count": 60,
   "metadata": {
    "collapsed": true
   },
   "outputs": [
    {
     "ename": "ParamValidationError",
     "evalue": "Parameter validation failed:\nInvalid type for parameter Body, value: [0, 0, 0, 0, 0, 0, 0, 0, 0, 0, 0, 0, 0, 0, 0, 0, 0, 0, 0, 0, 0, 0, 0, 0, 0, 0, 0, 0, 0, 0, 0, 0, 0, 0, 0, 0, 0, 0, 0, 0, 0, 0, 0, 0, 0, 0, 0, 0, 0, 0, 0, 0, 0, 0, 0, 0, 0, 0, 0, 0, 0, 0, 0, 0, 0, 0, 0, 0, 0, 0, 0, 0, 0, 0, 0, 0, 0, 0, 0, 0, 0, 0, 0, 0, 0, 0, 0, 0, 0, 0, 0, 0, 0, 0, 0, 0, 0, 0, 0, 0, 0, 0, 0, 0, 0, 0, 0, 0, 0, 0, 0, 0, 0, 0, 0, 0, 0, 0, 0, 0, 0, 0, 0, 0, 0, 0, 0, 0, 0, 0, 0, 0, 0, 0, 0, 0, 0, 0, 0, 0, 0, 0, 0, 0, 0, 0, 0, 0, 0, 0, 0, 0, 0, 0, 0, 0, 0, 0, 0, 0, 0, 0, 0, 0, 0, 0, 0, 0, 0, 0, 0, 0, 0, 0, 0, 0, 0, 0, 0, 0, 0, 0, 0, 0, 0, 0, 0, 0, 0, 0, 0, 0, 0, 0, 0, 0, 0, 0, 0, 0, 0, 0, 0, 0, 0, 0, 0, 0, 0, 0, 0, 0, 0, 0, 0, 0, 0, 0, 0, 0, 0, 0, 0, 0, 0, 0, 1, 0, 0, 0, 0, 0, 0, 0, 0, 0, 0, 0, 0, 0, 0, 0, 0, 0, 0, 0, 0, 0, 0, 0, 0, 0, 0, 0, 0, 0, 1, 0, 0, 0, 0, 0, 0, 0, 0, 0, 0, 0, 0, 0, 0, 0, 0, 0, 0, 0, 0, 0, 0, 0, 0, 0, 0, 0, 0, 0, 0, 0, 0, 0, 0, 0, 0, 0, 0, 0, 0, 0, 0, 0, 0, 0, 0, 0, 0, 0, 0, 0, 0, 0, 0, 0, 0, 0, 0, 0, 0, 0, 0, 0, 0, 0, 0, 0, 0, 0, 0, 0, 0, 0, 0, 0, 0, 0, 0, 0, 0, 0, 0, 0, 0, 0, 0, 0, 0, 0, 0, 0, 0, 0, 0, 0, 0, 0, 0, 0, 0, 0, 0, 0, 0, 0, 0, 0, 0, 0, 0, 0, 0, 0, 0, 0, 0, 0, 0, 0, 0, 0, 0, 0, 0, 0, 0, 0, 0, 0, 0, 0, 0, 0, 0, 0, 0, 0, 0, 0, 0, 0, 0, 0, 0, 0, 0, 0, 0, 0, 0, 0, 0, 0, 0, 0, 0, 0, 0, 0, 0, 0, 0, 0, 0, 0, 0, 0, 0, 0, 0, 0, 0, 0, 0, 0, 0, 0, 0, 0, 0, 0, 0, 0, 0, 0, 0, 0, 0, 0, 0, 0, 0, 0, 0, 0, 0, 0, 0, 0, 0, 0, 0, 0, 0, 0, 0, 0, 0, 0, 0, 0, 0, 0, 0, 0, 0, 0, 0, 0, 0, 0, 0, 0, 0, 0, 0, 0, 0, 0, 0, 0, 0, 0, 0, 0, 0, 0, 0, 0, 0, 0, 0, 0, 0, 0, 0, 0, 0, 0, 0, 0, 0, 0, 0, 0, 0, 0, 0, 0, 0, 0, 0, 0, 0, 0, 0, 0, 0, 0, 0, 0, 0, 0, 0, 0, 0, 0, 0, 0, 0, 0, 0, 0, 0, 0, 0, 0, 0, 0, 0, 0, 0, 0, 0, 0, 0, 0, 0, 0, 0, 0, 0, 0, 0, 0, 0, 0, 0, 0, 0, 0, 0, 0, 0, 0, 0, 0, 0, 0, 0, 0, 0, 0, 0, 0, 0, 0, 0, 0, 0, 0, 0, 0, 0, 0, 0, 0, 0, 0, 0, 0, 0, 0, 0, 0, 0, 0, 0, 0, 0, 0, 0, 0, 0, 0, 0, 0, 0, 0, 0, 0, 0, 0, 0, 0, 0, 0, 0, 0, 0, 0, 0, 0, 0, 0, 0, 0, 0, 0, 1, 0, 0, 0, 0, 0, 0, 0, 0, 0, 0, 0, 0, 0, 0, 0, 0, 0, 0, 0, 0, 0, 0, 0, 0, 0, 0, 0, 0, 0, 0, 0, 0, 0, 0, 0, 0, 0, 0, 0, 0, 0, 0, 0, 0, 0, 0, 0, 0, 0, 0, 0, 0, 0, 0, 0, 0, 0, 0, 0, 0, 0, 0, 0, 0, 0, 0, 0, 0, 0, 0, 0, 0, 0, 0, 0, 0, 0, 0, 0, 0, 0, 0, 0, 0, 0, 0, 0, 0, 0, 0, 0, 0, 0, 0, 0, 0, 0, 0, 0, 0, 0, 0, 0, 0, 0, 0, 0, 0, 0, 0, 0, 0, 0, 0, 0, 0, 0, 0, 0, 0, 0, 0, 0, 0, 0, 0, 0, 0, 0, 0, 0, 0, 0, 0, 0, 0, 0, 0, 0, 0, 0, 0, 0, 0, 0, 0, 0, 0, 0, 0, 0, 0, 0, 0, 0, 0, 0, 0, 0, 0, 0, 0, 0, 0, 0, 0, 0, 0, 0, 0, 0, 0, 0, 0, 0, 0, 0, 0, 0, 0, 0, 0, 0, 0, 0, 0, 0, 0, 0, 0, 0, 0, 0, 0, 0, 0, 0, 0, 0, 0, 0, 0, 0, 0, 0, 0, 0, 0, 0, 0, 0, 0, 0, 0, 0, 0, 0, 0, 0, 0, 0, 0, 0, 0, 0, 0, 0, 0, 0, 0, 0, 0, 0, 0, 0, 0, 0, 0, 0, 0, 0, 0, 0, 0, 0, 0, 0, 0, 0, 0, 0, 0, 0, 1, 0, 0, 0, 0, 0, 0, 0, 0, 0, 0, 0, 0, 0, 0, 0, 0, 0, 0, 0, 0, 0, 0, 0, 0, 0, 0, 0, 0, 0, 0, 0, 0, 0, 0, 0, 0, 0, 0, 0, 0, 0, 0, 0, 0, 0, 0, 0, 0, 0, 0, 0, 0, 0, 0, 0, 0, 0, 0, 0, 0, 0, 0, 0, 0, 0, 0, 0, 0, 0, 0, 0, 0, 0, 0, 0, 0, 0, 0, 0, 0, 0, 0, 0, 0, 0, 0, 1, 0, 0, 0, 0, 0, 0, 0, 0, 0, 0, 0, 0, 0, 0, 0, 0, 0, 0, 0, 0, 0, 0, 0, 0, 0, 0, 0, 0, 0, 0, 0, 0, 0, 0, 0, 0, 0, 0, 0, 0, 0, 0, 0, 0, 0, 0, 0, 0, 0, 0, 0, 0, 0, 0, 0, 0, 0, 0, 0, 0, 0, 0, 0, 0, 0, 0, 0, 0, 0, 0, 0, 0, 0, 0, 0, 0, 0, 0, 0, 0, 0, 0, 0, 0, 0, 0, 0, 0, 0, 0, 0, 0, 0, 0, 0, 0, 0, 0, 0, 0, 0, 0, 0, 0, 0, 0, 0, 0, 0, 0, 0, 0, 0, 0, 0, 0, 0, 0, 0, 0, 0, 0, 0, 0, 0, 0, 0, 0, 0, 0, 0, 0, 0, 0, 0, 0, 0, 0, 0, 0, 0, 0, 0, 0, 0, 0, 0, 0, 0, 0, 0, 0, 0, 0, 0, 0, 0, 0, 0, 0, 0, 0, 0, 0, 0, 0, 0, 0, 0, 0, 0, 0, 0, 0, 0, 0, 0, 0, 0, 0, 0, 0, 0, 0, 0, 0, 0, 0, 0, 0, 0, 0, 0, 0, 0, 0, 0, 0, 0, 0, 0, 0, 0, 0, 0, 0, 0, 0, 0, 0, 0, 0, 0, 0, 0, 0, 0, 0, 0, 0, 0, 0, 0, 0, 0, 0, 0, 0, 0, 0, 0, 0, 0, 0, 0, 0, 0, 0, 0, 0, 0, 0, 0, 0, 0, 0, 0, 0, 0, 0, 0, 0, 1, 0, 0, 0, 0, 0, 0, 0, 0, 0, 0, 0, 0, 0, 0, 0, 0, 0, 0, 0, 0, 0, 0, 0, 0, 0, 0, 0, 0, 0, 0, 0, 0, 0, 0, 0, 0, 0, 0, 0, 0, 0, 0, 0, 0, 0, 0, 0, 0, 0, 0, 0, 0, 0, 0, 0, 1, 0, 0, 0, 0, 0, 0, 0, 0, 0, 0, 0, 0, 0, 0, 0, 0, 0, 0, 0, 0, 0, 0, 0, 0, 0, 0, 0, 0, 0, 0, 0, 0, 0, 0, 0, 0, 0, 0, 0, 0, 0, 0, 0, 0, 0, 0, 0, 0, 0, 0, 0, 0, 0, 0, 0, 0, 0, 0, 0, 0, 0, 0, 0, 0, 0, 0, 0, 0, 0, 0, 0, 0, 0, 0, 0, 0, 0, 0, 0, 0, 0, 0, 0, 0, 0, 0, 0, 0, 0, 0, 0, 0, 0, 0, 0, 0, 0, 0, 0, 0, 0, 0, 0, 0, 0, 0, 0, 0, 0, 0, 0, 0, 0, 0, 0, 0, 0, 0, 0, 0, 0, 0, 0, 0, 0, 0, 0, 0, 0, 0, 0, 0, 0, 0, 0, 0, 0, 0, 0, 0, 0, 0, 0, 0, 0, 0, 0, 0, 0, 0, 0, 0, 0, 0, 0, 0, 0, 0, 0, 0, 0, 0, 0, 0, 0, 0, 0, 0, 0, 0, 0, 0, 0, 0, 0, 0, 0, 0, 0, 0, 0, 0, 0, 0, 0, 0, 0, 0, 0, 0, 0, 0, 0, 0, 0, 0, 0, 0, 0, 0, 0, 0, 0, 0, 0, 0, 0, 0, 0, 0, 0, 0, 0, 0, 0, 0, 0, 0, 0, 0, 0, 0, 0, 0, 0, 0, 0, 0, 0, 0, 0, 0, 0, 0, 0, 0, 0, 0, 0, 0, 0, 0, 0, 0, 0, 0, 0, 0, 0, 0, 0, 0, 0, 0, 0, 0, 0, 0, 0, 0, 0, 0, 0, 0, 0, 0, 0, 0, 0, 0, 0, 0, 0, 0, 0, 0, 0, 0, 0, 0, 0, 0, 0, 0, 0, 0, 0, 0, 0, 0, 0, 0, 0, 0, 0, 0, 0, 0, 0, 0, 0, 0, 0, 0, 0, 0, 0, 0, 0, 0, 0, 0, 0, 0, 0, 0, 0, 0, 0, 0, 0, 0, 0, 0, 0, 0, 0, 0, 0, 0, 0, 0, 0, 0, 0, 0, 0, 0, 0, 0, 0, 0, 0, 0, 0, 0, 0, 0, 0, 0, 0, 0, 0, 0, 0, 0, 0, 0, 0, 0, 0, 0, 0, 0, 0, 0, 0, 0, 0, 0, 0, 0, 0, 0, 0, 0, 0, 0, 0, 0, 0, 0, 0, 0, 0, 0, 0, 0, 0, 0, 0, 0, 0, 0, 0, 0, 0, 0, 0, 0, 0, 0, 0, 0, 0, 0, 0, 0, 0, 0, 0, 0, 0, 0, 0, 0, 0, 0, 0, 0, 0, 0, 0, 0, 0, 0, 0, 0, 0, 0, 0, 0, 0, 0, 0, 0, 0, 0, 0, 0, 0, 0, 0, 0, 0, 0, 0, 0, 0, 0, 0, 0, 0, 0, 0, 0, 0, 0, 0, 0, 0, 0, 0, 0, 0, 0, 0, 0, 0, 0, 0, 0, 0, 0, 0, 0, 0, 0, 0, 0, 0, 0, 0, 0, 0, 0, 0, 0, 0, 0, 0, 0, 0, 0, 0, 0, 0, 0, 0, 0, 0, 0, 0, 0, 0, 0, 0, 0, 0, 0, 0, 0, 0, 0, 0, 0, 0, 0, 0, 0, 0, 0, 0, 0, 0, 0, 0, 0, 0, 0, 0, 0, 0, 0, 0, 0, 0, 0, 0, 0, 0, 0, 0, 0, 0, 0, 0, 0, 0, 0, 0, 0, 0, 0, 0, 0, 0, 0, 0, 0, 0, 0, 0, 0, 0, 0, 0, 0, 0, 0, 0, 0, 0, 0, 0, 0, 0, 0, 0, 0, 0, 0, 0, 0, 0, 0, 0, 0, 0, 0, 0, 0, 0, 0, 0, 0, 0, 0, 0, 0, 0, 0, 0, 0, 0, 0, 0, 0, 0, 0, 0, 0, 0, 0, 0, 0, 0, 0, 0, 0, 0, 0, 0, 0, 0, 0, 0, 0, 0, 0, 0, 0, 0, 0, 0, 0, 0, 0, 0, 0, 0, 0, 0, 0, 0, 0, 0, 0, 0, 0, 0, 0, 0, 0, 0, 0, 0, 0, 0, 0, 0, 0, 0, 0, 0, 0, 0, 0, 0, 0, 0, 0, 0, 0, 0, 0, 0, 0, 0, 0, 0, 1, 0, 0, 0, 0, 0, 0, 0, 0, 0, 0, 0, 0, 0, 0, 0, 0, 0, 0, 0, 0, 0, 0, 0, 0, 0, 0, 0, 0, 0, 0, 0, 0, 0, 0, 0, 0, 0, 0, 0, 0, 0, 0, 0, 0, 0, 0, 0, 0, 0, 0, 0, 0, 0, 0, 0, 0, 0, 0, 0, 0, 0, 0, 0, 0, 0, 0, 0, 0, 0, 0, 0, 0, 0, 0, 1, 0, 0, 0, 0, 0, 0, 0, 0, 0, 0, 0, 0, 0, 0, 0, 0, 0, 0, 0, 0, 1, 0, 0, 1, 0, 0, 0, 0, 0, 0, 0, 0, 0, 0, 0, 0, 0, 0, 0, 0, 0, 0, 0, 0, 0, 0, 0, 0, 0, 0, 0, 0, 0, 0, 0, 0, 0, 0, 0, 0, 0, 0, 0, 0, 0, 0, 0, 0, 0, 0, 0, 0, 0, 0, 0, 0, 0, 0, 0, 0, 0, 0, 0, 0, 0, 0, 0, 0, 0, 0, 0, 0, 0, 0, 0, 0, 0, 0, 0, 0, 0, 0, 0, 0, 0, 0, 0, 0, 0, 0, 0, 0, 0, 0, 0, 0, 0, 0, 0, 0, 0, 0, 0, 0, 0, 0, 0, 0, 0, 0, 0, 0, 0, 0, 0, 0, 0, 0, 0, 0, 0, 0, 0, 0, 0, 0, 0, 0, 0, 0, 0, 0, 0, 0, 0, 0, 0, 0, 0, 0, 0, 0, 0, 0, 0, 0, 0, 0, 0, 0, 0, 0, 0, 0, 0, 0, 0, 0, 0, 0, 0, 0, 0, 0, 0, 0, 0, 0, 0, 0, 0, 0, 0, 0, 0, 0, 0, 0, 0, 0, 0, 0, 0, 0, 0, 0, 0, 0, 0, 0, 0, 0, 0, 0, 0, 0, 0, 0, 0, 0, 0, 0, 0, 0, 0, 0, 0, 0, 0, 0, 0, 0, 0, 0, 0, 0, 0, 0, 0, 0, 0, 0, 0, 0, 0, 0, 0, 0, 0, 0, 0, 0, 0, 0, 0, 0, 0, 0, 0, 0, 0, 0, 0, 0, 0, 0, 0, 0, 0, 0, 0, 0, 0, 0, 0, 0, 0, 0, 0, 0, 0, 0, 0, 0, 0, 0, 0, 0, 0, 0, 0, 0, 0, 0, 0, 0, 0, 0, 0, 0, 0, 0, 0, 0, 0, 0, 0, 0, 0, 0, 0, 0, 0, 0, 0, 0, 0, 0, 0, 0, 0, 0, 0, 0, 0, 0, 0, 0, 0, 0, 0, 0, 0, 0, 0, 0, 0, 0, 0, 0, 0, 0, 0, 0, 0, 0, 0, 0, 0, 0, 0, 0, 0, 0, 0, 0, 0, 0, 0, 0, 0, 0, 0, 0, 0, 0, 0, 0, 0, 0, 0, 0, 0, 0, 0, 0, 0, 0, 0, 0, 0, 0, 0, 0, 0, 0, 0, 0, 0, 0, 0, 0, 0, 0, 0, 0, 0, 0, 0, 0, 0, 0, 0, 0, 0, 0, 0, 0, 0, 0, 0, 0, 0, 0, 0, 0, 0, 0, 0, 0, 0, 0, 0, 0, 0, 0, 0, 0, 0, 0, 0, 0, 0, 0, 0, 0, 0, 0, 0, 0, 0, 0, 0, 0, 0, 0, 0, 0, 0, 0, 0, 0, 0, 0, 0, 0, 0, 0, 0, 0, 0, 0, 0, 0, 0, 0, 0, 0, 0, 0, 0, 0, 0, 0, 0, 0, 0, 0, 0, 0, 0, 0, 0, 0, 0, 0, 0, 0, 0, 0, 1, 0, 0, 0, 0, 0, 0, 0, 0, 0, 0, 0, 0, 0, 0, 0, 0, 0, 0, 0, 0, 0, 0, 0, 0, 0, 0, 0, 0, 0, 0, 0, 0, 0, 0, 0, 0, 0, 0, 0, 0, 0, 0, 0, 0, 0, 0, 0, 0, 0, 0, 0, 0, 0, 0, 0, 0, 0, 0, 0, 0, 0, 0, 0, 0, 0, 0, 0, 0, 0, 0, 0, 0, 0, 0, 0, 0, 0, 0, 0, 0, 0, 0, 0, 0, 0, 0, 0, 0, 0, 0, 0, 0, 0, 0, 0, 0, 0, 0, 0, 0, 0, 0, 0, 0, 0, 0, 0, 0, 0, 0, 0, 0, 0, 0, 0, 0, 0, 0, 0, 0, 0, 0, 0, 0, 0, 0, 0, 0, 0, 0, 0, 0, 0, 0, 0, 0, 0, 0, 0, 0, 0, 0, 0, 0, 0, 0, 0, 0, 0, 0, 0, 0, 0, 0, 0, 0, 0, 0, 0, 0, 0, 0, 0, 0, 0, 0, 0, 0, 0, 0, 0, 0, 0, 0, 0, 0, 0, 0, 0, 0, 0, 0, 0, 0, 0, 0, 0, 0, 0, 0, 0, 0, 0, 0, 0, 0, 0, 0, 0, 0, 0, 0, 0, 0, 0, 0, 0, 0, 0, 0, 0, 0, 0, 0, 0, 0, 0, 0, 0, 0, 0, 0, 0, 0, 0, 0, 0, 0, 0, 0, 0, 0, 0, 0, 0, 0, 0, 0, 0, 0, 0, 0, 0, 0, 0, 0, 0, 0, 0, 0, 0, 0, 0, 0, 0, 0, 0, 0, 0, 0, 0, 0, 0, 0, 0, 0, 0, 0, 0, 0, 0, 0, 0, 0, 0, 0, 0, 0, 0, 0, 0, 0, 0, 0, 0, 0, 0, 0, 0, 0, 0, 0, 0, 0, 0, 0, 0, 0, 0, 0, 0, 0, 0, 0, 0, 0, 0, 0, 0, 0, 0, 0, 0, 0, 0, 0, 0, 0, 0, 0, 0, 0, 0, 0, 0, 0, 0, 0, 0, 0, 0, 0, 0, 0, 0, 0, 0, 0, 0, 0, 0, 0, 0, 0, 0, 0, 0, 0, 0, 0, 0, 0, 0, 0, 0, 0, 0, 0, 0, 0, 0, 0, 0, 0, 0, 0, 0, 0, 0, 0, 0, 0, 0, 0, 0, 0, 0, 0, 0, 0, 0, 0, 0, 0, 0, 0, 0, 0, 0, 0, 0, 0, 0, 0, 0, 0, 0, 0, 0, 0, 0, 0, 0, 0, 0, 0, 0, 0, 0, 0, 0, 0, 0, 0, 0, 0, 0, 0, 0, 0, 0, 0, 0, 0, 0, 0, 0, 0, 0, 0, 0, 0, 0, 0, 0, 0, 0, 0, 0, 0, 0, 0, 0, 0, 0, 0, 0, 0, 0, 0, 0, 0, 0, 0, 0, 0, 0, 0, 0, 0, 0, 0, 0, 0, 0, 0, 0, 0, 0, 0, 0, 0, 0, 0, 0, 0, 0, 0, 0, 0, 0, 0, 0, 0, 0, 0, 0, 0, 0, 0, 0, 0, 0, 0, 0, 0, 0, 0, 0, 0, 0, 0, 0, 0, 0, 0, 0, 0, 0, 0, 0, 0, 1, 0, 0, 0, 0, 0, 0, 0, 0, 0, 0, 0, 0, 0, 0, 0, 0, 0, 0, 0, 0, 0, 0, 0, 0, 0, 0, 0, 0, 0, 0, 0, 0, 0, 0, 0, 2, 0, 0, 0, 0, 0, 0, 0, 0, 0, 0, 0, 0, 0, 0, 0, 0, 0, 0, 0, 0, 0, 0, 0, 0, 0, 0, 0, 0, 0, 0, 0, 0, 0, 0, 0, 0, 0, 0, 0, 0, 1, 0, 0, 0, 0, 0, 0, 0, 0, 0, 0, 0, 0, 0, 0, 0, 0, 0, 0, 0, 0, 0, 0, 0, 0, 0, 0, 0, 0, 0, 0, 0, 0, 0, 0, 0, 0, 0, 0, 0, 0, 0, 0, 0, 0, 0, 0, 0, 0, 0, 0, 0, 0, 0, 0, 0, 0, 0, 0, 0, 0, 0, 0, 0, 0, 0, 0, 0, 0, 0, 0, 0, 0, 0, 0, 0, 0, 0, 0, 0, 0, 0, 0, 0, 0, 0, 0, 0, 0, 0, 0, 0, 0, 0, 0, 0, 0, 0, 0, 0, 0, 0, 0, 0, 0, 0, 0, 0, 0, 0, 0, 0, 0, 0, 0, 0, 0, 0, 0, 0, 0, 0, 0, 0, 0, 0, 0, 0, 0, 0, 0, 0, 0, 0, 0, 0, 0, 0, 0, 0, 0, 0, 0, 0, 0, 0, 0, 0, 0, 0, 0, 0, 0, 0, 0, 0, 0, 0, 0, 0, 0, 0, 0, 0, 0, 0, 0, 0, 0, 0, 0, 0, 0, 0, 0, 0, 0, 0, 0, 0, 0, 0, 0, 0, 0, 0, 0, 0, 0, 0, 0, 0, 0, 0, 0, 0, 0, 0, 0, 0, 0, 0, 0, 0, 0, 0, 0, 0, 0, 0, 0, 0, 0, 0, 0, 0, 0, 0, 0, 0, 0, 0, 0, 0, 0, 0, 0, 0, 0, 0, 0, 0, 0, 0, 0, 0, 0, 0, 0, 0, 0, 0, 0, 0, 0, 0, 0, 0, 0, 0, 0, 0, 0, 0, 0, 0, 0, 0, 0, 0, 0, 0, 0, 0, 0, 0, 0, 0, 0, 0, 0, 0, 0, 0, 0, 0, 0, 0, 0, 0, 0, 0, 0, 0, 0, 0, 0, 0, 0, 0, 0, 0, 0, 0, 0, 0, 0, 0, 0, 0, 0, 0, 0, 0, 0, 0, 0, 0, 0, 0, 0, 0, 0, 0, 0, 0, 0, 0, 0, 0, 0, 0, 0, 0, 0, 0, 0, 0, 0, 0, 0, 0, 0, 0, 0, 0, 0, 0, 0, 0, 0, 0, 0, 0, 0, 0, 0, 0, 0, 0, 0, 0, 0, 0, 0, 0, 0, 0, 0, 0, 0, 0, 0, 0, 0, 0, 0, 0, 0, 0, 0, 0, 0, 0, 0, 0, 0, 0, 0, 0, 0, 0, 0, 0, 0, 0, 0, 0, 0, 0, 0, 0, 0, 0, 0, 0, 0, 0, 0, 0, 0, 0, 0, 0, 0, 0, 0, 0, 0, 0, 0, 0, 0, 0, 0, 0, 0, 0, 0, 0, 0, 0, 0, 0, 0, 0, 0, 0, 0, 0, 0, 0, 0, 0, 0, 0, 0, 0, 0, 0, 0, 0, 0, 0, 0, 0, 0, 0, 0, 0, 0, 0, 0, 0, 0, 0, 0, 0, 0, 0, 0, 0, 0, 0, 0, 0, 0, 0, 0, 0, 0, 0, 0, 0, 0, 0, 0, 0, 0, 0, 0, 0, 0, 0, 0, 0, 0, 0, 0, 0, 0, 0, 0, 0, 0, 0, 0, 0, 1, 0, 0, 0, 0, 0, 0, 0, 0, 0, 0, 0, 0, 0, 0, 0, 0, 0, 0, 0, 0, 0, 0, 0, 0, 0, 0, 0, 0, 0, 0, 0, 0, 0, 0, 0, 0, 0, 0, 0, 0, 0, 0, 0, 0, 0, 0, 0, 0, 0, 0, 0, 0, 0, 0, 0, 0, 0, 0, 0, 0, 0, 0, 0, 0, 0, 0, 0, 0, 0, 0, 0, 0, 0, 0, 0, 0, 0, 0, 0, 0, 0, 0, 0, 0, 0, 0, 0, 0, 0, 0, 0, 0, 0, 0, 0, 0, 0, 0, 0, 0, 0, 0, 0, 0, 0, 0, 0, 0, 0, 0, 2, 0, 0, 0, 0, 0, 0, 0, 0, 0, 0, 0, 0, 0, 0, 0, 0, 0, 0, 0, 0, 0, 0, 0, 0, 0, 0, 0, 0, 0, 0, 0, 0, 0, 0, 0, 0, 0, 0, 0, 0, 0, 0, 0, 0, 0, 0, 0, 0, 0, 0, 0, 0, 0, 0, 0, 0, 0, 0, 0, 0, 0, 0, 0, 0, 0, 0, 0, 0, 0, 0, 0, 0, 0, 0, 0, 0, 0, 0, 0, 0, 0, 0, 0, 0, 0, 0, 0, 0, 0, 0, 0, 0, 0, 0, 0, 0, 0, 0, 0, 0, 0, 0, 0, 0, 0, 0, 0, 0, 0, 0, 0, 0, 0, 0, 0, 0, 0, 0, 0, 0, 0, 0, 0, 0, 0, 0, 0, 0, 0, 0, 0, 0, 0, 0, 0, 0, 0, 0, 0, 0, 0, 0, 0, 0, 0, 0, 0, 0, 0, 0, 0, 0, 0, 0, 0, 0, 0, 0, 0, 0, 0, 0, 0, 0, 0, 0, 0, 0, 0, 0, 0, 0, 0, 0, 0, 0, 0, 0, 0, 0, 0, 0, 0, 0, 0, 0, 0, 0, 0, 0, 0, 0, 0, 0, 0, 0, 0, 0, 0, 0, 0, 0, 0, 0, 0, 0, 0, 0, 0, 0, 0, 0, 0, 0, 0, 0, 0, 0, 0, 0, 0, 0, 0, 0, 0, 0, 0, 0, 0, 0, 0, 0, 0, 0, 0, 0, 0, 0, 0, 0, 0, 0, 0, 0, 0, 0, 0, 0, 0, 0, 0, 0, 0, 0, 0, 0, 0, 0, 0, 0, 0, 0, 0, 0, 0, 0, 0, 0, 0, 0, 0, 0, 0, 0, 0, 0, 0, 0, 0, 0, 0, 0, 0, 0, 0, 0, 0, 0, 0, 0, 0, 0, 0, 0, 0, 0, 0, 0, 0, 0, 0, 0, 0, 0, 0, 0, 0, 0, 0, 0, 0, 0, 0, 0, 0, 0, 0, 0, 0, 0, 0, 0, 0, 0, 0, 0, 0, 0, 0, 0, 0, 0, 0, 0, 0, 0, 0, 0, 0, 0, 0, 0, 0, 0, 0, 0, 0, 0, 0, 0, 0, 0, 0, 0, 0, 0, 0, 0, 0, 0, 0, 0, 0, 0, 0, 0, 0, 0, 0, 0, 0, 0, 0, 0, 0, 0, 0, 0, 0, 0, 0, 0, 0, 0, 0, 0, 0, 0, 0, 0, 0, 0, 0, 0, 0, 0, 0, 0, 0, 0, 0, 0, 0, 0, 0, 0, 0, 0, 0, 0, 0, 0, 0, 0, 0, 0, 0, 0, 0, 0, 0, 0, 0, 0, 0, 0, 0, 0, 0, 0, 0, 0, 0, 0, 0, 0, 0, 0, 0, 0, 0, 0, 0, 0, 0, 0, 0, 0, 0, 0, 0, 0, 0, 0, 0, 0, 0, 0, 0, 0, 0, 0, 0, 0, 0, 0, 0, 0, 0, 0, 0, 0, 0, 0, 0, 0, 0, 0, 0, 0, 0, 0, 0, 0, 0, 0, 0, 0, 0, 0, 0, 0, 0, 0, 0, 0, 0, 0, 0, 0, 0, 0, 0, 0, 0, 0, 0, 0, 0, 0, 0, 0, 0, 0, 0, 0, 0, 0, 0, 0, 0, 0, 0, 0, 0, 0, 0, 0, 0, 0, 0, 0, 0, 0, 0, 0, 0, 0, 0, 0, 0, 0, 0, 0, 0, 0, 0, 0, 0, 0, 0, 0, 0, 0, 0, 0, 0, 0, 0, 0, 0, 0, 0, 0, 0, 0, 0, 0, 0, 0, 0, 0, 0, 0, 0, 0, 0, 0, 0, 0, 0, 0, 0, 0, 0, 0, 0, 0, 0, 0, 0, 0, 0, 0, 0, 0, 0, 0, 0, 0, 0, 0, 0, 0, 0, 0, 0, 0, 0, 0, 0, 0, 0, 0, 0, 0, 0, 0, 0, 0, 0, 0, 0, 0, 0, 0, 0, 0, 0, 0, 0, 0, 0, 0, 0, 0, 0, 0, 0, 0, 0, 0, 0, 0, 0, 0, 0, 0, 0, 0, 0, 0, 0, 0, 0, 0, 0, 0, 0, 0, 0, 0, 0, 0, 0, 0, 0, 0, 0, 0, 0, 0, 0, 0, 0, 0, 0, 0, 0, 0, 0, 0, 0, 0, 0, 0, 0, 0, 0, 0, 1, 0, 0, 0, 0, 0, 0, 0, 0, 0, 0, 0, 0, 0, 0, 0, 0, 0, 0, 0, 0, 0, 0, 0, 0, 0, 0, 0, 0, 0, 0, 0, 0, 0, 0, 0, 0, 0, 0, 0, 0, 0, 0, 0, 0, 0, 0, 0, 0, 0, 0, 0, 0, 0, 0, 0, 0, 0, 0, 0, 0, 0, 0, 0, 0, 0, 0, 0, 0, 0, 0, 0, 0, 0, 0, 0, 0, 0, 0, 0, 0, 0, 0, 0, 0, 0, 0, 0, 0, 0, 0, 0, 0, 0, 0, 0, 0, 0, 0, 0, 0, 0, 0, 0, 0, 0, 0, 0, 1, 0, 0, 0, 0, 0, 0, 0, 0, 0, 0, 0, 0, 0, 0, 0, 0, 0, 0, 0, 0, 0, 0, 0, 0, 0, 0, 0, 0, 0, 0, 0, 0, 0, 0, 0, 0, 0, 0, 0, 0, 0, 0, 0, 0, 0, 0, 0, 0, 0, 0, 0, 0, 0, 0, 0, 0, 0, 0, 0, 0, 0, 0, 0, 0, 0, 0, 0, 0, 0, 0, 0, 0, 0, 0, 0, 0, 0, 0, 0, 0, 0, 0, 0, 0, 0, 0, 0, 0, 0, 0, 0, 0, 0, 0, 0, 0, 0, 0, 0, 0, 0, 0, 0, 0, 0, 0, 0, 0, 0, 0, 0, 0, 0, 0, 0, 0, 0, 0, 0, 0, 0, 0, 0, 0, 0, 0, 0, 0, 0, 0, 0, 0, 0, 0, 0, 0, 0, 0, 0, 0, 0, 0, 0, 0, 0, 0, 0, 0, 0, 0, 0, 0, 0, 0, 0, 0, 0, 0, 0, 0, 0, 0, 0, 0, 0, 0, 0, 0, 0, 0, 0, 0, 0, 0, 0, 0, 0, 0, 0, 0, 0, 0, 0, 0, 0, 0, 0, 0, 0, 0, 0, 0, 0, 0, 0, 0, 0, 0, 0, 0, 0, 0, 0, 0, 0, 0, 0, 0, 0, 0, 0, 0, 0, 0, 0, 0, 0, 0, 0, 0, 0, 0, 0, 0, 0, 0, 0, 0, 0, 0, 0, 0, 0, 0, 0, 0, 0, 0, 0, 0, 0, 0, 0, 0, 0, 0, 0, 0, 0, 0, 0, 0, 0, 0, 0, 0, 0, 0, 0, 0, 0, 0, 0, 0, 0, 0, 0, 0, 0, 0, 0, 0, 0, 0, 0, 0, 0, 0, 0, 0, 0, 0, 0, 0, 0, 0, 0, 0, 0, 0, 0, 0, 0, 0, 0, 0, 0, 0, 0, 0, 0, 0, 0, 0, 0, 0, 0, 0, 0, 0, 0, 0, 0, 0, 0, 0, 0, 0, 0, 0, 0, 0, 0, 0, 0, 0, 0, 0, 0, 0, 0, 0, 0, 0, 0, 0, 0, 0, 0, 0, 0, 0, 0, 0, 0, 0, 0, 0, 0, 0, 0, 0, 0, 0, 0, 0, 0, 0, 0, 0, 0, 0, 0, 0, 0, 0, 0, 0, 0, 0, 0, 0, 0, 0, 0, 0, 0, 0, 0, 0, 0, 0, 0, 0, 0, 0, 0, 0, 0, 0, 0, 0, 0, 0, 0, 0, 0, 0, 0, 0, 0, 0, 0, 0, 0, 0, 0, 0, 0, 0, 0, 0, 0, 0, 0, 0, 0, 0, 0, 0, 0, 0, 0, 0, 0, 0, 0, 0, 0, 0, 0, 0, 0, 0, 0, 0, 0, 0, 0, 0, 0, 0, 0, 0, 0, 0, 0, 0, 0, 0, 0, 0, 0, 0, 0, 0, 0, 0, 0, 0, 0, 0, 0, 2, 0, 1, 0], type: <class 'list'>, valid types: <class 'bytes'>, <class 'bytearray'>, file-like object",
     "output_type": "error",
     "traceback": [
      "\u001b[0;31m---------------------------------------------------------------------------\u001b[0m",
      "\u001b[0;31mParamValidationError\u001b[0m                      Traceback (most recent call last)",
      "\u001b[0;32m<ipython-input-60-c9ab54ae3a48>\u001b[0m in \u001b[0;36m<module>\u001b[0;34m\u001b[0m\n\u001b[1;32m      1\u001b[0m response = runtime.invoke_endpoint(EndpointName = xgb_predictor.endpoint, # The name of the endpoint we created\n\u001b[1;32m      2\u001b[0m                                        \u001b[0mContentType\u001b[0m \u001b[0;34m=\u001b[0m \u001b[0;34m'text/csv'\u001b[0m\u001b[0;34m,\u001b[0m                     \u001b[0;31m# The data format that is expected\u001b[0m\u001b[0;34m\u001b[0m\u001b[0;34m\u001b[0m\u001b[0m\n\u001b[0;32m----> 3\u001b[0;31m                                        Body = test_bow)\n\u001b[0m",
      "\u001b[0;32m~/anaconda3/envs/python3/lib/python3.6/site-packages/botocore/client.py\u001b[0m in \u001b[0;36m_api_call\u001b[0;34m(self, *args, **kwargs)\u001b[0m\n\u001b[1;32m    314\u001b[0m                     \"%s() only accepts keyword arguments.\" % py_operation_name)\n\u001b[1;32m    315\u001b[0m             \u001b[0;31m# The \"self\" in this scope is referring to the BaseClient.\u001b[0m\u001b[0;34m\u001b[0m\u001b[0;34m\u001b[0m\u001b[0;34m\u001b[0m\u001b[0m\n\u001b[0;32m--> 316\u001b[0;31m             \u001b[0;32mreturn\u001b[0m \u001b[0mself\u001b[0m\u001b[0;34m.\u001b[0m\u001b[0m_make_api_call\u001b[0m\u001b[0;34m(\u001b[0m\u001b[0moperation_name\u001b[0m\u001b[0;34m,\u001b[0m \u001b[0mkwargs\u001b[0m\u001b[0;34m)\u001b[0m\u001b[0;34m\u001b[0m\u001b[0;34m\u001b[0m\u001b[0m\n\u001b[0m\u001b[1;32m    317\u001b[0m \u001b[0;34m\u001b[0m\u001b[0m\n\u001b[1;32m    318\u001b[0m         \u001b[0m_api_call\u001b[0m\u001b[0;34m.\u001b[0m\u001b[0m__name__\u001b[0m \u001b[0;34m=\u001b[0m \u001b[0mstr\u001b[0m\u001b[0;34m(\u001b[0m\u001b[0mpy_operation_name\u001b[0m\u001b[0;34m)\u001b[0m\u001b[0;34m\u001b[0m\u001b[0;34m\u001b[0m\u001b[0m\n",
      "\u001b[0;32m~/anaconda3/envs/python3/lib/python3.6/site-packages/botocore/client.py\u001b[0m in \u001b[0;36m_make_api_call\u001b[0;34m(self, operation_name, api_params)\u001b[0m\n\u001b[1;32m    606\u001b[0m         }\n\u001b[1;32m    607\u001b[0m         request_dict = self._convert_to_request_dict(\n\u001b[0;32m--> 608\u001b[0;31m             api_params, operation_model, context=request_context)\n\u001b[0m\u001b[1;32m    609\u001b[0m \u001b[0;34m\u001b[0m\u001b[0m\n\u001b[1;32m    610\u001b[0m         \u001b[0mservice_id\u001b[0m \u001b[0;34m=\u001b[0m \u001b[0mself\u001b[0m\u001b[0;34m.\u001b[0m\u001b[0m_service_model\u001b[0m\u001b[0;34m.\u001b[0m\u001b[0mservice_id\u001b[0m\u001b[0;34m.\u001b[0m\u001b[0mhyphenize\u001b[0m\u001b[0;34m(\u001b[0m\u001b[0;34m)\u001b[0m\u001b[0;34m\u001b[0m\u001b[0;34m\u001b[0m\u001b[0m\n",
      "\u001b[0;32m~/anaconda3/envs/python3/lib/python3.6/site-packages/botocore/client.py\u001b[0m in \u001b[0;36m_convert_to_request_dict\u001b[0;34m(self, api_params, operation_model, context)\u001b[0m\n\u001b[1;32m    654\u001b[0m             api_params, operation_model, context)\n\u001b[1;32m    655\u001b[0m         request_dict = self._serializer.serialize_to_request(\n\u001b[0;32m--> 656\u001b[0;31m             api_params, operation_model)\n\u001b[0m\u001b[1;32m    657\u001b[0m         \u001b[0;32mif\u001b[0m \u001b[0;32mnot\u001b[0m \u001b[0mself\u001b[0m\u001b[0;34m.\u001b[0m\u001b[0m_client_config\u001b[0m\u001b[0;34m.\u001b[0m\u001b[0minject_host_prefix\u001b[0m\u001b[0;34m:\u001b[0m\u001b[0;34m\u001b[0m\u001b[0;34m\u001b[0m\u001b[0m\n\u001b[1;32m    658\u001b[0m             \u001b[0mrequest_dict\u001b[0m\u001b[0;34m.\u001b[0m\u001b[0mpop\u001b[0m\u001b[0;34m(\u001b[0m\u001b[0;34m'host_prefix'\u001b[0m\u001b[0;34m,\u001b[0m \u001b[0;32mNone\u001b[0m\u001b[0;34m)\u001b[0m\u001b[0;34m\u001b[0m\u001b[0;34m\u001b[0m\u001b[0m\n",
      "\u001b[0;32m~/anaconda3/envs/python3/lib/python3.6/site-packages/botocore/validate.py\u001b[0m in \u001b[0;36mserialize_to_request\u001b[0;34m(self, parameters, operation_model)\u001b[0m\n\u001b[1;32m    295\u001b[0m                                                     operation_model.input_shape)\n\u001b[1;32m    296\u001b[0m             \u001b[0;32mif\u001b[0m \u001b[0mreport\u001b[0m\u001b[0;34m.\u001b[0m\u001b[0mhas_errors\u001b[0m\u001b[0;34m(\u001b[0m\u001b[0;34m)\u001b[0m\u001b[0;34m:\u001b[0m\u001b[0;34m\u001b[0m\u001b[0;34m\u001b[0m\u001b[0m\n\u001b[0;32m--> 297\u001b[0;31m                 \u001b[0;32mraise\u001b[0m \u001b[0mParamValidationError\u001b[0m\u001b[0;34m(\u001b[0m\u001b[0mreport\u001b[0m\u001b[0;34m=\u001b[0m\u001b[0mreport\u001b[0m\u001b[0;34m.\u001b[0m\u001b[0mgenerate_report\u001b[0m\u001b[0;34m(\u001b[0m\u001b[0;34m)\u001b[0m\u001b[0;34m)\u001b[0m\u001b[0;34m\u001b[0m\u001b[0;34m\u001b[0m\u001b[0m\n\u001b[0m\u001b[1;32m    298\u001b[0m         return self._serializer.serialize_to_request(parameters,\n\u001b[1;32m    299\u001b[0m                                                      operation_model)\n",
      "\u001b[0;31mParamValidationError\u001b[0m: Parameter validation failed:\nInvalid type for parameter Body, value: [0, 0, 0, 0, 0, 0, 0, 0, 0, 0, 0, 0, 0, 0, 0, 0, 0, 0, 0, 0, 0, 0, 0, 0, 0, 0, 0, 0, 0, 0, 0, 0, 0, 0, 0, 0, 0, 0, 0, 0, 0, 0, 0, 0, 0, 0, 0, 0, 0, 0, 0, 0, 0, 0, 0, 0, 0, 0, 0, 0, 0, 0, 0, 0, 0, 0, 0, 0, 0, 0, 0, 0, 0, 0, 0, 0, 0, 0, 0, 0, 0, 0, 0, 0, 0, 0, 0, 0, 0, 0, 0, 0, 0, 0, 0, 0, 0, 0, 0, 0, 0, 0, 0, 0, 0, 0, 0, 0, 0, 0, 0, 0, 0, 0, 0, 0, 0, 0, 0, 0, 0, 0, 0, 0, 0, 0, 0, 0, 0, 0, 0, 0, 0, 0, 0, 0, 0, 0, 0, 0, 0, 0, 0, 0, 0, 0, 0, 0, 0, 0, 0, 0, 0, 0, 0, 0, 0, 0, 0, 0, 0, 0, 0, 0, 0, 0, 0, 0, 0, 0, 0, 0, 0, 0, 0, 0, 0, 0, 0, 0, 0, 0, 0, 0, 0, 0, 0, 0, 0, 0, 0, 0, 0, 0, 0, 0, 0, 0, 0, 0, 0, 0, 0, 0, 0, 0, 0, 0, 0, 0, 0, 0, 0, 0, 0, 0, 0, 0, 0, 0, 0, 0, 0, 0, 0, 0, 1, 0, 0, 0, 0, 0, 0, 0, 0, 0, 0, 0, 0, 0, 0, 0, 0, 0, 0, 0, 0, 0, 0, 0, 0, 0, 0, 0, 0, 0, 1, 0, 0, 0, 0, 0, 0, 0, 0, 0, 0, 0, 0, 0, 0, 0, 0, 0, 0, 0, 0, 0, 0, 0, 0, 0, 0, 0, 0, 0, 0, 0, 0, 0, 0, 0, 0, 0, 0, 0, 0, 0, 0, 0, 0, 0, 0, 0, 0, 0, 0, 0, 0, 0, 0, 0, 0, 0, 0, 0, 0, 0, 0, 0, 0, 0, 0, 0, 0, 0, 0, 0, 0, 0, 0, 0, 0, 0, 0, 0, 0, 0, 0, 0, 0, 0, 0, 0, 0, 0, 0, 0, 0, 0, 0, 0, 0, 0, 0, 0, 0, 0, 0, 0, 0, 0, 0, 0, 0, 0, 0, 0, 0, 0, 0, 0, 0, 0, 0, 0, 0, 0, 0, 0, 0, 0, 0, 0, 0, 0, 0, 0, 0, 0, 0, 0, 0, 0, 0, 0, 0, 0, 0, 0, 0, 0, 0, 0, 0, 0, 0, 0, 0, 0, 0, 0, 0, 0, 0, 0, 0, 0, 0, 0, 0, 0, 0, 0, 0, 0, 0, 0, 0, 0, 0, 0, 0, 0, 0, 0, 0, 0, 0, 0, 0, 0, 0, 0, 0, 0, 0, 0, 0, 0, 0, 0, 0, 0, 0, 0, 0, 0, 0, 0, 0, 0, 0, 0, 0, 0, 0, 0, 0, 0, 0, 0, 0, 0, 0, 0, 0, 0, 0, 0, 0, 0, 0, 0, 0, 0, 0, 0, 0, 0, 0, 0, 0, 0, 0, 0, 0, 0, 0, 0, 0, 0, 0, 0, 0, 0, 0, 0, 0, 0, 0, 0, 0, 0, 0, 0, 0, 0, 0, 0, 0, 0, 0, 0, 0, 0, 0, 0, 0, 0, 0, 0, 0, 0, 0, 0, 0, 0, 0, 0, 0, 0, 0, 0, 0, 0, 0, 0, 0, 0, 0, 0, 0, 0, 0, 0, 0, 0, 0, 0, 0, 0, 0, 0, 0, 0, 0, 0, 0, 0, 0, 0, 0, 0, 0, 0, 0, 0, 0, 0, 0, 0, 0, 0, 0, 0, 0, 0, 0, 0, 0, 0, 0, 0, 0, 0, 0, 0, 0, 0, 0, 0, 0, 0, 0, 0, 0, 0, 0, 0, 0, 0, 0, 0, 0, 0, 0, 0, 0, 0, 0, 0, 0, 0, 0, 0, 0, 0, 0, 0, 0, 0, 0, 0, 0, 0, 1, 0, 0, 0, 0, 0, 0, 0, 0, 0, 0, 0, 0, 0, 0, 0, 0, 0, 0, 0, 0, 0, 0, 0, 0, 0, 0, 0, 0, 0, 0, 0, 0, 0, 0, 0, 0, 0, 0, 0, 0, 0, 0, 0, 0, 0, 0, 0, 0, 0, 0, 0, 0, 0, 0, 0, 0, 0, 0, 0, 0, 0, 0, 0, 0, 0, 0, 0, 0, 0, 0, 0, 0, 0, 0, 0, 0, 0, 0, 0, 0, 0, 0, 0, 0, 0, 0, 0, 0, 0, 0, 0, 0, 0, 0, 0, 0, 0, 0, 0, 0, 0, 0, 0, 0, 0, 0, 0, 0, 0, 0, 0, 0, 0, 0, 0, 0, 0, 0, 0, 0, 0, 0, 0, 0, 0, 0, 0, 0, 0, 0, 0, 0, 0, 0, 0, 0, 0, 0, 0, 0, 0, 0, 0, 0, 0, 0, 0, 0, 0, 0, 0, 0, 0, 0, 0, 0, 0, 0, 0, 0, 0, 0, 0, 0, 0, 0, 0, 0, 0, 0, 0, 0, 0, 0, 0, 0, 0, 0, 0, 0, 0, 0, 0, 0, 0, 0, 0, 0, 0, 0, 0, 0, 0, 0, 0, 0, 0, 0, 0, 0, 0, 0, 0, 0, 0, 0, 0, 0, 0, 0, 0, 0, 0, 0, 0, 0, 0, 0, 0, 0, 0, 0, 0, 0, 0, 0, 0, 0, 0, 0, 0, 0, 0, 0, 0, 0, 0, 0, 0, 0, 0, 0, 0, 0, 0, 0, 0, 0, 0, 0, 0, 0, 0, 1, 0, 0, 0, 0, 0, 0, 0, 0, 0, 0, 0, 0, 0, 0, 0, 0, 0, 0, 0, 0, 0, 0, 0, 0, 0, 0, 0, 0, 0, 0, 0, 0, 0, 0, 0, 0, 0, 0, 0, 0, 0, 0, 0, 0, 0, 0, 0, 0, 0, 0, 0, 0, 0, 0, 0, 0, 0, 0, 0, 0, 0, 0, 0, 0, 0, 0, 0, 0, 0, 0, 0, 0, 0, 0, 0, 0, 0, 0, 0, 0, 0, 0, 0, 0, 0, 0, 1, 0, 0, 0, 0, 0, 0, 0, 0, 0, 0, 0, 0, 0, 0, 0, 0, 0, 0, 0, 0, 0, 0, 0, 0, 0, 0, 0, 0, 0, 0, 0, 0, 0, 0, 0, 0, 0, 0, 0, 0, 0, 0, 0, 0, 0, 0, 0, 0, 0, 0, 0, 0, 0, 0, 0, 0, 0, 0, 0, 0, 0, 0, 0, 0, 0, 0, 0, 0, 0, 0, 0, 0, 0, 0, 0, 0, 0, 0, 0, 0, 0, 0, 0, 0, 0, 0, 0, 0, 0, 0, 0, 0, 0, 0, 0, 0, 0, 0, 0, 0, 0, 0, 0, 0, 0, 0, 0, 0, 0, 0, 0, 0, 0, 0, 0, 0, 0, 0, 0, 0, 0, 0, 0, 0, 0, 0, 0, 0, 0, 0, 0, 0, 0, 0, 0, 0, 0, 0, 0, 0, 0, 0, 0, 0, 0, 0, 0, 0, 0, 0, 0, 0, 0, 0, 0, 0, 0, 0, 0, 0, 0, 0, 0, 0, 0, 0, 0, 0, 0, 0, 0, 0, 0, 0, 0, 0, 0, 0, 0, 0, 0, 0, 0, 0, 0, 0, 0, 0, 0, 0, 0, 0, 0, 0, 0, 0, 0, 0, 0, 0, 0, 0, 0, 0, 0, 0, 0, 0, 0, 0, 0, 0, 0, 0, 0, 0, 0, 0, 0, 0, 0, 0, 0, 0, 0, 0, 0, 0, 0, 0, 0, 0, 0, 0, 0, 0, 0, 0, 0, 0, 0, 0, 0, 0, 0, 0, 0, 0, 0, 0, 0, 0, 1, 0, 0, 0, 0, 0, 0, 0, 0, 0, 0, 0, 0, 0, 0, 0, 0, 0, 0, 0, 0, 0, 0, 0, 0, 0, 0, 0, 0, 0, 0, 0, 0, 0, 0, 0, 0, 0, 0, 0, 0, 0, 0, 0, 0, 0, 0, 0, 0, 0, 0, 0, 0, 0, 0, 0, 1, 0, 0, 0, 0, 0, 0, 0, 0, 0, 0, 0, 0, 0, 0, 0, 0, 0, 0, 0, 0, 0, 0, 0, 0, 0, 0, 0, 0, 0, 0, 0, 0, 0, 0, 0, 0, 0, 0, 0, 0, 0, 0, 0, 0, 0, 0, 0, 0, 0, 0, 0, 0, 0, 0, 0, 0, 0, 0, 0, 0, 0, 0, 0, 0, 0, 0, 0, 0, 0, 0, 0, 0, 0, 0, 0, 0, 0, 0, 0, 0, 0, 0, 0, 0, 0, 0, 0, 0, 0, 0, 0, 0, 0, 0, 0, 0, 0, 0, 0, 0, 0, 0, 0, 0, 0, 0, 0, 0, 0, 0, 0, 0, 0, 0, 0, 0, 0, 0, 0, 0, 0, 0, 0, 0, 0, 0, 0, 0, 0, 0, 0, 0, 0, 0, 0, 0, 0, 0, 0, 0, 0, 0, 0, 0, 0, 0, 0, 0, 0, 0, 0, 0, 0, 0, 0, 0, 0, 0, 0, 0, 0, 0, 0, 0, 0, 0, 0, 0, 0, 0, 0, 0, 0, 0, 0, 0, 0, 0, 0, 0, 0, 0, 0, 0, 0, 0, 0, 0, 0, 0, 0, 0, 0, 0, 0, 0, 0, 0, 0, 0, 0, 0, 0, 0, 0, 0, 0, 0, 0, 0, 0, 0, 0, 0, 0, 0, 0, 0, 0, 0, 0, 0, 0, 0, 0, 0, 0, 0, 0, 0, 0, 0, 0, 0, 0, 0, 0, 0, 0, 0, 0, 0, 0, 0, 0, 0, 0, 0, 0, 0, 0, 0, 0, 0, 0, 0, 0, 0, 0, 0, 0, 0, 0, 0, 0, 0, 0, 0, 0, 0, 0, 0, 0, 0, 0, 0, 0, 0, 0, 0, 0, 0, 0, 0, 0, 0, 0, 0, 0, 0, 0, 0, 0, 0, 0, 0, 0, 0, 0, 0, 0, 0, 0, 0, 0, 0, 0, 0, 0, 0, 0, 0, 0, 0, 0, 0, 0, 0, 0, 0, 0, 0, 0, 0, 0, 0, 0, 0, 0, 0, 0, 0, 0, 0, 0, 0, 0, 0, 0, 0, 0, 0, 0, 0, 0, 0, 0, 0, 0, 0, 0, 0, 0, 0, 0, 0, 0, 0, 0, 0, 0, 0, 0, 0, 0, 0, 0, 0, 0, 0, 0, 0, 0, 0, 0, 0, 0, 0, 0, 0, 0, 0, 0, 0, 0, 0, 0, 0, 0, 0, 0, 0, 0, 0, 0, 0, 0, 0, 0, 0, 0, 0, 0, 0, 0, 0, 0, 0, 0, 0, 0, 0, 0, 0, 0, 0, 0, 0, 0, 0, 0, 0, 0, 0, 0, 0, 0, 0, 0, 0, 0, 0, 0, 0, 0, 0, 0, 0, 0, 0, 0, 0, 0, 0, 0, 0, 0, 0, 0, 0, 0, 0, 0, 0, 0, 0, 0, 0, 0, 0, 0, 0, 0, 0, 0, 0, 0, 0, 0, 0, 0, 0, 0, 0, 0, 0, 0, 0, 0, 0, 0, 0, 0, 0, 0, 0, 0, 0, 0, 0, 0, 0, 0, 0, 0, 0, 0, 0, 0, 0, 0, 0, 0, 0, 0, 0, 0, 0, 0, 0, 0, 0, 0, 0, 0, 0, 0, 0, 0, 0, 0, 0, 0, 0, 0, 0, 0, 0, 0, 0, 0, 0, 0, 0, 0, 0, 0, 0, 0, 0, 0, 0, 0, 0, 0, 0, 0, 0, 0, 0, 0, 0, 0, 0, 0, 0, 0, 0, 0, 0, 0, 0, 0, 0, 0, 0, 0, 0, 0, 0, 0, 0, 0, 0, 0, 0, 0, 0, 0, 0, 0, 0, 0, 0, 0, 0, 0, 0, 0, 0, 0, 0, 0, 0, 0, 0, 0, 0, 0, 0, 0, 0, 0, 0, 0, 0, 0, 0, 0, 0, 0, 0, 0, 0, 0, 0, 0, 0, 0, 0, 0, 0, 0, 0, 0, 0, 0, 0, 0, 0, 0, 0, 0, 0, 0, 0, 0, 0, 0, 0, 0, 0, 0, 0, 0, 0, 0, 0, 0, 0, 0, 0, 0, 0, 0, 0, 0, 0, 0, 0, 0, 0, 0, 0, 0, 0, 0, 0, 0, 0, 0, 0, 0, 0, 0, 0, 0, 0, 0, 0, 0, 1, 0, 0, 0, 0, 0, 0, 0, 0, 0, 0, 0, 0, 0, 0, 0, 0, 0, 0, 0, 0, 0, 0, 0, 0, 0, 0, 0, 0, 0, 0, 0, 0, 0, 0, 0, 0, 0, 0, 0, 0, 0, 0, 0, 0, 0, 0, 0, 0, 0, 0, 0, 0, 0, 0, 0, 0, 0, 0, 0, 0, 0, 0, 0, 0, 0, 0, 0, 0, 0, 0, 0, 0, 0, 0, 1, 0, 0, 0, 0, 0, 0, 0, 0, 0, 0, 0, 0, 0, 0, 0, 0, 0, 0, 0, 0, 1, 0, 0, 1, 0, 0, 0, 0, 0, 0, 0, 0, 0, 0, 0, 0, 0, 0, 0, 0, 0, 0, 0, 0, 0, 0, 0, 0, 0, 0, 0, 0, 0, 0, 0, 0, 0, 0, 0, 0, 0, 0, 0, 0, 0, 0, 0, 0, 0, 0, 0, 0, 0, 0, 0, 0, 0, 0, 0, 0, 0, 0, 0, 0, 0, 0, 0, 0, 0, 0, 0, 0, 0, 0, 0, 0, 0, 0, 0, 0, 0, 0, 0, 0, 0, 0, 0, 0, 0, 0, 0, 0, 0, 0, 0, 0, 0, 0, 0, 0, 0, 0, 0, 0, 0, 0, 0, 0, 0, 0, 0, 0, 0, 0, 0, 0, 0, 0, 0, 0, 0, 0, 0, 0, 0, 0, 0, 0, 0, 0, 0, 0, 0, 0, 0, 0, 0, 0, 0, 0, 0, 0, 0, 0, 0, 0, 0, 0, 0, 0, 0, 0, 0, 0, 0, 0, 0, 0, 0, 0, 0, 0, 0, 0, 0, 0, 0, 0, 0, 0, 0, 0, 0, 0, 0, 0, 0, 0, 0, 0, 0, 0, 0, 0, 0, 0, 0, 0, 0, 0, 0, 0, 0, 0, 0, 0, 0, 0, 0, 0, 0, 0, 0, 0, 0, 0, 0, 0, 0, 0, 0, 0, 0, 0, 0, 0, 0, 0, 0, 0, 0, 0, 0, 0, 0, 0, 0, 0, 0, 0, 0, 0, 0, 0, 0, 0, 0, 0, 0, 0, 0, 0, 0, 0, 0, 0, 0, 0, 0, 0, 0, 0, 0, 0, 0, 0, 0, 0, 0, 0, 0, 0, 0, 0, 0, 0, 0, 0, 0, 0, 0, 0, 0, 0, 0, 0, 0, 0, 0, 0, 0, 0, 0, 0, 0, 0, 0, 0, 0, 0, 0, 0, 0, 0, 0, 0, 0, 0, 0, 0, 0, 0, 0, 0, 0, 0, 0, 0, 0, 0, 0, 0, 0, 0, 0, 0, 0, 0, 0, 0, 0, 0, 0, 0, 0, 0, 0, 0, 0, 0, 0, 0, 0, 0, 0, 0, 0, 0, 0, 0, 0, 0, 0, 0, 0, 0, 0, 0, 0, 0, 0, 0, 0, 0, 0, 0, 0, 0, 0, 0, 0, 0, 0, 0, 0, 0, 0, 0, 0, 0, 0, 0, 0, 0, 0, 0, 0, 0, 0, 0, 0, 0, 0, 0, 0, 0, 0, 0, 0, 0, 0, 0, 0, 0, 0, 0, 0, 0, 0, 0, 0, 0, 0, 0, 0, 0, 0, 0, 0, 0, 0, 0, 0, 0, 0, 0, 0, 0, 0, 0, 0, 0, 0, 0, 0, 0, 0, 0, 0, 0, 0, 0, 0, 0, 0, 0, 0, 0, 0, 0, 0, 0, 0, 0, 0, 0, 0, 0, 0, 0, 0, 0, 0, 0, 0, 0, 0, 0, 0, 0, 0, 0, 0, 0, 0, 0, 0, 0, 0, 0, 1, 0, 0, 0, 0, 0, 0, 0, 0, 0, 0, 0, 0, 0, 0, 0, 0, 0, 0, 0, 0, 0, 0, 0, 0, 0, 0, 0, 0, 0, 0, 0, 0, 0, 0, 0, 0, 0, 0, 0, 0, 0, 0, 0, 0, 0, 0, 0, 0, 0, 0, 0, 0, 0, 0, 0, 0, 0, 0, 0, 0, 0, 0, 0, 0, 0, 0, 0, 0, 0, 0, 0, 0, 0, 0, 0, 0, 0, 0, 0, 0, 0, 0, 0, 0, 0, 0, 0, 0, 0, 0, 0, 0, 0, 0, 0, 0, 0, 0, 0, 0, 0, 0, 0, 0, 0, 0, 0, 0, 0, 0, 0, 0, 0, 0, 0, 0, 0, 0, 0, 0, 0, 0, 0, 0, 0, 0, 0, 0, 0, 0, 0, 0, 0, 0, 0, 0, 0, 0, 0, 0, 0, 0, 0, 0, 0, 0, 0, 0, 0, 0, 0, 0, 0, 0, 0, 0, 0, 0, 0, 0, 0, 0, 0, 0, 0, 0, 0, 0, 0, 0, 0, 0, 0, 0, 0, 0, 0, 0, 0, 0, 0, 0, 0, 0, 0, 0, 0, 0, 0, 0, 0, 0, 0, 0, 0, 0, 0, 0, 0, 0, 0, 0, 0, 0, 0, 0, 0, 0, 0, 0, 0, 0, 0, 0, 0, 0, 0, 0, 0, 0, 0, 0, 0, 0, 0, 0, 0, 0, 0, 0, 0, 0, 0, 0, 0, 0, 0, 0, 0, 0, 0, 0, 0, 0, 0, 0, 0, 0, 0, 0, 0, 0, 0, 0, 0, 0, 0, 0, 0, 0, 0, 0, 0, 0, 0, 0, 0, 0, 0, 0, 0, 0, 0, 0, 0, 0, 0, 0, 0, 0, 0, 0, 0, 0, 0, 0, 0, 0, 0, 0, 0, 0, 0, 0, 0, 0, 0, 0, 0, 0, 0, 0, 0, 0, 0, 0, 0, 0, 0, 0, 0, 0, 0, 0, 0, 0, 0, 0, 0, 0, 0, 0, 0, 0, 0, 0, 0, 0, 0, 0, 0, 0, 0, 0, 0, 0, 0, 0, 0, 0, 0, 0, 0, 0, 0, 0, 0, 0, 0, 0, 0, 0, 0, 0, 0, 0, 0, 0, 0, 0, 0, 0, 0, 0, 0, 0, 0, 0, 0, 0, 0, 0, 0, 0, 0, 0, 0, 0, 0, 0, 0, 0, 0, 0, 0, 0, 0, 0, 0, 0, 0, 0, 0, 0, 0, 0, 0, 0, 0, 0, 0, 0, 0, 0, 0, 0, 0, 0, 0, 0, 0, 0, 0, 0, 0, 0, 0, 0, 0, 0, 0, 0, 0, 0, 0, 0, 0, 0, 0, 0, 0, 0, 0, 0, 0, 0, 0, 0, 0, 0, 0, 0, 0, 0, 0, 0, 0, 0, 0, 0, 0, 0, 0, 0, 0, 0, 0, 0, 0, 0, 0, 0, 0, 0, 0, 0, 0, 0, 0, 0, 0, 0, 0, 0, 0, 0, 0, 0, 0, 0, 0, 0, 0, 0, 0, 0, 0, 0, 0, 0, 0, 0, 0, 0, 0, 0, 0, 0, 0, 0, 0, 0, 0, 0, 0, 0, 0, 0, 0, 0, 0, 0, 1, 0, 0, 0, 0, 0, 0, 0, 0, 0, 0, 0, 0, 0, 0, 0, 0, 0, 0, 0, 0, 0, 0, 0, 0, 0, 0, 0, 0, 0, 0, 0, 0, 0, 0, 0, 2, 0, 0, 0, 0, 0, 0, 0, 0, 0, 0, 0, 0, 0, 0, 0, 0, 0, 0, 0, 0, 0, 0, 0, 0, 0, 0, 0, 0, 0, 0, 0, 0, 0, 0, 0, 0, 0, 0, 0, 0, 1, 0, 0, 0, 0, 0, 0, 0, 0, 0, 0, 0, 0, 0, 0, 0, 0, 0, 0, 0, 0, 0, 0, 0, 0, 0, 0, 0, 0, 0, 0, 0, 0, 0, 0, 0, 0, 0, 0, 0, 0, 0, 0, 0, 0, 0, 0, 0, 0, 0, 0, 0, 0, 0, 0, 0, 0, 0, 0, 0, 0, 0, 0, 0, 0, 0, 0, 0, 0, 0, 0, 0, 0, 0, 0, 0, 0, 0, 0, 0, 0, 0, 0, 0, 0, 0, 0, 0, 0, 0, 0, 0, 0, 0, 0, 0, 0, 0, 0, 0, 0, 0, 0, 0, 0, 0, 0, 0, 0, 0, 0, 0, 0, 0, 0, 0, 0, 0, 0, 0, 0, 0, 0, 0, 0, 0, 0, 0, 0, 0, 0, 0, 0, 0, 0, 0, 0, 0, 0, 0, 0, 0, 0, 0, 0, 0, 0, 0, 0, 0, 0, 0, 0, 0, 0, 0, 0, 0, 0, 0, 0, 0, 0, 0, 0, 0, 0, 0, 0, 0, 0, 0, 0, 0, 0, 0, 0, 0, 0, 0, 0, 0, 0, 0, 0, 0, 0, 0, 0, 0, 0, 0, 0, 0, 0, 0, 0, 0, 0, 0, 0, 0, 0, 0, 0, 0, 0, 0, 0, 0, 0, 0, 0, 0, 0, 0, 0, 0, 0, 0, 0, 0, 0, 0, 0, 0, 0, 0, 0, 0, 0, 0, 0, 0, 0, 0, 0, 0, 0, 0, 0, 0, 0, 0, 0, 0, 0, 0, 0, 0, 0, 0, 0, 0, 0, 0, 0, 0, 0, 0, 0, 0, 0, 0, 0, 0, 0, 0, 0, 0, 0, 0, 0, 0, 0, 0, 0, 0, 0, 0, 0, 0, 0, 0, 0, 0, 0, 0, 0, 0, 0, 0, 0, 0, 0, 0, 0, 0, 0, 0, 0, 0, 0, 0, 0, 0, 0, 0, 0, 0, 0, 0, 0, 0, 0, 0, 0, 0, 0, 0, 0, 0, 0, 0, 0, 0, 0, 0, 0, 0, 0, 0, 0, 0, 0, 0, 0, 0, 0, 0, 0, 0, 0, 0, 0, 0, 0, 0, 0, 0, 0, 0, 0, 0, 0, 0, 0, 0, 0, 0, 0, 0, 0, 0, 0, 0, 0, 0, 0, 0, 0, 0, 0, 0, 0, 0, 0, 0, 0, 0, 0, 0, 0, 0, 0, 0, 0, 0, 0, 0, 0, 0, 0, 0, 0, 0, 0, 0, 0, 0, 0, 0, 0, 0, 0, 0, 0, 0, 0, 0, 0, 0, 0, 0, 0, 0, 0, 0, 0, 0, 0, 0, 0, 0, 0, 0, 0, 0, 0, 0, 0, 0, 0, 0, 0, 0, 0, 0, 0, 0, 0, 0, 0, 0, 0, 0, 0, 0, 0, 0, 0, 0, 0, 0, 0, 0, 0, 0, 0, 0, 0, 0, 0, 0, 0, 0, 0, 0, 0, 0, 0, 0, 0, 0, 0, 0, 0, 0, 0, 0, 0, 0, 0, 0, 0, 0, 0, 0, 0, 0, 0, 0, 0, 0, 0, 0, 0, 0, 1, 0, 0, 0, 0, 0, 0, 0, 0, 0, 0, 0, 0, 0, 0, 0, 0, 0, 0, 0, 0, 0, 0, 0, 0, 0, 0, 0, 0, 0, 0, 0, 0, 0, 0, 0, 0, 0, 0, 0, 0, 0, 0, 0, 0, 0, 0, 0, 0, 0, 0, 0, 0, 0, 0, 0, 0, 0, 0, 0, 0, 0, 0, 0, 0, 0, 0, 0, 0, 0, 0, 0, 0, 0, 0, 0, 0, 0, 0, 0, 0, 0, 0, 0, 0, 0, 0, 0, 0, 0, 0, 0, 0, 0, 0, 0, 0, 0, 0, 0, 0, 0, 0, 0, 0, 0, 0, 0, 0, 0, 0, 2, 0, 0, 0, 0, 0, 0, 0, 0, 0, 0, 0, 0, 0, 0, 0, 0, 0, 0, 0, 0, 0, 0, 0, 0, 0, 0, 0, 0, 0, 0, 0, 0, 0, 0, 0, 0, 0, 0, 0, 0, 0, 0, 0, 0, 0, 0, 0, 0, 0, 0, 0, 0, 0, 0, 0, 0, 0, 0, 0, 0, 0, 0, 0, 0, 0, 0, 0, 0, 0, 0, 0, 0, 0, 0, 0, 0, 0, 0, 0, 0, 0, 0, 0, 0, 0, 0, 0, 0, 0, 0, 0, 0, 0, 0, 0, 0, 0, 0, 0, 0, 0, 0, 0, 0, 0, 0, 0, 0, 0, 0, 0, 0, 0, 0, 0, 0, 0, 0, 0, 0, 0, 0, 0, 0, 0, 0, 0, 0, 0, 0, 0, 0, 0, 0, 0, 0, 0, 0, 0, 0, 0, 0, 0, 0, 0, 0, 0, 0, 0, 0, 0, 0, 0, 0, 0, 0, 0, 0, 0, 0, 0, 0, 0, 0, 0, 0, 0, 0, 0, 0, 0, 0, 0, 0, 0, 0, 0, 0, 0, 0, 0, 0, 0, 0, 0, 0, 0, 0, 0, 0, 0, 0, 0, 0, 0, 0, 0, 0, 0, 0, 0, 0, 0, 0, 0, 0, 0, 0, 0, 0, 0, 0, 0, 0, 0, 0, 0, 0, 0, 0, 0, 0, 0, 0, 0, 0, 0, 0, 0, 0, 0, 0, 0, 0, 0, 0, 0, 0, 0, 0, 0, 0, 0, 0, 0, 0, 0, 0, 0, 0, 0, 0, 0, 0, 0, 0, 0, 0, 0, 0, 0, 0, 0, 0, 0, 0, 0, 0, 0, 0, 0, 0, 0, 0, 0, 0, 0, 0, 0, 0, 0, 0, 0, 0, 0, 0, 0, 0, 0, 0, 0, 0, 0, 0, 0, 0, 0, 0, 0, 0, 0, 0, 0, 0, 0, 0, 0, 0, 0, 0, 0, 0, 0, 0, 0, 0, 0, 0, 0, 0, 0, 0, 0, 0, 0, 0, 0, 0, 0, 0, 0, 0, 0, 0, 0, 0, 0, 0, 0, 0, 0, 0, 0, 0, 0, 0, 0, 0, 0, 0, 0, 0, 0, 0, 0, 0, 0, 0, 0, 0, 0, 0, 0, 0, 0, 0, 0, 0, 0, 0, 0, 0, 0, 0, 0, 0, 0, 0, 0, 0, 0, 0, 0, 0, 0, 0, 0, 0, 0, 0, 0, 0, 0, 0, 0, 0, 0, 0, 0, 0, 0, 0, 0, 0, 0, 0, 0, 0, 0, 0, 0, 0, 0, 0, 0, 0, 0, 0, 0, 0, 0, 0, 0, 0, 0, 0, 0, 0, 0, 0, 0, 0, 0, 0, 0, 0, 0, 0, 0, 0, 0, 0, 0, 0, 0, 0, 0, 0, 0, 0, 0, 0, 0, 0, 0, 0, 0, 0, 0, 0, 0, 0, 0, 0, 0, 0, 0, 0, 0, 0, 0, 0, 0, 0, 0, 0, 0, 0, 0, 0, 0, 0, 0, 0, 0, 0, 0, 0, 0, 0, 0, 0, 0, 0, 0, 0, 0, 0, 0, 0, 0, 0, 0, 0, 0, 0, 0, 0, 0, 0, 0, 0, 0, 0, 0, 0, 0, 0, 0, 0, 0, 0, 0, 0, 0, 0, 0, 0, 0, 0, 0, 0, 0, 0, 0, 0, 0, 0, 0, 0, 0, 0, 0, 0, 0, 0, 0, 0, 0, 0, 0, 0, 0, 0, 0, 0, 0, 0, 0, 0, 0, 0, 0, 0, 0, 0, 0, 0, 0, 0, 0, 0, 0, 0, 0, 0, 0, 0, 0, 0, 0, 0, 0, 0, 0, 0, 0, 0, 0, 0, 0, 0, 0, 0, 0, 0, 0, 0, 0, 0, 0, 0, 0, 0, 0, 0, 0, 0, 0, 0, 0, 0, 0, 0, 0, 0, 0, 0, 0, 0, 0, 0, 0, 0, 0, 0, 0, 0, 0, 0, 0, 0, 0, 0, 0, 0, 0, 0, 0, 0, 0, 0, 0, 0, 0, 0, 0, 0, 0, 0, 0, 0, 0, 0, 0, 0, 0, 0, 0, 0, 0, 0, 0, 0, 0, 0, 0, 0, 0, 0, 0, 0, 0, 0, 0, 0, 0, 0, 0, 0, 0, 0, 0, 0, 0, 0, 0, 0, 0, 0, 1, 0, 0, 0, 0, 0, 0, 0, 0, 0, 0, 0, 0, 0, 0, 0, 0, 0, 0, 0, 0, 0, 0, 0, 0, 0, 0, 0, 0, 0, 0, 0, 0, 0, 0, 0, 0, 0, 0, 0, 0, 0, 0, 0, 0, 0, 0, 0, 0, 0, 0, 0, 0, 0, 0, 0, 0, 0, 0, 0, 0, 0, 0, 0, 0, 0, 0, 0, 0, 0, 0, 0, 0, 0, 0, 0, 0, 0, 0, 0, 0, 0, 0, 0, 0, 0, 0, 0, 0, 0, 0, 0, 0, 0, 0, 0, 0, 0, 0, 0, 0, 0, 0, 0, 0, 0, 0, 0, 1, 0, 0, 0, 0, 0, 0, 0, 0, 0, 0, 0, 0, 0, 0, 0, 0, 0, 0, 0, 0, 0, 0, 0, 0, 0, 0, 0, 0, 0, 0, 0, 0, 0, 0, 0, 0, 0, 0, 0, 0, 0, 0, 0, 0, 0, 0, 0, 0, 0, 0, 0, 0, 0, 0, 0, 0, 0, 0, 0, 0, 0, 0, 0, 0, 0, 0, 0, 0, 0, 0, 0, 0, 0, 0, 0, 0, 0, 0, 0, 0, 0, 0, 0, 0, 0, 0, 0, 0, 0, 0, 0, 0, 0, 0, 0, 0, 0, 0, 0, 0, 0, 0, 0, 0, 0, 0, 0, 0, 0, 0, 0, 0, 0, 0, 0, 0, 0, 0, 0, 0, 0, 0, 0, 0, 0, 0, 0, 0, 0, 0, 0, 0, 0, 0, 0, 0, 0, 0, 0, 0, 0, 0, 0, 0, 0, 0, 0, 0, 0, 0, 0, 0, 0, 0, 0, 0, 0, 0, 0, 0, 0, 0, 0, 0, 0, 0, 0, 0, 0, 0, 0, 0, 0, 0, 0, 0, 0, 0, 0, 0, 0, 0, 0, 0, 0, 0, 0, 0, 0, 0, 0, 0, 0, 0, 0, 0, 0, 0, 0, 0, 0, 0, 0, 0, 0, 0, 0, 0, 0, 0, 0, 0, 0, 0, 0, 0, 0, 0, 0, 0, 0, 0, 0, 0, 0, 0, 0, 0, 0, 0, 0, 0, 0, 0, 0, 0, 0, 0, 0, 0, 0, 0, 0, 0, 0, 0, 0, 0, 0, 0, 0, 0, 0, 0, 0, 0, 0, 0, 0, 0, 0, 0, 0, 0, 0, 0, 0, 0, 0, 0, 0, 0, 0, 0, 0, 0, 0, 0, 0, 0, 0, 0, 0, 0, 0, 0, 0, 0, 0, 0, 0, 0, 0, 0, 0, 0, 0, 0, 0, 0, 0, 0, 0, 0, 0, 0, 0, 0, 0, 0, 0, 0, 0, 0, 0, 0, 0, 0, 0, 0, 0, 0, 0, 0, 0, 0, 0, 0, 0, 0, 0, 0, 0, 0, 0, 0, 0, 0, 0, 0, 0, 0, 0, 0, 0, 0, 0, 0, 0, 0, 0, 0, 0, 0, 0, 0, 0, 0, 0, 0, 0, 0, 0, 0, 0, 0, 0, 0, 0, 0, 0, 0, 0, 0, 0, 0, 0, 0, 0, 0, 0, 0, 0, 0, 0, 0, 0, 0, 0, 0, 0, 0, 0, 0, 0, 0, 0, 0, 0, 0, 0, 0, 0, 0, 0, 0, 0, 0, 0, 0, 0, 0, 0, 0, 0, 0, 0, 0, 0, 0, 0, 0, 0, 0, 0, 0, 0, 0, 0, 0, 0, 0, 0, 0, 0, 0, 0, 0, 0, 0, 0, 0, 0, 0, 0, 0, 0, 0, 0, 0, 0, 0, 0, 0, 0, 0, 0, 0, 0, 0, 0, 0, 0, 2, 0, 1, 0], type: <class 'list'>, valid types: <class 'bytes'>, <class 'bytearray'>, file-like object"
     ]
    }
   ],
   "source": [
    "response = runtime.invoke_endpoint(EndpointName = xgb_predictor.endpoint, # The name of the endpoint we created\n",
    "                                       ContentType = 'text/csv',                     # The data format that is expected\n",
    "                                       Body = test_bow)"
   ]
  },
  {
   "cell_type": "markdown",
   "metadata": {},
   "source": [
    "So why did we get an error?\n",
    "\n",
    "Because we tried to send the endpoint a list of integers but it expected us to send data of type `text/csv`. So, we need to convert it."
   ]
  },
  {
   "cell_type": "code",
   "execution_count": 61,
   "metadata": {},
   "outputs": [],
   "source": [
    "response = runtime.invoke_endpoint(EndpointName = xgb_predictor.endpoint, # The name of the endpoint we created\n",
    "                                       ContentType = 'text/csv',                     # The data format that is expected\n",
    "                                       Body = ','.join([str(val) for val in test_bow]).encode('utf-8'))"
   ]
  },
  {
   "cell_type": "code",
   "execution_count": 62,
   "metadata": {},
   "outputs": [
    {
     "name": "stdout",
     "output_type": "stream",
     "text": [
      "{'ResponseMetadata': {'RequestId': '55c6e107-f934-4aee-bdb1-11be5a37108d', 'HTTPStatusCode': 200, 'HTTPHeaders': {'x-amzn-requestid': '55c6e107-f934-4aee-bdb1-11be5a37108d', 'x-amzn-invoked-production-variant': 'AllTraffic', 'date': 'Thu, 16 Jul 2020 04:04:43 GMT', 'content-type': 'text/csv; charset=utf-8', 'content-length': '14'}, 'RetryAttempts': 0}, 'ContentType': 'text/csv; charset=utf-8', 'InvokedProductionVariant': 'AllTraffic', 'Body': <botocore.response.StreamingBody object at 0x7f128b6b1630>}\n"
     ]
    }
   ],
   "source": [
    "print(response)"
   ]
  },
  {
   "cell_type": "markdown",
   "metadata": {},
   "source": [
    "As we can see, the response from our model is a somewhat complicated looking dict that contains a bunch of information. The bit that we are most interested in is `'Body'` object which is a streaming object that we need to `read` in order to make use of."
   ]
  },
  {
   "cell_type": "code",
   "execution_count": 63,
   "metadata": {},
   "outputs": [
    {
     "name": "stdout",
     "output_type": "stream",
     "text": [
      "0.483936399221\n"
     ]
    }
   ],
   "source": [
    "response = response['Body'].read().decode('utf-8')\n",
    "print(response)"
   ]
  },
  {
   "cell_type": "markdown",
   "metadata": {},
   "source": [
    "Now that we know how to process the incoming user data we can start setting up the infrastructure to make our simple web app work. To do this we will make use of two different services. Amazon's Lambda and API Gateway services.\n",
    "\n",
    "Lambda is a service which allows someone to write some relatively simple code and have it executed whenever a chosen trigger occurs. For example, you may want to update a database whenever new data is uploaded to a folder stored on S3.\n",
    "\n",
    "API Gateway is a service that allows you to create HTTP endpoints (url addresses) which are connected to other AWS services. One of the benefits to this is that you get to decide what credentials, if any, are required to access these endpoints.\n",
    "\n",
    "In our case we are going to set up an HTTP endpoint through API Gateway which is open to the public. Then, whenever anyone sends data to our public endpoint we will trigger a Lambda function which will send the input (in our case a review) to our model's endpoint and then return the result."
   ]
  },
  {
   "cell_type": "markdown",
   "metadata": {},
   "source": [
    "### Setting up a Lambda function\n",
    "\n",
    "The first thing we are going to do is set up a Lambda function. This Lambda function will be executed whenever our public API has data sent to it. When it is executed it will receive the data, perform any sort of processing that is required, send the data (the review) to the SageMaker endpoint we've created and then return the result.\n",
    "\n",
    "#### Part A: Create an IAM Role for the Lambda function\n",
    "\n",
    "Since we want the Lambda function to call a SageMaker endpoint, we need to make sure that it has permission to do so. To do this, we will construct a role that we can later give the Lambda function.\n",
    "\n",
    "Using the AWS Console, navigate to the **IAM** page and click on **Roles**. Then, click on **Create role**. Make sure that the **AWS service** is the type of trusted entity selected and choose **Lambda** as the service that will use this role, then click **Next: Permissions**.\n",
    "\n",
    "In the search box type `sagemaker` and select the check box next to the **AmazonSageMakerFullAccess** policy. Then, click on **Next: Review**.\n",
    "\n",
    "Lastly, give this role a name. Make sure you use a name that you will remember later on, for example `LambdaSageMakerRole`. Then, click on **Create role**."
   ]
  },
  {
   "cell_type": "markdown",
   "metadata": {},
   "source": [
    "#### Part B: Create a Lambda function\n",
    "\n",
    "Now it is time to actually create the Lambda function. Remember from earlier that in order to process the user provided input and send it to our endpoint we need to gather two pieces of information:\n",
    "\n",
    " - The name of the endpoint, and\n",
    " - the vocabulary object.\n",
    "\n",
    "We will copy these pieces of information to our Lambda function after we create it.\n",
    "\n",
    "To start, using the AWS Console, navigate to the AWS Lambda page and click on **Create a function**. When you get to the next page, make sure that **Author from scratch** is selected. Now, name your Lambda function, using a name that you will remember later on, for example `sentiment_analysis_xgboost_func`. Make sure that the **Python 3.6** runtime is selected and then choose the role that you created in the previous part. Then, click on **Create Function**.\n",
    "\n",
    "On the next page you will see some information about the Lambda function you've just created. If you scroll down you should see an editor in which you can write the code that will be executed when your Lambda function is triggered. Collecting the code we wrote above to process a single review and adding it to the provided example `lambda_handler` we arrive at the following.\n",
    "\n",
    "```python\n",
    "# We need to use the low-level library to interact with SageMaker since the SageMaker API\n",
    "# is not available natively through Lambda.\n",
    "import boto3\n",
    "\n",
    "# And we need the regular expression library to do some of the data processing\n",
    "import re\n",
    "\n",
    "REPLACE_NO_SPACE = re.compile(\"(\\.)|(\\;)|(\\:)|(\\!)|(\\')|(\\?)|(\\,)|(\\\")|(\\()|(\\))|(\\[)|(\\])\")\n",
    "REPLACE_WITH_SPACE = re.compile(\"(<br\\s*/><br\\s*/>)|(\\-)|(\\/)\")\n",
    "\n",
    "def review_to_words(review):\n",
    "    words = REPLACE_NO_SPACE.sub(\"\", review.lower())\n",
    "    words = REPLACE_WITH_SPACE.sub(\" \", words)\n",
    "    return words\n",
    "    \n",
    "def bow_encoding(words, vocabulary):\n",
    "    bow = [0] * len(vocabulary) # Start by setting the count for each word in the vocabulary to zero.\n",
    "    for word in words.split():  # For each word in the string\n",
    "        if word in vocabulary:  # If the word is one that occurs in the vocabulary, increase its count.\n",
    "            bow[vocabulary[word]] += 1\n",
    "    return bow\n",
    "\n",
    "\n",
    "def lambda_handler(event, context):\n",
    "    \n",
    "    vocab = \"*** ACTUAL VOCABULARY GOES HERE ***\"\n",
    "    \n",
    "    words = review_to_words(event['body'])\n",
    "    bow = bow_encoding(words, vocab)\n",
    "\n",
    "    # The SageMaker runtime is what allows us to invoke the endpoint that we've created.\n",
    "    runtime = boto3.Session().client('sagemaker-runtime')\n",
    "\n",
    "    # Now we use the SageMaker runtime to invoke our endpoint, sending the review we were given\n",
    "    response = runtime.invoke_endpoint(EndpointName = '***ENDPOINT NAME HERE***',# The name of the endpoint we created\n",
    "                                       ContentType = 'text/csv',                 # The data format that is expected\n",
    "                                       Body = ','.join([str(val) for val in bow]).encode('utf-8')) # The actual review\n",
    "\n",
    "    # The response is an HTTP response whose body contains the result of our inference\n",
    "    result = response['Body'].read().decode('utf-8')\n",
    "    \n",
    "    # Round the result so that our web app only gets '1' or '0' as a response.\n",
    "    result = round(float(result))\n",
    "\n",
    "    return {\n",
    "        'statusCode' : 200,\n",
    "        'headers' : { 'Content-Type' : 'text/plain', 'Access-Control-Allow-Origin' : '*' },\n",
    "        'body' : str(result)\n",
    "    }\n",
    "```"
   ]
  },
  {
   "cell_type": "markdown",
   "metadata": {},
   "source": [
    "Once you have copy and pasted the code above into the Lambda code editor, replace the `**ENDPOINT NAME HERE**` portion with the name of the endpoint that we deployed earlier. You can determine the name of the endpoint using the code cell below."
   ]
  },
  {
   "cell_type": "code",
   "execution_count": 64,
   "metadata": {},
   "outputs": [
    {
     "data": {
      "text/plain": [
       "'xgboost-2020-07-16-01-04-03-769'"
      ]
     },
     "execution_count": 64,
     "metadata": {},
     "output_type": "execute_result"
    }
   ],
   "source": [
    "xgb_predictor.endpoint"
   ]
  },
  {
   "cell_type": "markdown",
   "metadata": {},
   "source": [
    "In addition, you will need to copy the vocabulary dict to the appropriate place in the code at the beginning of the `lambda_handler` method. The cell below prints out the vocabulary dict in a way that is easy to copy and paste."
   ]
  },
  {
   "cell_type": "code",
   "execution_count": 65,
   "metadata": {},
   "outputs": [
    {
     "name": "stdout",
     "output_type": "stream",
     "text": [
      "{'much': 2934, 'to': 4507, 'her': 2085, 'adult': 125, 'childrens': 793, 'nearly': 2981, 'immediately': 2242, 'after': 143, 'judy': 2426, 'husbands': 2205, 'death': 1141, 'the': 4426, 'player': 3298, 'becomes': 434, 'upon': 4684, 'returning': 3667, 'musical': 2947, 'now': 3054, 'that': 4424, 'george': 1893, 'is': 2360, 'dead': 1132, 'elizabeth': 1445, 'no': 3020, 'longer': 2645, 'has': 2043, 'practice': 3363, 'playing': 3300, 'in': 2257, 'as': 311, 'she': 3923, 'grows': 1985, 'more': 2904, 'pleased': 3305, 'with': 4911, 'open': 3112, 'takes': 4351, 'along': 195, 'memory': 2804, 'lane': 2515, 'when': 4862, 'was': 4805, '15': 7, 'year': 4978, 'old': 3100, 'member': 2800, 'of': 3083, 'jazz': 2387, 'band': 391, 'blonde': 511, 'supposedly': 4307, 'an': 223, 'all': 187, 'girl': 1909, 'wwii': 4975, 'group': 1980, 'talented': 4355, 'one': 3107, 'members': 2801, 'cross': 1066, 'dressing': 1359, 'patrick': 3213, 'ian': 2209, 'whom': 4875, 'friends': 1837, 'both': 547, '12': 3, 'grand': 1953, 'daughter': 1121, 'press': 3379, 'round': 3742, 'up': 4683, 'former': 1800, 'take': 4349, 'performing': 3233, 'together': 4511, 'again': 146, 'this': 4457, 'time': 4495, 'bunch': 623, 'among': 217, 'finds': 1728, 'are': 285, 'still': 4188, 'leslie': 2574, 'alcoholic': 177, 'out': 3141, 'spoken': 4126, 'money': 2888, 'widow': 4883, 'living': 2629, 'off': 3084, 'wealth': 4826, 'from': 1840, 'many': 2732, 'scottish': 3825, 'castle': 712, 'real': 3547, 'life': 2592, 'us': 4690, 'star': 4150, 'singer': 3993, 'having': 2054, 'at': 331, 'lead': 2545, 'annie': 247, 'june': 2433, 'army': 295, 'betty': 474, 'late': 2523, 'piano': 3264, 'joan': 2404, 'whos': 4876, 'training': 4558, 'world': 4946, 'for': 1784, '1940s': 13, 'try': 4600, 'convince': 983, 'them': 4432, 'times': 4497, 'herself': 2092, 'learns': 2553, 'than': 4420, 'wants': 4791, 'know': 2489, 'about': 67, 'their': 4431, 'lives': 2628, 'including': 2264, 'own': 3158, 'while': 4868, 'terrific': 4409, 'music': 2946, 'last': 2521, 'amusing': 221, 'nostalgic': 3039, 'historical': 2119, 'sentimental': 3882, 'multi': 2935, 'entertainment': 1500, 'seriously': 3892, 'fun': 1848, 'actors': 104, 'deliver': 1169, 'wonderful': 4928, 'performances': 3229, 'regardless': 3590, 'ages': 152, 'they': 4442, 'who': 4871, 'put': 3480, 'on': 3105, 'quite': 3495, 'show': 3953, 'dvd': 1391, 'worth': 4953, 'because': 432, 'bonus': 534, 'features': 1680, 'digital': 1251, 'sound': 4081, 'surely': 4309, 'fan': 1648, 'any': 256, 'these': 4441, 'vhs': 4725, 'love': 2669, 'it': 2366, '17': 9, 'or': 3124, 'so': 4046, 'years': 4979, 'first': 1736, 'saw': 3798, 'fact': 1621, 'discovered': 1280, 'had': 2003, 'lost': 2660, 'my': 2951, 'copy': 994, 'and': 226, 'very': 4723, 'upset': 4687, 'despite': 1211, 'its': 2370, 'non': 3027, 'original': 3129, 'which': 4867, 'kid': 2464, 'never': 3001, 'noticed': 3049, 'dont': 1324, 'care': 684, 'what': 4858, 'cartoons': 705, 'should': 3951, 'be': 418, 'like': 2599, 'just': 2437, 'dark': 1115, 'enough': 1491, 'interesting': 2325, 'light': 2595, 'enjoyed': 1486, 'by': 642, 'everyone': 1542, 'im': 2232, 'glad': 1916, 'parents': 3188, 'raised': 3508, 'me': 2778, 'kind': 2476, 'thing': 4450, 'rather': 3528, 'we': 4823, 'see': 3855, 'today': 4508, 'teach': 4374, 'our': 3139, 'kids': 2467, 'nothing': 3047, 'great': 1964, 'gets': 1900, 'stuck': 4237, 'your': 4991, 'head': 2057, 'have': 2052, 'entire': 1502, 'soundtrack': 4085, 'point': 3316, 'another': 250, 'ive': 2372, 'stated': 4161, 'if': 2222, 'people': 3221, 'want': 4788, 'sequels': 3886, 'made': 2697, 'stop': 4201, 'seeing': 3857, 'instead': 2307, 'into': 2332, 'independent': 2272, 'film': 1716, 'said': 3774, 'though': 4461, 'myself': 2953, 'must': 2950, 'been': 438, 'easily': 1406, 'six': 4010, 'months': 2897, 'ago': 154, 'heres': 2087, 'review': 3676, 'indie': 2276, 'attention': 345, 'drawn': 1351, 'cure': 1081, 'right': 3696, 'away': 369, 'you': 4986, 'can': 665, 'tell': 4395, 'going': 1931, 'approach': 282, 'use': 4692, 'extreme': 1609, 'close': 853, 'ups': 4686, 'fast': 1661, 'editing': 1421, 'proud': 3444, 'way': 4820, 'looks': 2649, 'most': 2909, 'part': 3193, 'nicely': 3009, 'composed': 926, 'little': 2624, 'piece': 3272, 'save': 3794, 'degree': 1164, 'rule': 3753, 'bad': 382, 'effect': 1428, 'seems': 3864, 'calling': 653, 'card': 681, 'self': 3869, 'projects': 3428, 'amateurish': 207, 'mistakes': 2873, 'majority': 2712, 'shots': 3950, 'actually': 109, 'pleasure': 3306, 'look': 2646, 'were': 4848, 'presented': 3376, 'good': 1937, 'props': 3439, 'locations': 2636, 'visual': 4757, 'acting': 99, 'some': 4061, 'atmospheric': 334, 'definitely': 1162, 'something': 4066, 'wont': 4932, 'often': 3095, 'plot': 3309, 'although': 201, 'basic': 406, 'premise': 3370, 'fairly': 1631, 'simple': 3983, 'may': 2775, 'find': 1726, 'hard': 2033, 'follow': 1772, 'exactly': 1551, 'happening': 2028, 'but': 636, 'here': 2086, 'storytelling': 4209, 'work': 4940, 'cant': 671, 'really': 3556, 'expect': 1575, 'three': 4469, 'act': 97, 'structure': 4233, 'do': 1302, 'might': 2835, 'not': 3040, 'ready': 3546, 'movie': 2926, 'where': 4864, 'unfortunately': 4654, 'let': 2579, 'down': 1335, 'however': 2183, 'youre': 4992, 'hear': 2061, 'throughout': 4478, 'voice': 4761, 'over': 3148, 'sounds': 4084, 'worse': 4951, 'background': 380, 'goes': 1930, 'through': 4477, 'minimal': 2855, 'change': 749, 'doesnt': 1309, 'add': 115, 'anything': 260, 'paid': 3169, 'visuals': 4759, 'audio': 354, 'frankly': 1823, 'apparent': 269, 'realize': 3552, 'youve': 4995, 'missed': 2867, 'four': 1812, 'narration': 2965, 'pick': 3265, 'past': 3207, 'give': 1912, 'watch': 4811, 'turned': 4606, 'thought': 4462, 'anyone': 259, 'else': 1448, 'reminded': 3619, 'cover': 1022, 'red': 3576, 'novel': 3052, 'human': 2188, 'early': 1400, 'book': 535, 'mean': 2779, 'didnt': 1242, 'feel': 1684, 'character': 758, 'felt': 1692, 'his': 2118, 'wife': 4884, 'could': 1007, 'done': 1322, 'better': 472, 'stronger': 4230, 'spent': 4108, 'development': 1225, 'perhaps': 3235, 'would': 4957, 'liked': 2600, 'completely': 922, 'agree': 155, 'quote': 3496, 'glenn': 1918, 'ben': 463, 'thats': 4425, 'him': 2110, 'even': 1533, 'hes': 2093, 'facial': 1619, 'expressions': 1603, 'eyes': 1613, 'sure': 4308, 'how': 2181, 'he': 2056, 'feels': 1687, 'comments': 901, 'quick': 3490, 'behind': 447, 'characters': 760, 'back': 378, 'fair': 1630, 'read': 3543, 'came': 656, 'conclusion': 936, 'almost': 193, 'everybody': 1540, 'agrees': 157, '11': 2, 'shocking': 3940, 'history': 2121, 'there': 4438, 'few': 1700, 'think': 4452, 'added': 116, 'narrative': 2966, 'weak': 4824, 'unnecessary': 4672, 'two': 4620, 'brothers': 599, 'finding': 1727, 'each': 1395, 'other': 3135, 'disaster': 1276, 'cliff': 847, 'tony': 4521, 'lot': 2661, 'making': 2718, 'always': 203, 'form': 1798, 'sum': 4289, 'facts': 1624, 'birth': 486, 'childhood': 790, 'high': 2100, 'school': 3813, 'etc': 1527, 'create': 1036, 'story': 4207, 'live': 2625, 'familiar': 1643, 'stories': 4205, 'well': 4843, 'identify': 2216, 'ourselves': 3140, 'understand': 4643, 'things': 4451, 'happened': 2027, 'told': 4513, 'purpose': 3474, 'adding': 117, 'documentary': 1307, 'whats': 4860, 'worried': 4949, 'sick': 3963, 'brother': 598, 'second': 3846, 'blockbuster': 509, 'true': 4596, 'recent': 3566, 'come': 886, 'big': 478, 'subject': 4253, 'none': 3028, 'will': 4886, 'wrong': 4973, 'trying': 4601, 'make': 2713, 'also': 199, 'movies': 2927, 'best': 469, 'war': 4792, 'seen': 3865, 'view': 4736, 'totally': 4532, 'different': 1248, 'remember': 3616, 'list': 2617, 'cried': 1054, 'hour': 2176, 'during': 1387, 'class': 833, 'image': 2233, 'fiction': 1702, 'telling': 4396, 'makes': 2716, 'forget': 1793, 'such': 4268, 'perfect': 3224, 'columbo': 881, 'knows': 2493, 'half': 2007, 'writing': 4971, 'team': 4378, 'detective': 1220, 'kills': 2474, 'partner': 3198, 'jim': 2402, 'plans': 3292, 'steps': 4177, 'picture': 3269, 'asks': 319, 'sorts': 4078, 'questions': 3489, 'mr': 2929, 'returns': 3668, 'murder': 2939, 'directed': 1259, 'young': 4989, 'steven': 4182, 'spielberg': 4110, 'before': 440, 'days': 1130, 'wrote': 4974, 'fantastic': 1651, 'believe': 454, 'man': 2721, 'solve': 4060, 'every': 1539, 'peter': 3247, 'falk': 1636, 'only': 3110, 'person': 3238, 'portray': 3340, 'example': 1553, 'plays': 3301, 'murderer': 2941, 'martin': 2748, 'victims': 4730, 'endearing': 1469, 'scenes': 3811, 'between': 475, 'la': 2500, 'met': 2822, 'tragic': 4552, 'fate': 1665, 'died': 1244, 'does': 1308, 'since': 3990, 'enjoy': 1484, 'watching': 4815, 'break': 569, 'werent': 4849, 'showing': 3958, 'question': 3487, 'havent': 2053, 'andy': 230, 'fit': 1740, 'role': 3726, 'perfectly': 3226, 'associated': 327, 'comedy': 890, 'am': 204, 'wasnt': 4807, 'troubled': 4593, 'whatever': 4859, 'broad': 590, 'variety': 4714, 'forms': 1801, 'clearly': 840, 'sensitive': 3879, 'extra': 1606, 'powers': 3361, 'understood': 4647, 'local': 2634, 'indians': 2275, 'surprising': 4315, 'vulnerable': 4768, 'eccentric': 1414, 'taken': 4350, 'family': 1645, 'sophisticated': 4075, 'twist': 4617, 'end': 1468, 'pleasant': 3302, 'surprise': 4312, 'tied': 4489, 'action': 100, 'possibility': 3349, 'spiritual': 4116, 'goal': 1925, 'james': 2378, 'bond': 532, 'game': 1864, 'ultimate': 4627, 'fantasy': 1652, 'step': 4175, 'shoes': 3941, 'agent': 150, 'comes': 891, 'closer': 856, 'control': 977, 'brosnan': 597, 'sean': 3840, 'level': 2584, 'cool': 989, 'say': 3799, 'others': 3136, '70': 55, '30': 42, 'screen': 3829, 'getting': 1901, 'used': 4693, 'certainly': 738, 'lines': 2612, 'deal': 1135, 'sir': 4000, 'evil': 1548, 'known': 2492, 'begins': 444, 'opening': 3114, 'gun': 1996, 'then': 4436, 'mission': 2870, 'prime': 3395, 'terrorists': 4414, 'everything': 1544, 'cars': 702, 'clothes': 860, 'truly': 4597, 'classic': 835, 'rock': 3720, 'roll': 3728, 'rendition': 3625, 'theme': 4433, 'finally': 1724, 'key': 2458, 'moment': 2886, 'secret': 3849, 'factory': 1623, 'games': 1865, 'follows': 1775, 'sent': 3880, 'turkey': 4604, 'device': 1227, 'russian': 3762, 'claims': 830, 'crush': 1072, 'lovable': 2668, 'sidekick': 3966, 'protect': 3443, 'get': 1899, 'london': 2641, 'screenwriter': 3833, 'bruce': 602, 'worked': 4941, 'script': 3834, 'job': 2405, 'same': 3778, 'villains': 4745, 'grant': 1956, 'theres': 4440, 'miss': 2866, 'behave': 445, 'did': 1241, 'puts': 3481, 'miles': 2843, 'ahead': 159, 'besides': 468, 'notable': 3041, 'play': 3296, 'focus': 1766, 'simply': 3986, 'onto': 3111, 'button': 639, 'killing': 2472, 'push': 3477, 'allow': 189, 'target': 4366, 'choose': 799, 'spots': 4132, 'shoot': 3942, 'attached': 336, 'enemy': 1477, 'friend': 1835, 'cause': 723, 'feature': 1678, 'range': 3516, 'hit': 2122, 'beat': 423, 'raw': 3532, 'displayed': 1292, 'mostly': 2910, 'wit': 4908, 'talent': 4354, 'theyre': 4445, 'ones': 3108, 'remote': 3622, 'helicopter': 2076, 'explore': 1594, 'areas': 287, 'reach': 3536, 'spider': 4109, 'useful': 4694, 'rooms': 3736, 'enemies': 1476, 'weapon': 4828, 'available': 361, 'around': 297, 'experience': 1580, 'yourself': 4993, 'go': 1924, 'dress': 1357, 'number': 3060, 'costumes': 1006, 'found': 1811, 'gray': 1963, 'suit': 4284, 'standard': 4144, 'black': 493, 'white': 4870, 'wore': 4939, 'drive': 1363, 'straight': 4210, 'turn': 4605, 'invisible': 2344, 'gadget': 1860, 'flying': 1764, 'streets': 4217, 'car': 680, 'fly': 1763, 'air': 164, 'jet': 2400, 'pack': 3165, 'course': 1019, 'compared': 912, 'fails': 1628, 'himself': 2111, 'heroes': 2089, 'decent': 1147, 'single': 3996, 'alone': 194, 'flaws': 1752, 'exciting': 1563, 'moments': 2887, 'particularly': 3195, 'camp': 662, 'express': 1600, 'arent': 288, 'justice': 2438, 'overall': 3150, 'far': 1653, 'streisand': 4218, 'fans': 1650, 'funny': 1852, 'need': 2987, 'brilliant': 583, 'performer': 3231, 'achieved': 93, 'becoming': 435, 'female': 1693, 'ever': 1538, 'sorry': 4076, 'dreams': 1355, 'sing': 3992, 'energy': 1478, 'above': 68, 'enthusiasm': 1501, 'performs': 3234, 'central': 735, 'park': 3190, 'concert': 935, 'later': 2525, 'shed': 3924, 'filming': 1718, 'hollywood': 2137, 'style': 4249, 'become': 433, 'less': 2575, 'lets': 2580, 'face': 1616, 'angry': 238, 'wall': 4781, 'audience': 352, 'knew': 2486, 'ticket': 4487, 'once': 3106, 'shes': 3930, 'possible': 3350, 'oh': 3096, 'legendary': 2565, 'stage': 4139, 'provides': 3450, 'excuse': 1564, 'earlier': 1399, 'appearance': 274, 'incredible': 2269, 'song': 4071, 'new': 3003, 'richard': 3686, 'loved': 2670, '1970s': 17, 'younger': 4990, 'audiences': 353, 'songs': 4072, 'effort': 1432, '80s': 59, 'broadway': 592, 'album': 175, 'went': 4847, 'struggle': 4234, 'please': 3304, 'doing': 1312, 'stuff': 4243, 'bringing': 586, 'public': 3460, 'wanted': 4789, 'sequel': 3885, 'necessary': 2984, 'improve': 2254, 'alive': 186, 'recognized': 3570, 'evening': 1534, 'notorious': 3051, 'taking': 4352, 'singers': 3994, 'task': 4368, 'undoubtedly': 4648, 'hed': 2072, 'written': 4972, 'blows': 517, 'michael': 2829, 'cd': 728, 'night': 3013, 'apparently': 270, 'whose': 4877, 'why': 4878, 'singing': 3995, 'someone': 4064, 'took': 4523, 'aside': 315, 'advice': 133, 'wasted': 4809, 'contrary': 974, 'imagine': 2238, 'tv': 4610, 'special': 4097, 'nobody': 3022, 'argue': 290, 'results': 3662, 'evident': 1547, 'treat': 4572, 'legend': 2564, 'youll': 4988, 'absolutely': 72, 'amazed': 208, 'difference': 1246, 'ps': 3453, 'watched': 4813, 'remembered': 3617, '1st': 28, 'includes': 2263, 'taste': 4369, 'homage': 2141, 'five': 1743, 'appears': 278, 'full': 1846, 'bored': 541, 'yet': 4984, 'somewhat': 4068, 'compare': 911, 'pilot': 3276, 'versions': 4721, '2nd': 41, 'hasnt': 2044, 'changed': 750, 'famous': 1647, 'series': 3890, 'depression': 1189, 'set': 3898, '3rd': 47, 'call': 651, 'witness': 4914, 'event': 1535, 'fear': 1676, 'dislike': 1288, 'credit': 1049, 'tears': 4380, 'lover': 2672, 'sun': 4292, 'order': 3126, 'poignant': 3315, 'favorite': 1671, 'offers': 3090, 'rain': 3506, 'score': 3822, 'dance': 1103, 'explaining': 1588, 'sings': 3997, 'main': 2707, 'being': 448, 'long': 2644, 'against': 147, 'hands': 2020, 'performance': 3228, 'manner': 2729, 'glimpse': 1919, 'understated': 4646, 'version': 4720, 'ends': 1474, 'happy': 2032, 'credits': 1050, 'twenty': 4612, 'sunday': 4293, 'trio': 4587, 'nyc': 3065, 'sexual': 3908, 'sometimes': 4067, 'joined': 2413, 'ex': 1549, 'hunter': 2199, 'dogs': 1311, 'witnesses': 4916, 'decides': 1150, 'taught': 4370, 'lesson': 2577, 'shell': 3927, 'date': 1118, 'wild': 4885, 'idea': 2213, 'women': 4923, 'sleep': 4024, 'men': 2805, 'laughable': 2530, 'element': 1442, 'namely': 2962, 'detailed': 1218, 'talents': 4356, 'bed': 436, 'trash': 4565, 'dude': 1381, 'eat': 1411, 'indeed': 2271, 'gag': 1861, 'older': 3101, 'lady': 2507, 'certain': 737, 'fat': 1663, 'unfortunate': 4653, 'buddy': 609, 'setting': 3900, 'smart': 4035, 'cute': 1090, 'heroine': 2091, 'cop': 991, 'ending': 1471, 'effects': 1431, 'tired': 4501, '2000': 30, 'sex': 3907, 'city': 825, 'stays': 4169, 'towards': 4540, 'indian': 2274, 'clear': 839, 'doctors': 1305, 'lying': 2690, 'charge': 761, 'wearing': 4831, 'gold': 1932, 'watches': 4814, 'box': 555, 'notice': 3048, 'couple': 1016, 'cases': 708, 'keep': 2449, 'mind': 2849, 'bank': 394, 'note': 3044, 'average': 362, 'india': 2273, 'month': 2896, 'ralph': 3510, 'bakshi': 386, 'guy': 2000, 'cartoon': 704, 'studios': 4241, 'director': 1264, 'cat': 713, 'heavy': 2070, 'pretty': 3384, 'racist': 3503, 'place': 3282, 'nights': 3016, 'working': 4944, 'title': 4504, 'disney': 1289, 'south': 4087, 'barry': 401, 'charles': 764, 'rush': 3759, 'help': 2079, 'philip': 3252, 'thomas': 4458, 'escape': 1517, 'prison': 3401, 'stopped': 4202, 'wind': 4893, 'police': 3322, 'waiting': 4772, 'fellow': 1691, 'guys': 2001, 'animation': 242, 'photos': 3261, 'footage': 1782, 'rabbit': 3498, 'bear': 420, 'fox': 1814, 'decide': 1148, 'leave': 2555, 'southern': 4088, 'settings': 3901, 'home': 2142, 'turns': 4609, 'isnt': 2362, 'encounter': 1466, 'con': 928, 'named': 2961, 'phony': 3256, 'revolutionary': 3681, 'leader': 2546, 'cousin': 1021, 'jesus': 2399, 'gives': 1914, 'strength': 4219, 'kill': 2468, 'church': 813, 'acts': 107, 'represented': 3638, 'images': 2235, 'john': 2409, 'wayne': 4821, 'elvis': 1451, 'asking': 318, 'officer': 3092, 'bag': 384, 'mafia': 2700, 'african': 142, 'americans': 214, 'various': 4715, 'ways': 4822, 'believes': 456, 'ruby': 3749, 'bobby': 525, 'led': 2558, 'called': 652, 'cube': 1076, 'dropped': 1370, 'drink': 1361, 'under': 4639, 'influence': 2286, 'gay': 1876, 'club': 863, 'discovers': 1281, 'shoots': 3944, 'randomly': 3515, 'shot': 3949, 'shooting': 3943, 'boxing': 556, 'cops': 993, 'controversial': 978, 'release': 3602, 're': 3535, 'edited': 1420, 'several': 3905, 'street': 4216, 'fight': 1707, 'obvious': 3071, '2005': 35, 'racism': 3502, 'caused': 724, 'pictures': 3270, 'hopper': 2161, 'texas': 4418, 'massacre': 2754, 'business': 633, 'produce': 3413, 'due': 1382, 'production': 3419, 'awesome': 371, 'sense': 3877, 'too': 4522, 'final': 1722, '10': 0, 'makers': 2715, 'preview': 3386, 'released': 3603, 'jumps': 2432, 'without': 4913, 'giving': 1915, 'explanation': 1590, 'beginning': 443, 'prequel': 3372, 'starts': 4159, 'earth': 1403, 'alert': 178, 'viewer': 4738, 'confusing': 942, 'superman': 4301, 'portrayed': 3342, 'potential': 3355, 'depressed': 1187, 'confused': 941, 'type': 4621, 'rarely': 3524, 'hero': 2088, 'ridiculous': 3693, 'hospital': 2172, 'snl': 4044, 'says': 3801, 'case': 707, 'child': 789, 'father': 1666, 'ok': 3098, 'kevin': 2457, 'horrible': 2163, 'basically': 407, 'unwatchable': 4682, 'tales': 4357, 'manhattan': 2726, 'wear': 4830, 'began': 441, 'passed': 3202, 'owner': 3159, 'instance': 2304, 'superior': 4300, 'western': 4853, 'similar': 3978, 'initially': 2291, 'jimmy': 2403, 'stewart': 4184, 'seeking': 3859, 'stephen': 4176, 'deadly': 1133, 'contest': 967, 'prize': 3405, 'given': 1913, 'barely': 399, 'beats': 426, 'stolen': 4195, 'chase': 769, 'passes': 3203, 'hand': 2015, 'arrogant': 303, 'hudson': 2184, 'brief': 579, 'dan': 1102, 'psychotic': 3459, 'johnny': 2410, 'dean': 1139, 'eventually': 1537, 'return': 3665, 'anthony': 253, 'mann': 2728, 'wide': 4880, 'experiences': 1582, 'literally': 2622, 'body': 527, 'forces': 1788, 'issue': 2364, 'loses': 2657, 'faster': 1662, 'draw': 1349, 'stupid': 4247, 'shelley': 3928, 'winter': 4900, 'distance': 1294, 'boy': 557, 'drops': 1372, 'ask': 316, 'explains': 1589, 'wait': 4770, 'opportunity': 3121, 'ie': 2221, 'remarkably': 3614, 'winters': 4901, 'future': 1856, 'bride': 577, 'sees': 3866, 'negative': 2991, 'side': 3965, 'aware': 368, 'helps': 2082, 'destruction': 1216, 'realistic': 3550, 'touches': 4535, 'fights': 1710, 'attack': 337, 'mitchell': 2875, 'yes': 4982, 'soldier': 4053, 'curtis': 1087, 'hundred': 2195, 'probably': 3407, 'showed': 3956, 'emotions': 1461, 'films': 1721, 'anger': 235, 'near': 2979, 'nervous': 2999, 'thinks': 4454, 'surprised': 4313, 'normally': 3034, 'parts': 3199, 'competent': 917, 'wears': 4832, 'travels': 4569, 'surfing': 4311, 'seem': 3861, 'run': 3755, 'across': 96, 'advance': 127, 'warning': 4800, 'caught': 722, 'treasure': 4571, 'cable': 644, 'week': 4837, 'wave': 4818, '60s': 54, 'current': 1084, 'hamilton': 2012, 'bay': 416, 'jaws': 2385, 'hell': 2077, 'generations': 1884, 'rest': 3657, 'loads': 2633, 'mixed': 2877, 'interviews': 2330, 'present': 3374, 'stars': 4155, 'fashion': 1659, 'tells': 4397, 'wish': 4904, 'zero': 4996, 'ten': 4399, 'day': 1129, 'imdb': 2240, 'check': 777, 'comment': 898, 'predictable': 3367, 'cheesy': 781, 'terrible': 4407, 'dialog': 1232, 'peoples': 3222, 'opinions': 3119, 'seven': 3903, 'dollars': 1315, 'crap': 1031, 'worst': 4952, 'pushed': 3478, 'scary': 3807, 'sappy': 3784, 'swear': 4334, 'jumped': 2430, 'thinking': 4453, 'research': 3644, 'paper': 3183, 'english': 1483, 'clichéd': 845, 'birds': 485, 'nowhere': 3056, 'gonna': 1936, 'happen': 2026, 'laughing': 2533, 'idiot': 2218, 'safety': 3772, 'match': 2762, 'important': 2247, 'health': 2060, 'top': 4525, 'house': 2178, 'knowing': 2490, 'killer': 2470, 'lived': 2626, 'god': 1926, 'bet': 470, 'hiding': 2099, 'stole': 4194, 'hotel': 2175, 'coming': 896, 'complete': 921, 'saying': 3800, 'theaters': 4428, 'wouldnt': 4958, 'buy': 640, 'hate': 2046, 'wouldve': 4959, 'fallen': 1638, 'position': 3345, 'got': 1944, 'knife': 2487, 'falling': 1639, 'lovely': 2671, 'waste': 4808, 'holy': 2140, 'mighty': 2836, 'drugs': 1374, 'lord': 2652, 'appeared': 276, 'green': 1971, 'horse': 2170, 'alien': 183, 'monsters': 2893, 'speed': 4103, 'cg': 739, 'general': 1880, 'sub': 4252, 'par': 3184, 'beyond': 476, 'minds': 2852, 'eye': 1611, 'episode': 1507, 'blew': 505, 'animated': 241, 'jokes': 2415, 'bugs': 613, 'stay': 4166, 'seat': 3845, 'until': 4680, 'rating': 3529, 'awful': 372, 'nominated': 3025, 'golden': 1934, 'theyve': 4446, 'recognition': 3568, 'complaint': 920, 'fine': 1729, 'bizarre': 492, 'artist': 307, 'dull': 1384, 'suppose': 4305, 'naked': 2959, 'summary': 4290, 'artists': 309, 'saved': 3795, 'hours': 2177, 'theyd': 4443, 'id': 2212, 'hardcore': 2034, 'nevertheless': 3002, 'feed': 1683, 'sucked': 4270, 'gore': 1941, 'superb': 4296, 'hey': 2095, 'commented': 900, 'project': 3427, 'students': 4239, 'media': 2789, 'sad': 3767, 'rip': 3700, 'torture': 4529, 'supposed': 4306, 'guts': 1999, 'cold': 872, 'disappointing': 1274, 'hole': 2132, 'short': 3946, 'edge': 1418, 'execution': 1566, 'blood': 512, 'violence': 4747, 'laughed': 2532, 'disappointment': 1275, 'sheer': 3925, 'wasting': 4810, '80': 58, 'minutes': 2859, 'blue': 518, 'bleak': 503, 'extremely': 1610, 'captures': 678, 'emotion': 1458, 'fighter': 1708, 'treatment': 4574, 'learning': 2552, 'hide': 2097, 'power': 3359, 'michelle': 2830, 'prior': 3400, 'noir': 3023, 'aka': 168, 'places': 3284, 'okay': 3099, 'absurd': 73, 'folks': 1771, 'behavior': 446, 'boring': 543, 'pointless': 3318, 'exercise': 1568, 'designed': 1203, 'shock': 3938, 'camera': 659, 'annoying': 249, 'expression': 1602, 'personal': 3240, 'abandoned': 62, 'beautiful': 428, 'anti': 254, 'spending': 4106, 'next': 3007, 'chasing': 772, 'middle': 2833, 'aged': 149, 'soul': 4079, 'trouble': 4592, 'aimed': 162, 'adults': 126, 'rare': 3523, 'aging': 153, 'comic': 893, 'lower': 2677, 'brooklyn': 595, 'viewers': 4739, 'appear': 273, 'greek': 1970, 'wedding': 4836, 'major': 2711, 'missing': 2869, 'contemporary': 965, 'value': 4709, 'cannot': 670, 'impressed': 2251, 'producers': 3416, 'beautifully': 429, 'involves': 2348, 'slight': 4027, 'quiet': 3492, 'path': 3209, 'poorly': 3329, 'scene': 3809, 'included': 2262, 'anywhere': 263, 'cage': 645, 'nice': 3008, 'york': 4985, 'marty': 2749, 'except': 1556, 'sight': 3969, 'running': 3756, 'careers': 687, 'ship': 3934, 'boat': 523, 'appropriate': 283, 'whole': 4873, 'cheap': 774, 'helped': 2080, 'name': 2960, 'capable': 672, 'credible': 1048, 'supporting': 4304, 'cast': 710, 'rise': 3702, 'material': 2766, 'bang': 393, 'pay': 3216, 'badly': 383, 'scripted': 3835, 'filmed': 1717, 'utterly': 4702, 'limited': 2606, 'sets': 3899, 'small': 4033, 'extras': 1608, 'pacing': 3163, 'romantic': 3733, 'irrelevant': 2358, 'scores': 3823, 'points': 3319, 'spot': 4131, 'bit': 488, 'warrior': 4802, 'princess': 3397, 'steals': 4172, 'mentally': 2809, 'vampire': 4711, 'murders': 2943, 'especially': 1520, 'reveals': 3673, 'likes': 2602, 'entertaining': 1499, 'mystery': 2956, 'tale': 4353, 'involving': 2349, 'mentioned': 2811, 'underrated': 4642, 'clark': 832, 'walter': 4784, 'matthau': 2771, 'al': 170, 'lewis': 2586, 'burns': 628, 'broke': 593, '20': 29, 'tries': 4585, 'won': 4925, 'oscar': 3133, 'actor': 103, 'neil': 2995, 'simon': 3982, 'liners': 2611, 'quickly': 3491, 'ease': 1404, 'battles': 415, 'sequences': 3888, 'jump': 2429, 'started': 4157, 'career': 686, 'finished': 1733, 'fell': 1690, 'asleep': 320, 'loud': 2664, 'impossible': 2249, 'protagonist': 3441, 'speaks': 4096, 'william': 4887, 'redeeming': 3577, 'qualities': 3483, 'hoping': 2160, 'bus': 631, 'asian': 314, 'horror': 2168, 'cinema': 816, 'irritating': 2359, 'sisters': 4002, 'mirror': 2861, 'avoid': 363, 'plague': 3285, 'suffer': 4275, 'frequent': 1831, 'recently': 3567, 'caine': 647, 'greatest': 1966, 'interested': 2324, 'pity': 3281, 'rex': 3683, 'bothered': 549, 'johnson': 2411, 'woman': 4921, 'keeping': 2450, 'serious': 3891, 'tone': 4517, 'poor': 3328, 'cameos': 658, 'based': 404, 'decades': 1145, 'directing': 1260, 'effectively': 1430, 'unpredictable': 4675, '1960s': 15, 'fame': 1642, 'mindless': 2851, 'word': 4937, 'minded': 2850, 'manipulative': 2727, 'pride': 3391, 'anybody': 257, 'photographed': 3258, 'color': 877, 'bloody': 513, 'brutal': 603, 'uses': 4697, 'gorgeous': 1942, 'disturbing': 1300, 'complicated': 925, 'japan': 2381, 'track': 4544, 'length': 2569, 'occasional': 3074, 'scenery': 3810, 'drunken': 1376, 'accurate': 90, 'depiction': 1185, 'drunk': 1375, 'unlikely': 4671, 'friendship': 1838, 'businessman': 634, 'excellent': 1555, 'harry': 2039, 'georges': 1894, 'innocent': 2294, 'loving': 2675, 'normal': 3033, 'society': 4050, 'award': 366, 'deserved': 1200, 'highlights': 2104, 'misery': 2865, 'desire': 1205, 'treated': 4573, 'played': 3297, 'repeatedly': 3632, 'message': 2819, 'shows': 3960, 'waitress': 4773, 'kitchen': 2485, 'share': 3920, 'emotional': 1459, 'touching': 4536, 'souls': 4080, 'stunts': 4246, 'jackie': 2374, 'chan': 746, 'mall': 2720, 'surrounded': 4318, 'lights': 2597, 'land': 2511, 'floor': 1759, '14': 6, 'line': 2610, 'video': 4733, 'free': 1827, 'looking': 2648, 'everywhere': 1545, 'thank': 4421, 'francis': 1818, 'wanting': 4790, 'equally': 1510, 'twice': 4613, 'vaguely': 4706, 'trailer': 4554, 'naive': 2958, 'curiosity': 1082, 'decided': 1149, 'wise': 4903, 'disappointed': 1273, 'block': 508, 'melting': 2799, 'maybe': 2776, 'forgot': 1796, 'thoughts': 4464, 'channels': 754, 'forbidden': 1785, 'incoherent': 2265, 'crude': 1069, 'convinced': 984, 'company': 910, 'mistake': 2871, 'listen': 2619, 'fury': 1855, 'spain': 4091, 'dubbed': 1379, 'language': 2516, 'meant': 2784, 'problem': 3408, 'doubt': 1332, 'account': 89, 'problems': 3409, 'dubbing': 1380, 'voices': 4763, 'strange': 4211, 'attacks': 339, 'subtle': 4260, 'beliefs': 452, 'catholic': 720, 'darker': 1116, 'humour': 2194, 'medium': 2792, 'heard': 2062, 'asked': 317, 'exist': 1569, 'diane': 1238, 'keaton': 2448, 'exaggerated': 1552, 'disagree': 1269, 'religious': 3608, 'teacher': 4375, 'burn': 625, 'schools': 3814, 'perform': 3227, 'christmas': 810, 'parody': 3192, 'sister': 4001, 'chain': 741, 'unhappy': 4656, 'events': 1536, 'leaves': 2556, 'feeling': 1685, 'hearts': 2066, 'recommended': 3572, 'actress': 105, 'contains': 964, 'concept': 930, 'dancer': 1104, 'boyfriend': 558, 'news': 3005, 'khan': 2459, 'annoyed': 248, 'roles': 3727, 'marvelous': 2750, 'kapoor': 2443, 'married': 2744, 'crisis': 1060, 'attracted': 349, 'natural': 2973, 'born': 544, 'actresses': 106, 'thin': 4449, 'feet': 1688, 'abraham': 69, 'accident': 84, 'suffers': 4278, 'loss': 2659, 'loves': 2674, 'husband': 2204, 'anymore': 258, 'driver': 1366, 'meets': 2795, 'male': 2719, 'bring': 585, 'falls': 1640, 'growing': 1983, 'handsome': 2021, 'touch': 4533, 'significant': 3972, 'loose': 2650, 'bollywood': 530, 'industry': 2280, 'sucks': 4271, 'ability': 65, 'amitabh': 216, 'david': 1124, 'debut': 1143, 'mans': 2730, 'couldnt': 1008, 'margaret': 2735, 'selling': 3873, 'author': 359, 'helping': 2081, 'settle': 3902, 'patients': 3212, 'shark': 3921, 'mike': 2838, 'joe': 2407, 'reason': 3557, 'professional': 3421, 'confidence': 938, 'victim': 4729, 'pulls': 3464, 'meeting': 2794, 'intrigued': 2334, 'using': 4698, 'details': 1219, 'revealed': 3671, 'elaborate': 1439, 'weird': 4841, 'reads': 3545, 'dealing': 1136, 'intelligent': 2314, 'expert': 1585, 'reading': 3544, 'allows': 192, 'secondly': 3847, 'ultimately': 4628, 'possibly': 3351, 'allowing': 191, 'meet': 2793, 'hadnt': 2004, 'failed': 1626, 'assume': 328, 'odds': 3082, 'bar': 396, 'tricks': 4583, 'trade': 4547, 'revenge': 3675, 'leads': 2548, 'airport': 167, 'area': 286, 'somehow': 4063, 'clumsy': 866, 'inept': 2281, 'empty': 1465, 'revelation': 3674, 'exact': 1550, 'eight': 1436, 'initial': 2290, 'strangers': 4214, 'co': 867, 'island': 2361, 'youd': 4987, 'bush': 632, 'decade': 1144, 'commit': 904, 'speaking': 4095, 'record': 3573, 'questionable': 3488, 'suspend': 4329, 'disbelief': 1277, 'bill': 481, 'eating': 1413, 'rat': 3525, 'crew': 1053, 'appeal': 271, 'suggest': 4280, 'trip': 4588, 'station': 4164, 'homeless': 2143, 'sit': 4003, 'garbage': 1870, 'striking': 4226, 'dr': 1340, 'frankenstein': 1822, 'stick': 4185, 'food': 1778, 'breath': 573, 'otherwise': 3137, 'survivor': 4324, 'frightening': 1839, 'state': 4160, 'blown': 516, 'kicks': 2463, 'sam': 3777, 'wars': 4804, 'dragon': 1344, 'rocket': 3721, 'sadly': 3769, 'recommend': 3571, 'rent': 3626, 'buying': 641, 'text': 4419, 'calm': 655, 'hunt': 2198, 'pile': 3275, 'batman': 413, 'comics': 895, 'became': 431, 'excited': 1561, 'learn': 2550, 'crappy': 1032, 'japanese': 2382, 'anime': 243, 'modern': 2882, 'designs': 1204, 'kung': 2498, 'fu': 1844, 'master': 2757, 'gothic': 1945, 'alike': 185, 'obsessed': 3069, 'design': 1202, 'monkey': 2890, 'demented': 1176, 'bob': 524, 'hardly': 2036, 'threat': 4467, 'crimes': 1056, 'plan': 3287, 'dog': 1310, 'fascinating': 1658, 'complex': 923, 'haunted': 2050, 'deaths': 1142, 'crime': 1055, 'defeat': 1157, 'study': 4242, 'build': 614, 'giant': 1905, 'fighting': 1709, 'robot': 3717, 'likable': 2598, 'stereotypical': 4180, 'bat': 410, 'biggest': 480, 'scientist': 3818, 'accidentally': 85, 'creature': 1045, 'mad': 2696, 'exception': 1557, 'actual': 108, 'characterization': 759, 'genius': 1887, 'writer': 4968, 'paul': 3214, 'heart': 2064, 'ice': 2210, 'gave': 1875, 'dimensional': 1253, 'villain': 4744, 'popular': 3333, 'accepted': 82, 'robin': 3715, 'petty': 3249, 'thief': 4448, 'guess': 1989, 'wonder': 4926, 'created': 1037, 'tim': 4494, 'obviously': 3072, 'christopher': 811, '100': 1, 'loyal': 2679, 'lacks': 2505, 'sort': 4077, 'depth': 1190, 'chances': 748, 'iraq': 2351, 'medical': 2790, 'support': 4303, 'unit': 4663, 'compelled': 915, 'feelings': 1686, 'attempt': 340, 'arrival': 299, 'peace': 3219, 'serves': 3895, 'start': 4156, 'begin': 442, 'statement': 4162, 'incredibly': 2270, 'highly': 2105, 'mature': 2773, 'freedom': 1828, 'forward': 1808, 'children': 792, 'rate': 3526, 'common': 906, 'able': 66, 'afford': 138, 'tour': 4538, 'sides': 3967, 'slap': 4018, 'talk': 4358, 'insulting': 2310, 'grade': 1951, 'result': 3660, 'total': 4531, 'failure': 1629, 'manages': 2725, 'artistic': 308, 'clever': 841, 'suspenseful': 4331, 'mysterious': 2955, 'dramatic': 1348, 'flat': 1748, 'managed': 2723, 'desperate': 1208, 'low': 2676, 'budget': 610, 'pulp': 3465, 'bird': 484, 'least': 2554, 'size': 4012, 'blow': 514, 'bomb': 531, 'expectations': 1576, 'town': 4541, 'covers': 1024, 'territory': 4411, 'reunion': 3669, 'convoluted': 987, 'supernatural': 4302, 'adds': 119, 'worn': 4948, 'quality': 3484, 'content': 966, 'appalling': 268, 'blatant': 502, 'unless': 4669, 'post': 3352, 'feminist': 1695, 'choice': 797, 'jewish': 2401, 'mother': 2911, 'gratuitous': 1961, 'ashamed': 312, 'represent': 3637, 'writers': 4969, 'brought': 600, 'cruel': 1070, 'stereotypes': 4179, 'jaw': 2384, 'dropping': 1371, 'horrific': 2166, 'chris': 806, 'pulled': 3462, 'hilarious': 2106, 'unfunny': 4655, 'shame': 3918, 'ran': 3513, 'page': 3167, 'glorious': 1921, 'leaving': 2557, 'religion': 3607, 'huge': 2185, 'amazing': 209, 'mask': 2752, 'monk': 2889, 'held': 2074, 'formula': 1802, 'reminds': 3620, 'marriage': 2743, 'reaction': 3541, 'holds': 2131, 'rid': 3690, 'journey': 2421, 'awards': 367, 'silly': 3976, 'overwhelming': 3157, 'convincingly': 986, 'front': 1841, 'talking': 4360, 'those': 4460, 'thrown': 4481, 'genuine': 1891, 'semi': 3874, 'enjoyable': 1485, 'rubbish': 3748, 'catchy': 717, 'fisher': 1739, 'force': 1786, 'seek': 3858, 'fathers': 1667, 'familys': 1646, 'sudden': 4272, 'powerful': 3360, 'yeah': 4977, 'picked': 3266, 'success': 4265, 'messed': 2821, 'social': 4049, 'system': 4345, 'foster': 1809, 'florida': 1761, 'ashley': 313, 'ignored': 2225, 'multiple': 2936, 'abuse': 74, 'killed': 2469, 'occasionally': 3075, 'issues': 2365, 'dealt': 1138, 'matter': 2769, 'concerned': 932, 'stock': 4193, 'pre': 3365, 'lesbian': 2573, 'spooky': 4128, 'lovers': 2673, 'plant': 3293, 'experiment': 1583, 'grave': 1962, 'bodies': 526, 'crash': 1033, 'lonely': 2643, 'road': 3709, 'incomprehensible': 2267, 'spanish': 4092, 'standards': 4145, 'visit': 4755, 'bedroom': 437, 'explain': 1586, 'girls': 1911, 'cut': 1089, 'scientists': 3819, 'belong': 459, 'mine': 2853, 'speech': 4102, 'bother': 548, 'plenty': 3307, 'cuts': 1091, 'atrocious': 335, 'pan': 3180, 'print': 3399, 'according': 88, 'interview': 2329, 'mess': 2818, 'werewolf': 4850, 'mark': 2739, 'wolf': 4920, 'featuring': 1681, 'shirt': 3937, 'continuity': 972, 'random': 3514, 'creepy': 1052, 'recorded': 3574, 'solo': 4058, 'inducing': 2279, 'favourite': 1673, 'madness': 2698, 'girlfriend': 1910, 'rank': 3518, 'amateur': 206, 'porn': 3336, 'involved': 2346, 'aids': 161, 'eddie': 1416, 'pace': 3161, 'mediocre': 2791, 'string': 4227, 'suitable': 4285, 'solid': 4057, 'large': 2517, 'extent': 1605, 'hair': 2005, 'recognize': 3569, 'cruise': 1071, 'dumb': 1385, 'charming': 768, 'unusual': 4681, 'sitcom': 4004, 'casting': 711, 'choices': 798, 'cameo': 657, 'carrie': 697, '90s': 61, 'include': 2261, 'paris': 3189, 'ideal': 2214, 'fits': 1741, 'specific': 4099, 'treats': 4575, 'slow': 4031, 'secrets': 3852, 'age': 148, 'beauty': 430, 'fish': 1738, 'water': 4816, 'hamlet': 2013, 'henry': 2084, 'hammer': 2014, 'baby': 376, 'rules': 3754, 'carol': 693, 'relatively': 3600, 'balance': 387, 'amongst': 218, 'companion': 909, 'theater': 4427, 'chair': 742, 'damn': 1100, 'baseball': 403, 'jack': 2373, 'attempting': 342, 'football': 1783, 'dinner': 1254, 'wives': 4918, 'williams': 4888, 'russell': 3761, 'overlooked': 3154, 'notch': 3043, 'spoilers': 4124, 'cake': 648, 'sacrifice': 3766, 'admit': 122, 'conversations': 981, 'fortunately': 1805, 'repeated': 3631, 'consider': 949, 'usually': 4700, 'source': 4086, 'scared': 3805, 'lies': 2591, 'anyway': 261, 'pretending': 3382, 'deaf': 1134, 'corrupt': 1001, 'witch': 4909, 'adam': 111, 'eve': 1532, 'sharp': 3922, 'pain': 3170, 'cgi': 740, 'super': 4295, 'figure': 1711, 'split': 4120, 'brady': 561, 'views': 4742, 'needed': 2988, 'serial': 3889, 'killers': 2471, 'silence': 3974, 'hbo': 2055, 'compelling': 916, 'underlying': 4641, 'themes': 4434, 'search': 3841, 'brilliantly': 584, 'investigation': 2343, 'donald': 1321, 'sutherland': 4333, 'cynical': 1093, 'government': 1948, 'willing': 4889, 'masterpieces': 2760, 'situation': 4008, 'beaten': 424, 'passionate': 3206, 'stands': 4147, 'jeffrey': 2391, 'creates': 1038, 'empathy': 1462, 'hatred': 2049, 'monster': 2892, 'tortured': 4530, 'vicious': 4728, 'atlantis': 332, 'emphasis': 1463, 'summer': 4291, 'driven': 1365, 'favor': 1670, 'em': 1452, 'stereotype': 4178, 'art': 304, 'computer': 927, 'generated': 1882, 'craft': 1028, 'fill': 1714, 'window': 4894, 'worthwhile': 4955, 'misses': 2868, 'meaningful': 2781, 'appreciated': 280, 'rushed': 3760, 'door': 1328, 'voiced': 4762, 'left': 2561, 'happens': 2029, 'remains': 3611, 'afraid': 140, 'fictional': 1703, 'sea': 3838, 'purely': 3472, 'theatre': 4429, 'themselves': 4435, 'surviving': 4323, 'sink': 3999, 'mill': 2845, 'motivations': 2915, 'seemingly': 3863, 'existed': 1570, 'planet': 3289, 'spoiler': 4123, 'enters': 1496, 'collection': 874, 'quirky': 3493, 'race': 3499, 'gender': 1878, 'talks': 4361, 'warner': 4799, 'gross': 1978, 'largely': 2518, 'reasons': 3560, 'delivered': 1170, 'players': 3299, 'moral': 2902, 'animals': 240, 'transition': 4561, 'amount': 219, 'subtitles': 4259, 'speak': 4094, 'tarzan': 4367, 'produced': 3414, 'attempts': 343, 'needs': 2990, 'roots': 3738, 'shortly': 3947, 'science': 3816, 'hopes': 2159, 'genre': 1888, 'hope': 2155, 'sci': 3815, 'fi': 1701, 'adaptation': 113, 'robert': 3713, 'empire': 1464, 'grey': 1973, 'canada': 666, 'north': 3036, 'cultural': 1078, 'identity': 2217, 'values': 4710, 'user': 4696, 'ratings': 3530, 'strong': 4229, 'following': 1774, 'properly': 3437, 'drama': 1346, 'urban': 4688, 'market': 2740, 'nurse': 3063, 'drug': 1373, 'thugs': 4484, 'violent': 4748, 'nonsense': 3030, 'excitement': 1562, 'exploitation': 1592, 'inner': 2292, 'merely': 2815, '70s': 56, 'mentioning': 2812, 'crocodile': 1065, 'expecting': 1578, 'suck': 4269, 'reviews': 3679, 'seemed': 3862, 'psycho': 3457, 'kept': 2456, 'fall': 1637, 'apart': 264, 'chooses': 800, 'universe': 4666, 'blame': 499, 'superhero': 4299, 'luke': 2687, 'wilson': 4891, '2006': 36, 'funniest': 1851, 'unbelievably': 4635, 'forgive': 1795, 'westerns': 4854, 'thousand': 4465, 'competition': 918, 'trail': 4553, 'dutch': 1389, 'brown': 601, 'arrive': 300, 'winning': 4898, 'escapes': 1519, 'country': 1014, 'steve': 4181, 'miller': 2846, 'hold': 2129, 'bull': 619, 'cheating': 776, 'meanwhile': 2785, 'planning': 3291, 'holding': 2130, 'hills': 2109, 'pursuit': 3476, 'showdown': 3955, 'particular': 3194, 'carry': 700, 'universal': 4665, 'contract': 973, 'addition': 118, 'chuck': 812, 'ray': 3533, 'sheriff': 3929, 'soldiers': 4054, 'chief': 788, 'sequence': 3887, 'responsible': 3656, 'lily': 2605, 'works': 4945, 'office': 3091, 'higher': 2101, '1933': 12, 'era': 1513, 'code': 869, 'stanwyck': 4149, 'sexy': 3911, 'cook': 988, 'ned': 2986, 'stevens': 4183, 'ann': 244, 'carter': 703, 'harris': 2038, 'deals': 1137, 'brave': 567, 'topic': 4526, 'historically': 2120, 'therefore': 4439, 'academy': 77, 'delightful': 1168, 'usual': 4699, 'grinch': 1975, 'ron': 3734, 'howard': 2182, 'lose': 2654, 'direct': 1258, 'motion': 2913, 'easy': 1410, 'laugh': 2529, 'painful': 3171, 'somewhere': 4069, 'describe': 1194, 'term': 4405, 'loosely': 2651, 'garden': 1872, 'believed': 455, 'vehicle': 4718, 'mst3k': 2932, 'lots': 2662, 'pull': 3461, 'viewed': 4737, 'disc': 1278, 'urge': 4689, 'opposite': 3123, 'direction': 1261, 'drop': 1369, 'within': 4912, '40': 48, 'lake': 2509, 'reaching': 3539, 'morris': 2908, 'dennis': 1179, 'coach': 868, 'losing': 2658, 'terribly': 4408, 'minor': 2857, 'throw': 4479, 'pitch': 3279, 'throwing': 4480, 'wins': 4899, 'friendly': 1836, 'brian': 576, 'cox': 1026, 'rachel': 3500, 'jones': 2418, 'develop': 1222, 'quest': 3486, 'dream': 1354, 'inspiring': 2302, 'starring': 4154, 'ego': 1435, 'king': 2479, 'kong': 2494, 'deserves': 1201, 'respect': 3652, 'wanna': 4786, 'throat': 4476, 'costume': 1005, 'kate': 2446, 'ass': 323, 'reporter': 3636, 'wow': 4962, 'son': 4070, 'portrayal': 3341, 'presents': 3377, 'itself': 2371, 'screaming': 3827, 'hysterical': 2208, 'regret': 3591, 'guilt': 1994, 'anderson': 227, 'gifted': 1907, 'filmmaker': 1719, 'balls': 390, 'involve': 2345, 'committed': 905, 'miserably': 2864, 'circumstances': 822, 'pulling': 3463, 'develops': 1226, 'display': 1291, 'waves': 4819, 'spread': 4133, 'field': 1704, 'proves': 3447, 'testament': 4417, 'ill': 2228, 'shut': 3961, 'stood': 4199, 'realise': 3548, 'survive': 4321, 'move': 2921, 'traditional': 4550, 'routine': 3743, 'disneys': 1290, 'studio': 4240, 'achievement': 94, 'pg': 3250, 'families': 1644, 'et': 1526, 'potentially': 3356, 'suffering': 4277, 'minute': 2858, 'epic': 1506, 'levels': 2585, 'detail': 1217, 'titanic': 4503, 'shall': 3916, 'bumbling': 622, 'kissing': 2484, 'attraction': 350, 'correct': 1000, 'leading': 2547, 'dozen': 1338, 'numerous': 3062, 'disappear': 1270, 'considerable': 950, 'clichés': 846, 'attractive': 351, 'square': 4136, 'colonel': 876, 'rich': 3685, 'tongue': 4518, 'cheek': 779, 'nature': 2975, 'alright': 198, 'flick': 1754, 'tried': 4584, 'consistently': 954, 'witty': 4917, 'dialogue': 1234, 'inspired': 2301, 'stunning': 4244, 'flaw': 1749, 'hired': 2117, 'outside': 3146, 'presentation': 3375, 'previous': 3387, 'conflict': 939, 'similarities': 3979, 'gary': 1873, 'heads': 2059, 'dynamic': 1394, 'sounding': 4083, 'tension': 4404, 'creators': 1044, 'intended': 2315, 'adventure': 130, 'thrill': 4471, 'ride': 3692, 'albeit': 173, 'attitude': 346, 'delight': 1167, 'heck': 2071, 'efforts': 1433, 'positive': 3346, 'laws': 2540, 'frequently': 1832, 'broken': 594, 'offering': 3089, 'whether': 4866, 'subjects': 4254, 'hilariously': 2107, 'porno': 3337, 'chance': 747, 'grab': 1949, 'worry': 4950, 'screams': 3828, 'information': 2288, 'brings': 587, 'priest': 3392, 'packed': 3166, 'poetic': 3313, 'security': 3854, 'provide': 3448, 'offered': 3088, 'dirty': 1268, 'learned': 2551, 'fire': 1734, 'obsession': 3070, 'poster': 3353, 'alex': 179, 'hyde': 2206, 'movements': 2924, 'interest': 2323, 'grown': 1984, 'outrageous': 3145, 'suspects': 4328, 'buildings': 616, 'american': 213, 'double': 1331, 'racial': 3501, 'cliché': 844, 'boss': 546, 'table': 4346, 'meat': 2787, 'perry': 3237, 'twin': 4615, 'forever': 1792, 'touched': 4534, 'kidnapped': 2466, 'pop': 3330, 'corner': 996, 'developed': 1223, 'pure': 3471, 'rising': 3703, 'rated': 3527, 'lazy': 2543, 'finale': 1723, 'machine': 2693, 'suddenly': 4273, 'count': 1010, 'lee': 2559, 'increasingly': 2268, 'teenager': 4390, 'teen': 4388, 'experienced': 1581, 'maker': 2714, 'pathetic': 3210, 'definite': 1161, 'directly': 1263, 'scream': 3826, 'filled': 1715, 'ultra': 4629, 'warn': 4797, 'radio': 3504, 'senseless': 3878, 'room': 3735, 'holes': 2133, 'killings': 2473, 'actions': 101, 'german': 1896, 'tracks': 4545, 'considering': 952, 'wondered': 4927, 'chosen': 805, 'germans': 1897, 'california': 650, 'accents': 79, 'aint': 163, 'captured': 677, 'menace': 2806, 'enjoying': 1487, 'offensive': 3086, 'worthless': 4954, 'bottom': 551, 'idiotic': 2219, 'guarantee': 1987, 'laughs': 2534, 'lame': 2510, 'plots': 3310, 'finish': 1732, 'beast': 422, 'argument': 291, 'loser': 2655, 'letter': 2581, 'meaning': 2780, 'worlds': 4947, 'romance': 3732, 'winds': 4895, 'send': 3875, 'mrs': 2930, 'overly': 3155, 'downright': 1337, 'ugly': 4625, 'whenever': 4863, 'plus': 3311, 'overdone': 3152, 'ruined': 3751, 'engaging': 1481, 'riveting': 3708, 'prove': 3445, 'innocence': 2293, 'doomed': 1327, 'military': 2844, 'court': 1020, 'spy': 4135, 'dramas': 1347, 'crafted': 1029, 'outstanding': 3147, 'constant': 957, 'effective': 1429, 'twists': 4619, 'originally': 3131, 'television': 4394, 'presence': 3373, 'attorney': 348, 'plight': 3308, 'distant': 1295, 'norman': 3035, 'interpretation': 2328, 'dedicated': 1153, 'laid': 2508, 'placed': 3283, 'convincing': 985, 'intense': 2316, 'highlight': 2103, 'scale': 3802, 'difficult': 1249, 'capturing': 679, 'workers': 4943, 'cameras': 660, 'angles': 237, 'entry': 1504, 'remaining': 3610, 'suspense': 4330, 'walk': 4775, 'spike': 4111, 'navy': 2976, 'perspective': 3245, 'todays': 4509, 'stilted': 4190, 'bright': 581, 'program': 3424, 'grew': 1972, '50s': 52, 'rubber': 3747, 'somebody': 4062, 'model': 2880, 'considered': 951, 'massive': 2756, 'thick': 4447, 'uncomfortable': 4637, 'comedies': 889, 'producing': 3417, 'offended': 3085, 'means': 2783, 'acted': 98, 'royal': 3746, 'canadian': 667, 'farce': 1654, 'rick': 3689, 'report': 3635, 'aired': 165, 'bbc': 417, 'political': 3324, 'president': 3378, 'irish': 2353, 'intentions': 2321, 'attempted': 341, 'rebel': 3561, 'oil': 3097, 'concerns': 934, 'remarkable': 3613, 'filmmakers': 1720, 'plain': 3286, 'savage': 3793, 'strip': 4228, 'vampires': 4712, 'carried': 698, 'assigned': 325, 'punk': 3468, 'twins': 4616, 'purple': 3473, 'crazy': 1035, 'dancing': 1107, 'quotes': 3497, 'elephant': 1444, 'mouth': 2920, 'fake': 1635, 'object': 3066, 'hated': 2047, 'photography': 3260, 'stinks': 4192, 'till': 4493, 'scott': 3824, 'listed': 2618, 'college': 875, 'typical': 4623, 'tough': 4537, 'featured': 1679, 'virgin': 4749, 'wishes': 4906, 'brilliance': 582, 'walking': 4779, 'cabin': 643, 'progress': 3425, 'topless': 4527, 'wrestling': 4966, 'followed': 1773, 'ninja': 3018, 'receives': 3565, 'seed': 3856, 'someones': 4065, 'pregnant': 3369, 'season': 3843, 'flicks': 1755, 'putting': 3482, 'cinematic': 818, 'equivalent': 1512, 'sexuality': 3909, 'figures': 1713, 'charismatic': 763, 'performers': 3232, 'fresh': 1833, 'honest': 2146, 'thankfully': 4422, 'culture': 1079, 'references': 3583, 'cinematography': 820, 'gritty': 1977, 'east': 1407, 'italian': 2367, 'neo': 2998, 'realism': 3549, 'tremendous': 4579, 'praise': 3364, 'america': 212, 'criminal': 1057, 'groups': 1981, 'silver': 3977, 'li': 2587, 'thanks': 4423, 'raising': 3509, 'victor': 4731, 'refreshing': 3586, 'worthy': 4956, 'soon': 4074, 'poverty': 3357, 'purposes': 3475, 'occurs': 3078, 'reasonably': 3559, 'spare': 4093, 'teenage': 4389, 'driving': 1368, 'isolated': 2363, 'previously': 3388, 'murdered': 2940, 'breaks': 571, 'paced': 3162, 'fooled': 1780, 'description': 1197, 'melodramatic': 2798, 'forgettable': 1794, 'disjointed': 1287, 'van': 4713, 'africa': 141, 'orange': 3125, 'magic': 2703, 'lack': 2502, 'celluloid': 731, 'campy': 664, 'humorous': 2193, 'complain': 919, 'pamela': 3179, 'clothing': 861, 'mainly': 2708, 'pants': 3182, 'mental': 2808, '25': 40, '16': 8, 'methods': 2825, 'unpleasant': 4674, 'price': 3389, 'louis': 2665, 'linda': 2609, 'swedish': 4335, 'frank': 1821, 'oz': 3160, 'animal': 239, 'jerry': 2396, 'nelson': 2997, 'pops': 3332, 'dave': 1123, 'failing': 1627, 'separate': 3883, 'directs': 1267, 'fonda': 1777, 'portraying': 3343, 'stops': 4203, 'judge': 2424, 'trial': 4580, 'humor': 2192, 'ford': 1789, 'trademark': 4548, 'ward': 4793, 'alfred': 181, 'hitchcock': 2123, 'revolves': 3682, 'fred': 1825, 'emily': 1456, 'test': 4416, 'hearted': 2065, 'wealthy': 4827, 'believable': 453, 'staying': 4168, 'third': 4455, 'faithful': 1634, 'jon': 2416, 'faces': 1618, 'baker': 385, 'impression': 2252, 'stealing': 4171, 'jumping': 2431, 'alan': 171, 'ruin': 3750, 'ended': 1470, 'errors': 1516, 'usa': 4691, 'plane': 3288, 'shop': 3945, 'sell': 3871, 'guns': 1998, 'counter': 1011, 'unreal': 4676, 'ruins': 3752, 'period': 3236, 'china': 795, 'invasion': 2340, 'dry': 1377, 'directorial': 1265, 'stand': 4143, 'staring': 4152, 'reactions': 3542, 'repeat': 3630, 'progresses': 3426, 'interaction': 2322, 'silent': 3975, 'dances': 1106, 'united': 4664, 'states': 4163, 'international': 2326, 'relations': 3596, 'forced': 1787, 'arrived': 301, 'honor': 2150, 'shown': 3959, 'hence': 2083, 'odd': 3080, 'practically': 3362, 'resemblance': 3645, 'truth': 4599, 'watchable': 4812, 'incident': 2260, 'tend': 4400, 'sat': 3786, 'guide': 1993, 'sounded': 4082, 'jamie': 2379, 'movement': 2923, 'picking': 3267, 'luck': 2681, 'episodes': 1508, 'succeeds': 4264, 'scripts': 3836, 'mix': 2876, 'flight': 1757, 'blend': 504, 'memorable': 2802, 'edition': 1422, 'triumph': 4590, 'comical': 894, '3000': 43, 'prepared': 3371, 'viewing': 4740, 'challenging': 744, 'simplicity': 3984, 'swim': 4337, 'discover': 1279, 'staff': 4138, 'suicide': 4283, 'gas': 1874, 'brains': 563, 'christian': 808, '45': 50, 'cost': 1003, 'absolute': 71, 'jean': 2389, 'freak': 1824, 'charm': 767, 'focused': 1767, 'seasons': 3844, 'da': 1094, 'cameron': 661, 'challenge': 743, 'moore': 2901, 'already': 197, 'comedian': 887, 'british': 589, 'arthur': 305, 'splendid': 4119, 'suited': 4286, 'surreal': 4317, 'tommy': 4516, 'cooper': 990, 'blank': 501, 'childish': 791, 'delivers': 1172, 'authority': 360, 'thoroughly': 4459, 'rocks': 3722, 'reaches': 3538, 'ghost': 1902, 'searching': 3842, 'disappoint': 1272, 'returned': 3666, 'britain': 588, 'dying': 1393, 'uncle': 4636, 'serving': 3897, 'vietnam': 4735, 'channel': 753, 'rented': 3628, 'bought': 552, 'renting': 3629, 'directions': 1262, 'emotionally': 1460, 'runs': 3757, 'wake': 4774, 'smoking': 4040, 'gangster': 1868, 'century': 736, 'sentence': 3881, 'briefly': 580, 'nick': 3012, 'joseph': 2419, 'explained': 1587, 'matters': 2770, 'scheme': 3812, 'visits': 4756, 'sleeping': 4025, 'secretary': 3850, 'keeps': 2451, 'accent': 78, 'shakespeare': 3915, 'allen': 188, 'deep': 1154, 'standing': 4146, 'curious': 1083, 'sitting': 4007, 'joke': 2414, 'junk': 2436, 'either': 1438, 'fortune': 1806, 'trek': 4578, 'installment': 2303, 'flawed': 1750, 'moody': 2899, 'kirk': 2482, 'travel': 4567, 'escaped': 1518, 'library': 2589, 'elderly': 1440, 'confusion': 943, 'england': 1482, 'relationship': 3597, 'punishment': 3467, 'toward': 4539, 'realizes': 3554, 'enterprise': 1495, 'destroying': 1215, 'latter': 2528, 'offer': 3087, 'map': 2733, 'stayed': 4167, 'unconvincing': 4638, 'junior': 2435, 'endless': 1473, 'student': 4238, 'destroyed': 1214, 'drinking': 1362, 'blah': 496, 'throws': 4482, 'category': 718, 'entertain': 1497, 'de': 1131, 'dangerous': 1110, 'pretentious': 3383, 'overrated': 3156, 'shallow': 3917, 'domino': 1319, 'superficial': 4298, 'unlike': 4670, 'proceedings': 3410, 'irony': 2357, 'via': 4726, 'draws': 1352, 'spoiled': 4122, 'upper': 4685, 'babe': 375, 'harvey': 2042, 'los': 2653, 'angeles': 233, 'hunters': 2200, 'mickey': 2831, 'edgar': 1417, 'walken': 4777, 'hints': 2113, 'segments': 3868, 'seconds': 3848, 'resolution': 3649, 'nightmare': 3014, 'frame': 1815, 'unbearable': 4633, 'segment': 3867, 'introduces': 2338, 'wishing': 4907, 'protagonists': 3442, 'utter': 4701, 'individual': 2277, 'hoped': 2156, 'expected': 1577, 'brando': 566, 'sinatra': 3989, 'damon': 1101, 'gang': 1867, 'simmons': 3981, 'boys': 559, 'climax': 849, 'introduced': 2337, 'restaurant': 3658, 'weakest': 4825, 'terms': 4406, 'numbers': 3061, 'continue': 969, 'cash': 709, 'west': 4852, 'drew': 1360, 'musicals': 2948, 'changing': 752, 'location': 2635, 'comparison': 914, 'dolls': 1316, 'bound': 553, 'dated': 1119, 'legal': 2563, 'adventures': 131, 'regard': 3588, 'impact': 2244, 'switch': 4339, 'convey': 982, 'inspector': 2299, 'saves': 3796, '2002': 32, 'resist': 3648, 'related': 3594, 'purchased': 3470, 'existent': 1572, 'brain': 562, 'equal': 1509, 'fifteen': 1706, 'exists': 1573, 'hat': 2045, 'legs': 2566, 'hip': 2114, 'vice': 4727, 'don': 1320, 'adams': 112, 'situations': 4009, 'fix': 1744, 'hopefully': 2157, 'purchase': 3469, 'dvds': 1392, 'memories': 2803, 'department': 1182, 'store': 4204, 'displays': 1293, 'manager': 2724, 'naturally': 2974, 'sports': 4130, 'womens': 4924, 'trapped': 4564, 'bathroom': 412, 'ears': 1402, 'struck': 4232, 'bergman': 466, 'bands': 392, 'pieces': 3273, 'weight': 4840, 'desperately': 1209, 'tape': 4365, 'beloved': 461, 'zone': 4999, 'spring': 4134, 'reference': 3582, 'deceased': 1146, 'gone': 1935, 'ground': 1979, 'link': 2613, 'transfer': 4559, 'contact': 961, 'providing': 3451, 'ideas': 2215, 'precious': 3366, 'generation': 1883, 'happily': 2030, 'classics': 837, 'dracula': 1341, 'train': 4556, 'screenplay': 3831, 'twisted': 4618, 'morality': 2903, 'hurt': 2202, 'karen': 2444, 'deserve': 1199, 'bits': 490, 'gotta': 1946, 'gory': 1943, 'types': 4622, 'corny': 997, 'scarecrow': 3804, 'ring': 3698, 'rose': 3739, 'pass': 3201, 'remind': 3618, 'creatures': 1046, 'alice': 182, 'appearing': 277, 'persons': 3244, 'internet': 2327, 'dear': 1140, 'yelling': 4980, 'network': 3000, 'answer': 251, 'amazingly': 210, 'lab': 2501, 'experiments': 1584, 'honestly': 2147, 'gundam': 1997, 'wing': 4896, 'appreciate': 279, 'aspect': 321, 'grow': 1982, 'personalities': 3241, 'suits': 4287, 'sweet': 4336, 'moving': 2928, 'pie': 3271, 'innovative': 2295, 'storyline': 4208, 'commercial': 902, 'teeth': 4393, 'logical': 2639, 'costs': 1004, 'cheated': 775, 'directors': 1266, 'kelly': 2452, 'ah': 158, 'gem': 1877, 'surprisingly': 4316, 'underground': 4640, 'steel': 4173, 'prevent': 3385, 'mob': 2879, 'jeff': 2390, 'paranoia': 3186, 'jane': 2380, 'eyre': 1614, 'fully': 1847, 'rochester': 3719, '1983': 22, 'mini': 2854, 'timothy': 4499, 'dalton': 1098, 'reviewers': 3678, 'site': 4005, 'figured': 1712, 'fitting': 1742, 'cares': 690, 'ships': 3935, 'bigger': 479, 'sandler': 3781, 'response': 3654, 'shocked': 3939, 'spoil': 4121, 'magnificent': 2705, 'relationships': 3598, 'morgan': 2905, 'freeman': 1829, 'motivation': 2914, 'intimate': 2331, 'headed': 2058, 'happiness': 2031, 'smith': 4038, 'nude': 3058, 'metal': 2823, 'colorful': 878, 'trailers': 4555, 'mainstream': 2709, 'constantly': 958, 'kicked': 2461, 'jobs': 2406, 'brutally': 604, 'endure': 1475, 'technically': 4382, 'focuses': 1768, 'domestic': 1318, 'focusing': 1769, 'afternoon': 144, 'scrooge': 3837, 'dickens': 1240, 'ghosts': 1903, 'kim': 2475, 'arms': 294, 'lisa': 2616, 'hot': 2174, 'clint': 850, 'visually': 4758, 'eg': 1434, 'colour': 880, 'closely': 855, 'finest': 1730, 'kingdom': 2480, 'determined': 1221, 'continued': 970, 'occurred': 3077, '1950s': 14, 'wells': 4845, 'promise': 3430, 'meaningless': 2782, 'hire': 2116, 'necessarily': 2983, 'dad': 1095, 'zombie': 4997, 'welcome': 4842, 'todd': 4510, 'zombies': 4998, 'tribute': 4581, 'lol': 2640, 'words': 4938, 'del': 1165, 'space': 4090, 'cup': 1080, 'tea': 4373, 'fired': 1735, 'nearby': 2980, 'drives': 1367, 'infamous': 2284, 'moronic': 2907, 'logic': 2638, 'ranks': 3519, 'satisfied': 3789, 'duty': 1390, 'rough': 3741, 'extended': 1604, 'admire': 121, 'aspects': 322, 'propaganda': 3435, 'ii': 2226, 'yellow': 4981, 'inspiration': 2300, 'capture': 676, 'spirit': 4113, 'million': 2847, 'chinese': 796, 'factor': 1622, 'crying': 1074, 'gotten': 1947, 'cagney': 646, 'tracy': 4546, 'captain': 674, 'leonard': 2572, 'tradition': 4549, 'crowd': 1067, 'susan': 4326, 'wed': 4835, 'survived': 4322, 'virginia': 4750, '1973': 19, 'icon': 2211, 'portrays': 3344, 'elegant': 1441, 'lengthy': 2570, 'bone': 533, 'comedic': 888, 'producer': 3415, 'dub': 1378, 'taylor': 4372, 'ham': 2011, 'portion': 3338, 'provided': 3449, 'countryside': 1015, 'craig': 1030, 'alternate': 200, 'discovery': 1282, 'dressed': 1358, 'gentle': 1890, 'turning': 4608, 'chemistry': 782, 'danny': 1112, 'scientific': 3817, 'relate': 3593, 'warm': 4794, 'itll': 2369, 'whilst': 4869, 'skills': 4014, 'achieve': 92, 'breathtaking': 574, 'wished': 4905, 'retarded': 3663, 'claimed': 829, 'genuinely': 1892, 'lie': 2590, 'core': 995, 'embarrassment': 1455, 'donna': 1323, 'disappeared': 1271, 'waited': 4771, 'toilet': 4512, 'pair': 3176, 'techniques': 4384, 'hook': 2152, '1968': 16, 'robinson': 3716, 'roy': 3745, 'march': 2734, 'slightly': 4029, 'lesser': 2576, 'rival': 3706, 'tragedy': 4551, 'served': 3894, 'established': 1524, 'painted': 3174, 'heroic': 2090, 'causes': 725, 'harsh': 2040, 'wisdom': 4902, 'skill': 4013, 'snake': 4042, 'trilogy': 4586, 'constructed': 959, 'heat': 2067, 'handled': 2019, 'builds': 617, 'lively': 2627, 'satisfying': 3791, 'reasonable': 3558, 'commentary': 899, 'devoid': 1230, 'lyrics': 2692, 'creating': 1039, 'devil': 1228, 'unaware': 4632, 'spite': 4117, 'trite': 4589, 'justify': 2439, 'homer': 2144, 'simpson': 3987, 'billy': 482, 'buffs': 612, 'faced': 1617, 'guilty': 1995, 'weeks': 4839, 'chose': 804, 'burt': 629, 'flashback': 1746, 'sold': 4052, 'flashbacks': 1747, 'jason': 2383, 'julie': 2428, 'heaven': 2068, 'acceptable': 81, 'official': 3094, 'thriller': 4472, 'latest': 2526, 'command': 897, 'pro': 3406, 'goldberg': 1933, 'building': 615, 'truck': 4595, 'elements': 1443, 'ruthless': 3764, 'flynn': 1765, 'league': 2549, 'greatly': 1967, 'sidney': 3968, 'dolph': 1317, 'below': 462, '50': 51, 'stunt': 4245, 'regular': 3592, 'contrived': 976, 'visible': 4753, 'juvenile': 2441, 'closed': 854, 'weekend': 4838, 'teens': 4392, 'veteran': 4724, 'criminals': 1058, 'die': 1243, 'panic': 3181, 'unbelievable': 4634, 'intrigue': 2333, 'performed': 3230, 'albert': 174, 'expensive': 1579, 'resembles': 3646, 'intriguing': 2335, 'essentially': 1523, 'revolution': 3680, 'france': 1816, 'paint': 3173, 'appealing': 272, 'sympathetic': 4342, 'foreign': 1790, 'caring': 691, 'rolled': 3729, 'classical': 836, 'uninteresting': 4660, 'french': 1830, 'angle': 236, 'bland': 500, '2004': 34, 'trained': 4557, 'wandering': 4785, 'introduction': 2339, 'promised': 3431, 'blade': 495, 'relief': 3605, 'shake': 3914, 'awake': 365, 'marks': 2742, 'wooden': 4934, 'unique': 4662, 'attitudes': 347, 'embarrassing': 1454, 'fashioned': 1660, 'talked': 4359, 'root': 3737, '90': 60, 'per': 3223, 'documentaries': 1306, 'imaginative': 2237, 'belief': 451, 'sullivan': 4288, 'jeremy': 2394, 'mundane': 2938, 'existence': 1571, 'assumed': 329, 'secretly': 3851, 'broadcast': 591, 'reality': 3551, 'activities': 102, 'corporate': 998, 'lucy': 2684, 'opens': 3115, 'false': 1641, 'trust': 4598, 'carefully': 689, 'perfection': 3225, 'festival': 1697, 'screening': 3830, 'styles': 4250, 'national': 2970, 'typically': 4624, 'harder': 2035, 'charisma': 762, 'personally': 3243, 'gift': 1906, 'abilities': 64, 'sneak': 4043, 'specifically': 4100, 'atmosphere': 333, 'thus': 4486, 'process': 3412, 'beneath': 464, 'kinds': 2478, 'trashy': 4566, 'denzel': 1181, 'warmth': 4796, 'washington': 4806, 'daniel': 1111, 'status': 4165, 'corpse': 999, 'illegal': 2229, 'further': 1853, 'carries': 699, 'strangely': 4212, 'flawless': 1751, 'widmark': 4882, 'chilling': 794, 'douglas': 1334, 'barbara': 397, 'nonetheless': 3029, 'looked': 2647, 'saturday': 3792, 'neither': 2996, 'disgusting': 1286, 'beer': 439, 'heights': 2073, 'classes': 834, 'load': 2631, 'service': 3896, 'jennifer': 2392, 'polished': 3323, 'miscast': 2862, 'jenny': 2393, 'slave': 4022, 'ludicrous': 2685, 'blond': 510, 'pool': 3327, 'physically': 3263, 'answers': 252, 'mexico': 2827, 'occur': 3076, 'stylish': 4251, 'tense': 4403, 'base': 402, 'ambitious': 211, 'dawn': 1127, 'females': 1694, 'doctor': 1304, 'sympathy': 4343, 'steal': 4170, 'nor': 3032, 'depicted': 1183, 'anne': 246, 'wes': 4851, 'nasty': 2968, 'neighbor': 2992, 'basketball': 409, 'colors': 879, 'enjoys': 1489, 'relatives': 3601, 'guard': 1988, 'lighting': 2596, 'tree': 4576, 'peters': 3248, 'ritter': 3705, 'extraordinary': 1607, 'opposed': 3122, 'agents': 151, 'credibility': 1047, '35': 45, 'mom': 2885, 'mtv': 2933, 'angela': 232, 'dick': 1239, 'productions': 3420, 'entirely': 1503, 'desperation': 1210, 'couples': 1017, 'coffee': 870, 'tiny': 4500, 'nudity': 3059, 'soft': 4051, 'folk': 1770, 'larry': 2520, 'write': 4967, 'kinda': 2477, 'horribly': 2164, 'loaded': 2632, 'forth': 1804, 'recall': 3562, 'demon': 1177, 'remake': 3612, 'affect': 136, 'walls': 4783, 'built': 618, 'suspect': 4327, 'stranger': 4213, 'phone': 3255, 'melodrama': 2797, 'mouse': 2919, 'battle': 414, 'trap': 4563, 'creation': 1040, 'nail': 2957, 'unknown': 4668, 'hearing': 2063, 'investigate': 2342, 'calls': 654, 'nuts': 3064, 'spend': 4105, 'principal': 3398, 'doors': 1329, 'moves': 2925, 'presumably': 3380, 'moved': 2922, 'implausible': 2245, 'ensues': 1493, 'ridden': 3691, 'section': 3853, 'essence': 1521, 'transformation': 4560, 'landing': 2512, 'construction': 960, 'houses': 2180, 'required': 3641, 'unforgettable': 4652, 'teaching': 4377, 'impress': 2250, 'beach': 419, 'lacked': 2503, 'struggling': 4236, 'comparing': 913, 'shines': 3932, 'sky': 4017, 'bargain': 400, 'basement': 405, 'hidden': 2096, 'guest': 1992, 'books': 536, 'versus': 4722, 'eyed': 1612, 'drawing': 1350, 'accomplished': 87, 'resources': 3651, 'stiller': 4189, 'clue': 864, 'daily': 1097, 'le': 2544, 'useless': 4695, 'private': 3404, 'unable': 4631, 'opinion': 3118, 'spin': 4112, 'successfully': 4267, 'dreary': 1356, 'depressing': 1188, 'painfully': 3172, 'remarks': 3615, 'priceless': 3390, 'virtually': 4751, 'mildred': 2841, 'skip': 4016, 'insult': 2309, 'freddy': 1826, 'myers': 2952, 'iii': 2227, 'shape': 3919, 'critics': 1064, 'benefit': 465, 'tom': 4514, 'thoughtful': 4463, 'parent': 3187, 'teenagers': 4391, 'sincere': 3991, 'shouldnt': 3952, 'whatsoever': 4861, 'crucial': 1068, 'replaced': 3634, 'halfway': 2008, 'thumbs': 4485, 'masterpiece': 2759, 'centers': 734, 'nuclear': 3057, 'roger': 3724, 'vincent': 4746, 'blake': 498, 'victoria': 4732, 'combination': 883, 'influenced': 2287, '60': 53, 'omen': 3104, 'daring': 1114, 'luckily': 2682, 'gain': 1863, 'larger': 2519, 'kick': 2460, 'americas': 215, 'titled': 4505, 'videos': 4734, 'sin': 3988, 'winner': 4897, 'shower': 3957, 'insane': 2296, 'fed': 1682, 'wood': 4933, 'midnight': 2834, 'cowboy': 1025, 'voight': 4764, 'hoffman': 2128, 'superbly': 4297, 'risk': 3704, 'discuss': 1283, 'revealing': 3672, 'physical': 3262, 'concern': 931, 'threw': 4470, 'passion': 3205, 'struggles': 4235, 'ad': 110, 'ms': 2931, 'tall': 4362, 'sadness': 3770, 'helen': 2075, 'oddly': 3081, 'sake': 3775, 'shadows': 3913, 'reputation': 3640, 'analysis': 224, 'philosophical': 3253, 'psychological': 3458, 'accept': 80, 'twilight': 4614, 'provoking': 3452, 'faults': 1669, 'lay': 2542, 'ironically': 2356, 'furthermore': 1854, 'dawson': 1128, 'ruth': 3763, 'roman': 3731, 'hall': 2009, 'spends': 4107, 'arrested': 298, 'jail': 2376, 'mary': 2751, 'italy': 2368, 'authentic': 358, 'godfather': 1927, 'vengeance': 4719, 'cult': 1077, 'ear': 1397, 'recording': 3575, 'matches': 2764, 'technical': 4381, 'sinister': 3998, 'web': 4833, 'uk': 4626, 'stone': 4197, 'represents': 3639, 'persona': 3239, 'chased': 770, 'enter': 1494, 'law': 2538, 'murderous': 2942, 'saving': 3797, 'ryan': 3765, 'examples': 1554, 'bullet': 620, 'rape': 3521, 'toys': 4543, 'reminiscent': 3621, 'ancient': 225, 'tedious': 4387, 'ridiculously': 3694, 'simplistic': 3985, 'engaged': 1480, 'smile': 4036, 'mention': 2810, 'stomach': 4196, 'monkeys': 2891, 'sign': 3970, 'obscure': 3068, 'stress': 4220, 'mothers': 2912, 'pat': 3208, 'species': 4098, 'wonderfully': 4929, 'messages': 2820, 'ironic': 2355, 'prostitute': 3440, 'chick': 786, 'mild': 2839, 'reached': 3537, 'ha': 2002, 'clips': 852, 'hooked': 2153, 'claim': 828, 'occasion': 3073, 'forest': 1791, 'severe': 3906, 'boredom': 542, 'nonsensical': 3031, 'burned': 626, 'wreck': 4965, 'makeup': 2717, 'skin': 4015, 'technology': 4385, 'rob': 3710, 'idiots': 2220, 'merit': 2816, 'ed': 1415, 'smiling': 4037, 'lawyer': 2541, 'laughter': 2535, 'airplane': 166, 'fever': 1699, 'flash': 1745, 'sally': 3776, 'jr': 2423, 'realized': 3553, 'vs': 4767, 'angel': 231, 'proved': 3446, 'hollywoods': 2138, 'uwe': 4703, 'ball': 388, 'saga': 3773, 'guessed': 1990, 'hits': 2125, 'fool': 1779, 'kicking': 2462, 'soccer': 4048, 'edward': 1426, 'attacked': 338, 'beings': 449, 'civilization': 827, 'handle': 2018, 'unseen': 4678, 'soap': 4047, 'opera': 3116, 'raymond': 3534, 'hill': 2108, 'anna': 245, 'affair': 135, 'eric': 1514, 'sleazy': 4023, 'lincoln': 2608, 'nose': 3037, 'delivery': 1173, 'accused': 91, 'professor': 3422, 'maggie': 2702, '2001': 31, 'hype': 2207, 'european': 1530, 'snow': 4045, 'weve': 4856, 'tag': 4348, 'titles': 4506, 'cared': 685, 'win': 4892, 'slightest': 4028, 'kane': 2442, 'tight': 4492, 'planned': 3290, 'choreography': 802, 'masterful': 2758, 'drags': 1345, 'scares': 3806, 'dialogs': 1233, 'vote': 4766, 'dig': 1250, 'closest': 857, 'believing': 457, 'exposed': 1598, 'receive': 3563, 'stellar': 4174, 'buck': 605, 'paying': 3217, 'inside': 2297, 'stiff': 4187, 'exceptional': 1558, 'oscars': 3134, 'hint': 2112, 'shelf': 3926, 'hop': 2154, 'lasted': 2522, 'advantage': 129, 'rolling': 3730, 'vision': 4754, 'contained': 963, 'contain': 962, 'generally': 1881, 'hood': 2151, 'distinct': 1296, 'lousy': 2667, 'executed': 1565, 'sword': 4340, 'elvira': 1450, 'mistress': 2874, 'aunt': 355, 'raise': 3507, 'vegas': 4717, 'spell': 4104, 'breaking': 570, 'lust': 2689, 'remain': 3609, 'community': 908, 'edie': 1419, 'coherent': 871, 'robots': 3718, 'fabulous': 1615, 'san': 3780, 'francisco': 1819, 'hundreds': 2196, 'basis': 408, 'cards': 683, 'temple': 4398, 'woods': 4935, 'beating': 425, 'distracting': 1297, 'lit': 2621, 'cell': 730, 'mixture': 2878, 'paltrow': 3178, 'parker': 3191, 'stan': 4142, 'stones': 4198, 'parallel': 3185, 'awkward': 374, 'stretch': 4221, 'imagination': 2236, 'critic': 1061, 'murphy': 2944, 'demons': 1178, 'mountains': 2918, 'abc': 63, 'starred': 4153, 'tune': 4602, 'choreographed': 801, 'alexander': 180, 'countries': 1013, 'doc': 1303, 'admittedly': 123, 'noted': 3045, 'whale': 4857, 'seventies': 3904, 'profound': 3423, 'explored': 1595, 'candy': 668, 'charlotte': 766, 'goodness': 1938, 'borrowed': 545, 'likewise': 2603, 'forgotten': 1797, 'realizing': 3555, 'damage': 1099, 'pleasantly': 3303, 'theatrical': 4430, 'millions': 2848, 'distribution': 1298, 'christ': 807, 'richards': 3687, 'ladies': 2506, 'alongside': 196, 'nowadays': 3055, 'raped': 3522, 'elsewhere': 1449, 'likely': 2601, 'mars': 2746, 'faith': 1633, 'horses': 2171, 'swimming': 4338, 'kidding': 2465, 'importantly': 2248, 'selfish': 3870, 'branagh': 564, 'listening': 2620, 'painting': 3175, 'novels': 3053, 'orson': 3132, 'online': 3109, 'mountain': 2917, 'introduce': 2336, 'wannabe': 4787, 'wizard': 4919, 'uneven': 4649, 'punch': 3466, '1999': 27, 'causing': 726, 'instantly': 2306, 'improved': 2255, 'oliver': 3102, 'prince': 3396, 'resulting': 3661, 'wonders': 4931, 'showcase': 3954, 'warned': 4798, 'hang': 2022, 'rental': 3627, 'magical': 2704, 'shine': 3931, 'board': 522, 'samurai': 3779, 'youth': 4994, 'surface': 4310, 'scope': 3821, 'korean': 2495, 'humble': 2191, 'backgrounds': 381, 'removed': 3624, 'advanced': 128, 'global': 1920, 'capital': 673, 'evidence': 1546, 'easier': 1405, 'pot': 3354, 'masses': 2755, 'philosophy': 3254, 'discussion': 1284, 'understanding': 4645, 'intellectual': 2312, 'drivel': 1364, 'remotely': 3623, 'sue': 4274, 'flop': 1760, 'smaller': 4034, 'diamond': 1236, 'funnier': 1850, 'regarding': 3589, 'mid': 2832, 'expressed': 1601, 'bible': 477, 'judging': 2425, 'lawrence': 2539, 'buried': 624, 'strictly': 4223, 'burning': 627, 'heavily': 2069, 'rogers': 3725, 'neighborhood': 2993, 'pushing': 3479, 'signs': 3973, 'doll': 1313, 'lacking': 2504, 'changes': 751, 'intelligence': 2313, 'conspiracy': 956, 'aliens': 184, 'mile': 2842, 'subplot': 4255, 'humans': 2190, 'instant': 2305, 'successful': 4266, 'hitting': 2126, 'scenario': 3808, 'cities': 823, 'altogether': 202, 'environment': 1505, 'officers': 3093, 'describes': 1196, 'desired': 1206, 'excessive': 1560, 'conversation': 980, 'corruption': 1002, 'courage': 1018, 'belongs': 460, 'manage': 2722, 'kudos': 2497, 'theyll': 4444, 'destroy': 1213, 'react': 3540, 'party': 3200, 'max': 2774, 'thru': 4483, 'wondering': 4930, 'portrait': 3339, 'inferior': 2285, 'patient': 3211, 'mysteries': 2954, 'von': 4765, 'cheese': 780, '1980s': 21, 'solution': 4059, 'psychic': 3456, 'population': 3335, 'consequences': 947, 'satire': 3788, 'bin': 483, 'cliche': 843, 'earl': 1398, 'disease': 1285, 'mel': 2796, 'troops': 4591, 'tame': 4363, 'combat': 882, 'firstly': 1737, 'education': 1424, 'lone': 2642, '1990s': 25, '2007': 37, '20th': 38, 'names': 2963, 'lately': 2524, 'hal': 2006, 'mass': 2753, 'ignorant': 2223, 'knowledge': 2491, 'highest': 2102, 'humanity': 2189, 'akshay': 169, 'vast': 4716, 'hanks': 2025, 'prefer': 3368, 'matt': 2768, 'fault': 1668, 'couldve': 1009, '1990': 24, '1996': 26, 'affected': 137, 'genres': 1889, 'wholly': 4874, 'catch': 714, 'bold': 528, 'maria': 2736, 'adorable': 124, 'paulie': 3215, 'hurts': 2203, 'gods': 1928, 'university': 4667, 'awfully': 373, 'ordinary': 3128, 'rights': 3697, 'rats': 3531, 'obnoxious': 3067, 'refuses': 3587, 'sport': 4129, 'theory': 4437, 'terror': 4412, '2003': 33, 'glover': 1923, 'haunting': 2051, 'glass': 1917, 'opened': 3113, 'blob': 507, 'photo': 3257, 'witnessed': 4915, 'sexually': 3910, 'assault': 324, 'flies': 1756, 'drag': 1342, 'queen': 3485, 'ya': 4976, 'plastic': 3294, 'iran': 2350, 'latin': 2527, 'virus': 4752, 'defined': 1160, 'reveal': 3670, 'impressive': 2253, 'unintentionally': 4659, 'amy': 222, 'aid': 160, 'julia': 2427, 'artificial': 306, 'daddy': 1096, 'daughters': 1122, 'bridge': 578, 'starting': 4158, 'warming': 4795, 'kennedy': 2454, 'reviewer': 3677, 'ho': 2127, 'cry': 1073, 'deeper': 1155, 'closing': 859, 'primarily': 3393, 'crack': 1027, '13': 4, 'huh': 2187, 'sloppy': 4030, 'ireland': 2352, 'sarah': 3785, 'centered': 733, 'jay': 2386, 'strike': 4224, 'critical': 1062, 'advertising': 132, 'bitter': 491, 'immensely': 2243, 'liking': 2604, 'mgm': 2828, 'worker': 4942, 'cary': 706, 'buff': 611, 'jealous': 2388, 'burton': 630, 'abusive': 75, 'kenneth': 2455, 'smoke': 4039, 'safe': 3771, 'walks': 4780, 'defense': 1159, 'passing': 3204, 'martial': 2747, 'arts': 310, 'mummy': 2937, 'flow': 1762, 'translation': 4562, 'australian': 357, 'generous': 1886, 'intention': 2319, 'enjoyment': 1488, 'frustrated': 1842, 'hanging': 2023, 'bore': 540, 'lifetime': 2594, 'originality': 3130, 'conflicts': 940, 'synopsis': 4344, 'resident': 3647, 'fulci': 1845, 'pit': 3278, 'joy': 2422, 'avoided': 364, 'charlie': 765, 'marie': 2737, 'rescue': 3643, 'countless': 1012, 'wounded': 4961, 'letting': 2583, 'kiss': 2483, 'museum': 2945, 'demands': 1175, 'tender': 4401, 'dialogues': 1235, 'shadow': 3912, 'received': 3564, 'losers': 2656, 'andrew': 228, 'inventive': 2341, 'unintentional': 4658, 'hopeless': 2158, 'abysmal': 76, 'travesty': 4570, 'promises': 3432, 'giallo': 1904, 'thrillers': 4473, 'thrilling': 4474, 'erotic': 1515, 'laurel': 2537, 'hardy': 2037, 'duo': 1386, 'fourth': 1813, 'ocean': 3079, 'morning': 2906, 'rage': 3505, 'hitler': 2124, 'terrifying': 4410, 'careful': 688, 'connection': 946, 'reel': 3581, 'wet': 4855, 'whereas': 4865, 'dollar': 1314, 'friday': 1834, 'creativity': 1042, '1980': 20, 'exotic': 1574, 'slick': 4026, 'substance': 4258, 'cinemas': 817, 'whoever': 4872, 'september': 3884, 'matched': 2763, 'bite': 489, 'weapons': 4829, 'wacky': 4769, 'shorts': 3948, 'tunes': 4603, '40s': 49, 'brad': 560, 'illogical': 2231, 'appearances': 275, 'favorites': 1672, 'executive': 1567, 'creative': 1041, 'carrying': 701, 'kurt': 2499, 'mayor': 2777, 'promising': 3433, 'magazine': 2701, 'mail': 2706, 'leo': 2571, 'commercials': 903, 'center': 732, 'st': 4137, 'vivid': 4760, 'overcome': 3151, 'host': 2173, 'matrix': 2767, 'stargate': 4151, 'unexpected': 4650, 'eerie': 1427, 'exploration': 1593, 'traveling': 4568, 'primary': 3394, 'accompanied': 86, 'noise': 3024, 'cats': 721, 'unsettling': 4679, 'slaughter': 4021, 'busy': 635, 'danger': 1109, 'mechanical': 2788, 'machines': 2694, 'imagery': 2234, 'smooth': 4041, 'nazi': 2977, 'involvement': 2347, 'nazis': 2978, 'devoted': 1231, 'horrors': 2169, 'pays': 3218, 'explicit': 1591, 'miike': 2837, 'arnold': 296, 'equipment': 1511, 'alas': 172, 'unoriginal': 4673, 'flesh': 1753, 'neighbors': 2994, 'scare': 3803, 'tad': 4347, 'craven': 1034, 'stanley': 4148, 'kubrick': 2496, 'lynch': 2691, 'carpenter': 694, 'definition': 1163, 'continues': 971, 'curse': 1086, 'differences': 1247, 'adapted': 114, 'educational': 1425, 'politics': 3326, 'jackson': 2375, 'knock': 2488, 'graphic': 1958, 'creator': 1043, 'mistaken': 2872, 'greedy': 1969, '75': 57, 'ken': 2453, 'hong': 2149, 'phantom': 3251, 'landscapes': 2514, 'riding': 3695, 'civil': 826, 'pages': 3168, 'explosions': 1597, 'bourne': 554, 'armed': 293, 'pearl': 3220, 'thousands': 4466, 'bears': 421, 'montage': 2894, 'fx': 1858, 'essential': 1522, 'viewings': 4741, 'lou': 2663, 'chases': 771, 'blind': 506, 'april': 284, 'vacation': 4704, 'mood': 2898, 'clues': 865, 'pet': 3246, 'angels': 234, 'reed': 3580, 'un': 4630, 'nations': 2971, 'christians': 809, 'boll': 529, 'horrendous': 2162, 'described': 1195, 'europe': 1529, 'franchise': 1817, 'sends': 3876, 'screens': 3832, 'access': 83, 'neck': 2985, 'ties': 4490, 'warren': 4801, 'godzilla': 1929, 'dragged': 1343, 'trick': 4582, 'ape': 266, 'slowly': 4032, 'nation': 2969, 'goofy': 1939, 'formulaic': 1803, 'butler': 637, 'newspaper': 3006, 'symbolism': 4341, 'closet': 858, 'valley': 4707, 'breasts': 572, 'horrid': 2165, 'carradine': 695, 'insight': 2298, 'santa': 3783, 'fare': 1655, 'stupidity': 4248, 'everyday': 1541, 'household': 2179, 'sunshine': 4294, 'timing': 4498, 'frustration': 1843, 'sole': 4055, 'ethan': 1528, 'proceeds': 3411, 'demand': 1174, 'connect': 944, 'aforementioned': 139, 'prom': 3429, 'deeply': 1156, 'streep': 4215, 'spoke': 4125, 'strongly': 4231, 'allowed': 190, 'despair': 1207, 'suggests': 4282, 'suspicious': 4332, 'handful': 2017, 'motives': 2916, 'jesse': 2397, 'river': 3707, 'montana': 2895, 'pitt': 3280, 'louise': 2666, 'foul': 1810, 'dies': 1245, 'estate': 1525, 'financial': 1725, 'dating': 1120, 'brazil': 568, 'mere': 2814, 'justin': 2440, 'doom': 1326, 'consists': 955, 'menacing': 2807, 'roberts': 3714, 'cusack': 1088, 'eva': 1531, 'yesterday': 4983, 'sons': 4073, 'lucas': 2680, 'chapter': 757, 'guessing': 1991, 'splatter': 4118, 'lucky': 2683, 'satan': 3787, 'checking': 778, 'walked': 4776, 'dorothy': 1330, 'holiday': 2134, 'threatening': 4468, 'hung': 2197, 'dire': 1257, 'minimum': 2856, 'row': 3744, '1930s': 11, 'bela': 450, 'lugosi': 2686, 'comfortable': 892, '30s': 44, 'gags': 1862, 'hugh': 2186, 'relevant': 3604, 'dinosaurs': 1256, 'tonight': 4519, 'attend': 344, 'woody': 4936, 'mentions': 2813, 'writes': 4970, 'decisions': 1152, 'storm': 4206, 'rings': 3699, 'deliberately': 1166, 'ripped': 3701, 'moon': 2900, 'embarrassed': 1453, 'product': 3418, 'matthew': 2772, 'earned': 1401, 'gordon': 1940, 'fascinated': 1657, 'fetched': 1698, 'laura': 2536, 'dancers': 1105, 'picks': 3268, 'apartment': 265, 'grandmother': 1955, 'possibilities': 3348, 'blowing': 515, 'kings': 2481, 'birthday': 487, 'dinosaur': 1255, 'cole': 873, 'eaten': 1412, 'fatal': 1664, 'lifestyle': 2593, 'exposure': 1599, 'entertained': 1498, 'bell': 458, 'teachers': 4376, 'kay': 2447, 'generic': 1885, 'iron': 2354, 'dreadful': 1353, 'fairy': 1632, 'grim': 1974, 'gruesome': 1986, 'hideous': 2098, 'hello': 2078, 'sticks': 4186, 'everyones': 1543, 'shining': 3933, 'grace': 1950, 'rap': 3520, '24': 39, 'models': 2881, 'strikes': 4225, 'plausible': 3295, 'concerning': 933, 'limits': 2607, 'horrifying': 2167, 'granted': 1957, 'liberal': 2588, 'surprises': 4314, 'holly': 2136, 'requires': 3642, 'facing': 1620, 'jessica': 2398, 'duke': 1383, 'fest': 1696, 'inevitable': 2282, 'subplots': 4256, 'darkness': 1117, 'blunt': 520, 'fail': 1625, 'popcorn': 3331, 'timeless': 4496, 'copies': 992, 'foot': 1781, 'catching': 716, 'antics': 255, 'boot': 538, 'delivering': 1171, 'union': 4661, 'soviet': 4089, 'widely': 4881, 'partly': 3197, 'combined': 885, 'possessed': 3347, 'tie': 4488, 'floating': 1758, 'dozens': 1339, 'womans': 4922, 'spectacular': 4101, 'ingredients': 2289, 'survivors': 4325, 'survival': 4320, 'landscape': 2513, 'sits': 4006, 'valuable': 4708, 'grasp': 1960, 'conceived': 929, 'context': 968, 'cringe': 1059, 'ought': 3138, 'pointed': 3317, 'mexican': 2826, 'native': 2972, 'village': 4743, 'robbins': 3712, 'blues': 519, 'unfolds': 4651, 'ignore': 2224, 'notion': 3050, 'graphics': 1959, 'politically': 3325, 'responsibility': 3655, 'campbell': 663, 'decision': 1151, 'assistant': 326, 'fay': 1674, 'doubts': 1333, 'climactic': 848, 'der': 1191, 'fbi': 1675, 'gripping': 1976, 'depicting': 1184, 'communist': 907, 'rocky': 3723, 'captivating': 675, 'prisoners': 3403, 'suggested': 4281, 'hippie': 2115, 'slapstick': 4019, 'glory': 1922, 'chest': 784, 'unrealistic': 4677, 'inappropriate': 2259, 'reflection': 3585, 'condition': 937, 'bullets': 621, 'absence': 70, 'neat': 2982, 'photographer': 3259, 'noble': 3021, 'letters': 2582, 'clown': 862, 'banned': 395, 'nicholson': 3011, 'importance': 2246, 'relative': 3599, 'grandfather': 1954, 'chaos': 755, 'lowest': 2678, 'depicts': 1186, 'rural': 3758, 'brooks': 596, 'proof': 3434, 'greater': 1965, 'resort': 3650, 'tends': 4402, 'tiger': 4491, 'arguably': 289, 'australia': 356, 'thirty': 4456, 'germany': 1898, 'tomatoes': 4515, 'marketing': 2741, 'literature': 2623, 'proper': 3436, 'similarly': 3980, 'heston': 2094, 'desert': 1198, 'blair': 497, 'butt': 638, 'nine': 3017, 'ted': 4386, 'eastern': 1408, 'leg': 2562, 'trees': 4577, 'personality': 3242, 'understandable': 4644, 'poetry': 3314, 'gangsters': 1869, 'gradually': 1952, 'needless': 2989, 'reduced': 3579, 'farm': 1656, 'robbery': 3711, 'lips': 2615, 'cinematographer': 819, 'slasher': 4020, 'ginger': 1908, 'retired': 3664, 'overlook': 3153, 'restored': 3659, 'polanski': 3321, 'endings': 1472, 'davis': 1126, 'amounts': 220, 'dentist': 1180, 'adequate': 120, 'catherine': 719, 'handed': 2016, 'laughably': 2531, 'spirits': 4115, 'tons': 4520, 'uninspired': 4657, 'pseudo': 3454, 'quit': 3494, 'suffered': 4276, '1984': 23, 'relies': 3606, 'che': 773, 'orders': 3127, 'cuba': 1075, 'brenda': 575, 'succeed': 4262, 'lumet': 2688, 'hank': 2024, 'hates': 2048, 'descent': 1193, 'taxi': 4371, 'repetitive': 3633, 'appreciation': 281, 'redemption': 3578, 'inevitably': 2283, 'intensity': 2317, 'ensemble': 1492, 'vague': 4705, 'explosion': 1596, 'cleverly': 842, 'connected': 945, 'advise': 134, 'bacall': 377, 'bud': 607, 'conventional': 979, 'seeks': 3860, 'molly': 2884, 'divorce': 1301, 'tear': 4379, 'halloween': 2010, 'locked': 2637, 'eager': 1396, 'gene': 1879, 'criticism': 1063, 'contrast': 975, 'outfit': 3144, 'tap': 4364, 'relation': 3595, 'arrives': 302, 'marry': 2745, 'satisfy': 3790, 'outer': 3143, 'cave': 727, 'covered': 1023, 'masters': 2761, 'combine': 884, 'futuristic': 1857, 'powell': 3358, 'opportunities': 3120, 'scooby': 3820, 'doo': 1325, 'hunting': 2201, 'citizen': 824, 'succeeded': 4263, 'diana': 1237, 'awe': 370, 'karloff': 2445, 'disturbed': 1299, 'amanda': 205, 'felix': 1689, 'andrews': 229, 'serve': 3893, 'tiresome': 4502, 'merits': 2817, 'homosexual': 2145, 'boom': 537, '1972': 18, 'fancy': 1649, 'miserable': 2863, 'wrap': 4963, 'join': 2412, 'jungle': 2434, 'newly': 3004, 'arm': 292, 'subtlety': 4261, 'cannibal': 669, 'joey': 2408, 'respected': 3653, 'individuals': 2278, 'notably': 3042, 'torn': 4528, 'engage': 1479, 'property': 3438, 'subsequent': 4257, 'afterwards': 145, 'jonathan': 2417, 'fields': 1705, '18': 10, 'exceptionally': 1559, 'stale': 4141, 'davies': 1125, 'chaplin': 756, 'hart': 2041, 'solely': 4056, 'troubles': 4594, 'lloyd': 2630, 'chorus': 803, 'derek': 1192, 'terrorist': 4413, 'mildly': 2840, 'technique': 4383, 'bare': 398, 'tooth': 4524, 'pig': 3274, 'waters': 4817, 'celebrity': 729, 'spoof': 4127, 'stretched': 4222, 'inane': 2258, 'blacks': 494, 'clean': 838, 'buddies': 608, 'complexity': 924, 'overacting': 3149, 'lion': 2614, 'twelve': 4611, 'pink': 3277, 'anyways': 262, 'miracle': 2860, 'funeral': 1849, 'downhill': 1336, 'conservative': 948, 'lemmon': 2567, 'witches': 4910, 'forty': 1807, 'caliber': 649, 'eastwood': 1409, 'outcome': 3142, 'mate': 2765, 'fears': 1677, 'cardboard': 682, '13th': 5, 'integrity': 2311, 'website': 4834, 'willis': 4890, 'rambo': 3511, 'wound': 4960, 'editor': 1423, 'enormous': 1490, 'reynolds': 3684, 'beatty': 427, 'ellen': 1446, 'consistent': 953, 'lessons': 2578, 'cutting': 1092, 'nicholas': 3010, 'incompetent': 2266, 'mansion': 2731, 'gerard': 1895, 'finger': 1731, 'turner': 4607, 'catches': 715, 'sellers': 3872, 'toy': 4542, 'terry': 4415, 'nostalgia': 3038, 'bucks': 606, 'wicked': 4879, 'encounters': 1467, 'muslim': 2949, 'claire': 831, 'danes': 1108, 'walker': 4778, 'wrapped': 4964, 'dust': 1388, 'pacino': 3164, 'olivier': 3103, 'agreed': 156, 'richardson': 3688, 'surrounding': 4319, 'improvement': 2256, 'seagal': 3839, 'maintain': 2710, 'wallace': 4782, 'sandra': 3782, 'dignity': 1252, 'berlin': 467, 'intent': 2318, 'jerk': 2395, 'chicks': 787, 'destiny': 1212, 'creep': 1051, 'nightmares': 3015, 'gabriel': 1859, 'journalist': 2420, 'border': 539, 'thrills': 4475, 'nancy': 2964, 'reflect': 3584, 'spirited': 4114, 'garbo': 1871, 'pal': 3177, 'lees': 2560, 'dare': 1113, 'imitation': 2241, 'method': 2824, 'welles': 4844, 'backdrop': 379, 'honesty': 2148, 'popularity': 3334, 'apes': 267, 'currently': 1085, 'staged': 4140, 'format': 1799, 'bette': 471, 'brand': 565, 'gandhi': 1866, 'developing': 1224, 'shy': 3962, 'circle': 821, 'wendy': 4846, 'hollow': 2135, 'pretend': 3381, 'acid': 95, 'bo': 521, 'illness': 2230, 'imagined': 2239, 'bath': 411, 'prisoner': 3402, 'cinderella': 815, 'intentionally': 2320, 'jake': 2377, 'chess': 783, 'shirley': 3936, 'parties': 3196, 'nomination': 3026, 'psychiatrist': 3455, 'pokemon': 3320, 'measure': 2786, 'rotten': 3740, 'notes': 3046, 'sadistic': 3768, 'fond': 1776, 'sixties': 4011, 'madonna': 2699, 'narrator': 2967, 'suffice': 4279, 'clip': 851, 'rangers': 3517, 'ballet': 389, 'chicago': 785, 'warriors': 4803, 'stooges': 4200, 'alcohol': 176, 'ramones': 3512, 'defend': 1158, 'niro': 3019, 'poem': 3312, 'sid': 3964, 'franco': 1820, 'lena': 2568, 'eighties': 1437, 'carrey': 696, 'instinct': 2308, 'macy': 2695, 'bottle': 550, '3d': 46, 'cia': 814, 'holmes': 2139, 'devils': 1229, 'emma': 1457, 'carl': 692, 'mario': 2738, 'elm': 1447, 'stinker': 4191, 'astaire': 330, 'championship': 745, 'operation': 3117, 'modesty': 2883, 'signed': 3971, 'greed': 1968, 'bettie': 473}\n"
     ]
    }
   ],
   "source": [
    "print(str(vocabulary))"
   ]
  },
  {
   "cell_type": "markdown",
   "metadata": {},
   "source": [
    "Once you have added the endpoint name to the Lambda function, click on **Save**. Your Lambda function is now up and running. Next we need to create a way for our web app to execute the Lambda function."
   ]
  },
  {
   "cell_type": "markdown",
   "metadata": {},
   "source": [
    "### Setting up API Gateway\n",
    "\n",
    "Now that our Lambda function is set up, it is time to create a new API using API Gateway that will trigger the Lambda function we have just created.\n",
    "\n",
    "Using AWS Console, navigate to **Amazon API Gateway** and then click on **Get started**.\n",
    "\n",
    "On the next page, make sure that **New API** is selected and give the new api a name, for example, `sentiment_analysis_web_app`. Then, click on **Create API**.\n",
    "\n",
    "Now we have created an API, however it doesn't currently do anything. What we want it to do is to trigger the Lambda function that we created earlier.\n",
    "\n",
    "Select the **Actions** dropdown menu and click **Create Method**. A new blank method will be created, select its dropdown menu and select **POST**, then click on the check mark beside it.\n",
    "\n",
    "For the integration point, make sure that **Lambda Function** is selected and click on the **Use Lambda Proxy integration**. This option makes sure that the data that is sent to the API is then sent directly to the Lambda function with no processing. It also means that the return value must be a proper response object as it will also not be processed by API Gateway.\n",
    "\n",
    "Type the name of the Lambda function you created earlier into the **Lambda Function** text entry box and then click on **Save**. Click on **OK** in the pop-up box that then appears, giving permission to API Gateway to invoke the Lambda function you created.\n",
    "\n",
    "The last step in creating the API Gateway is to select the **Actions** dropdown and click on **Deploy API**. You will need to create a new Deployment stage and name it anything you like, for example `prod`.\n",
    "\n",
    "You have now successfully set up a public API to access your SageMaker model. Make sure to copy or write down the URL provided to invoke your newly created public API as this will be nezeded in the next step. This URL can be found at the top of the page, highlighted in blue next to the text **Invoke URL**."
   ]
  },
  {
   "cell_type": "markdown",
   "metadata": {},
   "source": [
    "## Step 7: Deploying our web app\n",
    "\n",
    "Now that we have a publicly available API, we can start using it in a web app. For our purposes, we have provided a simple static html file which can make use of the public api you created earlier.\n",
    "\n",
    "In the `website` folder there should be a file called `index.html`. Download the file to your computer and open that file up in a text editor of your choice. There should be a line which contains **\\*\\*REPLACE WITH PUBLIC API URL\\*\\***. Replace this string with the url that you wrote down in the last step and then save the file.\n",
    "\n",
    "Now, if you open `index.html` on your local computer, your browser will behave as a local web server and you can use the provided site to interact with your SageMaker model.\n",
    "\n",
    "If you'd like to go further, you can host this html file anywhere you'd like, for example using github or hosting a static site on Amazon's S3. Once you have done this you can share the link with anyone you'd like and have them play with it too!\n",
    "\n",
    "> **Important Note** In order for the web app to communicate with the SageMaker endpoint, the endpoint has to actually be deployed and running. This means that you are paying for it. Make sure that the endpoint is running when you want to use the web app but that you shut it down when you don't need it, otherwise you will end up with a surprisingly large AWS bill."
   ]
  },
  {
   "cell_type": "markdown",
   "metadata": {},
   "source": [
    "### Delete the endpoint\n",
    "\n",
    "Remember to always shut down your endpoint if you are no longer using it. You are charged for the length of time that the endpoint is running so if you forget and leave it on you could end up with an unexpectedly large bill."
   ]
  },
  {
   "cell_type": "code",
   "execution_count": 68,
   "metadata": {},
   "outputs": [],
   "source": [
    "xgb_predictor.delete_endpoint()"
   ]
  },
  {
   "cell_type": "markdown",
   "metadata": {},
   "source": [
    "## Optional: Clean up\n",
    "\n",
    "The default notebook instance on SageMaker doesn't have a lot of excess disk space available. As you continue to complete and execute notebooks you will eventually fill up this disk space, leading to errors which can be difficult to diagnose. Once you are completely finished using a notebook it is a good idea to remove the files that you created along the way. Of course, you can do this from the terminal or from the notebook hub if you would like. The cell below contains some commands to clean up the created files from within the notebook."
   ]
  },
  {
   "cell_type": "code",
   "execution_count": null,
   "metadata": {},
   "outputs": [],
   "source": [
    "# First we will remove all of the files contained in the data_dir directory\n",
    "!rm $data_dir/*\n",
    "\n",
    "# And then we delete the directory itself\n",
    "!rmdir $data_dir\n",
    "\n",
    "# Similarly we remove the files in the cache_dir directory and the directory itself\n",
    "!rm $cache_dir/*\n",
    "!rmdir $cache_dir"
   ]
  }
 ],
 "metadata": {
  "kernelspec": {
   "display_name": "conda_python3",
   "language": "python",
   "name": "conda_python3"
  },
  "language_info": {
   "codemirror_mode": {
    "name": "ipython",
    "version": 3
   },
   "file_extension": ".py",
   "mimetype": "text/x-python",
   "name": "python",
   "nbconvert_exporter": "python",
   "pygments_lexer": "ipython3",
   "version": "3.6.10"
  }
 },
 "nbformat": 4,
 "nbformat_minor": 2
}
