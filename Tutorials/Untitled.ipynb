{
 "cells": [
  {
   "cell_type": "code",
   "execution_count": 1,
   "metadata": {},
   "outputs": [],
   "source": [
    "aa= [[1,23,4],[123,4]]"
   ]
  },
  {
   "cell_type": "code",
   "execution_count": 5,
   "metadata": {},
   "outputs": [],
   "source": [
    "import numpy as np"
   ]
  },
  {
   "cell_type": "code",
   "execution_count": 7,
   "metadata": {},
   "outputs": [
    {
     "data": {
      "text/plain": [
       "array([list([1, 23, 4]), list([123, 4])], dtype=object)"
      ]
     },
     "execution_count": 7,
     "metadata": {},
     "output_type": "execute_result"
    }
   ],
   "source": [
    "np.array(aa)#[1,1]"
   ]
  },
  {
   "cell_type": "code",
   "execution_count": 10,
   "metadata": {},
   "outputs": [],
   "source": [
    "import pandas as pd"
   ]
  },
  {
   "cell_type": "code",
   "execution_count": 14,
   "metadata": {},
   "outputs": [],
   "source": [
    "bb = pd.DataFrame(aa)#[0,0]"
   ]
  },
  {
   "cell_type": "code",
   "execution_count": 16,
   "metadata": {},
   "outputs": [
    {
     "data": {
      "text/plain": [
       "1"
      ]
     },
     "execution_count": 16,
     "metadata": {},
     "output_type": "execute_result"
    }
   ],
   "source": [
    "bb.iloc[0,0]"
   ]
  },
  {
   "cell_type": "code",
   "execution_count": 35,
   "metadata": {},
   "outputs": [],
   "source": [
    "visited = [[0] \\\n",
    "           * 3 for _ in range(4)]"
   ]
  },
  {
   "cell_type": "code",
   "execution_count": 18,
   "metadata": {},
   "outputs": [
    {
     "data": {
      "text/plain": [
       "[[0, 0, 0], [0, 0, 0], [0, 0, 0], [0, 0, 0]]"
      ]
     },
     "execution_count": 18,
     "metadata": {},
     "output_type": "execute_result"
    }
   ],
   "source": [
    "visited"
   ]
  },
  {
   "cell_type": "code",
   "execution_count": 19,
   "metadata": {},
   "outputs": [],
   "source": [
    "from collections import deque"
   ]
  },
  {
   "cell_type": "code",
   "execution_count": 23,
   "metadata": {},
   "outputs": [],
   "source": [
    "aa = deque([])"
   ]
  },
  {
   "cell_type": "code",
   "execution_count": 24,
   "metadata": {},
   "outputs": [],
   "source": [
    "aa.append(1)"
   ]
  },
  {
   "cell_type": "code",
   "execution_count": 25,
   "metadata": {},
   "outputs": [
    {
     "data": {
      "text/plain": [
       "1"
      ]
     },
     "execution_count": 25,
     "metadata": {},
     "output_type": "execute_result"
    }
   ],
   "source": [
    "aa.popleft()"
   ]
  },
  {
   "cell_type": "code",
   "execution_count": 32,
   "metadata": {},
   "outputs": [
    {
     "name": "stdout",
     "output_type": "stream",
     "text": [
      "1 2\n"
     ]
    }
   ],
   "source": [
    "directions = [(1,2)]\n",
    "for x,y in directions:\n",
    "    print(x,y)"
   ]
  },
  {
   "cell_type": "code",
   "execution_count": 39,
   "metadata": {},
   "outputs": [
    {
     "ename": "TypeError",
     "evalue": "'tuple' object does not support item assignment",
     "output_type": "error",
     "traceback": [
      "\u001b[0;31m---------------------------------------------------------------------------\u001b[0m",
      "\u001b[0;31mTypeError\u001b[0m                                 Traceback (most recent call last)",
      "\u001b[0;32m<ipython-input-39-c368fda7cf07>\u001b[0m in \u001b[0;36m<module>\u001b[0;34m\u001b[0m\n\u001b[0;32m----> 1\u001b[0;31m \u001b[0mdirections\u001b[0m\u001b[0;34m[\u001b[0m\u001b[0;36m0\u001b[0m\u001b[0;34m]\u001b[0m\u001b[0;34m[\u001b[0m\u001b[0;36m0\u001b[0m\u001b[0;34m]\u001b[0m\u001b[0;34m=\u001b[0m\u001b[0;36m1\u001b[0m\u001b[0;34m\u001b[0m\u001b[0;34m\u001b[0m\u001b[0m\n\u001b[0m",
      "\u001b[0;31mTypeError\u001b[0m: 'tuple' object does not support item assignment"
     ]
    }
   ],
   "source": [
    "directions[0][0]=1"
   ]
  },
  {
   "cell_type": "code",
   "execution_count": 42,
   "metadata": {},
   "outputs": [],
   "source": [
    "from collections import deque\n",
    "class Solution:\n",
    "    \"\"\"\n",
    "    @param grid: an integer matrix\n",
    "    @return: an integer \n",
    "    \"\"\"\n",
    "    def numIslandCities(self, grid):\n",
    "        # Write your code here\n",
    "        self.m = len(grid)\n",
    "        self.n = len(grid[0])\n",
    "        path = deque() \n",
    "        #pos= [0,0]\n",
    "        #result = []\n",
    "        result = 0\n",
    "        visited = [[0] * self.n for _ in range(self.m)] \n",
    "        directions = [(0,1),(1,0),(0,-1),(-1,0)]\n",
    "        for i in range(self.m):\n",
    "            for j in range(self.n):\n",
    "                if grid[i][j] > 0 and visited[i][j] == 0:\n",
    "                    path.append([i,j])\n",
    "                    visited[i][j] = 1\n",
    "                \n",
    "                iscity = False\n",
    "                while not path:\n",
    "\n",
    "                    island = path.popleft()\n",
    "                    if grid[island[0]][island[1]] == 2:\n",
    "                        for x,y in directions:\n",
    "                            newx = x + island[0]\n",
    "                            newy = y + island[1]\n",
    "                        #visited[newy][newx] == 1\n",
    "                            if grid[newx][newy] == 0 or visited[newx][newy] == 1 or\\\n",
    "                            newx<x or newy<0 or newx>self.m-1 or newy>self.n-1:\n",
    "                                continue\n",
    "\n",
    "                            path.append(newx,newy)\n",
    "                            visited[newx][newy] =1 \n",
    "                            if grid[newx][newy] == 2:\n",
    "                                iscity = True\n",
    "                            \n",
    "                    if iscity:\n",
    "                        result += 1\n",
    "            \n",
    "        return result\n"
   ]
  },
  {
   "cell_type": "code",
   "execution_count": 44,
   "metadata": {},
   "outputs": [],
   "source": [
    "from collections import deque\n",
    "class Solution:\n",
    "    \"\"\"\n",
    "    @param grid: an integer matrix\n",
    "    @return: an integer \n",
    "    \"\"\"\n",
    "    def numIslandCities(self, grid):\n",
    "        # Write your code here\n",
    "        self.m = len(grid)\n",
    "        self.n = len(grid[0])\n",
    "        path = deque() \n",
    "        #pos= [0,0]\n",
    "        #result = []\n",
    "        result = 0\n",
    "        visited = [[0] * self.n for _ in range(self.m)] \n",
    "        directions = [(0,1),(1,0),(0,-1),(-1,0)]\n",
    "        for i in range(self.m):\n",
    "            for j in range(self.n):\n",
    "                if grid[i][j] > 0 and visited[i][j] == 0:\n",
    "                    path.append([i,j])\n",
    "                    visited[i][j] = 1\n",
    "                \n",
    "                iscity = False\n",
    "                while not path:\n",
    "\n",
    "                    island = path.popleft()\n",
    "                    if grid[island[0]][island[1]] == 2:\n",
    "                        for x,y in directions:\n",
    "                            newx = x + island[0]\n",
    "                            newy = y + island[1]\n",
    "                            #visited[newy][newx] == 1\n",
    "                            if grid[newx][newy] == 0 or visited[newx][newy] == 1 or\\\n",
    "                            newx<x or newy<0 or newx>self.m-1 or newy>self.n-1:\n",
    "                                continue\n",
    "\n",
    "                            path.append(newx,newy)\n",
    "                            visited[newx][newy] =1 \n",
    "                            if grid[newx][newy] == 2:\n",
    "                                iscity = True\n",
    "                            \n",
    "                    if iscity:\n",
    "                        result += 1\n",
    "            \n",
    "        return result"
   ]
  },
  {
   "cell_type": "code",
   "execution_count": 45,
   "metadata": {},
   "outputs": [],
   "source": [
    "import pandas as pd"
   ]
  },
  {
   "cell_type": "code",
   "execution_count": 52,
   "metadata": {},
   "outputs": [],
   "source": [
    "aa = pd.DataFrame({'a':[1,2,3]})"
   ]
  },
  {
   "cell_type": "code",
   "execution_count": 66,
   "metadata": {},
   "outputs": [],
   "source": [
    "aa.b = aa.b.apply(lambda x:str(x))"
   ]
  },
  {
   "cell_type": "code",
   "execution_count": 67,
   "metadata": {},
   "outputs": [
    {
     "ename": "AttributeError",
     "evalue": "'str' object has no attribute 'append'",
     "output_type": "error",
     "traceback": [
      "\u001b[0;31m---------------------------------------------------------------------------\u001b[0m",
      "\u001b[0;31mAttributeError\u001b[0m                            Traceback (most recent call last)",
      "\u001b[0;32m<ipython-input-67-c7c88b62f929>\u001b[0m in \u001b[0;36m<module>\u001b[0;34m\u001b[0m\n\u001b[0;32m----> 1\u001b[0;31m \u001b[0maa\u001b[0m\u001b[0;34m[\u001b[0m\u001b[0;34m'b'\u001b[0m\u001b[0;34m]\u001b[0m\u001b[0;34m[\u001b[0m\u001b[0;36m0\u001b[0m\u001b[0;34m]\u001b[0m\u001b[0;34m.\u001b[0m\u001b[0mappend\u001b[0m\u001b[0;34m(\u001b[0m\u001b[0;34m'banana'\u001b[0m\u001b[0;34m)\u001b[0m\u001b[0;34m\u001b[0m\u001b[0;34m\u001b[0m\u001b[0m\n\u001b[0m",
      "\u001b[0;31mAttributeError\u001b[0m: 'str' object has no attribute 'append'"
     ]
    }
   ],
   "source": [
    "aa['b'][0].append('banana')"
   ]
  },
  {
   "cell_type": "code",
   "execution_count": 71,
   "metadata": {},
   "outputs": [],
   "source": [
    "import os\n",
    "import pickle\n",
    "import random"
   ]
  },
  {
   "cell_type": "code",
   "execution_count": 87,
   "metadata": {},
   "outputs": [],
   "source": [
    "    cache_dir = os.path.join(\"../cache\", \"sentiment_analysis\")\n",
    "\n",
    "    with open(os.path.join(cache_dir, \"preprocessed_data.pkl\"), \"rb\") as f:\n",
    "                cache_data = pickle.load(f)"
   ]
  },
  {
   "cell_type": "code",
   "execution_count": 88,
   "metadata": {},
   "outputs": [
    {
     "data": {
      "text/plain": [
       "dict_keys(['words_train', 'words_test', 'labels_train', 'labels_test'])"
      ]
     },
     "execution_count": 88,
     "metadata": {},
     "output_type": "execute_result"
    }
   ],
   "source": [
    "cache_data.keys()"
   ]
  },
  {
   "cell_type": "code",
   "execution_count": 91,
   "metadata": {},
   "outputs": [
    {
     "data": {
      "text/plain": [
       "['movi',\n",
       " 'british',\n",
       " 'tv',\n",
       " 'last',\n",
       " 'night',\n",
       " 'wonder',\n",
       " 'strong',\n",
       " 'women',\n",
       " 'great',\n",
       " 'music',\n",
       " 'time',\n",
       " 'make',\n",
       " 'think',\n",
       " 'stereotyp',\n",
       " 'older',\n",
       " 'peopl',\n",
       " 'ought',\n",
       " 'fantast',\n",
       " 'cameo',\n",
       " 'sensibl',\n",
       " 'worri',\n",
       " 'children',\n",
       " 'get',\n",
       " 'near',\n",
       " 'best',\n",
       " 'movi',\n",
       " 'ever']"
      ]
     },
     "execution_count": 91,
     "metadata": {},
     "output_type": "execute_result"
    }
   ],
   "source": [
    "cache_data['words_train'][0]#+'baba'"
   ]
  },
  {
   "cell_type": "code",
   "execution_count": null,
   "metadata": {},
   "outputs": [],
   "source": []
  }
 ],
 "metadata": {
  "kernelspec": {
   "display_name": "conda_python3",
   "language": "python",
   "name": "conda_python3"
  },
  "language_info": {
   "codemirror_mode": {
    "name": "ipython",
    "version": 3
   },
   "file_extension": ".py",
   "mimetype": "text/x-python",
   "name": "python",
   "nbconvert_exporter": "python",
   "pygments_lexer": "ipython3",
   "version": "3.6.10"
  }
 },
 "nbformat": 4,
 "nbformat_minor": 4
}
