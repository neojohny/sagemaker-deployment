{
 "cells": [
  {
   "cell_type": "markdown",
   "metadata": {},
   "source": [
    "# Sentiment Analysis\n",
    "\n",
    "## Using XGBoost in SageMaker\n",
    "\n",
    "_Deep Learning Nanodegree Program | Deployment_\n",
    "\n",
    "---\n",
    "\n",
    "In this example of using Amazon's SageMaker service we will construct a random tree model to predict the sentiment of a movie review. You may have seen a version of this example in a pervious lesson although it would have been done using the sklearn package. Instead, we will be using the XGBoost package as it is provided to us by Amazon.\n",
    "\n",
    "## Instructions\n",
    "\n",
    "Some template code has already been provided for you, and you will need to implement additional functionality to successfully complete this notebook. You will not need to modify the included code beyond what is requested. Sections that begin with '**TODO**' in the header indicate that you need to complete or implement some portion within them. Instructions will be provided for each section and the specifics of the implementation are marked in the code block with a `# TODO: ...` comment. Please be sure to read the instructions carefully!\n",
    "\n",
    "In addition to implementing code, there will be questions for you to answer which relate to the task and your implementation. Each section where you will answer a question is preceded by a '**Question:**' header. Carefully read each question and provide your answer below the '**Answer:**' header by editing the Markdown cell.\n",
    "\n",
    "> **Note**: Code and Markdown cells can be executed using the **Shift+Enter** keyboard shortcut. In addition, a cell can be edited by typically clicking it (double-click for Markdown cells) or by pressing **Enter** while it is highlighted."
   ]
  },
  {
   "cell_type": "markdown",
   "metadata": {},
   "source": [
    "## Step 1: Downloading the data\n",
    "\n",
    "The dataset we are going to use is very popular among researchers in Natural Language Processing, usually referred to as the [IMDb dataset](http://ai.stanford.edu/~amaas/data/sentiment/). It consists of movie reviews from the website [imdb.com](http://www.imdb.com/), each labeled as either '**pos**itive', if the reviewer enjoyed the film, or '**neg**ative' otherwise.\n",
    "\n",
    "> Maas, Andrew L., et al. [Learning Word Vectors for Sentiment Analysis](http://ai.stanford.edu/~amaas/data/sentiment/). In _Proceedings of the 49th Annual Meeting of the Association for Computational Linguistics: Human Language Technologies_. Association for Computational Linguistics, 2011.\n",
    "\n",
    "We begin by using some Jupyter Notebook magic to download and extract the dataset."
   ]
  },
  {
   "cell_type": "code",
   "execution_count": 39,
   "metadata": {},
   "outputs": [
    {
     "name": "stdout",
     "output_type": "stream",
     "text": [
      "mkdir: cannot create directory ‘../data’: File exists\n",
      "--2020-07-18 06:50:40--  http://ai.stanford.edu/~amaas/data/sentiment/aclImdb_v1.tar.gz\n",
      "Resolving ai.stanford.edu (ai.stanford.edu)... 171.64.68.10\n",
      "Connecting to ai.stanford.edu (ai.stanford.edu)|171.64.68.10|:80... connected.\n",
      "HTTP request sent, awaiting response... 200 OK\n",
      "Length: 84125825 (80M) [application/x-gzip]\n",
      "Saving to: ‘../data/aclImdb_v1.tar.gz’\n",
      "\n",
      "../data/aclImdb_v1. 100%[===================>]  80.23M  23.5MB/s    in 4.0s    \n",
      "\n",
      "2020-07-18 06:50:44 (19.9 MB/s) - ‘../data/aclImdb_v1.tar.gz’ saved [84125825/84125825]\n",
      "\n"
     ]
    }
   ],
   "source": [
    "%mkdir ../data\n",
    "!wget -O ../data/aclImdb_v1.tar.gz http://ai.stanford.edu/~amaas/data/sentiment/aclImdb_v1.tar.gz\n",
    "!tar -zxf ../data/aclImdb_v1.tar.gz -C ../data"
   ]
  },
  {
   "cell_type": "markdown",
   "metadata": {},
   "source": [
    "## Step 2: Preparing the data\n",
    "\n",
    "The data we have downloaded is split into various files, each of which contains a single review. It will be much easier going forward if we combine these individual files into two large files, one for training and one for testing."
   ]
  },
  {
   "cell_type": "code",
   "execution_count": 40,
   "metadata": {},
   "outputs": [],
   "source": [
    "import os\n",
    "import glob\n",
    "\n",
    "def read_imdb_data(data_dir='../data/aclImdb'):\n",
    "    data = {}\n",
    "    labels = {}\n",
    "    \n",
    "    for data_type in ['train', 'test']:\n",
    "        data[data_type] = {}\n",
    "        labels[data_type] = {}\n",
    "        \n",
    "        for sentiment in ['pos', 'neg']:\n",
    "            data[data_type][sentiment] = []\n",
    "            labels[data_type][sentiment] = []\n",
    "            \n",
    "            path = os.path.join(data_dir, data_type, sentiment, '*.txt')\n",
    "            files = glob.glob(path)\n",
    "            \n",
    "            for f in files:\n",
    "                with open(f) as review:\n",
    "                    data[data_type][sentiment].append(review.read())\n",
    "                    # Here we represent a positive review by '1' and a negative review by '0'\n",
    "                    labels[data_type][sentiment].append(1 if sentiment == 'pos' else 0)\n",
    "                    \n",
    "            assert len(data[data_type][sentiment]) == len(labels[data_type][sentiment]), \\\n",
    "                    \"{}/{} data size does not match labels size\".format(data_type, sentiment)\n",
    "                \n",
    "    return data, labels"
   ]
  },
  {
   "cell_type": "code",
   "execution_count": 41,
   "metadata": {},
   "outputs": [
    {
     "name": "stdout",
     "output_type": "stream",
     "text": [
      "IMDB reviews: train = 12500 pos / 12500 neg, test = 12500 pos / 12500 neg\n"
     ]
    }
   ],
   "source": [
    "data, labels = read_imdb_data()\n",
    "print(\"IMDB reviews: train = {} pos / {} neg, test = {} pos / {} neg\".format(\n",
    "            len(data['train']['pos']), len(data['train']['neg']),\n",
    "            len(data['test']['pos']), len(data['test']['neg'])))"
   ]
  },
  {
   "cell_type": "code",
   "execution_count": 42,
   "metadata": {},
   "outputs": [],
   "source": [
    "from sklearn.utils import shuffle\n",
    "\n",
    "def prepare_imdb_data(data, labels):\n",
    "    \"\"\"Prepare training and test sets from IMDb movie reviews.\"\"\"\n",
    "    \n",
    "    #Combine positive and negative reviews and labels\n",
    "    data_train = data['train']['pos'] + data['train']['neg']\n",
    "    data_test = data['test']['pos'] + data['test']['neg']\n",
    "    labels_train = labels['train']['pos'] + labels['train']['neg']\n",
    "    labels_test = labels['test']['pos'] + labels['test']['neg']\n",
    "    \n",
    "    #Shuffle reviews and corresponding labels within training and test sets\n",
    "    data_train, labels_train = shuffle(data_train, labels_train)\n",
    "    data_test, labels_test = shuffle(data_test, labels_test)\n",
    "    \n",
    "    # Return a unified training data, test data, training labels, test labets\n",
    "    return data_train, data_test, labels_train, labels_test"
   ]
  },
  {
   "cell_type": "code",
   "execution_count": 43,
   "metadata": {},
   "outputs": [
    {
     "name": "stdout",
     "output_type": "stream",
     "text": [
      "IMDb reviews (combined): train = 25000, test = 25000\n"
     ]
    }
   ],
   "source": [
    "train_X, test_X, train_y, test_y = prepare_imdb_data(data, labels)\n",
    "print(\"IMDb reviews (combined): train = {}, test = {}\".format(len(train_X), len(test_X)))"
   ]
  },
  {
   "cell_type": "code",
   "execution_count": 44,
   "metadata": {},
   "outputs": [
    {
     "data": {
      "text/plain": [
       "'There is not much more I can say about this movie than all of the commentaries on page one, except - as Jesse says - \"it\\'s the berries\". All of page one\\'s commentators wrote eloquently - as almost so as the dialog is in this movie. This just may be one of those illusive things we hear so much about, but usually are made so by the actors who deliver the lines: a beautiful script. Maybe Robert Redford did hold strict sway onto the actors/actresses during the filming of this movie, so that the beauty of the story would not get lost.<br /><br />I, too, attended church when I was very young and into my late teens. The church\\'s pastor spoke very eloquently and quietly as the Rev. Maclean did in his church. That, in itself, is a totally different picture that is portrayed of Southern Baptist churches - no holy-rollering in my church. It was a big church, with many different programs to keep its congregation busy - the most inspiring perhaps was the music-department with its huge choir and almost classical anthems. Too, the Sunday evening-congregation was almost entirely younger people. Are you even aware it was once safe to go to church on Sunday night? How I wish it still was ! Watching \"A River Runs through It\" is very much like going to hear a beautiful sermon in a church whose members are fully involved in life. As has already been so beautifully written, the sermon for this movie is the open-space beauties of Montana - yet, aren\\'t there also missile-silos there, too? Fly-fishing or any other activity which draws family-members closer together for a happy life - and deep understanding of one another - becomes a blessing. Although you see some of the shadier aspects of life then, too, the simplicity of the story paints a lasting impression on your heart, if you let it. Speakeasies and prostitutes are counter-balanced by the simple gatherings of old-fashioned, community picnics as this movie contains - in heavy contrasts to modern families taking their kids to Disney Land for screeching joyrides and calling it \"a day together\". There is noting wrong with that, but as \"River\" demonstrates, some of its taciturn beauty could do nothing but make life richer. This is the third film I\\'ve seen in which Tom Skeritt (?) plays a father, all different styles and brilliantly acted.<br /><br />Brad Pitt, mostly an undiscovered talent except for \"Thelma and Louise\" and \"Meet Joe Black\", and all of the cast-members deserved many awards. Little stories superbly told will get 10-of-10 from me over any movie with violence, foul language, ugliness and \"action\". I am thinking particularly of \"Crash\" and most of \"Arnold\\'s\" movies. What a savior for peace this movie is.'"
      ]
     },
     "execution_count": 44,
     "metadata": {},
     "output_type": "execute_result"
    }
   ],
   "source": [
    "train_X[100]"
   ]
  },
  {
   "cell_type": "markdown",
   "metadata": {},
   "source": [
    "## Step 3: Processing the data\n",
    "\n",
    "Now that we have our training and testing datasets merged and ready to use, we need to start processing the raw data into something that will be useable by our machine learning algorithm. To begin with, we remove any html formatting that may appear in the reviews and perform some standard natural language processing in order to homogenize the data."
   ]
  },
  {
   "cell_type": "code",
   "execution_count": 45,
   "metadata": {},
   "outputs": [
    {
     "name": "stderr",
     "output_type": "stream",
     "text": [
      "[nltk_data] Downloading package stopwords to\n",
      "[nltk_data]     /home/ec2-user/nltk_data...\n",
      "[nltk_data]   Package stopwords is already up-to-date!\n"
     ]
    }
   ],
   "source": [
    "import nltk\n",
    "nltk.download(\"stopwords\")\n",
    "from nltk.corpus import stopwords\n",
    "from nltk.stem.porter import *\n",
    "stemmer = PorterStemmer()"
   ]
  },
  {
   "cell_type": "code",
   "execution_count": 46,
   "metadata": {},
   "outputs": [],
   "source": [
    "import re\n",
    "from bs4 import BeautifulSoup\n",
    "\n",
    "def review_to_words(review):\n",
    "    text = BeautifulSoup(review, \"html.parser\").get_text() # Remove HTML tags\n",
    "    text = re.sub(r\"[^a-zA-Z0-9]\", \" \", text.lower()) # Convert to lower case\n",
    "    words = text.split() # Split string into words\n",
    "    words = [w for w in words if w not in stopwords.words(\"english\")] # Remove stopwords\n",
    "    words = [PorterStemmer().stem(w) for w in words] # stem\n",
    "    \n",
    "    return words"
   ]
  },
  {
   "cell_type": "code",
   "execution_count": 47,
   "metadata": {},
   "outputs": [],
   "source": [
    "import pickle\n",
    "\n",
    "cache_dir = os.path.join(\"../cache\", \"sentiment_analysis\")  # where to store cache files\n",
    "os.makedirs(cache_dir, exist_ok=True)  # ensure cache directory exists\n",
    "\n",
    "def preprocess_data(data_train, data_test, labels_train, labels_test,\n",
    "                    cache_dir=cache_dir, cache_file=\"preprocessed_data.pkl\"):\n",
    "    \"\"\"Convert each review to words; read from cache if available.\"\"\"\n",
    "\n",
    "    # If cache_file is not None, try to read from it first\n",
    "    cache_data = None\n",
    "    if cache_file is not None:\n",
    "        try:\n",
    "            with open(os.path.join(cache_dir, cache_file), \"rb\") as f:\n",
    "                cache_data = pickle.load(f)\n",
    "            print(\"Read preprocessed data from cache file:\", cache_file)\n",
    "        except:\n",
    "            pass  # unable to read from cache, but that's okay\n",
    "    \n",
    "    # If cache is missing, then do the heavy lifting\n",
    "    if cache_data is None:\n",
    "        # Preprocess training and test data to obtain words for each review\n",
    "        #words_train = list(map(review_to_words, data_train))\n",
    "        #words_test = list(map(review_to_words, data_test))\n",
    "        words_train = [review_to_words(review) for review in data_train]\n",
    "        words_test = [review_to_words(review) for review in data_test]\n",
    "        \n",
    "        # Write to cache file for future runs\n",
    "        if cache_file is not None:\n",
    "            cache_data = dict(words_train=words_train, words_test=words_test,\n",
    "                              labels_train=labels_train, labels_test=labels_test)\n",
    "            with open(os.path.join(cache_dir, cache_file), \"wb\") as f:\n",
    "                pickle.dump(cache_data, f)\n",
    "            print(\"Wrote preprocessed data to cache file:\", cache_file)\n",
    "    else:\n",
    "        # Unpack data loaded from cache file\n",
    "        words_train, words_test, labels_train, labels_test = (cache_data['words_train'],\n",
    "                cache_data['words_test'], cache_data['labels_train'], cache_data['labels_test'])\n",
    "    \n",
    "    return words_train, words_test, labels_train, labels_test"
   ]
  },
  {
   "cell_type": "code",
   "execution_count": 48,
   "metadata": {},
   "outputs": [
    {
     "name": "stdout",
     "output_type": "stream",
     "text": [
      "Read preprocessed data from cache file: preprocessed_data.pkl\n"
     ]
    }
   ],
   "source": [
    "# Preprocess data\n",
    "train_X, test_X, train_y, test_y = preprocess_data(train_X, test_X, train_y, test_y)"
   ]
  },
  {
   "cell_type": "markdown",
   "metadata": {},
   "source": [
    "### Extract Bag-of-Words features\n",
    "\n",
    "For the model we will be implementing, rather than using the reviews directly, we are going to transform each review into a Bag-of-Words feature representation. Keep in mind that 'in the wild' we will only have access to the training set so our transformer can only use the training set to construct a representation."
   ]
  },
  {
   "cell_type": "code",
   "execution_count": 49,
   "metadata": {},
   "outputs": [],
   "source": [
    "import numpy as np\n",
    "from sklearn.feature_extraction.text import CountVectorizer\n",
    "from sklearn.externals import joblib\n",
    "# joblib is an enhanced version of pickle that is more efficient for storing NumPy arrays\n",
    "\n",
    "def extract_BoW_features(words_train, words_test, vocabulary_size=5000,\n",
    "                         cache_dir=cache_dir, cache_file=\"bow_features.pkl\"):\n",
    "    \"\"\"Extract Bag-of-Words for a given set of documents, already preprocessed into words.\"\"\"\n",
    "    \n",
    "    # If cache_file is not None, try to read from it first\n",
    "    cache_data = None\n",
    "    if cache_file is not None:\n",
    "        try:\n",
    "            with open(os.path.join(cache_dir, cache_file), \"rb\") as f:\n",
    "                cache_data = joblib.load(f)\n",
    "            print(\"Read features from cache file:\", cache_file)\n",
    "        except:\n",
    "            pass  # unable to read from cache, but that's okay\n",
    "    \n",
    "    # If cache is missing, then do the heavy lifting\n",
    "    if cache_data is None:\n",
    "        # Fit a vectorizer to training documents and use it to transform them\n",
    "        # NOTE: Training documents have already been preprocessed and tokenized into words;\n",
    "        #       pass in dummy functions to skip those steps, e.g. preprocessor=lambda x: x\n",
    "        vectorizer = CountVectorizer(max_features=vocabulary_size,\n",
    "                preprocessor=lambda x: x, tokenizer=lambda x: x)  # already preprocessed\n",
    "        features_train = vectorizer.fit_transform(words_train).toarray()\n",
    "\n",
    "        # Apply the same vectorizer to transform the test documents (ignore unknown words)\n",
    "        features_test = vectorizer.transform(words_test).toarray()\n",
    "        \n",
    "        # NOTE: Remember to convert the features using .toarray() for a compact representation\n",
    "        \n",
    "        # Write to cache file for future runs (store vocabulary as well)\n",
    "        if cache_file is not None:\n",
    "            vocabulary = vectorizer.vocabulary_\n",
    "            cache_data = dict(features_train=features_train, features_test=features_test,\n",
    "                             vocabulary=vocabulary)\n",
    "            with open(os.path.join(cache_dir, cache_file), \"wb\") as f:\n",
    "                joblib.dump(cache_data, f)\n",
    "            print(\"Wrote features to cache file:\", cache_file)\n",
    "    else:\n",
    "        # Unpack data loaded from cache file\n",
    "        features_train, features_test, vocabulary = (cache_data['features_train'],\n",
    "                cache_data['features_test'], cache_data['vocabulary'])\n",
    "    \n",
    "    # Return both the extracted features as well as the vocabulary\n",
    "    return features_train, features_test, vocabulary"
   ]
  },
  {
   "cell_type": "code",
   "execution_count": 50,
   "metadata": {},
   "outputs": [
    {
     "name": "stdout",
     "output_type": "stream",
     "text": [
      "Read features from cache file: bow_features.pkl\n"
     ]
    }
   ],
   "source": [
    "# Extract Bag of Words features for both training and test datasets\n",
    "train_X, test_X, vocabulary = extract_BoW_features(train_X, test_X)"
   ]
  },
  {
   "cell_type": "markdown",
   "metadata": {},
   "source": [
    "## Step 4: Classification using XGBoost\n",
    "\n",
    "Now that we have created the feature representation of our training (and testing) data, it is time to start setting up and using the XGBoost classifier provided by SageMaker.\n",
    "\n",
    "### Writing the dataset\n",
    "\n",
    "The XGBoost classifier that we will be using requires the dataset to be written to a file and stored using Amazon S3. To do this, we will start by splitting the training dataset into two parts, the data we will train the model with and a validation set. Then, we will write those datasets to a file and upload the files to S3. In addition, we will write the test set input to a file and upload the file to S3. This is so that we can use SageMakers Batch Transform functionality to test our model once we've fit it."
   ]
  },
  {
   "cell_type": "code",
   "execution_count": 51,
   "metadata": {},
   "outputs": [],
   "source": [
    "import pandas as pd\n",
    "\n",
    "val_X = pd.DataFrame(train_X[:10000])\n",
    "train_X = pd.DataFrame(train_X[10000:])\n",
    "\n",
    "val_y = pd.DataFrame(train_y[:10000])\n",
    "train_y = pd.DataFrame(train_y[10000:])\n",
    "\n",
    "test_y = pd.DataFrame(test_y)\n",
    "test_X = pd.DataFrame(test_X)"
   ]
  },
  {
   "cell_type": "markdown",
   "metadata": {},
   "source": [
    "The documentation for the XGBoost algorithm in SageMaker requires that the saved datasets should contain no headers or index and that for the training and validation data, the label should occur first for each sample.\n",
    "\n",
    "For more information about this and other algorithms, the SageMaker developer documentation can be found on __[Amazon's website.](https://docs.aws.amazon.com/sagemaker/latest/dg/)__"
   ]
  },
  {
   "cell_type": "code",
   "execution_count": 52,
   "metadata": {},
   "outputs": [],
   "source": [
    "# First we make sure that the local directory in which we'd like to store the training and validation csv files exists.\n",
    "data_dir = '../data/xgboost'\n",
    "if not os.path.exists(data_dir):\n",
    "    os.makedirs(data_dir)"
   ]
  },
  {
   "cell_type": "code",
   "execution_count": 53,
   "metadata": {},
   "outputs": [],
   "source": [
    "# First, save the test data to test.csv in the data_dir directory. Note that we do not save the associated ground truth\n",
    "# labels, instead we will use them later to compare with our model output.\n",
    "\n",
    "#pd.concat([test_y, test_X], axis=1).to_csv(os.path.join(data_dir, 'test.csv'), header=False, index=False)\n",
    "pd.DataFrame(test_X).to_csv(os.path.join(data_dir, 'test.csv'), header=False, index=False)\n",
    "pd.concat([val_y, val_X], axis=1).to_csv(os.path.join(data_dir, 'validation.csv'), header=False, index=False)\n",
    "pd.concat([train_y, train_X], axis=1).to_csv(os.path.join(data_dir, 'train.csv'), header=False, index=False)"
   ]
  },
  {
   "cell_type": "code",
   "execution_count": 18,
   "metadata": {},
   "outputs": [],
   "source": [
    "# To save a bit of memory we can set text_X, train_X, val_X, train_y and val_y to None.\n",
    "\n",
    "train_X = val_X = train_y = val_y = None"
   ]
  },
  {
   "cell_type": "markdown",
   "metadata": {},
   "source": [
    "### Uploading Training / Validation files to S3\n",
    "\n",
    "Amazon's S3 service allows us to store files that can be access by both the built-in training models such as the XGBoost model we will be using as well as custom models such as the one we will see a little later.\n",
    "\n",
    "For this, and most other tasks we will be doing using SageMaker, there are two methods we could use. The first is to use the low level functionality of SageMaker which requires knowing each of the objects involved in the SageMaker environment. The second is to use the high level functionality in which certain choices have been made on the user's behalf. The low level approach benefits from allowing the user a great deal of flexibility while the high level approach makes development much quicker. For our purposes we will opt to use the high level approach although using the low-level approach is certainly an option.\n",
    "\n",
    "Recall the method `upload_data()` which is a member of object representing our current SageMaker session. What this method does is upload the data to the default bucket (which is created if it does not exist) into the path described by the key_prefix variable. To see this for yourself, once you have uploaded the data files, go to the S3 console and look to see where the files have been uploaded.\n",
    "\n",
    "For additional resources, see the __[SageMaker API documentation](http://sagemaker.readthedocs.io/en/latest/)__ and in addition the __[SageMaker Developer Guide.](https://docs.aws.amazon.com/sagemaker/latest/dg/)__"
   ]
  },
  {
   "cell_type": "code",
   "execution_count": 54,
   "metadata": {},
   "outputs": [],
   "source": [
    "import sagemaker\n",
    "\n",
    "session = sagemaker.Session() # Store the current SageMaker session\n",
    "\n",
    "# S3 prefix (which folder will we use)\n",
    "prefix = 'sentiment-xgboost'\n",
    "\n",
    "test_location = session.upload_data(os.path.join(data_dir, 'test.csv'), key_prefix=prefix)\n",
    "val_location = session.upload_data(os.path.join(data_dir, 'validation.csv'), key_prefix=prefix)\n",
    "train_location = session.upload_data(os.path.join(data_dir, 'train.csv'), key_prefix=prefix)"
   ]
  },
  {
   "cell_type": "markdown",
   "metadata": {},
   "source": [
    "### (TODO) Creating a hypertuned XGBoost model\n",
    "\n",
    "Now that the data has been uploaded it is time to create the XGBoost model. As in the Boston Housing notebook, the first step is to create an estimator object which will be used as the *base* of your hyperparameter tuning job."
   ]
  },
  {
   "cell_type": "code",
   "execution_count": 20,
   "metadata": {},
   "outputs": [],
   "source": [
    "from sagemaker import get_execution_role\n",
    "\n",
    "# Our current execution role is require when creating the model as the training\n",
    "# and inference code will need to access the model artifacts.\n",
    "role = get_execution_role()"
   ]
  },
  {
   "cell_type": "code",
   "execution_count": 21,
   "metadata": {},
   "outputs": [
    {
     "name": "stderr",
     "output_type": "stream",
     "text": [
      "'get_image_uri' method will be deprecated in favor of 'ImageURIProvider' class in SageMaker Python SDK v2.\n",
      "WARNING:root:There is a more up to date SageMaker XGBoost image. To use the newer image, please set 'repo_version'='1.0-1'. For example:\n",
      "\tget_image_uri(region, 'xgboost', '1.0-1').\n"
     ]
    }
   ],
   "source": [
    "# We need to retrieve the location of the container which is provided by Amazon for using XGBoost.\n",
    "# As a matter of convenience, the training and inference code both use the same container.\n",
    "from sagemaker.amazon.amazon_estimator import get_image_uri\n",
    "\n",
    "container = get_image_uri(session.boto_region_name, 'xgboost')"
   ]
  },
  {
   "cell_type": "code",
   "execution_count": 22,
   "metadata": {},
   "outputs": [
    {
     "name": "stderr",
     "output_type": "stream",
     "text": [
      "WARNING:root:Parameter image_name will be renamed to image_uri in SageMaker Python SDK v2.\n"
     ]
    }
   ],
   "source": [
    "# TODO: Create a SageMaker estimator using the container location determined in the previous cell.\n",
    "#       It is recommended that you use a single training instance of type ml.m4.xlarge. It is also\n",
    "#       recommended that you use 's3://{}/{}/output'.format(session.default_bucket(), prefix) as the\n",
    "#       output path.\n",
    "\n",
    "xgb = sagemaker.estimator.Estimator(container, # The name of the training container\n",
    "                                    role,      # The IAM role to use (our current role in this case)\n",
    "                                    train_instance_count=1, # The number of instances to use for training\n",
    "                                    train_instance_type='ml.m4.xlarge', # The type of instance ot use for training\n",
    "                                    output_path='s3://{}/{}/output'.format(session.default_bucket(), prefix),\n",
    "                                                                        # Where to save the output (the model artifacts)\n",
    "                                    sagemaker_session=session) # The current SageMaker session\n",
    "\n",
    "xgb.set_hyperparameters(max_depth=5,\n",
    "                        eta=0.2,\n",
    "                        gamma=4,\n",
    "                        min_child_weight=6,\n",
    "                        subsample=0.8,\n",
    "                        objective='reg:linear',\n",
    "                        early_stopping_rounds=10,\n",
    "                        num_round=200)\n",
    "\n",
    "# TODO: Set the XGBoost hyperparameters in the xgb object. Don't forget that in this case we have a binary\n",
    "#       label so we should be using the 'binary:logistic' objective.\n",
    "\n"
   ]
  },
  {
   "cell_type": "markdown",
   "metadata": {},
   "source": [
    "### (TODO) Create the hyperparameter tuner\n",
    "\n",
    "Now that the base estimator has been set up we need to construct a hyperparameter tuner object which we will use to request SageMaker construct a hyperparameter tuning job.\n",
    "\n",
    "**Note:** Training a single sentiment analysis XGBoost model takes longer than training a Boston Housing XGBoost model so if you don't want the hyperparameter tuning job to take too long, make sure to not set the total number of models (jobs) too high."
   ]
  },
  {
   "cell_type": "code",
   "execution_count": 23,
   "metadata": {},
   "outputs": [],
   "source": [
    "# First, make sure to import the relevant objects used to construct the tuner\n",
    "from sagemaker.tuner import IntegerParameter, ContinuousParameter, HyperparameterTuner\n",
    "\n",
    "# TODO: Create the hyperparameter tuner object\n",
    "\n",
    "xgb_hyperparameter_tuner = HyperparameterTuner(estimator = xgb, # The estimator object to use as the basis for the training jobs.\n",
    "                                               objective_metric_name = 'validation:rmse', # The metric used to compare trained models.\n",
    "                                               objective_type = 'Minimize', # Whether we wish to minimize or maximize the metric.\n",
    "                                               max_jobs = 20, # The total number of models to train\n",
    "                                               max_parallel_jobs = 3, # The number of models to train in parallel\n",
    "                                               hyperparameter_ranges = {\n",
    "                                                    'max_depth': IntegerParameter(3, 12),\n",
    "                                                    'eta'      : ContinuousParameter(0.05, 0.5),\n",
    "                                                    'min_child_weight': IntegerParameter(2, 8),\n",
    "                                                    'subsample': ContinuousParameter(0.5, 0.9),\n",
    "                                                    'gamma': ContinuousParameter(0, 10),\n",
    "                                               })\n",
    "\n"
   ]
  },
  {
   "cell_type": "markdown",
   "metadata": {},
   "source": [
    "### Fit the hyperparameter tuner\n",
    "\n",
    "Now that the hyperparameter tuner object has been constructed, it is time to fit the various models and find the best performing model."
   ]
  },
  {
   "cell_type": "code",
   "execution_count": 24,
   "metadata": {},
   "outputs": [
    {
     "name": "stderr",
     "output_type": "stream",
     "text": [
      "WARNING:sagemaker:'s3_input' class will be renamed to 'TrainingInput' in SageMaker Python SDK v2.\n",
      "WARNING:sagemaker:'s3_input' class will be renamed to 'TrainingInput' in SageMaker Python SDK v2.\n"
     ]
    }
   ],
   "source": [
    "s3_input_train = sagemaker.s3_input(s3_data=train_location, content_type='csv')\n",
    "s3_input_validation = sagemaker.s3_input(s3_data=val_location, content_type='csv')"
   ]
  },
  {
   "cell_type": "code",
   "execution_count": 25,
   "metadata": {},
   "outputs": [],
   "source": [
    "xgb_hyperparameter_tuner.fit({'train': s3_input_train, 'validation': s3_input_validation})"
   ]
  },
  {
   "cell_type": "markdown",
   "metadata": {},
   "source": [
    "Remember that the tuning job is constructed and run in the background so if we want to see the progress of our training job we need to call the `wait()` method."
   ]
  },
  {
   "cell_type": "code",
   "execution_count": 26,
   "metadata": {},
   "outputs": [
    {
     "name": "stdout",
     "output_type": "stream",
     "text": [
      "....................................................................................................................................................................................................................................................................................................!\n"
     ]
    }
   ],
   "source": [
    "xgb_hyperparameter_tuner.wait()"
   ]
  },
  {
   "cell_type": "markdown",
   "metadata": {},
   "source": [
    "### (TODO) Testing the model\n",
    "\n",
    "Now that we've run our hyperparameter tuning job, it's time to see how well the best performing model actually performs. To do this we will use SageMaker's Batch Transform functionality. Batch Transform is a convenient way to perform inference on a large dataset in a way that is not realtime. That is, we don't necessarily need to use our model's results immediately and instead we can peform inference on a large number of samples. An example of this in industry might be peforming an end of month report. This method of inference can also be useful to us as it means to can perform inference on our entire test set. \n",
    "\n",
    "Remember that in order to create a transformer object to perform the batch transform job, we need a trained estimator object. We can do that using the `attach()` method, creating an estimator object which is attached to the best trained job."
   ]
  },
  {
   "cell_type": "code",
   "execution_count": 32,
   "metadata": {},
   "outputs": [
    {
     "data": {
      "text/plain": [
       "'xgboost-200718-0503-017-7cdf30bc'"
      ]
     },
     "execution_count": 32,
     "metadata": {},
     "output_type": "execute_result"
    }
   ],
   "source": [
    "xgb_hyperparameter_tuner.best_training_job()"
   ]
  },
  {
   "cell_type": "code",
   "execution_count": 27,
   "metadata": {},
   "outputs": [
    {
     "name": "stderr",
     "output_type": "stream",
     "text": [
      "WARNING:root:Parameter image_name will be renamed to image_uri in SageMaker Python SDK v2.\n"
     ]
    },
    {
     "name": "stdout",
     "output_type": "stream",
     "text": [
      "2020-07-18 05:24:44 Starting - Preparing the instances for training\n",
      "2020-07-18 05:24:44 Downloading - Downloading input data\n",
      "2020-07-18 05:24:44 Training - Training image download completed. Training in progress.\n",
      "2020-07-18 05:24:44 Uploading - Uploading generated training model\n",
      "2020-07-18 05:24:44 Completed - Training job completed\u001b[34mArguments: train\u001b[0m\n",
      "\u001b[34m[2020-07-18:05:24:22:INFO] Running standalone xgboost training.\u001b[0m\n",
      "\u001b[34m[2020-07-18:05:24:22:INFO] Setting up HPO optimized metric to be : rmse\u001b[0m\n",
      "\u001b[34m[2020-07-18:05:24:22:INFO] File size need to be processed in the node: 6.7mb. Available memory size in the node: 8486.91mb\u001b[0m\n",
      "\u001b[34m[2020-07-18:05:24:22:INFO] Determined delimiter of CSV input is ','\u001b[0m\n",
      "\u001b[34m[05:24:22] S3DistributionType set as FullyReplicated\u001b[0m\n",
      "\u001b[34m[05:24:22] 15000x128 matrix with 1920000 entries loaded from /opt/ml/input/data/train?format=csv&label_column=0&delimiter=,\u001b[0m\n",
      "\u001b[34m[2020-07-18:05:24:22:INFO] Determined delimiter of CSV input is ','\u001b[0m\n",
      "\u001b[34m[05:24:22] S3DistributionType set as FullyReplicated\u001b[0m\n",
      "\u001b[34m[05:24:22] 10000x128 matrix with 1280000 entries loaded from /opt/ml/input/data/validation?format=csv&label_column=0&delimiter=,\u001b[0m\n",
      "\u001b[34m[05:24:22] src/tree/updater_prune.cc:74: tree pruning end, 1 roots, 90 extra nodes, 84 pruned nodes, max_depth=7\u001b[0m\n",
      "\u001b[34m[0]#011train-rmse:0.497514#011validation-rmse:0.498543\u001b[0m\n",
      "\u001b[34mMultiple eval metrics have been passed: 'validation-rmse' will be used for early stopping.\n",
      "\u001b[0m\n",
      "\u001b[34mWill train until validation-rmse hasn't improved in 10 rounds.\u001b[0m\n",
      "\u001b[34m[05:24:22] src/tree/updater_prune.cc:74: tree pruning end, 1 roots, 104 extra nodes, 92 pruned nodes, max_depth=7\u001b[0m\n",
      "\u001b[34m[1]#011train-rmse:0.495003#011validation-rmse:0.497305\u001b[0m\n",
      "\u001b[34m[05:24:22] src/tree/updater_prune.cc:74: tree pruning end, 1 roots, 86 extra nodes, 66 pruned nodes, max_depth=7\u001b[0m\n",
      "\u001b[34m[2]#011train-rmse:0.492739#011validation-rmse:0.495987\u001b[0m\n",
      "\u001b[34m[05:24:22] src/tree/updater_prune.cc:74: tree pruning end, 1 roots, 76 extra nodes, 70 pruned nodes, max_depth=7\u001b[0m\n",
      "\u001b[34m[3]#011train-rmse:0.490803#011validation-rmse:0.494791\u001b[0m\n",
      "\u001b[34m[05:24:22] src/tree/updater_prune.cc:74: tree pruning end, 1 roots, 98 extra nodes, 106 pruned nodes, max_depth=7\u001b[0m\n",
      "\u001b[34m[4]#011train-rmse:0.488579#011validation-rmse:0.493791\u001b[0m\n",
      "\u001b[34m[05:24:22] src/tree/updater_prune.cc:74: tree pruning end, 1 roots, 118 extra nodes, 76 pruned nodes, max_depth=7\u001b[0m\n",
      "\u001b[34m[5]#011train-rmse:0.486152#011validation-rmse:0.492705\u001b[0m\n",
      "\u001b[34m[05:24:22] src/tree/updater_prune.cc:74: tree pruning end, 1 roots, 74 extra nodes, 104 pruned nodes, max_depth=7\u001b[0m\n",
      "\u001b[34m[6]#011train-rmse:0.484606#011validation-rmse:0.492012\u001b[0m\n",
      "\u001b[34m[05:24:22] src/tree/updater_prune.cc:74: tree pruning end, 1 roots, 76 extra nodes, 58 pruned nodes, max_depth=7\u001b[0m\n",
      "\u001b[34m[7]#011train-rmse:0.48297#011validation-rmse:0.491071\u001b[0m\n",
      "\u001b[34m[05:24:23] src/tree/updater_prune.cc:74: tree pruning end, 1 roots, 72 extra nodes, 74 pruned nodes, max_depth=7\u001b[0m\n",
      "\u001b[34m[8]#011train-rmse:0.481298#011validation-rmse:0.490138\u001b[0m\n",
      "\u001b[34m[05:24:23] src/tree/updater_prune.cc:74: tree pruning end, 1 roots, 62 extra nodes, 116 pruned nodes, max_depth=7\u001b[0m\n",
      "\u001b[34m[9]#011train-rmse:0.480073#011validation-rmse:0.489464\u001b[0m\n",
      "\u001b[34m[05:24:23] src/tree/updater_prune.cc:74: tree pruning end, 1 roots, 52 extra nodes, 92 pruned nodes, max_depth=7\u001b[0m\n",
      "\u001b[34m[10]#011train-rmse:0.479051#011validation-rmse:0.488735\u001b[0m\n",
      "\u001b[34m[05:24:23] src/tree/updater_prune.cc:74: tree pruning end, 1 roots, 44 extra nodes, 100 pruned nodes, max_depth=7\u001b[0m\n",
      "\u001b[34m[11]#011train-rmse:0.478133#011validation-rmse:0.488208\u001b[0m\n",
      "\u001b[34m[05:24:23] src/tree/updater_prune.cc:74: tree pruning end, 1 roots, 70 extra nodes, 84 pruned nodes, max_depth=7\u001b[0m\n",
      "\u001b[34m[12]#011train-rmse:0.476923#011validation-rmse:0.487815\u001b[0m\n",
      "\u001b[34m[05:24:23] src/tree/updater_prune.cc:74: tree pruning end, 1 roots, 68 extra nodes, 96 pruned nodes, max_depth=7\u001b[0m\n",
      "\u001b[34m[13]#011train-rmse:0.475713#011validation-rmse:0.487312\u001b[0m\n",
      "\u001b[34m[05:24:23] src/tree/updater_prune.cc:74: tree pruning end, 1 roots, 76 extra nodes, 66 pruned nodes, max_depth=7\u001b[0m\n",
      "\u001b[34m[14]#011train-rmse:0.474426#011validation-rmse:0.486761\u001b[0m\n",
      "\u001b[34m[05:24:23] src/tree/updater_prune.cc:74: tree pruning end, 1 roots, 72 extra nodes, 74 pruned nodes, max_depth=7\u001b[0m\n",
      "\u001b[34m[15]#011train-rmse:0.473323#011validation-rmse:0.486299\u001b[0m\n",
      "\u001b[34m[05:24:23] src/tree/updater_prune.cc:74: tree pruning end, 1 roots, 70 extra nodes, 114 pruned nodes, max_depth=7\u001b[0m\n",
      "\u001b[34m[16]#011train-rmse:0.472037#011validation-rmse:0.485641\u001b[0m\n",
      "\u001b[34m[05:24:23] src/tree/updater_prune.cc:74: tree pruning end, 1 roots, 62 extra nodes, 76 pruned nodes, max_depth=7\u001b[0m\n",
      "\u001b[34m[17]#011train-rmse:0.470963#011validation-rmse:0.485131\u001b[0m\n",
      "\u001b[34m[05:24:23] src/tree/updater_prune.cc:74: tree pruning end, 1 roots, 56 extra nodes, 100 pruned nodes, max_depth=7\u001b[0m\n",
      "\u001b[34m[18]#011train-rmse:0.470047#011validation-rmse:0.484838\u001b[0m\n",
      "\u001b[34m[05:24:23] src/tree/updater_prune.cc:74: tree pruning end, 1 roots, 64 extra nodes, 114 pruned nodes, max_depth=7\u001b[0m\n",
      "\u001b[34m[19]#011train-rmse:0.469009#011validation-rmse:0.48424\u001b[0m\n",
      "\u001b[34m[05:24:23] src/tree/updater_prune.cc:74: tree pruning end, 1 roots, 44 extra nodes, 72 pruned nodes, max_depth=7\u001b[0m\n",
      "\u001b[34m[20]#011train-rmse:0.468282#011validation-rmse:0.483889\u001b[0m\n",
      "\u001b[34m[05:24:23] src/tree/updater_prune.cc:74: tree pruning end, 1 roots, 48 extra nodes, 68 pruned nodes, max_depth=7\u001b[0m\n",
      "\u001b[34m[21]#011train-rmse:0.467586#011validation-rmse:0.483679\u001b[0m\n",
      "\u001b[34m[05:24:23] src/tree/updater_prune.cc:74: tree pruning end, 1 roots, 32 extra nodes, 80 pruned nodes, max_depth=7\u001b[0m\n",
      "\u001b[34m[22]#011train-rmse:0.467072#011validation-rmse:0.483591\u001b[0m\n",
      "\u001b[34m[05:24:23] src/tree/updater_prune.cc:74: tree pruning end, 1 roots, 44 extra nodes, 82 pruned nodes, max_depth=7\u001b[0m\n",
      "\u001b[34m[23]#011train-rmse:0.466393#011validation-rmse:0.483188\u001b[0m\n",
      "\u001b[34m[05:24:24] src/tree/updater_prune.cc:74: tree pruning end, 1 roots, 66 extra nodes, 98 pruned nodes, max_depth=7\u001b[0m\n",
      "\u001b[34m[24]#011train-rmse:0.465463#011validation-rmse:0.482883\u001b[0m\n",
      "\u001b[34m[05:24:24] src/tree/updater_prune.cc:74: tree pruning end, 1 roots, 46 extra nodes, 78 pruned nodes, max_depth=7\u001b[0m\n",
      "\u001b[34m[25]#011train-rmse:0.464693#011validation-rmse:0.482616\u001b[0m\n",
      "\u001b[34m[05:24:24] src/tree/updater_prune.cc:74: tree pruning end, 1 roots, 40 extra nodes, 108 pruned nodes, max_depth=7\u001b[0m\n",
      "\u001b[34m[26]#011train-rmse:0.463967#011validation-rmse:0.482314\u001b[0m\n",
      "\u001b[34m[05:24:24] src/tree/updater_prune.cc:74: tree pruning end, 1 roots, 54 extra nodes, 114 pruned nodes, max_depth=7\u001b[0m\n",
      "\u001b[34m[27]#011train-rmse:0.463249#011validation-rmse:0.482031\u001b[0m\n",
      "\u001b[34m[05:24:24] src/tree/updater_prune.cc:74: tree pruning end, 1 roots, 36 extra nodes, 104 pruned nodes, max_depth=7\u001b[0m\n",
      "\u001b[34m[28]#011train-rmse:0.462766#011validation-rmse:0.481823\u001b[0m\n",
      "\u001b[34m[05:24:24] src/tree/updater_prune.cc:74: tree pruning end, 1 roots, 24 extra nodes, 118 pruned nodes, max_depth=7\u001b[0m\n",
      "\u001b[34m[29]#011train-rmse:0.462382#011validation-rmse:0.481557\u001b[0m\n",
      "\u001b[34m[05:24:24] src/tree/updater_prune.cc:74: tree pruning end, 1 roots, 20 extra nodes, 36 pruned nodes, max_depth=7\u001b[0m\n",
      "\u001b[34m[30]#011train-rmse:0.462138#011validation-rmse:0.481383\u001b[0m\n",
      "\u001b[34m[05:24:24] src/tree/updater_prune.cc:74: tree pruning end, 1 roots, 22 extra nodes, 80 pruned nodes, max_depth=7\u001b[0m\n",
      "\u001b[34m[31]#011train-rmse:0.461897#011validation-rmse:0.481305\u001b[0m\n",
      "\u001b[34m[05:24:24] src/tree/updater_prune.cc:74: tree pruning end, 1 roots, 28 extra nodes, 40 pruned nodes, max_depth=7\u001b[0m\n",
      "\u001b[34m[32]#011train-rmse:0.461528#011validation-rmse:0.481084\u001b[0m\n",
      "\u001b[34m[05:24:24] src/tree/updater_prune.cc:74: tree pruning end, 1 roots, 36 extra nodes, 142 pruned nodes, max_depth=7\u001b[0m\n",
      "\u001b[34m[33]#011train-rmse:0.461052#011validation-rmse:0.480897\u001b[0m\n",
      "\u001b[34m[05:24:24] src/tree/updater_prune.cc:74: tree pruning end, 1 roots, 64 extra nodes, 86 pruned nodes, max_depth=7\u001b[0m\n",
      "\u001b[34m[34]#011train-rmse:0.460122#011validation-rmse:0.48063\u001b[0m\n",
      "\u001b[34m[05:24:24] src/tree/updater_prune.cc:74: tree pruning end, 1 roots, 28 extra nodes, 62 pruned nodes, max_depth=7\u001b[0m\n",
      "\u001b[34m[35]#011train-rmse:0.459779#011validation-rmse:0.480464\u001b[0m\n",
      "\u001b[34m[05:24:24] src/tree/updater_prune.cc:74: tree pruning end, 1 roots, 52 extra nodes, 104 pruned nodes, max_depth=7\u001b[0m\n",
      "\u001b[34m[36]#011train-rmse:0.459027#011validation-rmse:0.480249\u001b[0m\n",
      "\u001b[34m[05:24:24] src/tree/updater_prune.cc:74: tree pruning end, 1 roots, 32 extra nodes, 72 pruned nodes, max_depth=7\u001b[0m\n",
      "\u001b[34m[37]#011train-rmse:0.458625#011validation-rmse:0.48013\u001b[0m\n",
      "\u001b[34m[05:24:25] src/tree/updater_prune.cc:74: tree pruning end, 1 roots, 36 extra nodes, 72 pruned nodes, max_depth=7\u001b[0m\n",
      "\u001b[34m[38]#011train-rmse:0.458067#011validation-rmse:0.480002\u001b[0m\n",
      "\u001b[34m[05:24:25] src/tree/updater_prune.cc:74: tree pruning end, 1 roots, 40 extra nodes, 56 pruned nodes, max_depth=7\u001b[0m\n",
      "\u001b[34m[39]#011train-rmse:0.457662#011validation-rmse:0.479906\u001b[0m\n",
      "\u001b[34m[05:24:25] src/tree/updater_prune.cc:74: tree pruning end, 1 roots, 28 extra nodes, 88 pruned nodes, max_depth=7\u001b[0m\n",
      "\u001b[34m[40]#011train-rmse:0.457329#011validation-rmse:0.479799\u001b[0m\n",
      "\u001b[34m[05:24:25] src/tree/updater_prune.cc:74: tree pruning end, 1 roots, 24 extra nodes, 116 pruned nodes, max_depth=7\u001b[0m\n",
      "\u001b[34m[41]#011train-rmse:0.456969#011validation-rmse:0.479734\u001b[0m\n",
      "\u001b[34m[05:24:25] src/tree/updater_prune.cc:74: tree pruning end, 1 roots, 30 extra nodes, 112 pruned nodes, max_depth=7\u001b[0m\n",
      "\u001b[34m[42]#011train-rmse:0.456582#011validation-rmse:0.4797\u001b[0m\n",
      "\u001b[34m[05:24:25] src/tree/updater_prune.cc:74: tree pruning end, 1 roots, 32 extra nodes, 92 pruned nodes, max_depth=7\u001b[0m\n",
      "\u001b[34m[43]#011train-rmse:0.456248#011validation-rmse:0.479543\u001b[0m\n",
      "\u001b[34m[05:24:25] src/tree/updater_prune.cc:74: tree pruning end, 1 roots, 22 extra nodes, 58 pruned nodes, max_depth=7\u001b[0m\n",
      "\u001b[34m[44]#011train-rmse:0.455998#011validation-rmse:0.479438\u001b[0m\n",
      "\u001b[34m[05:24:25] src/tree/updater_prune.cc:74: tree pruning end, 1 roots, 16 extra nodes, 46 pruned nodes, max_depth=6\u001b[0m\n",
      "\u001b[34m[45]#011train-rmse:0.455775#011validation-rmse:0.479389\u001b[0m\n",
      "\u001b[34m[05:24:25] src/tree/updater_prune.cc:74: tree pruning end, 1 roots, 18 extra nodes, 52 pruned nodes, max_depth=7\u001b[0m\n",
      "\u001b[34m[46]#011train-rmse:0.45554#011validation-rmse:0.479265\u001b[0m\n",
      "\u001b[34m[05:24:25] src/tree/updater_prune.cc:74: tree pruning end, 1 roots, 16 extra nodes, 46 pruned nodes, max_depth=7\u001b[0m\n",
      "\u001b[34m[47]#011train-rmse:0.455349#011validation-rmse:0.47924\u001b[0m\n",
      "\u001b[34m[05:24:25] src/tree/updater_prune.cc:74: tree pruning end, 1 roots, 0 extra nodes, 38 pruned nodes, max_depth=0\u001b[0m\n",
      "\u001b[34m[48]#011train-rmse:0.455349#011validation-rmse:0.47924\u001b[0m\n",
      "\u001b[34m[05:24:25] src/tree/updater_prune.cc:74: tree pruning end, 1 roots, 50 extra nodes, 116 pruned nodes, max_depth=7\u001b[0m\n",
      "\u001b[34m[49]#011train-rmse:0.454676#011validation-rmse:0.478925\u001b[0m\n",
      "\u001b[34m[05:24:25] src/tree/updater_prune.cc:74: tree pruning end, 1 roots, 38 extra nodes, 74 pruned nodes, max_depth=7\u001b[0m\n",
      "\u001b[34m[50]#011train-rmse:0.45418#011validation-rmse:0.47884\u001b[0m\n",
      "\u001b[34m[05:24:25] src/tree/updater_prune.cc:74: tree pruning end, 1 roots, 30 extra nodes, 106 pruned nodes, max_depth=7\u001b[0m\n",
      "\u001b[34m[51]#011train-rmse:0.453551#011validation-rmse:0.478298\u001b[0m\n",
      "\u001b[34m[05:24:25] src/tree/updater_prune.cc:74: tree pruning end, 1 roots, 34 extra nodes, 106 pruned nodes, max_depth=7\u001b[0m\n",
      "\u001b[34m[52]#011train-rmse:0.453126#011validation-rmse:0.478065\u001b[0m\n",
      "\u001b[34m[05:24:25] src/tree/updater_prune.cc:74: tree pruning end, 1 roots, 32 extra nodes, 76 pruned nodes, max_depth=7\u001b[0m\n",
      "\u001b[34m[53]#011train-rmse:0.452777#011validation-rmse:0.477987\u001b[0m\n",
      "\u001b[34m[05:24:26] src/tree/updater_prune.cc:74: tree pruning end, 1 roots, 0 extra nodes, 84 pruned nodes, max_depth=0\u001b[0m\n",
      "\u001b[34m[54]#011train-rmse:0.452777#011validation-rmse:0.477987\u001b[0m\n",
      "\u001b[34m[05:24:26] src/tree/updater_prune.cc:74: tree pruning end, 1 roots, 6 extra nodes, 90 pruned nodes, max_depth=3\u001b[0m\n",
      "\u001b[34m[55]#011train-rmse:0.452728#011validation-rmse:0.477967\u001b[0m\n",
      "\u001b[34m[05:24:26] src/tree/updater_prune.cc:74: tree pruning end, 1 roots, 34 extra nodes, 114 pruned nodes, max_depth=7\u001b[0m\n",
      "\u001b[34m[56]#011train-rmse:0.452257#011validation-rmse:0.477815\u001b[0m\n",
      "\u001b[34m[05:24:26] src/tree/updater_prune.cc:74: tree pruning end, 1 roots, 40 extra nodes, 52 pruned nodes, max_depth=7\u001b[0m\n",
      "\u001b[34m[57]#011train-rmse:0.451759#011validation-rmse:0.47764\u001b[0m\n",
      "\u001b[34m[05:24:26] src/tree/updater_prune.cc:74: tree pruning end, 1 roots, 14 extra nodes, 54 pruned nodes, max_depth=7\u001b[0m\n",
      "\u001b[34m[58]#011train-rmse:0.451632#011validation-rmse:0.477638\u001b[0m\n",
      "\u001b[34m[05:24:26] src/tree/updater_prune.cc:74: tree pruning end, 1 roots, 14 extra nodes, 120 pruned nodes, max_depth=7\u001b[0m\n",
      "\u001b[34m[59]#011train-rmse:0.451515#011validation-rmse:0.477586\u001b[0m\n",
      "\u001b[34m[05:24:26] src/tree/updater_prune.cc:74: tree pruning end, 1 roots, 12 extra nodes, 72 pruned nodes, max_depth=5\u001b[0m\n",
      "\u001b[34m[60]#011train-rmse:0.451387#011validation-rmse:0.477514\u001b[0m\n",
      "\u001b[34m[05:24:26] src/tree/updater_prune.cc:74: tree pruning end, 1 roots, 14 extra nodes, 56 pruned nodes, max_depth=7\u001b[0m\n",
      "\u001b[34m[61]#011train-rmse:0.451235#011validation-rmse:0.477519\u001b[0m\n",
      "\u001b[34m[05:24:26] src/tree/updater_prune.cc:74: tree pruning end, 1 roots, 18 extra nodes, 74 pruned nodes, max_depth=7\u001b[0m\n",
      "\u001b[34m[62]#011train-rmse:0.451059#011validation-rmse:0.477488\u001b[0m\n",
      "\u001b[34m[05:24:26] src/tree/updater_prune.cc:74: tree pruning end, 1 roots, 34 extra nodes, 74 pruned nodes, max_depth=7\u001b[0m\n",
      "\u001b[34m[63]#011train-rmse:0.450639#011validation-rmse:0.477251\u001b[0m\n",
      "\u001b[34m[05:24:26] src/tree/updater_prune.cc:74: tree pruning end, 1 roots, 34 extra nodes, 74 pruned nodes, max_depth=7\u001b[0m\n",
      "\u001b[34m[64]#011train-rmse:0.450173#011validation-rmse:0.477125\u001b[0m\n",
      "\u001b[34m[05:24:26] src/tree/updater_prune.cc:74: tree pruning end, 1 roots, 0 extra nodes, 36 pruned nodes, max_depth=0\u001b[0m\n",
      "\u001b[34m[65]#011train-rmse:0.450173#011validation-rmse:0.477125\u001b[0m\n",
      "\u001b[34m[05:24:26] src/tree/updater_prune.cc:74: tree pruning end, 1 roots, 24 extra nodes, 94 pruned nodes, max_depth=7\u001b[0m\n",
      "\u001b[34m[66]#011train-rmse:0.449892#011validation-rmse:0.476985\u001b[0m\n",
      "\u001b[34m[05:24:26] src/tree/updater_prune.cc:74: tree pruning end, 1 roots, 18 extra nodes, 50 pruned nodes, max_depth=7\u001b[0m\n",
      "\u001b[34m[67]#011train-rmse:0.449654#011validation-rmse:0.476884\u001b[0m\n",
      "\u001b[34m[05:24:26] src/tree/updater_prune.cc:74: tree pruning end, 1 roots, 18 extra nodes, 50 pruned nodes, max_depth=7\u001b[0m\n",
      "\u001b[34m[68]#011train-rmse:0.449514#011validation-rmse:0.476794\u001b[0m\n",
      "\u001b[34m[05:24:26] src/tree/updater_prune.cc:74: tree pruning end, 1 roots, 14 extra nodes, 44 pruned nodes, max_depth=7\u001b[0m\n",
      "\u001b[34m[69]#011train-rmse:0.449399#011validation-rmse:0.476747\u001b[0m\n",
      "\u001b[34m[05:24:26] src/tree/updater_prune.cc:74: tree pruning end, 1 roots, 14 extra nodes, 68 pruned nodes, max_depth=7\u001b[0m\n",
      "\u001b[34m[70]#011train-rmse:0.449276#011validation-rmse:0.476702\u001b[0m\n",
      "\u001b[34m[05:24:26] src/tree/updater_prune.cc:74: tree pruning end, 1 roots, 40 extra nodes, 114 pruned nodes, max_depth=7\u001b[0m\n",
      "\u001b[34m[71]#011train-rmse:0.4488#011validation-rmse:0.476597\u001b[0m\n",
      "\u001b[34m[05:24:27] src/tree/updater_prune.cc:74: tree pruning end, 1 roots, 42 extra nodes, 108 pruned nodes, max_depth=7\u001b[0m\n",
      "\u001b[34m[72]#011train-rmse:0.448277#011validation-rmse:0.476452\u001b[0m\n",
      "\u001b[34m[05:24:27] src/tree/updater_prune.cc:74: tree pruning end, 1 roots, 14 extra nodes, 38 pruned nodes, max_depth=7\u001b[0m\n",
      "\u001b[34m[73]#011train-rmse:0.44815#011validation-rmse:0.476447\u001b[0m\n",
      "\u001b[34m[05:24:27] src/tree/updater_prune.cc:74: tree pruning end, 1 roots, 20 extra nodes, 34 pruned nodes, max_depth=7\u001b[0m\n",
      "\u001b[34m[74]#011train-rmse:0.447993#011validation-rmse:0.476413\u001b[0m\n",
      "\u001b[34m[05:24:27] src/tree/updater_prune.cc:74: tree pruning end, 1 roots, 8 extra nodes, 48 pruned nodes, max_depth=4\u001b[0m\n",
      "\u001b[34m[75]#011train-rmse:0.4479#011validation-rmse:0.476411\u001b[0m\n",
      "\u001b[34m[05:24:27] src/tree/updater_prune.cc:74: tree pruning end, 1 roots, 0 extra nodes, 44 pruned nodes, max_depth=0\u001b[0m\n",
      "\u001b[34m[76]#011train-rmse:0.4479#011validation-rmse:0.476411\u001b[0m\n",
      "\u001b[34m[05:24:27] src/tree/updater_prune.cc:74: tree pruning end, 1 roots, 2 extra nodes, 80 pruned nodes, max_depth=1\u001b[0m\n",
      "\u001b[34m[77]#011train-rmse:0.447883#011validation-rmse:0.476416\u001b[0m\n",
      "\u001b[34m[05:24:27] src/tree/updater_prune.cc:74: tree pruning end, 1 roots, 18 extra nodes, 86 pruned nodes, max_depth=6\u001b[0m\n",
      "\u001b[34m[78]#011train-rmse:0.447661#011validation-rmse:0.476363\u001b[0m\n",
      "\u001b[34m[05:24:27] src/tree/updater_prune.cc:74: tree pruning end, 1 roots, 16 extra nodes, 14 pruned nodes, max_depth=7\u001b[0m\n",
      "\u001b[34m[79]#011train-rmse:0.447521#011validation-rmse:0.476315\u001b[0m\n",
      "\u001b[34m[05:24:27] src/tree/updater_prune.cc:74: tree pruning end, 1 roots, 26 extra nodes, 98 pruned nodes, max_depth=7\u001b[0m\n",
      "\u001b[34m[80]#011train-rmse:0.447216#011validation-rmse:0.476238\u001b[0m\n",
      "\u001b[34m[05:24:27] src/tree/updater_prune.cc:74: tree pruning end, 1 roots, 32 extra nodes, 68 pruned nodes, max_depth=7\u001b[0m\n",
      "\u001b[34m[81]#011train-rmse:0.44683#011validation-rmse:0.476206\u001b[0m\n",
      "\u001b[34m[05:24:27] src/tree/updater_prune.cc:74: tree pruning end, 1 roots, 20 extra nodes, 74 pruned nodes, max_depth=7\u001b[0m\n",
      "\u001b[34m[82]#011train-rmse:0.446634#011validation-rmse:0.476215\u001b[0m\n",
      "\u001b[34m[05:24:27] src/tree/updater_prune.cc:74: tree pruning end, 1 roots, 20 extra nodes, 68 pruned nodes, max_depth=6\u001b[0m\n",
      "\u001b[34m[83]#011train-rmse:0.446454#011validation-rmse:0.476185\u001b[0m\n",
      "\u001b[34m[05:24:27] src/tree/updater_prune.cc:74: tree pruning end, 1 roots, 0 extra nodes, 44 pruned nodes, max_depth=0\u001b[0m\n",
      "\u001b[34m[84]#011train-rmse:0.446454#011validation-rmse:0.476184\u001b[0m\n",
      "\u001b[34m[05:24:27] src/tree/updater_prune.cc:74: tree pruning end, 1 roots, 10 extra nodes, 60 pruned nodes, max_depth=4\u001b[0m\n",
      "\u001b[34m[85]#011train-rmse:0.446361#011validation-rmse:0.476201\u001b[0m\n",
      "\u001b[34m[05:24:27] src/tree/updater_prune.cc:74: tree pruning end, 1 roots, 0 extra nodes, 32 pruned nodes, max_depth=0\u001b[0m\n",
      "\u001b[34m[86]#011train-rmse:0.446361#011validation-rmse:0.4762\u001b[0m\n",
      "\u001b[34m[05:24:27] src/tree/updater_prune.cc:74: tree pruning end, 1 roots, 20 extra nodes, 64 pruned nodes, max_depth=7\u001b[0m\n",
      "\u001b[34m[87]#011train-rmse:0.446166#011validation-rmse:0.476108\u001b[0m\n",
      "\u001b[34m[05:24:27] src/tree/updater_prune.cc:74: tree pruning end, 1 roots, 0 extra nodes, 46 pruned nodes, max_depth=0\u001b[0m\n",
      "\u001b[34m[88]#011train-rmse:0.446165#011validation-rmse:0.476109\u001b[0m\n",
      "\u001b[34m[05:24:27] src/tree/updater_prune.cc:74: tree pruning end, 1 roots, 22 extra nodes, 136 pruned nodes, max_depth=6\u001b[0m\n",
      "\u001b[34m[89]#011train-rmse:0.445891#011validation-rmse:0.476048\u001b[0m\n",
      "\u001b[34m[05:24:27] src/tree/updater_prune.cc:74: tree pruning end, 1 roots, 26 extra nodes, 156 pruned nodes, max_depth=7\u001b[0m\n",
      "\u001b[34m[90]#011train-rmse:0.445629#011validation-rmse:0.476024\u001b[0m\n",
      "\u001b[34m[05:24:28] src/tree/updater_prune.cc:74: tree pruning end, 1 roots, 26 extra nodes, 88 pruned nodes, max_depth=7\u001b[0m\n",
      "\u001b[34m[91]#011train-rmse:0.445339#011validation-rmse:0.475949\u001b[0m\n",
      "\u001b[34m[05:24:28] src/tree/updater_prune.cc:74: tree pruning end, 1 roots, 12 extra nodes, 44 pruned nodes, max_depth=5\u001b[0m\n",
      "\u001b[34m[92]#011train-rmse:0.445217#011validation-rmse:0.475923\u001b[0m\n",
      "\u001b[34m[05:24:28] src/tree/updater_prune.cc:74: tree pruning end, 1 roots, 16 extra nodes, 26 pruned nodes, max_depth=7\u001b[0m\n",
      "\u001b[34m[93]#011train-rmse:0.445053#011validation-rmse:0.475908\u001b[0m\n",
      "\u001b[34m[05:24:28] src/tree/updater_prune.cc:74: tree pruning end, 1 roots, 22 extra nodes, 62 pruned nodes, max_depth=7\u001b[0m\n",
      "\u001b[34m[94]#011train-rmse:0.444804#011validation-rmse:0.475831\u001b[0m\n",
      "\u001b[34m[05:24:28] src/tree/updater_prune.cc:74: tree pruning end, 1 roots, 0 extra nodes, 54 pruned nodes, max_depth=0\u001b[0m\n",
      "\u001b[34m[95]#011train-rmse:0.444804#011validation-rmse:0.475832\u001b[0m\n",
      "\u001b[34m[05:24:28] src/tree/updater_prune.cc:74: tree pruning end, 1 roots, 0 extra nodes, 60 pruned nodes, max_depth=0\u001b[0m\n",
      "\u001b[34m[96]#011train-rmse:0.444804#011validation-rmse:0.475832\u001b[0m\n",
      "\u001b[34m[05:24:28] src/tree/updater_prune.cc:74: tree pruning end, 1 roots, 46 extra nodes, 132 pruned nodes, max_depth=7\u001b[0m\n",
      "\u001b[34m[97]#011train-rmse:0.444262#011validation-rmse:0.475827\u001b[0m\n",
      "\u001b[34m[05:24:28] src/tree/updater_prune.cc:74: tree pruning end, 1 roots, 20 extra nodes, 98 pruned nodes, max_depth=5\u001b[0m\n",
      "\u001b[34m[98]#011train-rmse:0.444002#011validation-rmse:0.475779\u001b[0m\n",
      "\u001b[34m[05:24:28] src/tree/updater_prune.cc:74: tree pruning end, 1 roots, 34 extra nodes, 74 pruned nodes, max_depth=7\u001b[0m\n",
      "\u001b[34m[99]#011train-rmse:0.443599#011validation-rmse:0.475765\u001b[0m\n",
      "\u001b[34m[05:24:28] src/tree/updater_prune.cc:74: tree pruning end, 1 roots, 0 extra nodes, 62 pruned nodes, max_depth=0\u001b[0m\n",
      "\u001b[34m[100]#011train-rmse:0.443599#011validation-rmse:0.475765\u001b[0m\n",
      "\u001b[34m[05:24:28] src/tree/updater_prune.cc:74: tree pruning end, 1 roots, 12 extra nodes, 80 pruned nodes, max_depth=6\u001b[0m\n",
      "\u001b[34m[101]#011train-rmse:0.443518#011validation-rmse:0.475757\u001b[0m\n",
      "\u001b[34m[05:24:28] src/tree/updater_prune.cc:74: tree pruning end, 1 roots, 12 extra nodes, 64 pruned nodes, max_depth=6\u001b[0m\n",
      "\u001b[34m[102]#011train-rmse:0.443409#011validation-rmse:0.475755\u001b[0m\n",
      "\u001b[34m[05:24:28] src/tree/updater_prune.cc:74: tree pruning end, 1 roots, 0 extra nodes, 80 pruned nodes, max_depth=0\u001b[0m\n",
      "\u001b[34m[103]#011train-rmse:0.443409#011validation-rmse:0.475755\u001b[0m\n",
      "\u001b[34m[05:24:28] src/tree/updater_prune.cc:74: tree pruning end, 1 roots, 14 extra nodes, 100 pruned nodes, max_depth=7\u001b[0m\n",
      "\u001b[34m[104]#011train-rmse:0.443242#011validation-rmse:0.475724\u001b[0m\n",
      "\u001b[34m[05:24:28] src/tree/updater_prune.cc:74: tree pruning end, 1 roots, 20 extra nodes, 116 pruned nodes, max_depth=7\u001b[0m\n",
      "\u001b[34m[105]#011train-rmse:0.443036#011validation-rmse:0.475704\u001b[0m\n",
      "\u001b[34m[05:24:28] src/tree/updater_prune.cc:74: tree pruning end, 1 roots, 18 extra nodes, 70 pruned nodes, max_depth=7\u001b[0m\n",
      "\u001b[34m[106]#011train-rmse:0.442853#011validation-rmse:0.475617\u001b[0m\n",
      "\u001b[34m[05:24:28] src/tree/updater_prune.cc:74: tree pruning end, 1 roots, 0 extra nodes, 54 pruned nodes, max_depth=0\u001b[0m\n",
      "\u001b[34m[107]#011train-rmse:0.442853#011validation-rmse:0.475617\u001b[0m\n",
      "\u001b[34m[05:24:28] src/tree/updater_prune.cc:74: tree pruning end, 1 roots, 20 extra nodes, 138 pruned nodes, max_depth=6\u001b[0m\n",
      "\u001b[34m[108]#011train-rmse:0.442663#011validation-rmse:0.475551\u001b[0m\n",
      "\u001b[34m[05:24:28] src/tree/updater_prune.cc:74: tree pruning end, 1 roots, 0 extra nodes, 38 pruned nodes, max_depth=0\u001b[0m\n",
      "\u001b[34m[109]#011train-rmse:0.442663#011validation-rmse:0.475551\u001b[0m\n",
      "\u001b[34m[05:24:28] src/tree/updater_prune.cc:74: tree pruning end, 1 roots, 18 extra nodes, 56 pruned nodes, max_depth=7\u001b[0m\n",
      "\u001b[34m[110]#011train-rmse:0.442472#011validation-rmse:0.475509\u001b[0m\n",
      "\u001b[34m[05:24:29] src/tree/updater_prune.cc:74: tree pruning end, 1 roots, 14 extra nodes, 40 pruned nodes, max_depth=7\u001b[0m\n",
      "\u001b[34m[111]#011train-rmse:0.442361#011validation-rmse:0.475464\u001b[0m\n",
      "\u001b[34m[05:24:29] src/tree/updater_prune.cc:74: tree pruning end, 1 roots, 40 extra nodes, 104 pruned nodes, max_depth=7\u001b[0m\n",
      "\u001b[34m[112]#011train-rmse:0.441948#011validation-rmse:0.475412\u001b[0m\n",
      "\u001b[34m[05:24:29] src/tree/updater_prune.cc:74: tree pruning end, 1 roots, 28 extra nodes, 64 pruned nodes, max_depth=7\u001b[0m\n",
      "\u001b[34m[113]#011train-rmse:0.441698#011validation-rmse:0.47544\u001b[0m\n",
      "\u001b[34m[05:24:29] src/tree/updater_prune.cc:74: tree pruning end, 1 roots, 24 extra nodes, 90 pruned nodes, max_depth=6\u001b[0m\n",
      "\u001b[34m[114]#011train-rmse:0.441408#011validation-rmse:0.47539\u001b[0m\n",
      "\u001b[34m[05:24:29] src/tree/updater_prune.cc:74: tree pruning end, 1 roots, 30 extra nodes, 108 pruned nodes, max_depth=7\u001b[0m\n",
      "\u001b[34m[115]#011train-rmse:0.441076#011validation-rmse:0.475338\u001b[0m\n",
      "\u001b[34m[05:24:29] src/tree/updater_prune.cc:74: tree pruning end, 1 roots, 0 extra nodes, 40 pruned nodes, max_depth=0\u001b[0m\n",
      "\u001b[34m[116]#011train-rmse:0.441076#011validation-rmse:0.475338\u001b[0m\n",
      "\u001b[34m[05:24:29] src/tree/updater_prune.cc:74: tree pruning end, 1 roots, 0 extra nodes, 48 pruned nodes, max_depth=0\u001b[0m\n",
      "\u001b[34m[117]#011train-rmse:0.441076#011validation-rmse:0.475338\u001b[0m\n",
      "\u001b[34m[05:24:29] src/tree/updater_prune.cc:74: tree pruning end, 1 roots, 22 extra nodes, 56 pruned nodes, max_depth=7\u001b[0m\n",
      "\u001b[34m[118]#011train-rmse:0.440835#011validation-rmse:0.475292\u001b[0m\n",
      "\u001b[34m[05:24:29] src/tree/updater_prune.cc:74: tree pruning end, 1 roots, 14 extra nodes, 92 pruned nodes, max_depth=7\u001b[0m\n",
      "\u001b[34m[119]#011train-rmse:0.440703#011validation-rmse:0.475319\u001b[0m\n",
      "\u001b[34m[05:24:29] src/tree/updater_prune.cc:74: tree pruning end, 1 roots, 16 extra nodes, 102 pruned nodes, max_depth=5\u001b[0m\n",
      "\u001b[34m[120]#011train-rmse:0.440537#011validation-rmse:0.475264\u001b[0m\n",
      "\u001b[34m[05:24:29] src/tree/updater_prune.cc:74: tree pruning end, 1 roots, 36 extra nodes, 96 pruned nodes, max_depth=7\u001b[0m\n",
      "\u001b[34m[121]#011train-rmse:0.440197#011validation-rmse:0.47523\u001b[0m\n",
      "\u001b[34m[05:24:29] src/tree/updater_prune.cc:74: tree pruning end, 1 roots, 18 extra nodes, 78 pruned nodes, max_depth=7\u001b[0m\n",
      "\u001b[34m[122]#011train-rmse:0.440056#011validation-rmse:0.475197\u001b[0m\n",
      "\u001b[34m[05:24:29] src/tree/updater_prune.cc:74: tree pruning end, 1 roots, 12 extra nodes, 88 pruned nodes, max_depth=4\u001b[0m\n",
      "\u001b[34m[123]#011train-rmse:0.439946#011validation-rmse:0.475206\u001b[0m\n",
      "\u001b[34m[05:24:29] src/tree/updater_prune.cc:74: tree pruning end, 1 roots, 0 extra nodes, 90 pruned nodes, max_depth=0\u001b[0m\n",
      "\u001b[34m[124]#011train-rmse:0.439946#011validation-rmse:0.475206\u001b[0m\n",
      "\u001b[34m[05:24:29] src/tree/updater_prune.cc:74: tree pruning end, 1 roots, 14 extra nodes, 46 pruned nodes, max_depth=7\u001b[0m\n",
      "\u001b[34m[125]#011train-rmse:0.439872#011validation-rmse:0.475154\u001b[0m\n",
      "\u001b[34m[05:24:29] src/tree/updater_prune.cc:74: tree pruning end, 1 roots, 22 extra nodes, 134 pruned nodes, max_depth=7\u001b[0m\n",
      "\u001b[34m[126]#011train-rmse:0.439629#011validation-rmse:0.475138\u001b[0m\n",
      "\u001b[34m[05:24:29] src/tree/updater_prune.cc:74: tree pruning end, 1 roots, 14 extra nodes, 40 pruned nodes, max_depth=7\u001b[0m\n",
      "\u001b[34m[127]#011train-rmse:0.43949#011validation-rmse:0.475101\u001b[0m\n",
      "\u001b[34m[05:24:29] src/tree/updater_prune.cc:74: tree pruning end, 1 roots, 18 extra nodes, 86 pruned nodes, max_depth=6\u001b[0m\n",
      "\u001b[34m[128]#011train-rmse:0.439275#011validation-rmse:0.475037\u001b[0m\n",
      "\u001b[34m[05:24:29] src/tree/updater_prune.cc:74: tree pruning end, 1 roots, 0 extra nodes, 132 pruned nodes, max_depth=0\u001b[0m\n",
      "\u001b[34m[129]#011train-rmse:0.439275#011validation-rmse:0.475037\u001b[0m\n",
      "\u001b[34m[05:24:30] src/tree/updater_prune.cc:74: tree pruning end, 1 roots, 32 extra nodes, 146 pruned nodes, max_depth=7\u001b[0m\n",
      "\u001b[34m[130]#011train-rmse:0.43893#011validation-rmse:0.474993\u001b[0m\n",
      "\u001b[34m[05:24:30] src/tree/updater_prune.cc:74: tree pruning end, 1 roots, 10 extra nodes, 42 pruned nodes, max_depth=5\u001b[0m\n",
      "\u001b[34m[131]#011train-rmse:0.438874#011validation-rmse:0.47495\u001b[0m\n",
      "\u001b[34m[05:24:30] src/tree/updater_prune.cc:74: tree pruning end, 1 roots, 0 extra nodes, 40 pruned nodes, max_depth=0\u001b[0m\n",
      "\u001b[34m[132]#011train-rmse:0.438874#011validation-rmse:0.47495\u001b[0m\n",
      "\u001b[34m[05:24:30] src/tree/updater_prune.cc:74: tree pruning end, 1 roots, 20 extra nodes, 68 pruned nodes, max_depth=6\u001b[0m\n",
      "\u001b[34m[133]#011train-rmse:0.438639#011validation-rmse:0.474928\u001b[0m\n",
      "\u001b[34m[05:24:30] src/tree/updater_prune.cc:74: tree pruning end, 1 roots, 0 extra nodes, 98 pruned nodes, max_depth=0\u001b[0m\n",
      "\u001b[34m[134]#011train-rmse:0.438639#011validation-rmse:0.474928\u001b[0m\n",
      "\u001b[34m[05:24:30] src/tree/updater_prune.cc:74: tree pruning end, 1 roots, 0 extra nodes, 102 pruned nodes, max_depth=0\u001b[0m\n",
      "\u001b[34m[135]#011train-rmse:0.438639#011validation-rmse:0.474928\u001b[0m\n",
      "\u001b[34m[05:24:30] src/tree/updater_prune.cc:74: tree pruning end, 1 roots, 0 extra nodes, 56 pruned nodes, max_depth=0\u001b[0m\n",
      "\u001b[34m[136]#011train-rmse:0.438639#011validation-rmse:0.474929\u001b[0m\n",
      "\u001b[34m[05:24:30] src/tree/updater_prune.cc:74: tree pruning end, 1 roots, 10 extra nodes, 124 pruned nodes, max_depth=5\u001b[0m\n",
      "\u001b[34m[137]#011train-rmse:0.438537#011validation-rmse:0.474918\u001b[0m\n",
      "\u001b[34m[05:24:30] src/tree/updater_prune.cc:74: tree pruning end, 1 roots, 4 extra nodes, 78 pruned nodes, max_depth=2\u001b[0m\n",
      "\u001b[34m[138]#011train-rmse:0.438497#011validation-rmse:0.474928\u001b[0m\n",
      "\u001b[34m[05:24:30] src/tree/updater_prune.cc:74: tree pruning end, 1 roots, 0 extra nodes, 70 pruned nodes, max_depth=0\u001b[0m\n",
      "\u001b[34m[139]#011train-rmse:0.438497#011validation-rmse:0.474927\u001b[0m\n",
      "\u001b[34m[05:24:30] src/tree/updater_prune.cc:74: tree pruning end, 1 roots, 0 extra nodes, 64 pruned nodes, max_depth=0\u001b[0m\n",
      "\u001b[34m[140]#011train-rmse:0.438497#011validation-rmse:0.474927\u001b[0m\n",
      "\u001b[34m[05:24:30] src/tree/updater_prune.cc:74: tree pruning end, 1 roots, 32 extra nodes, 84 pruned nodes, max_depth=7\u001b[0m\n",
      "\u001b[34m[141]#011train-rmse:0.438187#011validation-rmse:0.474883\u001b[0m\n",
      "\u001b[34m[05:24:30] src/tree/updater_prune.cc:74: tree pruning end, 1 roots, 8 extra nodes, 100 pruned nodes, max_depth=4\u001b[0m\n",
      "\u001b[34m[142]#011train-rmse:0.438139#011validation-rmse:0.474858\u001b[0m\n",
      "\u001b[34m[05:24:30] src/tree/updater_prune.cc:74: tree pruning end, 1 roots, 14 extra nodes, 80 pruned nodes, max_depth=7\u001b[0m\n",
      "\u001b[34m[143]#011train-rmse:0.438013#011validation-rmse:0.474827\u001b[0m\n",
      "\u001b[34m[05:24:30] src/tree/updater_prune.cc:74: tree pruning end, 1 roots, 0 extra nodes, 34 pruned nodes, max_depth=0\u001b[0m\n",
      "\u001b[34m[144]#011train-rmse:0.438013#011validation-rmse:0.474827\u001b[0m\n",
      "\u001b[34m[05:24:30] src/tree/updater_prune.cc:74: tree pruning end, 1 roots, 10 extra nodes, 74 pruned nodes, max_depth=5\u001b[0m\n",
      "\u001b[34m[145]#011train-rmse:0.43793#011validation-rmse:0.474836\u001b[0m\n",
      "\u001b[34m[05:24:30] src/tree/updater_prune.cc:74: tree pruning end, 1 roots, 20 extra nodes, 114 pruned nodes, max_depth=7\u001b[0m\n",
      "\u001b[34m[146]#011train-rmse:0.437719#011validation-rmse:0.474798\u001b[0m\n",
      "\u001b[34m[05:24:30] src/tree/updater_prune.cc:74: tree pruning end, 1 roots, 0 extra nodes, 44 pruned nodes, max_depth=0\u001b[0m\n",
      "\u001b[34m[147]#011train-rmse:0.437719#011validation-rmse:0.474798\u001b[0m\n",
      "\u001b[34m[05:24:30] src/tree/updater_prune.cc:74: tree pruning end, 1 roots, 28 extra nodes, 98 pruned nodes, max_depth=6\u001b[0m\n",
      "\u001b[34m[148]#011train-rmse:0.437447#011validation-rmse:0.474709\u001b[0m\n",
      "\u001b[34m[05:24:30] src/tree/updater_prune.cc:74: tree pruning end, 1 roots, 0 extra nodes, 24 pruned nodes, max_depth=0\u001b[0m\n",
      "\u001b[34m[149]#011train-rmse:0.437447#011validation-rmse:0.474709\u001b[0m\n",
      "\u001b[34m[05:24:31] src/tree/updater_prune.cc:74: tree pruning end, 1 roots, 0 extra nodes, 26 pruned nodes, max_depth=0\u001b[0m\n",
      "\u001b[34m[150]#011train-rmse:0.437447#011validation-rmse:0.474709\u001b[0m\n",
      "\u001b[34m[05:24:31] src/tree/updater_prune.cc:74: tree pruning end, 1 roots, 12 extra nodes, 90 pruned nodes, max_depth=6\u001b[0m\n",
      "\u001b[34m[151]#011train-rmse:0.437351#011validation-rmse:0.474673\u001b[0m\n",
      "\u001b[34m[05:24:31] src/tree/updater_prune.cc:74: tree pruning end, 1 roots, 10 extra nodes, 66 pruned nodes, max_depth=5\u001b[0m\n",
      "\u001b[34m[152]#011train-rmse:0.437273#011validation-rmse:0.474613\u001b[0m\n",
      "\u001b[34m[05:24:31] src/tree/updater_prune.cc:74: tree pruning end, 1 roots, 14 extra nodes, 80 pruned nodes, max_depth=5\u001b[0m\n",
      "\u001b[34m[153]#011train-rmse:0.437115#011validation-rmse:0.474594\u001b[0m\n",
      "\u001b[34m[05:24:31] src/tree/updater_prune.cc:74: tree pruning end, 1 roots, 12 extra nodes, 42 pruned nodes, max_depth=6\u001b[0m\n",
      "\u001b[34m[154]#011train-rmse:0.437009#011validation-rmse:0.47456\u001b[0m\n",
      "\u001b[34m[05:24:31] src/tree/updater_prune.cc:74: tree pruning end, 1 roots, 0 extra nodes, 98 pruned nodes, max_depth=0\u001b[0m\n",
      "\u001b[34m[155]#011train-rmse:0.437009#011validation-rmse:0.47456\u001b[0m\n",
      "\u001b[34m[05:24:31] src/tree/updater_prune.cc:74: tree pruning end, 1 roots, 0 extra nodes, 36 pruned nodes, max_depth=0\u001b[0m\n",
      "\u001b[34m[156]#011train-rmse:0.437009#011validation-rmse:0.47456\u001b[0m\n",
      "\u001b[34m[05:24:31] src/tree/updater_prune.cc:74: tree pruning end, 1 roots, 34 extra nodes, 104 pruned nodes, max_depth=7\u001b[0m\n",
      "\u001b[34m[157]#011train-rmse:0.436636#011validation-rmse:0.474463\u001b[0m\n",
      "\u001b[34m[05:24:31] src/tree/updater_prune.cc:74: tree pruning end, 1 roots, 0 extra nodes, 36 pruned nodes, max_depth=0\u001b[0m\n",
      "\u001b[34m[158]#011train-rmse:0.436636#011validation-rmse:0.474464\u001b[0m\n",
      "\u001b[34m[05:24:31] src/tree/updater_prune.cc:74: tree pruning end, 1 roots, 0 extra nodes, 24 pruned nodes, max_depth=0\u001b[0m\n",
      "\u001b[34m[159]#011train-rmse:0.436636#011validation-rmse:0.474464\u001b[0m\n",
      "\u001b[34m[05:24:31] src/tree/updater_prune.cc:74: tree pruning end, 1 roots, 10 extra nodes, 78 pruned nodes, max_depth=5\u001b[0m\n",
      "\u001b[34m[160]#011train-rmse:0.436555#011validation-rmse:0.474438\u001b[0m\n",
      "\u001b[34m[05:24:31] src/tree/updater_prune.cc:74: tree pruning end, 1 roots, 10 extra nodes, 108 pruned nodes, max_depth=5\u001b[0m\n",
      "\u001b[34m[161]#011train-rmse:0.43647#011validation-rmse:0.474458\u001b[0m\n",
      "\u001b[34m[05:24:31] src/tree/updater_prune.cc:74: tree pruning end, 1 roots, 14 extra nodes, 66 pruned nodes, max_depth=7\u001b[0m\n",
      "\u001b[34m[162]#011train-rmse:0.436312#011validation-rmse:0.474459\u001b[0m\n",
      "\u001b[34m[05:24:31] src/tree/updater_prune.cc:74: tree pruning end, 1 roots, 18 extra nodes, 98 pruned nodes, max_depth=7\u001b[0m\n",
      "\u001b[34m[163]#011train-rmse:0.436126#011validation-rmse:0.47434\u001b[0m\n",
      "\u001b[34m[05:24:31] src/tree/updater_prune.cc:74: tree pruning end, 1 roots, 12 extra nodes, 26 pruned nodes, max_depth=6\u001b[0m\n",
      "\u001b[34m[164]#011train-rmse:0.436047#011validation-rmse:0.474343\u001b[0m\n",
      "\u001b[34m[05:24:31] src/tree/updater_prune.cc:74: tree pruning end, 1 roots, 14 extra nodes, 74 pruned nodes, max_depth=7\u001b[0m\n",
      "\u001b[34m[165]#011train-rmse:0.435913#011validation-rmse:0.474329\u001b[0m\n",
      "\u001b[34m[05:24:31] src/tree/updater_prune.cc:74: tree pruning end, 1 roots, 0 extra nodes, 104 pruned nodes, max_depth=0\u001b[0m\n",
      "\u001b[34m[166]#011train-rmse:0.435913#011validation-rmse:0.474329\u001b[0m\n",
      "\u001b[34m[05:24:31] src/tree/updater_prune.cc:74: tree pruning end, 1 roots, 0 extra nodes, 50 pruned nodes, max_depth=0\u001b[0m\n",
      "\u001b[34m[167]#011train-rmse:0.435913#011validation-rmse:0.474329\u001b[0m\n",
      "\u001b[34m[05:24:31] src/tree/updater_prune.cc:74: tree pruning end, 1 roots, 12 extra nodes, 26 pruned nodes, max_depth=6\u001b[0m\n",
      "\u001b[34m[168]#011train-rmse:0.435819#011validation-rmse:0.474344\u001b[0m\n",
      "\u001b[34m[05:24:31] src/tree/updater_prune.cc:74: tree pruning end, 1 roots, 0 extra nodes, 54 pruned nodes, max_depth=0\u001b[0m\n",
      "\u001b[34m[169]#011train-rmse:0.435819#011validation-rmse:0.474343\u001b[0m\n",
      "\u001b[34m[05:24:32] src/tree/updater_prune.cc:74: tree pruning end, 1 roots, 8 extra nodes, 56 pruned nodes, max_depth=4\u001b[0m\n",
      "\u001b[34m[170]#011train-rmse:0.43575#011validation-rmse:0.474326\u001b[0m\n",
      "\u001b[34m[05:24:32] src/tree/updater_prune.cc:74: tree pruning end, 1 roots, 14 extra nodes, 48 pruned nodes, max_depth=7\u001b[0m\n",
      "\u001b[34m[171]#011train-rmse:0.435625#011validation-rmse:0.474338\u001b[0m\n",
      "\u001b[34m[05:24:32] src/tree/updater_prune.cc:74: tree pruning end, 1 roots, 0 extra nodes, 60 pruned nodes, max_depth=0\u001b[0m\n",
      "\u001b[34m[172]#011train-rmse:0.435625#011validation-rmse:0.474337\u001b[0m\n",
      "\u001b[34m[05:24:32] src/tree/updater_prune.cc:74: tree pruning end, 1 roots, 0 extra nodes, 40 pruned nodes, max_depth=0\u001b[0m\n",
      "\u001b[34m[173]#011train-rmse:0.435625#011validation-rmse:0.474337\u001b[0m\n",
      "\u001b[34m[05:24:32] src/tree/updater_prune.cc:74: tree pruning end, 1 roots, 0 extra nodes, 44 pruned nodes, max_depth=0\u001b[0m\n",
      "\u001b[34m[174]#011train-rmse:0.435625#011validation-rmse:0.474336\u001b[0m\n",
      "\u001b[34m[05:24:32] src/tree/updater_prune.cc:74: tree pruning end, 1 roots, 0 extra nodes, 106 pruned nodes, max_depth=0\u001b[0m\n",
      "\u001b[34m[175]#011train-rmse:0.435625#011validation-rmse:0.474337\u001b[0m\n",
      "\u001b[34m[05:24:32] src/tree/updater_prune.cc:74: tree pruning end, 1 roots, 0 extra nodes, 64 pruned nodes, max_depth=0\u001b[0m\n",
      "\u001b[34m[176]#011train-rmse:0.435625#011validation-rmse:0.474337\u001b[0m\n",
      "\u001b[34m[05:24:32] src/tree/updater_prune.cc:74: tree pruning end, 1 roots, 0 extra nodes, 50 pruned nodes, max_depth=0\u001b[0m\n",
      "\u001b[34m[177]#011train-rmse:0.435625#011validation-rmse:0.474337\u001b[0m\n",
      "\u001b[34m[05:24:32] src/tree/updater_prune.cc:74: tree pruning end, 1 roots, 12 extra nodes, 56 pruned nodes, max_depth=6\u001b[0m\n",
      "\u001b[34m[178]#011train-rmse:0.43555#011validation-rmse:0.47432\u001b[0m\n",
      "\u001b[34m[05:24:32] src/tree/updater_prune.cc:74: tree pruning end, 1 roots, 20 extra nodes, 78 pruned nodes, max_depth=7\u001b[0m\n",
      "\u001b[34m[179]#011train-rmse:0.435407#011validation-rmse:0.474336\u001b[0m\n",
      "\u001b[34m[05:24:32] src/tree/updater_prune.cc:74: tree pruning end, 1 roots, 8 extra nodes, 80 pruned nodes, max_depth=4\u001b[0m\n",
      "\u001b[34m[180]#011train-rmse:0.435346#011validation-rmse:0.4743\u001b[0m\n",
      "\u001b[34m[05:24:32] src/tree/updater_prune.cc:74: tree pruning end, 1 roots, 0 extra nodes, 64 pruned nodes, max_depth=0\u001b[0m\n",
      "\u001b[34m[181]#011train-rmse:0.435346#011validation-rmse:0.4743\u001b[0m\n",
      "\u001b[34m[05:24:32] src/tree/updater_prune.cc:74: tree pruning end, 1 roots, 22 extra nodes, 66 pruned nodes, max_depth=7\u001b[0m\n",
      "\u001b[34m[182]#011train-rmse:0.435161#011validation-rmse:0.474271\u001b[0m\n",
      "\u001b[34m[05:24:32] src/tree/updater_prune.cc:74: tree pruning end, 1 roots, 10 extra nodes, 56 pruned nodes, max_depth=5\u001b[0m\n",
      "\u001b[34m[183]#011train-rmse:0.435086#011validation-rmse:0.474266\u001b[0m\n",
      "\u001b[34m[05:24:32] src/tree/updater_prune.cc:74: tree pruning end, 1 roots, 0 extra nodes, 60 pruned nodes, max_depth=0\u001b[0m\n",
      "\u001b[34m[184]#011train-rmse:0.435086#011validation-rmse:0.474266\u001b[0m\n",
      "\u001b[34m[05:24:32] src/tree/updater_prune.cc:74: tree pruning end, 1 roots, 0 extra nodes, 58 pruned nodes, max_depth=0\u001b[0m\n",
      "\u001b[34m[185]#011train-rmse:0.435086#011validation-rmse:0.474267\u001b[0m\n",
      "\u001b[34m[05:24:32] src/tree/updater_prune.cc:74: tree pruning end, 1 roots, 8 extra nodes, 94 pruned nodes, max_depth=4\u001b[0m\n",
      "\u001b[34m[186]#011train-rmse:0.435027#011validation-rmse:0.47424\u001b[0m\n",
      "\u001b[34m[05:24:32] src/tree/updater_prune.cc:74: tree pruning end, 1 roots, 12 extra nodes, 26 pruned nodes, max_depth=6\u001b[0m\n",
      "\u001b[34m[187]#011train-rmse:0.434941#011validation-rmse:0.474217\u001b[0m\n",
      "\u001b[34m[05:24:32] src/tree/updater_prune.cc:74: tree pruning end, 1 roots, 12 extra nodes, 96 pruned nodes, max_depth=6\u001b[0m\n",
      "\u001b[34m[188]#011train-rmse:0.434844#011validation-rmse:0.474195\u001b[0m\n",
      "\u001b[34m[05:24:33] src/tree/updater_prune.cc:74: tree pruning end, 1 roots, 16 extra nodes, 72 pruned nodes, max_depth=6\u001b[0m\n",
      "\u001b[34m[189]#011train-rmse:0.43471#011validation-rmse:0.474176\u001b[0m\n",
      "\u001b[34m[05:24:33] src/tree/updater_prune.cc:74: tree pruning end, 1 roots, 0 extra nodes, 72 pruned nodes, max_depth=0\u001b[0m\n",
      "\u001b[34m[190]#011train-rmse:0.43471#011validation-rmse:0.474176\u001b[0m\n",
      "\u001b[34m[05:24:33] src/tree/updater_prune.cc:74: tree pruning end, 1 roots, 32 extra nodes, 142 pruned nodes, max_depth=7\u001b[0m\n",
      "\u001b[34m[191]#011train-rmse:0.434398#011validation-rmse:0.474132\u001b[0m\n",
      "\u001b[34m[05:24:33] src/tree/updater_prune.cc:74: tree pruning end, 1 roots, 18 extra nodes, 64 pruned nodes, max_depth=7\u001b[0m\n",
      "\u001b[34m[192]#011train-rmse:0.434236#011validation-rmse:0.474056\u001b[0m\n",
      "\u001b[34m[05:24:33] src/tree/updater_prune.cc:74: tree pruning end, 1 roots, 14 extra nodes, 56 pruned nodes, max_depth=7\u001b[0m\n",
      "\u001b[34m[193]#011train-rmse:0.434125#011validation-rmse:0.474018\u001b[0m\n",
      "\u001b[34m[05:24:33] src/tree/updater_prune.cc:74: tree pruning end, 1 roots, 8 extra nodes, 60 pruned nodes, max_depth=4\u001b[0m\n",
      "\u001b[34m[194]#011train-rmse:0.434067#011validation-rmse:0.473983\u001b[0m\n",
      "\u001b[34m[05:24:33] src/tree/updater_prune.cc:74: tree pruning end, 1 roots, 12 extra nodes, 46 pruned nodes, max_depth=5\u001b[0m\n",
      "\u001b[34m[195]#011train-rmse:0.433981#011validation-rmse:0.473943\u001b[0m\n",
      "\u001b[34m[05:24:33] src/tree/updater_prune.cc:74: tree pruning end, 1 roots, 10 extra nodes, 50 pruned nodes, max_depth=5\u001b[0m\n",
      "\u001b[34m[196]#011train-rmse:0.433921#011validation-rmse:0.473907\u001b[0m\n",
      "\u001b[34m[05:24:33] src/tree/updater_prune.cc:74: tree pruning end, 1 roots, 0 extra nodes, 62 pruned nodes, max_depth=0\u001b[0m\n",
      "\u001b[34m[197]#011train-rmse:0.433921#011validation-rmse:0.473907\u001b[0m\n",
      "\u001b[34m[05:24:33] src/tree/updater_prune.cc:74: tree pruning end, 1 roots, 0 extra nodes, 64 pruned nodes, max_depth=0\u001b[0m\n",
      "\u001b[34m[198]#011train-rmse:0.433921#011validation-rmse:0.473907\u001b[0m\n",
      "\u001b[34m[05:24:33] src/tree/updater_prune.cc:74: tree pruning end, 1 roots, 0 extra nodes, 96 pruned nodes, max_depth=0\u001b[0m\n",
      "\u001b[34m[199]#011train-rmse:0.433921#011validation-rmse:0.473908\u001b[0m\n",
      "Training seconds: 78\n",
      "Billable seconds: 78\n"
     ]
    }
   ],
   "source": [
    "# TODO: Create a new estimator object attached to the best training job found during hyperparameter tuning\n",
    "\n",
    "xgb_attached = sagemaker.estimator.Estimator.attach(xgb_hyperparameter_tuner.best_training_job())\n"
   ]
  },
  {
   "cell_type": "markdown",
   "metadata": {},
   "source": [
    "Now that we have an estimator object attached to the correct training job, we can proceed as we normally would and create a transformer object."
   ]
  },
  {
   "cell_type": "code",
   "execution_count": 28,
   "metadata": {},
   "outputs": [
    {
     "name": "stderr",
     "output_type": "stream",
     "text": [
      "WARNING:sagemaker:Parameter image will be renamed to image_uri in SageMaker Python SDK v2.\n"
     ]
    }
   ],
   "source": [
    "# TODO: Create a transformer object from the attached estimator. Using an instance count of 1 and an instance type of ml.m4.xlarge\n",
    "#       should be more than enough.\n",
    "\n",
    "xgb_transformer = xgb_attached.transformer(instance_count = 1, instance_type = 'ml.m4.xlarge')\n"
   ]
  },
  {
   "cell_type": "markdown",
   "metadata": {},
   "source": [
    "Next we actually perform the transform job. When doing so we need to make sure to specify the type of data we are sending so that it is serialized correctly in the background. In our case we are providing our model with csv data so we specify `text/csv`. Also, if the test data that we have provided is too large to process all at once then we need to specify how the data file should be split up. Since each line is a single entry in our data set we tell SageMaker that it can split the input on each line."
   ]
  },
  {
   "cell_type": "code",
   "execution_count": 56,
   "metadata": {},
   "outputs": [],
   "source": [
    "# TODO: Start the transform job. Make sure to specify the content type and the split type of the test data.\n",
    "xgb_transformer.transform(test_location, content_type='text/csv', split_type='Line')"
   ]
  },
  {
   "cell_type": "markdown",
   "metadata": {},
   "source": [
    "Currently the transform job is running but it is doing so in the background. Since we wish to wait until the transform job is done and we would like a bit of feedback we can run the `wait()` method."
   ]
  },
  {
   "cell_type": "code",
   "execution_count": 57,
   "metadata": {},
   "outputs": [
    {
     "name": "stdout",
     "output_type": "stream",
     "text": [
      "......................\u001b[34mArguments: serve\u001b[0m\n",
      "\u001b[34m[2020-07-18 06:55:48 +0000] [1] [INFO] Starting gunicorn 19.7.1\u001b[0m\n",
      "\u001b[34m[2020-07-18 06:55:48 +0000] [1] [INFO] Listening at: http://0.0.0.0:8080 (1)\u001b[0m\n",
      "\u001b[34m[2020-07-18 06:55:48 +0000] [1] [INFO] Using worker: gevent\u001b[0m\n",
      "\u001b[34m[2020-07-18 06:55:48 +0000] [36] [INFO] Booting worker with pid: 36\u001b[0m\n",
      "\u001b[34m[2020-07-18 06:55:48 +0000] [37] [INFO] Booting worker with pid: 37\u001b[0m\n",
      "\u001b[34m[2020-07-18 06:55:48 +0000] [38] [INFO] Booting worker with pid: 38\u001b[0m\n",
      "\u001b[34m[2020-07-18 06:55:48 +0000] [39] [INFO] Booting worker with pid: 39\u001b[0m\n",
      "\u001b[34m[2020-07-18:06:55:49:INFO] Model loaded successfully for worker : 37\u001b[0m\n",
      "\u001b[34m[2020-07-18:06:55:49:INFO] Model loaded successfully for worker : 36\u001b[0m\n",
      "\u001b[34m[2020-07-18:06:55:49:INFO] Model loaded successfully for worker : 38\u001b[0m\n",
      "\u001b[34m[2020-07-18:06:55:49:INFO] Model loaded successfully for worker : 39\u001b[0m\n",
      "\u001b[34m[2020-07-18:06:55:57:INFO] Sniff delimiter as ','\u001b[0m\n",
      "\u001b[34m[2020-07-18:06:55:57:INFO] Determined delimiter of CSV input is ','\u001b[0m\n",
      "\u001b[34m[2020-07-18:06:55:57:INFO] Sniff delimiter as ','\u001b[0m\n",
      "\u001b[34m[2020-07-18:06:55:57:INFO] Determined delimiter of CSV input is ','\u001b[0m\n",
      "\u001b[35m[2020-07-18:06:55:57:INFO] Sniff delimiter as ','\u001b[0m\n",
      "\u001b[35m[2020-07-18:06:55:57:INFO] Determined delimiter of CSV input is ','\u001b[0m\n",
      "\u001b[35m[2020-07-18:06:55:57:INFO] Sniff delimiter as ','\u001b[0m\n",
      "\u001b[35m[2020-07-18:06:55:57:INFO] Determined delimiter of CSV input is ','\u001b[0m\n",
      "\u001b[32m2020-07-18T06:55:56.967:[sagemaker logs]: MaxConcurrentTransforms=4, MaxPayloadInMB=6, BatchStrategy=MULTI_RECORD\u001b[0m\n",
      "\n"
     ]
    }
   ],
   "source": [
    "xgb_transformer.wait()"
   ]
  },
  {
   "cell_type": "markdown",
   "metadata": {},
   "source": [
    "Now the transform job has executed and the result, the estimated sentiment of each review, has been saved on S3. Since we would rather work on this file locally we can perform a bit of notebook magic to copy the file to the `data_dir`."
   ]
  },
  {
   "cell_type": "code",
   "execution_count": 60,
   "metadata": {},
   "outputs": [
    {
     "name": "stdout",
     "output_type": "stream",
     "text": [
      "Completed 256.0 KiB/363.5 KiB (3.1 MiB/s) with 1 file(s) remaining\r",
      "Completed 363.5 KiB/363.5 KiB (4.3 MiB/s) with 1 file(s) remaining\r",
      "download: s3://sagemaker-us-east-2-537234121179/xgboost-200718-0503-017-7cdf30bc-2020-07-18-06-52-20-394/test.csv.out to ../data/xgboost/test.csv.out\r\n"
     ]
    }
   ],
   "source": [
    "!aws s3 cp --recursive $xgb_transformer.output_path $data_dir"
   ]
  },
  {
   "cell_type": "markdown",
   "metadata": {},
   "source": [
    "The last step is now to read in the output from our model, convert the output to something a little more usable, in this case we want the sentiment to be either `1` (positive) or `0` (negative), and then compare to the ground truth labels."
   ]
  },
  {
   "cell_type": "code",
   "execution_count": 61,
   "metadata": {},
   "outputs": [],
   "source": [
    "predictions = pd.read_csv(os.path.join(data_dir, 'test.csv.out'), header=None)\n",
    "predictions = [round(num) for num in predictions.squeeze().values]"
   ]
  },
  {
   "cell_type": "code",
   "execution_count": 62,
   "metadata": {},
   "outputs": [
    {
     "data": {
      "text/plain": [
       "0.62504"
      ]
     },
     "execution_count": 62,
     "metadata": {},
     "output_type": "execute_result"
    }
   ],
   "source": [
    "from sklearn.metrics import accuracy_score\n",
    "accuracy_score(test_y, predictions)"
   ]
  },
  {
   "cell_type": "markdown",
   "metadata": {},
   "source": [
    "## Optional: Clean up\n",
    "\n",
    "The default notebook instance on SageMaker doesn't have a lot of excess disk space available. As you continue to complete and execute notebooks you will eventually fill up this disk space, leading to errors which can be difficult to diagnose. Once you are completely finished using a notebook it is a good idea to remove the files that you created along the way. Of course, you can do this from the terminal or from the notebook hub if you would like. The cell below contains some commands to clean up the created files from within the notebook."
   ]
  },
  {
   "cell_type": "code",
   "execution_count": null,
   "metadata": {},
   "outputs": [],
   "source": [
    "# First we will remove all of the files contained in the data_dir directory\n",
    "!rm $data_dir/*\n",
    "\n",
    "# And then we delete the directory itself\n",
    "!rmdir $data_dir\n",
    "\n",
    "# Similarly we will remove the files in the cache_dir directory and the directory itself\n",
    "!rm $cache_dir/*\n",
    "!rmdir $cache_dir"
   ]
  },
  {
   "cell_type": "code",
   "execution_count": null,
   "metadata": {},
   "outputs": [],
   "source": []
  }
 ],
 "metadata": {
  "kernelspec": {
   "display_name": "conda_python3",
   "language": "python",
   "name": "conda_python3"
  },
  "language_info": {
   "codemirror_mode": {
    "name": "ipython",
    "version": 3
   },
   "file_extension": ".py",
   "mimetype": "text/x-python",
   "name": "python",
   "nbconvert_exporter": "python",
   "pygments_lexer": "ipython3",
   "version": "3.6.10"
  }
 },
 "nbformat": 4,
 "nbformat_minor": 2
}
